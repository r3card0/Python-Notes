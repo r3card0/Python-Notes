{
 "cells": [
  {
   "cell_type": "markdown",
   "metadata": {},
   "source": [
    "# Tipos de Datos **Strings**"
   ]
  },
  {
   "cell_type": "markdown",
   "metadata": {},
   "source": [
    "Para manejar los tipos de datos Strings o textos hay varios métodos que ayudan a su manipulación.\n",
    "\n",
    "En Python un método es una función para un tipo de dato especial. En este caso, hay métodos para el tipo de dato \"**strings**\"."
   ]
  },
  {
   "cell_type": "markdown",
   "metadata": {},
   "source": [
    "![08_image01](/root/work/Images/08_image01.png)"
   ]
  },
  {
   "cell_type": "code",
   "execution_count": null,
   "metadata": {},
   "outputs": [],
   "source": [
    "# convertir texto a mayúsculas\n",
    "def run():\n",
    "    materia = 'geología de méxico'\n",
    "    print(materia.upper())\n",
    "\n",
    "\n",
    "if __name__ == '__main__':\n",
    "    run()"
   ]
  },
  {
   "cell_type": "code",
   "execution_count": null,
   "metadata": {},
   "outputs": [],
   "source": [
    "# convertir texto a minúsculas\n",
    "def run():\n",
    "    frase = '¡EN BOCA CERRADA, NO ENTRAN MOSCAS!'\n",
    "    print(frase.lower())\n",
    "\n",
    "\n",
    "if __name__=='__main__':\n",
    "    run()"
   ]
  },
  {
   "cell_type": "code",
   "execution_count": null,
   "metadata": {},
   "outputs": [],
   "source": [
    "# convertir la primera letra en mayúscula\n",
    "def run():\n",
    "    nombre = 'federico'\n",
    "    print(nombre.capitalize())\n",
    "\n",
    "\n",
    "if __name__=='__main__':\n",
    "    run()"
   ]
  },
  {
   "cell_type": "code",
   "execution_count": null,
   "metadata": {},
   "outputs": [],
   "source": [
    "# quitar espacios basura al inicio y al final del texto\n",
    "def run():\n",
    "    frase_2 = '  En el mar, la vida es mas sabrosa  '\n",
    "    print(frase_2.strip())\n",
    "\n",
    "\n",
    "if __name__=='__main__':\n",
    "    run()"
   ]
  },
  {
   "cell_type": "code",
   "execution_count": null,
   "metadata": {},
   "outputs": [],
   "source": [
    "# reemplazar el elemento '3' por el elemento 'e' de la variable gto\n",
    "def run():\n",
    "    gto = 'El call3jon d3l b3so'\n",
    "    print(gto.replace('3','e'))\n",
    "\n",
    "\n",
    "if __name__ == '__main__':\n",
    "    run()"
   ]
  },
  {
   "cell_type": "markdown",
   "metadata": {},
   "source": [
    "## Slices\n",
    "\n",
    "En Python, una secuencia puede ser indexada en una de dos maneras: extrayendo un item o extrayendo un rango de items. Esto quiere decir que un texto guardado en una variable puede ser extraido usando los índices."
   ]
  },
  {
   "cell_type": "code",
   "execution_count": 9,
   "metadata": {},
   "outputs": [
    {
     "name": "stdout",
     "output_type": "stream",
     "text": [
      "S\n"
     ]
    }
   ],
   "source": [
    "# \n",
    "def run():\n",
    "    hero = 'SUPERMAN'\n",
    "    print(hero[0])\n",
    "\n",
    "\n",
    "if __name__=='__main__':\n",
    "    run()"
   ]
  },
  {
   "cell_type": "markdown",
   "metadata": {},
   "source": [
    "Los valores o ítems, que componen una variable, están numerados en índices.\n",
    "\n",
    "En programación, se empieza a contar desde cero \"0\".\n",
    "\n",
    "En el ejemplo se extrajo el valor del índice cero \"0\"."
   ]
  },
  {
   "cell_type": "markdown",
   "metadata": {},
   "source": [
    "![08_image02](/root/work/Images/08_image02.png)"
   ]
  },
  {
   "cell_type": "markdown",
   "metadata": {},
   "source": [
    "En el ejemplo, despues de la variable, se usaron los corchetes [ ] y en ellos se indico el índice que se desaba extraer.\n",
    "\n",
    "Esta es la forma de extraer un valor con un índice.\n",
    "\n",
    "### Extraer un rango de items"
   ]
  },
  {
   "cell_type": "markdown",
   "metadata": {},
   "source": [
    "Para extraer un rango de items, se usan \":\" dentro de los corchetes."
   ]
  },
  {
   "cell_type": "code",
   "execution_count": null,
   "metadata": {},
   "outputs": [],
   "source": [
    "# extraer el rango del indice 0 al 3\n",
    "def run():\n",
    "    hero = 'SUPERMAN'\n",
    "    print(hero[0:3])\n",
    "\n",
    "\n",
    "if __name__=='__main__':\n",
    "    run()"
   ]
  },
  {
   "cell_type": "markdown",
   "metadata": {},
   "source": [
    "### Extrayendo items salteando índices\n",
    "\n",
    "También se puede extraer items brincando espacios"
   ]
  },
  {
   "cell_type": "code",
   "execution_count": null,
   "metadata": {},
   "outputs": [],
   "source": [
    "# Extraer todos los items saltando 2 indices\n",
    "def run():\n",
    "    hero = 'SUPERMAN'\n",
    "    print(hero[::2])\n",
    "\n",
    "\n",
    "if __name__=='__main__':\n",
    "    run()"
   ]
  },
  {
   "cell_type": "markdown",
   "metadata": {},
   "source": [
    "Si se usa [::], indica que se extraigan todos los índices."
   ]
  },
  {
   "cell_type": "code",
   "execution_count": null,
   "metadata": {},
   "outputs": [],
   "source": [
    "# extraer lo índices de forma inversa \n",
    "def run():\n",
    "    hero = 'SUPERMAN'\n",
    "    print(hero[::-1])\n",
    "\n",
    "\n",
    "if __name__=='__main__':\n",
    "    run()"
   ]
  },
  {
   "cell_type": "markdown",
   "metadata": {},
   "source": [
    "## Resumen\n",
    "\n",
    "1. Las cadenas de caracterés pueden manipularse con métodos.\n",
    "2. En Python un método es una función para un tipo de dato especial. En este caso, hay métodos para el tipo de dato \"**strings****\".\n",
    "3. El método **upper( )** convierte el texto en mayúsculas\n",
    "4. El método **lower( )** convierte el texto en minúsculas\n",
    "5. El método **capitalize( )** convierte la primera letra en mayúscula\n",
    "6. El método **strip( )** elimina espacios basura al inicio y al final de un texto\n",
    "7. El método **replace( )** reemplaza un elemento por otro\n",
    "8. Para usar los métodos, la sintaxis correcta es: **variable = variable.metodo( )**\n",
    "9. Los **slices** permiten cortar en rebanas los textos.\n",
    "10. Se pueden extraer items en base a la posición de su índice.\n",
    "11. En programación se empieza a contar desde cero \"0\"."
   ]
  },
  {
   "cell_type": "markdown",
   "metadata": {},
   "source": [
    "## Referencias\n",
    "\n",
    "[Python Basic course. Strings](https://platzi.com/clases/1937-python/29637-trabajando-con-texto-cadenas-de-caracteres/)\n",
    "\n",
    "[Python Basic course. Slices](https://platzi.com/clases/1937-python/29638-trabajando-con-texto-slices/)\n",
    "\n",
    "[Python.org/ Strings](https://www.python.org/dev/peps/pep-0498/#leading-and-trailing-whitespace-in-expressions-is-ignored)\n",
    "\n",
    "[Python.org/ Slices](https://www.python.org/dev/peps/pep-0204/#slice-indices)"
   ]
  }
 ],
 "metadata": {
  "interpreter": {
   "hash": "4ee08b0487832ff03f0fdf4b6eade6848fbbb6f348c487e64472b02f35273942"
  },
  "kernelspec": {
   "display_name": "Python 3.10.0 64-bit ('py3_10': conda)",
   "language": "python",
   "name": "python3"
  },
  "language_info": {
   "codemirror_mode": {
    "name": "ipython",
    "version": 3
   },
   "file_extension": ".py",
   "mimetype": "text/x-python",
   "name": "python",
   "nbconvert_exporter": "python",
   "pygments_lexer": "ipython3",
   "version": "3.10.0"
  },
  "orig_nbformat": 4
 },
 "nbformat": 4,
 "nbformat_minor": 2
}
