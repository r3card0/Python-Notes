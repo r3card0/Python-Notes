{
 "cells": [
  {
   "cell_type": "markdown",
   "id": "5b12bd49",
   "metadata": {},
   "source": [
    "# Operaciones con Sets"
   ]
  },
  {
   "cell_type": "markdown",
   "id": "c7dd033e",
   "metadata": {},
   "source": [
    "## union\n",
    "* Consiste en unir los elementos de dos o más sets\n",
    "* Cuando un elemento se repite en ambos sets, solo se preserva una unidad de ese elemento\n",
    "* Guardar la union de los set en una nueva variable\n",
    "* Usar  ````|```` para unir los sets"
   ]
  },
  {
   "cell_type": "code",
   "execution_count": 3,
   "id": "aac11511",
   "metadata": {},
   "outputs": [
    {
     "name": "stdout",
     "output_type": "stream",
     "text": [
      "{'ⅩⅠⅩ', 'Ⅳ', 'ⅩⅩ', 'ⅩⅤ', 'Ⅲ', 'Ⅱ'}\n"
     ]
    }
   ],
   "source": [
    "alice = ['Ⅱ', 'Ⅳ', 'ⅩⅠⅩ', 'ⅩⅤ', 'Ⅳ', 'Ⅱ']\n",
    "bob = ['Ⅳ', 'Ⅲ', 'Ⅱ', 'ⅩⅩ', 'Ⅱ', 'ⅩⅩ']\n",
    "\n",
    "def set_union(bob, alice):\n",
    "    alice_set = set(alice)\n",
    "    bob_set = set(bob)\n",
    "    district_set = alice_set | bob_set\n",
    "    \n",
    "    print(district_set)\n",
    "\n",
    "set_union(bob, alice)"
   ]
  },
  {
   "cell_type": "markdown",
   "id": "f4113f3e",
   "metadata": {},
   "source": [
    "## intersection\n",
    "* Combinar dos sets preservando únicamente los elementos que tienen en común\n",
    "* Guardar la union de los set en una nueva variable\n",
    "* Usar  ````&```` para intersectar los sets"
   ]
  },
  {
   "cell_type": "code",
   "execution_count": 4,
   "id": "9baf1c8f",
   "metadata": {},
   "outputs": [
    {
     "name": "stdout",
     "output_type": "stream",
     "text": [
      "{'optimus prime', 'godzilla', 'trepa craneos'}\n"
     ]
    }
   ],
   "source": [
    "toys = ['dinosaurio','godzilla','king-kong','optimus prime','trepa craneos','king gidora']\n",
    "favorites = ['optimus prime','godzilla','trepa craneos','godzilla punto singular','Pacific Rim','spaguetti','horchata','sumas']\n",
    "\n",
    "def set_intersection(list1, list2):\n",
    "    toys_set = set(toys)\n",
    "    favorites_set = set(favorites)\n",
    "    district_set = toys_set & favorites_set\n",
    "    \n",
    "    print(district_set)\n",
    "\n",
    "set_intersection(toys, favorites)"
   ]
  },
  {
   "cell_type": "markdown",
   "id": "841ca92c",
   "metadata": {},
   "source": [
    "## difference\n",
    "* Eliminar los elementos que se repiten en los sets todos los elmentos de otro set\n",
    "* Usar  ````-```` para restar los sets"
   ]
  },
  {
   "cell_type": "code",
   "execution_count": 9,
   "id": "f858ecf9",
   "metadata": {},
   "outputs": [
    {
     "name": "stdout",
     "output_type": "stream",
     "text": [
      "{'dinosaurio', 'king gidora', 'king-kong'}\n"
     ]
    }
   ],
   "source": [
    "toys = ['dinosaurio','godzilla','king-kong','optimus prime','trepa craneos','king gidora']\n",
    "favorites = ['optimus prime','godzilla','trepa craneos','godzilla punto singular','Pacific Rim','spaguetti','horchata','sumas']\n",
    "\n",
    "def set_difference(list1, list2):\n",
    "    toys_set = set(toys)\n",
    "    favorites_set = set(favorites)\n",
    "    district_set = toys_set - favorites_set\n",
    "    district_set2 = favorites_set - toys_set\n",
    "    \n",
    "    print(district_set)\n",
    "\n",
    "set_difference(toys, favorites)"
   ]
  },
  {
   "cell_type": "markdown",
   "id": "1646d4a2",
   "metadata": {},
   "source": [
    "## symmetric_difference\n",
    "* Quedarse con los elementos no repetidos de ambos sets\n",
    "* Es lo contrario a la intersección\n",
    "* Usar  ````^```` para restar los sets"
   ]
  },
  {
   "cell_type": "code",
   "execution_count": 12,
   "id": "d4981330",
   "metadata": {},
   "outputs": [
    {
     "name": "stdout",
     "output_type": "stream",
     "text": [
      "{'dinosaurio', 'godzilla punto singular', 'Pacific Rim', 'horchata', 'spaguetti', 'sumas', 'king-kong', 'king gidora'}\n"
     ]
    }
   ],
   "source": [
    "toys = ['dinosaurio','godzilla','king-kong','optimus prime','trepa craneos','king gidora']\n",
    "favorites = ['optimus prime','godzilla','trepa craneos','godzilla punto singular','Pacific Rim','spaguetti','horchata','sumas']\n",
    "\n",
    "def set_difference(list1, list2):\n",
    "    toys_set = set(toys)\n",
    "    favorites_set = set(favorites)\n",
    "    district_set = toys_set ^ favorites_set\n",
    "    district_set2 = favorites_set ^ toys_set\n",
    "    \n",
    "    print(district_set2)\n",
    "\n",
    "set_difference(toys, favorites)"
   ]
  },
  {
   "cell_type": "markdown",
   "id": "d984f0c1",
   "metadata": {},
   "source": [
    "[Mas métodos](https://python-reference.readthedocs.io/en/latest/docs/sets/)"
   ]
  },
  {
   "cell_type": "code",
   "execution_count": null,
   "id": "bb85204b",
   "metadata": {},
   "outputs": [],
   "source": []
  }
 ],
 "metadata": {
  "kernelspec": {
   "display_name": "Python 3 (ipykernel)",
   "language": "python",
   "name": "python3"
  },
  "language_info": {
   "codemirror_mode": {
    "name": "ipython",
    "version": 3
   },
   "file_extension": ".py",
   "mimetype": "text/x-python",
   "name": "python",
   "nbconvert_exporter": "python",
   "pygments_lexer": "ipython3",
   "version": "3.10.0"
  }
 },
 "nbformat": 4,
 "nbformat_minor": 5
}
