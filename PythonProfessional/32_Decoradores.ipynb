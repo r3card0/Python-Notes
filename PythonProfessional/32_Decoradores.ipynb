{
 "cells": [
  {
   "cell_type": "markdown",
   "id": "c9ae1ea4",
   "metadata": {},
   "source": [
    "# Decoradores"
   ]
  },
  {
   "cell_type": "markdown",
   "id": "68aff7c7",
   "metadata": {},
   "source": [
    "\n",
    "* **Un decorador es una función que recibe como parámetros otra función. Le añade cosas y retorna una función diferente**\n",
    "\n",
    "* Es una función que le añade super poderes a otra función.\n",
    "* *raper* es una envoltura, mejor conocida como la función envolvente o función superior.\n",
    "* Azucar sintáctica: Es cuando se tiene un código que está embellecido para que el programador vea el código más estético 😳"
   ]
  },
  {
   "cell_type": "code",
   "execution_count": 1,
   "id": "c759640f",
   "metadata": {},
   "outputs": [],
   "source": [
    "def decorador(func):\n",
    "    def envoltura():\n",
    "        print('Esto se añade a mi función original')\n",
    "        func() # en este espacio se sustituyees sustuido por la función saludo o saludo2\n",
    "    return envoltura"
   ]
  },
  {
   "cell_type": "code",
   "execution_count": 2,
   "id": "4f596a44",
   "metadata": {},
   "outputs": [],
   "source": [
    "def saludo():\n",
    "    print('Hola')"
   ]
  },
  {
   "cell_type": "code",
   "execution_count": 3,
   "id": "e12a862f",
   "metadata": {},
   "outputs": [],
   "source": [
    "saludo = decorador(saludo)"
   ]
  },
  {
   "cell_type": "code",
   "execution_count": 4,
   "id": "9d25a35d",
   "metadata": {
    "scrolled": true
   },
   "outputs": [
    {
     "name": "stdout",
     "output_type": "stream",
     "text": [
      "Esto se añade a mi función original\n",
      "Hola\n"
     ]
    }
   ],
   "source": [
    "saludo()"
   ]
  },
  {
   "cell_type": "markdown",
   "id": "f085347c",
   "metadata": {},
   "source": [
    "### Aplicación de la *Syntatic sugar* "
   ]
  },
  {
   "cell_type": "code",
   "execution_count": 7,
   "id": "c9513cc0",
   "metadata": {},
   "outputs": [],
   "source": [
    "@decorador\n",
    "def saludo2():\n",
    "    print('¿Cómo estás')"
   ]
  },
  {
   "cell_type": "code",
   "execution_count": 8,
   "id": "af9279b3",
   "metadata": {},
   "outputs": [
    {
     "name": "stdout",
     "output_type": "stream",
     "text": [
      "Esto se añade a mi función original\n",
      "¿Cómo estás\n"
     ]
    }
   ],
   "source": [
    "saludo2()"
   ]
  },
  {
   "cell_type": "markdown",
   "id": "2b15d119",
   "metadata": {},
   "source": [
    "## Pasos para construir un Decorador\n",
    "1. Se establece la función superior indicando el argumento de tipo función\n",
    "2. Se establece la Nested function\n",
    "3. Debajo de la nested función, se ubica el parámetro (función)\n",
    "4. se retorna la Nested function\n",
    "5. En la nueva función se usa la sintaxis ```@funcionSuperior ```\n",
    "6. Se invoca la función superior agregando la función como argumento"
   ]
  },
  {
   "cell_type": "markdown",
   "id": "04eedef1",
   "metadata": {},
   "source": [
    "### Programar una función que determine cuanto tarda en ejecutarse un script de Python"
   ]
  },
  {
   "cell_type": "code",
   "execution_count": 19,
   "id": "9becabe2",
   "metadata": {},
   "outputs": [],
   "source": [
    "from datetime import datetime\n",
    "\n",
    "def execution_time(func):\n",
    "    def wrapper():\n",
    "        initialTime = datetime.now()\n",
    "        func()\n",
    "        finalTime = datetime.now()\n",
    "        timeElapsed = finalTime - initialTime\n",
    "        print('Pasaron ' + str(timeElapsed.total_seconds()) + ' segundos')\n",
    "    return wrapper"
   ]
  },
  {
   "cell_type": "code",
   "execution_count": 24,
   "id": "b0e61a29",
   "metadata": {},
   "outputs": [],
   "source": [
    "# función que recorre un ciclo n veces\n",
    "@execution_time\n",
    "def randomFunc():\n",
    "    for _ in range(1,100000000):\n",
    "        pass"
   ]
  },
  {
   "cell_type": "code",
   "execution_count": 25,
   "id": "53c177b1",
   "metadata": {},
   "outputs": [
    {
     "name": "stdout",
     "output_type": "stream",
     "text": [
      "Pasaron 2.95284 segundos\n"
     ]
    }
   ],
   "source": [
    "randomFunc()"
   ]
  },
  {
   "cell_type": "code",
   "execution_count": 28,
   "id": "2c422158",
   "metadata": {},
   "outputs": [],
   "source": [
    "# función que realiza una suma\n",
    "@execution_time\n",
    "def suma(x: int, b:int) -> int:\n",
    "    return x + b"
   ]
  },
  {
   "cell_type": "code",
   "execution_count": 29,
   "id": "9f5c3f50",
   "metadata": {
    "scrolled": true
   },
   "outputs": [
    {
     "ename": "TypeError",
     "evalue": "execution_time.<locals>.wrapper() takes 0 positional arguments but 2 were given",
     "output_type": "error",
     "traceback": [
      "\u001b[0;31m---------------------------------------------------------------------------\u001b[0m",
      "\u001b[0;31mTypeError\u001b[0m                                 Traceback (most recent call last)",
      "Cell \u001b[0;32mIn [29], line 1\u001b[0m\n\u001b[0;32m----> 1\u001b[0m \u001b[43msuma\u001b[49m\u001b[43m(\u001b[49m\u001b[38;5;241;43m4\u001b[39;49m\u001b[43m,\u001b[49m\u001b[38;5;241;43m6\u001b[39;49m\u001b[43m)\u001b[49m\n",
      "\u001b[0;31mTypeError\u001b[0m: execution_time.<locals>.wrapper() takes 0 positional arguments but 2 were given"
     ]
    }
   ],
   "source": [
    "suma(4,6)"
   ]
  },
  {
   "cell_type": "markdown",
   "id": "0d79cf6d",
   "metadata": {},
   "source": [
    "### Lo correcto"
   ]
  },
  {
   "cell_type": "code",
   "execution_count": 30,
   "id": "f59276b8",
   "metadata": {},
   "outputs": [],
   "source": [
    "from datetime import datetime\n",
    "\n",
    "def executionTime(func):\n",
    "    def wrapper(*args,**kwargs):\n",
    "        initialTime = datetime.now()\n",
    "        func(*args,**kwargs)\n",
    "        finalTime = datetime.now()\n",
    "        timeElapsed = finalTime - initialTime\n",
    "        print('Pasaron ' + str(timeElapsed.total_seconds()) + ' segundos')\n",
    "    return wrapper"
   ]
  },
  {
   "cell_type": "code",
   "execution_count": 31,
   "id": "db721118",
   "metadata": {},
   "outputs": [],
   "source": [
    "# función que realiza una suma\n",
    "@executionTime\n",
    "def suma(x: int, b:int) -> int:\n",
    "    return x + b"
   ]
  },
  {
   "cell_type": "code",
   "execution_count": 32,
   "id": "3e8b8789",
   "metadata": {},
   "outputs": [
    {
     "name": "stdout",
     "output_type": "stream",
     "text": [
      "Pasaron 5e-06 segundos\n"
     ]
    }
   ],
   "source": [
    "suma(5,6)"
   ]
  },
  {
   "cell_type": "markdown",
   "id": "d5ec4a90",
   "metadata": {},
   "source": [
    "* **args** : arguments\n",
    "* **kwargs** : keyword arguments\n",
    "* kw = Keyword"
   ]
  },
  {
   "cell_type": "markdown",
   "id": "f8d23b47",
   "metadata": {},
   "source": [
    "# Referencias\n",
    "\n",
    "[Python Decoradores](https://platzi.com/clases/2397-python-profesional/39529-decoradores/)\n",
    "\n",
    "[Programando Decoradores](https://platzi.com/clases/2397-python-profesional/39530-programando-decoradores/)"
   ]
  },
  {
   "cell_type": "code",
   "execution_count": null,
   "id": "b74b64f1",
   "metadata": {},
   "outputs": [],
   "source": []
  },
  {
   "cell_type": "code",
   "execution_count": null,
   "id": "7a538b1c",
   "metadata": {},
   "outputs": [],
   "source": []
  }
 ],
 "metadata": {
  "kernelspec": {
   "display_name": "Python 3 (ipykernel)",
   "language": "python",
   "name": "python3"
  },
  "language_info": {
   "codemirror_mode": {
    "name": "ipython",
    "version": 3
   },
   "file_extension": ".py",
   "mimetype": "text/x-python",
   "name": "python",
   "nbconvert_exporter": "python",
   "pygments_lexer": "ipython3",
   "version": "3.11.0"
  }
 },
 "nbformat": 4,
 "nbformat_minor": 5
}
