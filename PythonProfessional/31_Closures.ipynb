{
 "cells": [
  {
   "cell_type": "markdown",
   "id": "20c34bc7",
   "metadata": {},
   "source": [
    "# Closures"
   ]
  },
  {
   "cell_type": "markdown",
   "id": "22536d73",
   "metadata": {},
   "source": [
    "## ¿Qué es un closure?\n",
    "* Son funciones anidadas o Nested functions"
   ]
  },
  {
   "cell_type": "markdown",
   "id": "e9b243cb",
   "metadata": {},
   "source": [
    "## Reglas para crear / detectar un *closure*\n",
    "1. Crear una *nested function*\n",
    "2. La función anidada (nested function) debe refenciar un valor de la función superior\n",
    "3. La función superior debe retornar el resultado de la función anidada"
   ]
  },
  {
   "cell_type": "code",
   "execution_count": 6,
   "id": "97d8c4c4",
   "metadata": {},
   "outputs": [],
   "source": [
    "def multiplicando(x):\n",
    "    def multiplicador(n):\n",
    "        return x * n\n",
    "    \n",
    "    return multiplicador\n",
    "\n",
    "veces10 = multiplicando(10)"
   ]
  },
  {
   "cell_type": "code",
   "execution_count": 8,
   "id": "2f2a2266",
   "metadata": {},
   "outputs": [
    {
     "name": "stdout",
     "output_type": "stream",
     "text": [
      "40\n"
     ]
    }
   ],
   "source": [
    "print(veces10(4))"
   ]
  },
  {
   "cell_type": "code",
   "execution_count": 9,
   "id": "e8cc999b",
   "metadata": {},
   "outputs": [
    {
     "name": "stdout",
     "output_type": "stream",
     "text": [
      "240\n"
     ]
    }
   ],
   "source": [
    "veces30 = multiplicando(30)\n",
    "print(veces30(8))"
   ]
  },
  {
   "cell_type": "markdown",
   "id": "e3bbea5f",
   "metadata": {},
   "source": [
    "## Referencias\n",
    "[Python closures](https://platzi.com/clases/2397-python-profesional/39527-closures/)\n",
    "\n",
    "[Programando closures](https://platzi.com/clases/2397-python-profesional/39528-programando-closures/)\n",
    "\n",
    "[Nested functions in Python](https://www.freecodecamp.org/news/nested-functions-in-python/)\n",
    "\n",
    "[Python Nested Functions](https://stackabuse.com/python-nested-functions/)\n",
    "\n",
    "[Python closures 1 Exercise](https://jobtensor.com/Tutorial/Python/en/Closures)\n",
    "\n"
   ]
  },
  {
   "cell_type": "code",
   "execution_count": null,
   "id": "17fb7b5c",
   "metadata": {},
   "outputs": [],
   "source": []
  }
 ],
 "metadata": {
  "kernelspec": {
   "display_name": "Python 3 (ipykernel)",
   "language": "python",
   "name": "python3"
  },
  "language_info": {
   "codemirror_mode": {
    "name": "ipython",
    "version": 3
   },
   "file_extension": ".py",
   "mimetype": "text/x-python",
   "name": "python",
   "nbconvert_exporter": "python",
   "pygments_lexer": "ipython3",
   "version": "3.11.0"
  }
 },
 "nbformat": 4,
 "nbformat_minor": 5
}
