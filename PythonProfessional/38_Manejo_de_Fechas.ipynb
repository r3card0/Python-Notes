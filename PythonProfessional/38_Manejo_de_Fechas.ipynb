{
 "cells": [
  {
   "cell_type": "code",
   "execution_count": 1,
   "id": "38ab5a5a",
   "metadata": {},
   "outputs": [],
   "source": [
    "import datetime"
   ]
  },
  {
   "cell_type": "markdown",
   "id": "5dd290c6",
   "metadata": {},
   "source": [
    "## Fecha y tiempo actual\n",
    "* El comando ```datetime.datetime.now()```, extrae la fecha y hora actual en la computadora donde se corrió\n",
    "* [UTC](https://es.wikipedia.org/wiki/Tiempo_universal_coordinado) El horario UTC significa en inglés Coordinated Universal Time y es el horario universal que se rige en el mundo. Su referencia es el Meridian de Grenwich\n",
    "* [UTC en México](https://mexicox.gob.mx/courses/course-v1:SHCP-UNAM+SDED17112X+2017_11/d1c21d4ec17b41759568f4bc78ed2482/)"
   ]
  },
  {
   "cell_type": "markdown",
   "id": "e34621b4",
   "metadata": {},
   "source": [
    "## Fecha actual\n",
    "El comando ```datetime.datetime.today()```, extrae solo la hora actual de la computadora donde se corrió"
   ]
  },
  {
   "cell_type": "markdown",
   "id": "2796ec84",
   "metadata": {},
   "source": [
    "## Año, mes y día\n",
    "* Año ```datetime.datetime.now().year```\n",
    "* Mes ```datetime.datetime.now().month```\n",
    "* día ```datetime.datetime.now().day```"
   ]
  },
  {
   "cell_type": "markdown",
   "id": "7c7fa474",
   "metadata": {},
   "source": [
    "## Pruebas y operaciones con fechas"
   ]
  },
  {
   "cell_type": "code",
   "execution_count": 2,
   "id": "60979ea1",
   "metadata": {},
   "outputs": [
    {
     "data": {
      "text/plain": [
       "datetime.datetime(2022, 11, 13, 21, 4, 26, 501518)"
      ]
     },
     "execution_count": 2,
     "metadata": {},
     "output_type": "execute_result"
    }
   ],
   "source": [
    "# extraer fecha actual con Python 🐍\n",
    "datetime.datetime.now()"
   ]
  },
  {
   "cell_type": "code",
   "execution_count": 4,
   "id": "9ee29fac",
   "metadata": {},
   "outputs": [
    {
     "name": "stdout",
     "output_type": "stream",
     "text": [
      "2022-11-13 21:05:18.354942\n"
     ]
    }
   ],
   "source": [
    "# Usar variable\n",
    "current_time = datetime.datetime.now()\n",
    "print(current_time)"
   ]
  },
  {
   "cell_type": "markdown",
   "id": "e0cb14ae",
   "metadata": {},
   "source": [
    "### Tipo de dato en current_time"
   ]
  },
  {
   "cell_type": "code",
   "execution_count": 8,
   "id": "ebd5a3f5",
   "metadata": {},
   "outputs": [
    {
     "name": "stdout",
     "output_type": "stream",
     "text": [
      "<class 'datetime.datetime'>\n"
     ]
    }
   ],
   "source": [
    "# checar que tipo de dato es current_time\n",
    "print(type(current_time)) # <class 'datetime.datetime'>"
   ]
  },
  {
   "cell_type": "code",
   "execution_count": 14,
   "id": "7f0548ad",
   "metadata": {},
   "outputs": [
    {
     "data": {
      "text/plain": [
       "2022"
      ]
     },
     "execution_count": 14,
     "metadata": {},
     "output_type": "execute_result"
    }
   ],
   "source": [
    "datetime.datetime.now().year "
   ]
  },
  {
   "cell_type": "code",
   "execution_count": 15,
   "id": "e87f4334",
   "metadata": {},
   "outputs": [
    {
     "data": {
      "text/plain": [
       "11"
      ]
     },
     "execution_count": 15,
     "metadata": {},
     "output_type": "execute_result"
    }
   ],
   "source": [
    "datetime.datetime.now().month"
   ]
  },
  {
   "cell_type": "code",
   "execution_count": 16,
   "id": "47994eda",
   "metadata": {},
   "outputs": [
    {
     "data": {
      "text/plain": [
       "13"
      ]
     },
     "execution_count": 16,
     "metadata": {},
     "output_type": "execute_result"
    }
   ],
   "source": [
    "datetime.datetime.now().day"
   ]
  },
  {
   "cell_type": "markdown",
   "id": "c9fc8f58",
   "metadata": {},
   "source": [
    "### Explorar operaciones"
   ]
  },
  {
   "cell_type": "code",
   "execution_count": 6,
   "id": "29698203",
   "metadata": {},
   "outputs": [],
   "source": [
    "my_birthdate= '1987-12-29'"
   ]
  },
  {
   "cell_type": "code",
   "execution_count": 7,
   "id": "e847239b",
   "metadata": {},
   "outputs": [
    {
     "ename": "TypeError",
     "evalue": "unsupported operand type(s) for -: 'datetime.datetime' and 'str'",
     "output_type": "error",
     "traceback": [
      "\u001b[0;31m---------------------------------------------------------------------------\u001b[0m",
      "\u001b[0;31mTypeError\u001b[0m                                 Traceback (most recent call last)",
      "Cell \u001b[0;32mIn [7], line 2\u001b[0m\n\u001b[1;32m      1\u001b[0m \u001b[38;5;66;03m#experimento\u001b[39;00m\n\u001b[0;32m----> 2\u001b[0m explorar \u001b[38;5;241m=\u001b[39m \u001b[43mcurrent_time\u001b[49m\u001b[43m \u001b[49m\u001b[38;5;241;43m-\u001b[39;49m\u001b[43m \u001b[49m\u001b[43mmy_birthdate\u001b[49m\n",
      "\u001b[0;31mTypeError\u001b[0m: unsupported operand type(s) for -: 'datetime.datetime' and 'str'"
     ]
    }
   ],
   "source": [
    "#experimento\n",
    "explorar = current_time - my_birthdate"
   ]
  },
  {
   "cell_type": "code",
   "execution_count": 9,
   "id": "7725f837",
   "metadata": {},
   "outputs": [],
   "source": [
    "# opcion 1, convertir a str current_time\n",
    "# current_time = str(current_time)"
   ]
  },
  {
   "cell_type": "markdown",
   "id": "ec07a888",
   "metadata": {},
   "source": [
    "## Formateo de Fechas\n",
    "\n",
    "* Se puede dara formato a las fecha en base a como se quieran presentar\n",
    "* En USA se usa con el siguiente formato: mm/dd/yyyy\n",
    "* En LATAM, comunmente se usa el siguiente formato: dd/mm/yyyy\n",
    "* Para dar formato apropieadamente, se puede usar la siguiente tabla:"
   ]
  },
  {
   "cell_type": "markdown",
   "id": "7bb10a29",
   "metadata": {},
   "source": [
    "| formato | tiempo |\n",
    "|---------|--------|\n",
    "|  %Y     |  Year  |\n",
    "|  %m     |  month |\n",
    "|  %d     |   day  |\n",
    "|  %H     |  Hour  |\n",
    "|  %M     | Minute |\n",
    "|  %S     | Second |"
   ]
  },
  {
   "cell_type": "markdown",
   "id": "fe62c650",
   "metadata": {},
   "source": [
    "* Para dar formato a la fecha se usa el comando ```strftime ```\n",
    "* "
   ]
  }
 ],
 "metadata": {
  "kernelspec": {
   "display_name": "Python 3 (ipykernel)",
   "language": "python",
   "name": "python3"
  },
  "language_info": {
   "codemirror_mode": {
    "name": "ipython",
    "version": 3
   },
   "file_extension": ".py",
   "mimetype": "text/x-python",
   "name": "python",
   "nbconvert_exporter": "python",
   "pygments_lexer": "ipython3",
   "version": "3.11.0"
  }
 },
 "nbformat": 4,
 "nbformat_minor": 5
}
