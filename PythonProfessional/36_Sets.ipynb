{
 "cells": [
  {
   "cell_type": "code",
   "execution_count": 13,
   "id": "ec496e31",
   "metadata": {},
   "outputs": [],
   "source": [
    "#Libraries\n",
    "import pandas as pd\n",
    "from openpyxl.workbook import workbook"
   ]
  },
  {
   "cell_type": "markdown",
   "id": "608bc262",
   "metadata": {},
   "source": [
    "# Sets"
   ]
  },
  {
   "cell_type": "markdown",
   "id": "1ee05634",
   "metadata": {},
   "source": [
    "* Es una estructura de datos desordenada de elementos únicos e inmutables. \n",
    "* son conocidos también como conjuntos o colecciones\n",
    "* Los **sets** se utilizan para . . "
   ]
  },
  {
   "cell_type": "markdown",
   "id": "c7646beb",
   "metadata": {},
   "source": [
    "## ¿Cómo se crean los sets?\n",
    "\n",
    "* Se usan las llaves ````{ }````\n",
    "* Contiene valores únicos. Esto quiere decir, que no se repiten\n",
    "* Python no ordena los sets por que se busca ahorrar memoria y tiempo\n"
   ]
  },
  {
   "cell_type": "code",
   "execution_count": 2,
   "id": "d2aa6825",
   "metadata": {},
   "outputs": [
    {
     "data": {
      "text/plain": [
       "set"
      ]
     },
     "execution_count": 2,
     "metadata": {},
     "output_type": "execute_result"
    }
   ],
   "source": [
    "my_set = {3,4,5}\n",
    "type(my_set)"
   ]
  },
  {
   "cell_type": "markdown",
   "id": "6d49f660",
   "metadata": {},
   "source": [
    "* Cuando un elemento se repite en un conjunto de datos dado, Python lo elimina para conservar al estructura del *set*"
   ]
  },
  {
   "cell_type": "code",
   "execution_count": 3,
   "id": "dc5f59d2",
   "metadata": {
    "scrolled": true
   },
   "outputs": [
    {
     "data": {
      "text/plain": [
       "set"
      ]
     },
     "execution_count": 3,
     "metadata": {},
     "output_type": "execute_result"
    }
   ],
   "source": [
    "my_other_set = {3,3,6,8,12,1} # el elemento 3 se repite\n",
    "type(my_other_set)"
   ]
  },
  {
   "cell_type": "code",
   "execution_count": 4,
   "id": "71388c56",
   "metadata": {},
   "outputs": [
    {
     "name": "stdout",
     "output_type": "stream",
     "text": [
      "{1, 3, 6, 8, 12}\n"
     ]
    }
   ],
   "source": [
    "print(my_other_set)"
   ]
  },
  {
   "cell_type": "markdown",
   "id": "18b5d873",
   "metadata": {},
   "source": [
    "* Cuando se intenta agregar a un set, una estructura mutable como una lista, Python marca error ````TypeError: unhashable type: 'list'\n",
    "````, porque contrarresta la definición establecida de un set."
   ]
  },
  {
   "cell_type": "code",
   "execution_count": 5,
   "id": "dca78a3c",
   "metadata": {},
   "outputs": [
    {
     "ename": "TypeError",
     "evalue": "unhashable type: 'list'",
     "output_type": "error",
     "traceback": [
      "\u001b[0;31m---------------------------------------------------------------------------\u001b[0m",
      "\u001b[0;31mTypeError\u001b[0m                                 Traceback (most recent call last)",
      "Input \u001b[0;32mIn [5]\u001b[0m, in \u001b[0;36m<cell line: 1>\u001b[0;34m()\u001b[0m\n\u001b[0;32m----> 1\u001b[0m maybe_a_set \u001b[38;5;241m=\u001b[39m {[\u001b[38;5;241m1\u001b[39m,\u001b[38;5;241m2\u001b[39m,\u001b[38;5;241m3\u001b[39m],\u001b[38;5;241m5\u001b[39m}\n\u001b[1;32m      2\u001b[0m \u001b[38;5;28mtype\u001b[39m(maybe_a_set)\n",
      "\u001b[0;31mTypeError\u001b[0m: unhashable type: 'list'"
     ]
    }
   ],
   "source": [
    "maybe_a_set = {[1,2,3],5}\n",
    "type(maybe_a_set)"
   ]
  },
  {
   "cell_type": "markdown",
   "id": "ded16c54",
   "metadata": {},
   "source": [
    "* Se puede crear un set vacio, sin embargo si solo se usan las llaves ````{}````,  Python interpreta que es un diccionario"
   ]
  },
  {
   "cell_type": "code",
   "execution_count": 7,
   "id": "a7632edf",
   "metadata": {},
   "outputs": [
    {
     "data": {
      "text/plain": [
       "dict"
      ]
     },
     "execution_count": 7,
     "metadata": {},
     "output_type": "execute_result"
    }
   ],
   "source": [
    "empty_set = {}\n",
    "type(empty_set)"
   ]
  },
  {
   "cell_type": "markdown",
   "id": "854ea139",
   "metadata": {},
   "source": [
    "* La forma correcta de crear un set vacio es usando la *funcion Built-in* ````set()````"
   ]
  },
  {
   "cell_type": "code",
   "execution_count": 8,
   "id": "5de33162",
   "metadata": {},
   "outputs": [
    {
     "data": {
      "text/plain": [
       "set"
      ]
     },
     "execution_count": 8,
     "metadata": {},
     "output_type": "execute_result"
    }
   ],
   "source": [
    "real_empty_set = set()\n",
    "type(real_empty_set)"
   ]
  },
  {
   "cell_type": "markdown",
   "id": "504a8911",
   "metadata": {},
   "source": [
    "## Como hacer casting con sets\n",
    "\n",
    "* Convertir un set a lista, diccionario\n",
    "* Convertir una lista a set"
   ]
  },
  {
   "cell_type": "markdown",
   "id": "4e81c1d0",
   "metadata": {},
   "source": [
    "### Convertir una lista a set"
   ]
  },
  {
   "cell_type": "code",
   "execution_count": 9,
   "id": "fb78602c",
   "metadata": {},
   "outputs": [
    {
     "data": {
      "text/plain": [
       "set"
      ]
     },
     "execution_count": 9,
     "metadata": {},
     "output_type": "execute_result"
    }
   ],
   "source": [
    "my_list = [3,1,1,3,5,6,78,90,45]\n",
    "list_to_set = set(my_list)\n",
    "type(list_to_set)"
   ]
  },
  {
   "cell_type": "code",
   "execution_count": 10,
   "id": "25c5ec7d",
   "metadata": {},
   "outputs": [
    {
     "name": "stdout",
     "output_type": "stream",
     "text": [
      "{1, 3, 5, 6, 45, 78, 90}\n"
     ]
    }
   ],
   "source": [
    "print(list_to_set)"
   ]
  },
  {
   "cell_type": "markdown",
   "id": "6548ac9b",
   "metadata": {},
   "source": [
    "### Como convertir una tupla a set"
   ]
  },
  {
   "cell_type": "code",
   "execution_count": 11,
   "id": "13dd66ad",
   "metadata": {},
   "outputs": [
    {
     "data": {
      "text/plain": [
       "set"
      ]
     },
     "execution_count": 11,
     "metadata": {},
     "output_type": "execute_result"
    }
   ],
   "source": [
    "my_tuple = (\"Hola\",\"Hola\",\"Hola\",1)\n",
    "tuple_to_set = set(my_tuple)\n",
    "type(tuple_to_set)"
   ]
  },
  {
   "cell_type": "code",
   "execution_count": 12,
   "id": "6c5bc0a9",
   "metadata": {},
   "outputs": [
    {
     "name": "stdout",
     "output_type": "stream",
     "text": [
      "{1, 'Hola'}\n"
     ]
    }
   ],
   "source": [
    "print(tuple_to_set)"
   ]
  },
  {
   "cell_type": "markdown",
   "id": "cbf7084a",
   "metadata": {},
   "source": [
    "## Agregar y borrar elementos de un set"
   ]
  },
  {
   "cell_type": "code",
   "execution_count": 23,
   "id": "0060476a",
   "metadata": {},
   "outputs": [
    {
     "data": {
      "text/html": [
       "<div>\n",
       "<style scoped>\n",
       "    .dataframe tbody tr th:only-of-type {\n",
       "        vertical-align: middle;\n",
       "    }\n",
       "\n",
       "    .dataframe tbody tr th {\n",
       "        vertical-align: top;\n",
       "    }\n",
       "\n",
       "    .dataframe thead th {\n",
       "        text-align: right;\n",
       "    }\n",
       "</style>\n",
       "<table border=\"1\" class=\"dataframe\">\n",
       "  <thead>\n",
       "    <tr style=\"text-align: right;\">\n",
       "      <th></th>\n",
       "      <th>Método</th>\n",
       "      <th>Función</th>\n",
       "      <th>Clasificación</th>\n",
       "    </tr>\n",
       "  </thead>\n",
       "  <tbody>\n",
       "    <tr>\n",
       "      <th>0</th>\n",
       "      <td>add</td>\n",
       "      <td>agregar un elemento</td>\n",
       "      <td>Métodos para agregar elementos</td>\n",
       "    </tr>\n",
       "    <tr>\n",
       "      <th>1</th>\n",
       "      <td>update</td>\n",
       "      <td>agregar varios elementos</td>\n",
       "      <td>Métodos para agregar elementos</td>\n",
       "    </tr>\n",
       "    <tr>\n",
       "      <th>2</th>\n",
       "      <td>remove</td>\n",
       "      <td>borrar un elemento (existente)</td>\n",
       "      <td>Métodos para borrar elementos</td>\n",
       "    </tr>\n",
       "    <tr>\n",
       "      <th>3</th>\n",
       "      <td>discard</td>\n",
       "      <td>borrar un elemento (existente/inexistente)</td>\n",
       "      <td>Métodos para borrar elementos</td>\n",
       "    </tr>\n",
       "    <tr>\n",
       "      <th>4</th>\n",
       "      <td>pop</td>\n",
       "      <td>borrar un elemento aleatorio</td>\n",
       "      <td>Métodos para borrar elementos</td>\n",
       "    </tr>\n",
       "    <tr>\n",
       "      <th>5</th>\n",
       "      <td>clear</td>\n",
       "      <td>borrar todos los elementos de un set. Limpiar set</td>\n",
       "      <td>Métodos para borrar elementos</td>\n",
       "    </tr>\n",
       "  </tbody>\n",
       "</table>\n",
       "</div>"
      ],
      "text/plain": [
       "    Método                                            Función  \\\n",
       "0      add                                agregar un elemento   \n",
       "1   update                           agregar varios elementos   \n",
       "2   remove                     borrar un elemento (existente)   \n",
       "3  discard         borrar un elemento (existente/inexistente)   \n",
       "4      pop                       borrar un elemento aleatorio   \n",
       "5    clear  borrar todos los elementos de un set. Limpiar set   \n",
       "\n",
       "                    Clasificación  \n",
       "0  Métodos para agregar elementos  \n",
       "1  Métodos para agregar elementos  \n",
       "2   Métodos para borrar elementos  \n",
       "3   Métodos para borrar elementos  \n",
       "4   Métodos para borrar elementos  \n",
       "5   Métodos para borrar elementos  "
      ]
     },
     "execution_count": 23,
     "metadata": {},
     "output_type": "execute_result"
    }
   ],
   "source": [
    "set_metodos = pd.read_excel('/Users/ideasleon/platzi_edu/Python/PythonNotes/Doc/Sets.xlsx')\n",
    "set_metodos"
   ]
  },
  {
   "cell_type": "markdown",
   "id": "6faf01a2",
   "metadata": {},
   "source": [
    "### Como agregar un elemento a un set: add\n",
    "* en el set dado ````wow = {5,7,9}````, agregar un elemento, agregar el valor ````8````\n",
    "* Usar el comando *add*\n",
    "* Seguir la sintaxis: ````nombre_set.add(elemento)````\n"
   ]
  },
  {
   "cell_type": "code",
   "execution_count": 34,
   "id": "c523f5da",
   "metadata": {},
   "outputs": [
    {
     "name": "stdout",
     "output_type": "stream",
     "text": [
      "{8, 9, 5, 7}\n"
     ]
    },
    {
     "data": {
      "text/plain": [
       "set"
      ]
     },
     "execution_count": 34,
     "metadata": {},
     "output_type": "execute_result"
    }
   ],
   "source": [
    "wow = {5,7,9}\n",
    "wow.add(8)\n",
    "print(wow)\n",
    "type(wow)"
   ]
  },
  {
   "cell_type": "markdown",
   "id": "a29b5563",
   "metadata": {},
   "source": [
    "### Como agregar varios elementos a un set: update\n",
    "* en el set dado ````wow = {5,7,9,8}````, agregar varios elementos, agregar los valores ````78,14,29````\n",
    "* Usar el comando *update*\n",
    "* Usar los ````[]````, para agregar una lista de elementos\n",
    "* Seguir la sintaxis: ````nombre_set.update([elemento1,elemento2,elemento3])````"
   ]
  },
  {
   "cell_type": "code",
   "execution_count": 35,
   "id": "72335a5a",
   "metadata": {},
   "outputs": [
    {
     "name": "stdout",
     "output_type": "stream",
     "text": [
      "{5, 7, 8, 9, 78, 14, 29}\n"
     ]
    },
    {
     "data": {
      "text/plain": [
       "set"
      ]
     },
     "execution_count": 35,
     "metadata": {},
     "output_type": "execute_result"
    }
   ],
   "source": [
    "wow.update([78,14,29])\n",
    "print(wow)\n",
    "type(wow)"
   ]
  },
  {
   "cell_type": "markdown",
   "id": "5139f89a",
   "metadata": {},
   "source": [
    "### Como agregar varios elementos a un set: update\n",
    "* en el set dado ````wow = {5,7,9,8}````, agregar varios elementos, agregar los valores ````[89,45]```` y ````{8,21}````\n",
    "* Usar el comando *update*\n",
    "* Usar los ````[]````, para agregar una lista de elementos y/o ````{}````para agregar un set de elementos\n",
    "* Seguir la sintaxis: ````nombre_set.update([elemento1,elemento2,elemento3],{elementoN1, elementoN2, etc})````\n",
    "* Notar que si se agrega un elemento que ya está contenido previamente en el set, Python lo eliminará, siguienda la regla de mantener elemento únicos (no repetidos)"
   ]
  },
  {
   "cell_type": "code",
   "execution_count": 36,
   "id": "9a3a14ae",
   "metadata": {},
   "outputs": [
    {
     "name": "stdout",
     "output_type": "stream",
     "text": [
      "{5, 7, 8, 9, 45, 78, 14, 21, 89, 29}\n"
     ]
    },
    {
     "data": {
      "text/plain": [
       "set"
      ]
     },
     "execution_count": 36,
     "metadata": {},
     "output_type": "execute_result"
    }
   ],
   "source": [
    "wow.update([89,45],{8,21})\n",
    "print(wow)\n",
    "type(wow)"
   ]
  },
  {
   "cell_type": "markdown",
   "id": "3b657190",
   "metadata": {},
   "source": [
    "### Como borrar un elemento de un set: discard\n",
    "* Borrar el elemento 14 del set **wow**\n",
    "* Usar el comando *discard*\n",
    "* Borrar un elemento **inexistente** 100"
   ]
  },
  {
   "cell_type": "code",
   "execution_count": 37,
   "id": "5a80a102",
   "metadata": {},
   "outputs": [
    {
     "name": "stdout",
     "output_type": "stream",
     "text": [
      "{5, 7, 8, 9, 45, 78, 21, 89, 29}\n"
     ]
    },
    {
     "data": {
      "text/plain": [
       "set"
      ]
     },
     "execution_count": 37,
     "metadata": {},
     "output_type": "execute_result"
    }
   ],
   "source": [
    "wow.discard(14)\n",
    "print(wow)\n",
    "type(wow)"
   ]
  },
  {
   "cell_type": "code",
   "execution_count": 38,
   "id": "1fdfd429",
   "metadata": {},
   "outputs": [
    {
     "name": "stdout",
     "output_type": "stream",
     "text": [
      "{5, 7, 8, 9, 45, 78, 21, 89, 29}\n"
     ]
    },
    {
     "data": {
      "text/plain": [
       "set"
      ]
     },
     "execution_count": 38,
     "metadata": {},
     "output_type": "execute_result"
    }
   ],
   "source": [
    "wow.discard(100)\n",
    "print(wow)\n",
    "type(wow)"
   ]
  },
  {
   "cell_type": "markdown",
   "id": "7d772038",
   "metadata": {},
   "source": [
    "* Al usar el metodo *discard* para borrar un elemento que no existe, no envía error. Esto de que me sirve?"
   ]
  },
  {
   "cell_type": "markdown",
   "id": "8ced2a2c",
   "metadata": {},
   "source": [
    "### Como borrar un elemento de un set: remove\n",
    "* Borrar el elemento 78 del set **wow**\n",
    "* Usar el comando *remove*\n",
    "* Borrar un elemento **inexistente** 100"
   ]
  },
  {
   "cell_type": "code",
   "execution_count": 39,
   "id": "8da96878",
   "metadata": {},
   "outputs": [
    {
     "name": "stdout",
     "output_type": "stream",
     "text": [
      "{5, 7, 8, 9, 45, 21, 89, 29}\n"
     ]
    },
    {
     "data": {
      "text/plain": [
       "set"
      ]
     },
     "execution_count": 39,
     "metadata": {},
     "output_type": "execute_result"
    }
   ],
   "source": [
    "wow.remove(78)\n",
    "print(wow)\n",
    "type(wow)"
   ]
  },
  {
   "cell_type": "code",
   "execution_count": 40,
   "id": "ce564bd8",
   "metadata": {},
   "outputs": [
    {
     "ename": "KeyError",
     "evalue": "100",
     "output_type": "error",
     "traceback": [
      "\u001b[0;31m---------------------------------------------------------------------------\u001b[0m",
      "\u001b[0;31mKeyError\u001b[0m                                  Traceback (most recent call last)",
      "Input \u001b[0;32mIn [40]\u001b[0m, in \u001b[0;36m<cell line: 1>\u001b[0;34m()\u001b[0m\n\u001b[0;32m----> 1\u001b[0m \u001b[43mwow\u001b[49m\u001b[38;5;241;43m.\u001b[39;49m\u001b[43mremove\u001b[49m\u001b[43m(\u001b[49m\u001b[38;5;241;43m100\u001b[39;49m\u001b[43m)\u001b[49m\n\u001b[1;32m      2\u001b[0m \u001b[38;5;28mprint\u001b[39m(wow)\n\u001b[1;32m      3\u001b[0m \u001b[38;5;28mtype\u001b[39m(wow)\n",
      "\u001b[0;31mKeyError\u001b[0m: 100"
     ]
    }
   ],
   "source": [
    "wow.remove(100)\n",
    "print(wow)\n",
    "type(wow)"
   ]
  },
  {
   "cell_type": "markdown",
   "id": "669fb195",
   "metadata": {},
   "source": [
    "* Al usar el metodo *remove* para borrar un elemento que no existe, envía error. Esto de que me sirve?"
   ]
  },
  {
   "cell_type": "markdown",
   "id": "12292ed2",
   "metadata": {},
   "source": [
    "### Como borrar un elemento aleatorio de un set: pop\n",
    "* Borrar un elemento aleatorio usando el metodo *pop*\n",
    "* Seguir sintaxis: ````nombre_set.pop()````"
   ]
  },
  {
   "cell_type": "code",
   "execution_count": 41,
   "id": "9aeb9ff6",
   "metadata": {},
   "outputs": [
    {
     "name": "stdout",
     "output_type": "stream",
     "text": [
      "{7, 8, 9, 45, 21, 89, 29}\n"
     ]
    },
    {
     "data": {
      "text/plain": [
       "set"
      ]
     },
     "execution_count": 41,
     "metadata": {},
     "output_type": "execute_result"
    }
   ],
   "source": [
    "wow.pop()\n",
    "print(wow)\n",
    "type(wow)"
   ]
  },
  {
   "cell_type": "markdown",
   "id": "792385a6",
   "metadata": {},
   "source": [
    "* Borró de forma aleatoria el elemento 5"
   ]
  },
  {
   "cell_type": "markdown",
   "id": "48ab4d1e",
   "metadata": {},
   "source": [
    "### Como limpiar un set: clear\n",
    "* Limpiar el set usando el metodo *clear*\n",
    "* Seguir sintaxis: ````nombre_set.clear()````"
   ]
  },
  {
   "cell_type": "code",
   "execution_count": 42,
   "id": "f5af055c",
   "metadata": {},
   "outputs": [
    {
     "name": "stdout",
     "output_type": "stream",
     "text": [
      "set()\n"
     ]
    },
    {
     "data": {
      "text/plain": [
       "set"
      ]
     },
     "execution_count": 42,
     "metadata": {},
     "output_type": "execute_result"
    }
   ],
   "source": [
    "wow.clear()\n",
    "print(wow)\n",
    "type(wow)"
   ]
  },
  {
   "cell_type": "markdown",
   "id": "35adcfe8",
   "metadata": {},
   "source": [
    "## Resumen\n",
    "\n",
    "* Los sets son una estructura de datos muy similares a las listas en cuanto a su forma, pero presentan ciertas características particulares:\n",
    "\n",
    "* Los sets son inmutables: Cada elemento del set es único, esto es que no se admiten duplicados, aun si durante la definición del set se agregan elementos repetidos pyhton solo guarda un elemento\n",
    "\n",
    "* los sets guardan los elementos en desorden\n",
    "\n",
    "* Para declararlos se utilizan los {} parecido a los diccionarios solo que carece de la composición de conjunto {a:b, c:d}\n",
    "\n",
    "* Los sets no pueden ser leídos como las listas o recorridos a través de slices, esto debido a que no tienen un criterio de orden. Sin embargo si podemos agregar o eliminar items de los sets utilizando métodos:\n",
    "\n",
    "* add(): nos permite agregar elementos al set, si se intenta agregar un elemento existente simplemente python los ignorara\n",
    "* update(): nos permite agregar múltiples elementos al set\n",
    "* remove(): permite eliminar un elemento del set, en el caso en que no se encuentre presente dicho elemento, Python elevará un error\n",
    "* discard(): permite eliminar un elemento del set, en el caso en que no se encuentre presente dicho elemento, Python dejará el set intacto, sin elevar ningún error.\n",
    "* pop(): permite eliminar un elemento del set, pero lo hará de forma aleatoria.\n",
    "* clear(): Limpia completamente el set, dejándolo vació."
   ]
  },
  {
   "cell_type": "markdown",
   "id": "373a58b3",
   "metadata": {},
   "source": [
    "### Como convertir un set a lista"
   ]
  },
  {
   "cell_type": "code",
   "execution_count": null,
   "id": "9428a2ca",
   "metadata": {},
   "outputs": [],
   "source": []
  }
 ],
 "metadata": {
  "kernelspec": {
   "display_name": "Python 3 (ipykernel)",
   "language": "python",
   "name": "python3"
  },
  "language_info": {
   "codemirror_mode": {
    "name": "ipython",
    "version": 3
   },
   "file_extension": ".py",
   "mimetype": "text/x-python",
   "name": "python",
   "nbconvert_exporter": "python",
   "pygments_lexer": "ipython3",
   "version": "3.10.0"
  }
 },
 "nbformat": 4,
 "nbformat_minor": 5
}
