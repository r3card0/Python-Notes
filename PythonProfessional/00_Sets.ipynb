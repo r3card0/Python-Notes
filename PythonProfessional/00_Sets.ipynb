{
 "cells": [
  {
   "cell_type": "markdown",
   "id": "608bc262",
   "metadata": {},
   "source": [
    "# Sets"
   ]
  },
  {
   "cell_type": "markdown",
   "id": "1ee05634",
   "metadata": {},
   "source": [
    "* Es una estructura de datos desordenada de elementos únicos e inmutables. \n",
    "* son conocidos también como conjuntos o colecciones\n",
    "* Los **sets** se utilizan para . . "
   ]
  },
  {
   "cell_type": "markdown",
   "id": "c7646beb",
   "metadata": {},
   "source": [
    "## ¿Cómo se crean los sets?\n",
    "\n",
    "* Se usan las llaves ````{ }````\n",
    "* Contiene valores únicos. Esto quiere decir, que no se repiten\n",
    "* Python no orden los sets por que se busca ahorrar memoria y tiempo\n"
   ]
  },
  {
   "cell_type": "code",
   "execution_count": 2,
   "id": "d2aa6825",
   "metadata": {},
   "outputs": [
    {
     "data": {
      "text/plain": [
       "set"
      ]
     },
     "execution_count": 2,
     "metadata": {},
     "output_type": "execute_result"
    }
   ],
   "source": [
    "my_set = {3,4,5}\n",
    "type(my_set)"
   ]
  },
  {
   "cell_type": "markdown",
   "id": "6d49f660",
   "metadata": {},
   "source": [
    "* Cuando un elemento se repite en un conjunto de datos dado, Python lo elimina para conservar al estructura del *set*"
   ]
  },
  {
   "cell_type": "code",
   "execution_count": 3,
   "id": "dc5f59d2",
   "metadata": {
    "scrolled": true
   },
   "outputs": [
    {
     "data": {
      "text/plain": [
       "set"
      ]
     },
     "execution_count": 3,
     "metadata": {},
     "output_type": "execute_result"
    }
   ],
   "source": [
    "my_other_set = {3,3,6,8,12,1} # el elemento 3 se repite\n",
    "type(my_other_set)"
   ]
  },
  {
   "cell_type": "code",
   "execution_count": 4,
   "id": "71388c56",
   "metadata": {},
   "outputs": [
    {
     "name": "stdout",
     "output_type": "stream",
     "text": [
      "{1, 3, 6, 8, 12}\n"
     ]
    }
   ],
   "source": [
    "print(my_other_set)"
   ]
  },
  {
   "cell_type": "markdown",
   "id": "18b5d873",
   "metadata": {},
   "source": [
    "* Cuando se intenta agregar a un set, una estructura mutable como una lista, Python marca error ````TypeError: unhashable type: 'list'\n",
    "````, porque contrarresta la definición establecida de un set."
   ]
  },
  {
   "cell_type": "code",
   "execution_count": 5,
   "id": "dca78a3c",
   "metadata": {},
   "outputs": [
    {
     "ename": "TypeError",
     "evalue": "unhashable type: 'list'",
     "output_type": "error",
     "traceback": [
      "\u001b[0;31m---------------------------------------------------------------------------\u001b[0m",
      "\u001b[0;31mTypeError\u001b[0m                                 Traceback (most recent call last)",
      "Input \u001b[0;32mIn [5]\u001b[0m, in \u001b[0;36m<cell line: 1>\u001b[0;34m()\u001b[0m\n\u001b[0;32m----> 1\u001b[0m maybe_a_set \u001b[38;5;241m=\u001b[39m {[\u001b[38;5;241m1\u001b[39m,\u001b[38;5;241m2\u001b[39m,\u001b[38;5;241m3\u001b[39m],\u001b[38;5;241m5\u001b[39m}\n\u001b[1;32m      2\u001b[0m \u001b[38;5;28mtype\u001b[39m(maybe_a_set)\n",
      "\u001b[0;31mTypeError\u001b[0m: unhashable type: 'list'"
     ]
    }
   ],
   "source": [
    "maybe_a_set = {[1,2,3],5}\n",
    "type(maybe_a_set)"
   ]
  },
  {
   "cell_type": "markdown",
   "id": "ded16c54",
   "metadata": {},
   "source": [
    "* Se puede crear un set vacio, sin embargo si solo se usan las llaves ````{}````,  Python interpreta que es un diccionario"
   ]
  },
  {
   "cell_type": "code",
   "execution_count": 7,
   "id": "a7632edf",
   "metadata": {},
   "outputs": [
    {
     "data": {
      "text/plain": [
       "dict"
      ]
     },
     "execution_count": 7,
     "metadata": {},
     "output_type": "execute_result"
    }
   ],
   "source": [
    "empty_set = {}\n",
    "type(empty_set)"
   ]
  },
  {
   "cell_type": "markdown",
   "id": "854ea139",
   "metadata": {},
   "source": [
    "* La forma correcta de crear un set vacio es usando la *funcion Built-in* ````set()````"
   ]
  },
  {
   "cell_type": "code",
   "execution_count": 8,
   "id": "5de33162",
   "metadata": {},
   "outputs": [
    {
     "data": {
      "text/plain": [
       "set"
      ]
     },
     "execution_count": 8,
     "metadata": {},
     "output_type": "execute_result"
    }
   ],
   "source": [
    "real_empty_set = set()\n",
    "type(real_empty_set)"
   ]
  },
  {
   "cell_type": "markdown",
   "id": "504a8911",
   "metadata": {},
   "source": [
    "## Como hacer casting con sets\n",
    "\n",
    "* Convertir un set a lista, diccionario\n",
    "* Convertir una lista a set"
   ]
  },
  {
   "cell_type": "markdown",
   "id": "4e81c1d0",
   "metadata": {},
   "source": [
    "### Convertir una lista a set"
   ]
  },
  {
   "cell_type": "code",
   "execution_count": 9,
   "id": "fb78602c",
   "metadata": {},
   "outputs": [
    {
     "data": {
      "text/plain": [
       "set"
      ]
     },
     "execution_count": 9,
     "metadata": {},
     "output_type": "execute_result"
    }
   ],
   "source": [
    "my_list = [3,1,1,3,5,6,78,90,45]\n",
    "list_to_set = set(my_list)\n",
    "type(list_to_set)"
   ]
  },
  {
   "cell_type": "code",
   "execution_count": 10,
   "id": "25c5ec7d",
   "metadata": {},
   "outputs": [
    {
     "name": "stdout",
     "output_type": "stream",
     "text": [
      "{1, 3, 5, 6, 45, 78, 90}\n"
     ]
    }
   ],
   "source": [
    "print(list_to_set)"
   ]
  },
  {
   "cell_type": "markdown",
   "id": "6548ac9b",
   "metadata": {},
   "source": [
    "### Como convertir una tupla a set"
   ]
  },
  {
   "cell_type": "code",
   "execution_count": 11,
   "id": "13dd66ad",
   "metadata": {},
   "outputs": [
    {
     "data": {
      "text/plain": [
       "set"
      ]
     },
     "execution_count": 11,
     "metadata": {},
     "output_type": "execute_result"
    }
   ],
   "source": [
    "my_tuple = (\"Hola\",\"Hola\",\"Hola\",1)\n",
    "tuple_to_set = set(my_tuple)\n",
    "type(tuple_to_set)"
   ]
  },
  {
   "cell_type": "code",
   "execution_count": 12,
   "id": "6c5bc0a9",
   "metadata": {},
   "outputs": [
    {
     "name": "stdout",
     "output_type": "stream",
     "text": [
      "{1, 'Hola'}\n"
     ]
    }
   ],
   "source": [
    "print(tuple_to_set)"
   ]
  },
  {
   "cell_type": "code",
   "execution_count": null,
   "id": "9d0f1c8a",
   "metadata": {},
   "outputs": [],
   "source": []
  }
 ],
 "metadata": {
  "kernelspec": {
   "display_name": "Python 3 (ipykernel)",
   "language": "python",
   "name": "python3"
  },
  "language_info": {
   "codemirror_mode": {
    "name": "ipython",
    "version": 3
   },
   "file_extension": ".py",
   "mimetype": "text/x-python",
   "name": "python",
   "nbconvert_exporter": "python",
   "pygments_lexer": "ipython3",
   "version": "3.10.0"
  }
 },
 "nbformat": 4,
 "nbformat_minor": 5
}
