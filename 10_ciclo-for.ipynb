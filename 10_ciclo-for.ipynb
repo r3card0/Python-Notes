{
 "cells": [
  {
   "cell_type": "markdown",
   "metadata": {},
   "source": [
    "# Ciclo for\n",
    "\n",
    "El ciclo **for** es un ciclo que funciona a partir de un rango de datos. Este rango puede ser extraido de diversas fuentes. Puese ser un rango que el programador genere a partir de un grupo de número dado o de otras fuentes como listas, diccionarios, tuplas, archivos etc.\n",
    "\n",
    "En este notebook se hablará de como funciona el ciclo **for** a partir de rango numéricos."
   ]
  },
  {
   "cell_type": "markdown",
   "metadata": {},
   "source": [
    "## Estructura de la sintaxis de for\n",
    "\n",
    "Primero que nada presentaremos la sintaxis correcta que requiere **for** para ejecutarse."
   ]
  },
  {
   "cell_type": "code",
   "execution_count": null,
   "metadata": {},
   "outputs": [],
   "source": [
    "for <condicion>:\n",
    "    <lógica a ejecutar>"
   ]
  },
  {
   "cell_type": "markdown",
   "metadata": {},
   "source": [
    "1. Escribir **for variable in range(rango)**\n",
    "2. indentación     **print(variable)**\n",
    "\n",
    "Para imprimir desde listas:\n",
    "\n",
    "1. Escribir **for variable in nombre_lista()**\n",
    "2. indentación     **print(variable)**"
   ]
  },
  {
   "cell_type": "markdown",
   "metadata": {},
   "source": [
    "## Ciclo -for- en tipos de datos numéricos\n"
   ]
  },
  {
   "cell_type": "markdown",
   "metadata": {},
   "source": [
    "Escribamos un programa que imprima en la pantalla la serie del 1 de forma continua hasta el número 10.\n",
    "\n",
    "Observa la sintaxis del siguiente programa:"
   ]
  },
  {
   "cell_type": "code",
   "execution_count": null,
   "metadata": {},
   "outputs": [],
   "source": [
    "for i in range(11):\n",
    "    print(i)"
   ]
  },
  {
   "cell_type": "markdown",
   "metadata": {},
   "source": [
    "El anterior programa, mas o menos se leería así: *para* la variable *i* *en el rango* del 0 al 11, imprime la variable *i*\n",
    "\n",
    "    - for es una palabra clave para generar el loop.\n",
    "    \n",
    "    - Despues de *for* siempre va una variable. *i* es la variable que se uso para este caso.\n",
    "\n",
    "    - operador *in*\n",
    "\n",
    "    - Comando *range()*, que significa rango. El paréntesis recibe argumentos como intervalo. En este caso del 0 al 10. Nota. El caso especial de range(), es que cuando se le asigna intervalos, siempre imprimira del 0 hasta un valor anterior al asignado. Es por eso que el se pidio imprimir hasta el 10 y el rango fue del 0 al 11. Para que cumpliera con la petición. 👀\n",
    "\n",
    "    Recordar las definición de argumento: *Los argumentos son los valores que se le asignan a las varibles* \n",
    "\n",
    "1. Escribir **for variable in range(rango)**\n",
    "2. indentación     **print(variable)**\n",
    "\n",
    "Para imprimir desde listas:\n",
    "\n",
    "1. Escribir **for variable in nombre_lista()**\n",
    "2. indentación     **print(variable)**"
   ]
  },
  {
   "cell_type": "markdown",
   "metadata": {},
   "source": [
    "Ahora escrito dentro de la estructura de una función"
   ]
  },
  {
   "cell_type": "code",
   "execution_count": null,
   "metadata": {},
   "outputs": [],
   "source": [
    "# función o módulo que imprime en pantalla la serie del 1 hasta un limite asignado\n",
    "def serie_1():\n",
    "    for i in range(11):\n",
    "        print(i)\n",
    "\n",
    "if __name__==\"__main__\":\n",
    "    serie_1()"
   ]
  },
  {
   "cell_type": "markdown",
   "metadata": {},
   "source": [
    "Ejercicio # 2. Proporcionar un rango que inicie diferente de cero \"0\". Por ejemplo, asignar un rango que inicie en el valor 99 y que termine en el valor 105. Imprimir el rango elegido."
   ]
  },
  {
   "cell_type": "code",
   "execution_count": null,
   "metadata": {},
   "outputs": [],
   "source": [
    "for counter in range(99,105): # se le puede asignar un rango. Se le asigno desde el 99 al 105\n",
    "    print(counter)"
   ]
  },
  {
   "cell_type": "markdown",
   "metadata": {},
   "source": [
    "## Ciclo -for- en tipos de datos de texto\n",
    "\n",
    "### Recorrer caracteres con for"
   ]
  },
  {
   "cell_type": "markdown",
   "metadata": {},
   "source": [
    "La función **for**, puede recorrer texto (string) y dar un resultado. En el siguiente ejemplo se puede tomar la frase -¡Hola! ¿Como estás?- y devolverla en mayúsculas."
   ]
  },
  {
   "cell_type": "code",
   "execution_count": null,
   "metadata": {},
   "outputs": [],
   "source": [
    "frase = '¡Hola! ¿como estás?'\n",
    "for letra in frase:\n",
    "    print(letra.upper())"
   ]
  },
  {
   "cell_type": "markdown",
   "metadata": {},
   "source": [
    "Ademas, la función **for** puede ayudar a encontrar texto de una lista dada. La función for, recorrerá la lista y se detendrá al encontrar el valor deseado."
   ]
  },
  {
   "cell_type": "code",
   "execution_count": null,
   "metadata": {},
   "outputs": [],
   "source": [
    "cuerpos_celestes = ['Asteroides','Meteoritos','Galaxias','Cometas','Vía Láctea','Universo','Exoplanetas','Expansión']\n",
    "for cuerpo in cuerpos_celestes:     # para el cuerpo en la lista dada\n",
    "    if cuerpo == 'Universo':        # si la variable cuerpo es igual a 'Universo' \n",
    "        break                       # ¡INTERRUMPE PROCESO!\n",
    "    print(cuerpo)                   # imprime la variable"
   ]
  },
  {
   "cell_type": "code",
   "execution_count": null,
   "metadata": {},
   "outputs": [],
   "source": [
    "cuerpos_celestes = ['Asteroides','Meteoritos','Galaxias','Cometas','Vía Láctea','Universo','Exoplanetas','Expansión']\n",
    "for cuerpo in cuerpos_celestes: # para el cuerpo en la lista dada\n",
    "    print(cuerpo)               # imprime la variable\n",
    "    if cuerpo == 'Universo':    # si la variable cuerpo es igual a 'Universo'\n",
    "        break                   # ¡INTERRUMPE PROCESO!\n",
    "    "
   ]
  },
  {
   "cell_type": "markdown",
   "metadata": {},
   "source": [
    "### Uso de la función **continue** en **for**.\n",
    "\n",
    "Ejercicio:\n",
    "\n",
    "Para el contador en el rango de 0 a 1000, imprime los valores del contador. Pero, solo los números pares."
   ]
  },
  {
   "cell_type": "code",
   "execution_count": null,
   "metadata": {},
   "outputs": [],
   "source": [
    "for contador in range(20):\n",
    "    if contador % 2 != 0:       # si el contador al dividirlo entre 2, el resto de la division es distinto de cero \"0\"\n",
    "        continue                # salta esta vuelta del ciclo\n",
    "    print(contador)"
   ]
  },
  {
   "cell_type": "markdown",
   "metadata": {},
   "source": [
    "En el ejemplo anterior, siguiendo las reglas de las matematicas que todo número dividido entre 2 y que su residuo sea 0, entonces es número par. Por eso, la expresión: **if contador % 2 != 0:** indica si es número para o no. Se no es número para, el programa se saltará esa vuelta y no la imprimirá. solo imprimira las operaciones que cumplan la condición."
   ]
  },
  {
   "cell_type": "markdown",
   "metadata": {},
   "source": [
    "## Resumen"
   ]
  },
  {
   "cell_type": "markdown",
   "metadata": {},
   "source": [
    "## Referencias"
   ]
  }
 ],
 "metadata": {
  "interpreter": {
   "hash": "aee8b7b246df8f9039afb4144a1f6fd8d2ca17a180786b69acc140d282b71a49"
  },
  "kernelspec": {
   "display_name": "Python 3.10.0 64-bit",
   "language": "python",
   "name": "python3"
  },
  "language_info": {
   "codemirror_mode": {
    "name": "ipython",
    "version": 3
   },
   "file_extension": ".py",
   "mimetype": "text/x-python",
   "name": "python",
   "nbconvert_exporter": "python",
   "pygments_lexer": "ipython3",
   "version": "3.10.0"
  },
  "orig_nbformat": 4
 },
 "nbformat": 4,
 "nbformat_minor": 2
}
