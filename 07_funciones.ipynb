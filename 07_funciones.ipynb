{
 "cells": [
  {
   "cell_type": "markdown",
   "metadata": {},
   "source": [
    "# Funciones\n",
    "\n",
    "![07_image01](/root/work/Images/07_image01.jpeg)\n",
    "\n",
    "\n",
    "En Python, una función es un grupo de código que realiza una tarea específica. Una función es un módulo en un programa de Python. Un programa puede tener muchos módulos.\n",
    "\n",
    "Esto ayuda por que si un programa crece demasiado, al tenerlo dividido en funciones, permite manejar y organizar mejor al programa.\n",
    "\n",
    "Las funciones son como los legos. Cada pieza tiene un objetivo específico en la construcción de un juguete.\n"
   ]
  },
  {
   "cell_type": "markdown",
   "metadata": {},
   "source": [
    "## Como construir e identificar una función\n",
    "\n",
    "1. La palabra clave **def**  introduce a una función.\n",
    "2. Es seguida por el por nombre de la función y el paréntesis, el cuál puede o no recibir parámetros y finaliza con \"**:**\". \n",
    "3. Las sentencias que forman el cuerpo de la función  empiezan en la siguiente línea y debe estar indentada.\n",
    "4. Llamar o invocar a la función en las siguientes líneas sin indentado, una vez terminado el cuerpo de la función. Se invoca una función con el nombre de la función"
   ]
  },
  {
   "cell_type": "code",
   "execution_count": null,
   "metadata": {},
   "outputs": [],
   "source": [
    "# estructura de una función\n",
    "\n",
    "def tectonic():     # nombre de la función\n",
    "    print('La tectónica de Placas') # ejecutar la lógica\n",
    "\n",
    "\n",
    "tectonic()          # invocación de la función."
   ]
  },
  {
   "cell_type": "markdown",
   "metadata": {},
   "source": [
    "En el ejemplo, la función \"tectonic\", tiene como objetivo imprimir el mensaje \"La tectónica de Placas\""
   ]
  },
  {
   "cell_type": "code",
   "execution_count": null,
   "metadata": {},
   "outputs": [],
   "source": [
    "# ejemplo 2\n",
    "\n",
    "def hola():         # nombre de la función\n",
    "    print('Hola Mundo') # ejecutar la lógica\n",
    "    \n",
    "\n",
    "hola()               # invocación de la función.\n"
   ]
  },
  {
   "cell_type": "markdown",
   "metadata": {},
   "source": [
    "En el ejemplo, la función \"hola\", tiene como objetivo imprimir el mensaje \"Hola Mundo\"\n",
    "\n",
    "Como se mencionó al inicio, uno de los objetivos de las funciones es tener grupos de códigos y ser usados en un programa. En el ejemplo que sigue, se unen las funciones \"hola\" y \"tectonic\" para correr en el mismo programa."
   ]
  },
  {
   "cell_type": "code",
   "execution_count": null,
   "metadata": {},
   "outputs": [],
   "source": [
    "# funciones \"hola\" y \"tectonica\" corriendo en el mismo programa\n",
    "def hola():\n",
    "    print('Hola Mundo')\n",
    "\n",
    "def tectonic():     \n",
    "    print('La tectónica de Placas') \n",
    "\n",
    "# invocación de la función.\n",
    "tectonic()          \n",
    "hola()"
   ]
  },
  {
   "cell_type": "markdown",
   "metadata": {},
   "source": [
    "Ejercicio 1, en el ejemplo anterior, cambia el orden de la invocación de las funciones. Pon primero la invocación de la función \"hola\"\n",
    "\n",
    "Ejercicio 2, comenta una invocación de una función y corre el programa. Como verás, solo la función invocada se corre. De esta forma, puede elegir que función puede activarse o desactivarse en un programa.\n",
    "\n",
    "Ejercicio 3, elige una invocación, y copiala varias veces, linea tras linea. Si lo hiciste bien podras darte cuenta que una función puede ser invocada las veces que sean necesarias."
   ]
  },
  {
   "cell_type": "markdown",
   "metadata": {},
   "source": [
    "\n",
    "\n",
    "## Características\n",
    "\n",
    "En Python una función es un grupo de código que puede ser reutilizado en un programa.\n",
    "\n",
    "Tiene la capacidad de tomar argumentos(s) como input, ejecutar cálculos y devolver uno o más resultado(s)"
   ]
  },
  {
   "cell_type": "markdown",
   "metadata": {},
   "source": [
    "### Modular el programa de conversor de monedas\n",
    "\n",
    "En el tema de las condicionales, se presento un programa que permitia eligir una moneda entre dos opciones y posteriormente convertirla a dólares. Aqui se presenta nuevamente:"
   ]
  },
  {
   "cell_type": "code",
   "execution_count": null,
   "metadata": {},
   "outputs": [],
   "source": [
    "# conversor de monedas\n",
    "menu = int(input(\"\"\" \n",
    "Elige la moneda que deseas convertir\n",
    "Pesos colombianos   1\n",
    "Pesos Mexicanos     2\n",
    "\n",
    "Elige una opción: \"\"\"))\n",
    "\n",
    "if menu == 1:\n",
    "    cop = int(input('¿Cuantos pesos colombianos tienes?: '))\n",
    "    cop = float(cop)\n",
    "    dollar_price = 4015.1\n",
    "    dollars = cop / dollar_price\n",
    "    dollars = round(dollars, 2)\n",
    "    print('Tienes $' + str(dollars) + ' dolares')\n",
    "elif menu == 2:\n",
    "    mxn = int(input('¿Cuantos pesos mexicanos tienes?: '))\n",
    "    mxn = float(mxn)\n",
    "    dollar_price = 21.5\n",
    "    dollars = mxn / dollar_price\n",
    "    dollars = round(dollars, 2)\n",
    "    print('Tienes $' + str(dollars) + ' dolares')\n",
    "else:\n",
    "    print('Elige una opción correcta')"
   ]
  },
  {
   "cell_type": "markdown",
   "metadata": {},
   "source": [
    "Este programa puede ser agrupado en funciones. Pensemos un poco. ¿Cuantas funciones son necesarias en este programa?\n",
    "\n",
    "Si observamos con más detenimiento, el programa del conversor de monedas tiene un menú que permite al usuario elegir el tipo de moneda que desea cambiar y condicionales que direccionan al usuario a la operación del tipo de moneda elegida.\n",
    "\n",
    "Recordemos que una función es un grupo de código que realiza una tarea específica. ¿Cuántas tareas hay en el programa? \n",
    "\n",
    "Está la tarea del menú, la cuál es proporcionar dos opciones al usuario para que elija y posteriormente realice la conversión de monedas.\n",
    "\n",
    "La conversión de monedas es una tarea que realiza la operación y convierte la moneda local en dólares.\n",
    "\n",
    "Por lo tanto, hay dos tareas en el programa. Estas tareas se pueden convertir en funciones.\n",
    "\n",
    "Comencemos a realizar la función para la tarea del menú"
   ]
  },
  {
   "cell_type": "code",
   "execution_count": 13,
   "metadata": {},
   "outputs": [],
   "source": [
    "# 1. Escribir la estructura básica de una función\n",
    "# el texto pass se usa para indicar que se va a escribir codigo posteriormente y sirve para armar la estructura de la función\n",
    "#  funcion del menu que se llamara -> elegir_opcion\n",
    "def elegir_opcion():\n",
    "    pass\n",
    "\n",
    "elegir_opcion()"
   ]
  },
  {
   "cell_type": "markdown",
   "metadata": {},
   "source": [
    "El menu esta divido en: desplegar el menu de opciones y las condicionales"
   ]
  },
  {
   "cell_type": "code",
   "execution_count": null,
   "metadata": {},
   "outputs": [],
   "source": [
    "# 2. Escribir el grupo de código correspondiente al menú dentro de la función elegir_opcion\n",
    "def elegir_opcion():\n",
    "    menu = int(input(\"\"\" \n",
    "    Elige la moneda que deseas convertir\n",
    "    Pesos colombianos   1\n",
    "    Pesos Mexicanos     2\n",
    "\n",
    "    Elige una opción: \"\"\"))\n",
    "\n",
    "    if menu == 1:\n",
    "        pass\n",
    "    elif menu == 2:\n",
    "        pass\n",
    "    else:\n",
    "        print('Elige una opción correcta')\n",
    "\n",
    "elegir_opcion()"
   ]
  },
  {
   "cell_type": "markdown",
   "metadata": {},
   "source": [
    "Se tiene la estructura del código de la funcion elegir_opcion, pero aun no esta terminado. Por el momento se dejará asi y confitnuaremos con la construccion de la siguiente función."
   ]
  },
  {
   "cell_type": "code",
   "execution_count": null,
   "metadata": {},
   "outputs": [],
   "source": [
    "# 3. Escribir la estructura básica de una función\n",
    "# el texto pass \n",
    "# funcion de la conversion de monedas en base a la opción elegida y se llamara -> opcion_elegida\n",
    "def opcion_elegida():\n",
    "    pass\n",
    "\n",
    "opcion_elegida()"
   ]
  },
  {
   "cell_type": "markdown",
   "metadata": {},
   "source": [
    "Observemos y analicemos el codigo de la conversión de monedas. ¿Qué se repite? ¿que tienen en común las conversiones de pesos colombianos y mexicanos a dólares?"
   ]
  },
  {
   "cell_type": "code",
   "execution_count": null,
   "metadata": {},
   "outputs": [],
   "source": [
    "# analizar\n",
    "# if menu == 1:\n",
    "    cop = int(input('¿Cuantos pesos colombianos tienes?: '))\n",
    "    cop = float(cop)\n",
    "    dollar_price = 4015.1\n",
    "    dollars = cop / dollar_price\n",
    "    dollars = round(dollars, 2)\n",
    "    print('Tienes $' + str(dollars) + ' dolares')\n",
    "# elif menu == 2:\n",
    "    mxn = int(input('¿Cuantos pesos mexicanos tienes?: '))\n",
    "    mxn = float(mxn)\n",
    "    dollar_price = 21.5\n",
    "    dollars = mxn / dollar_price\n",
    "    dollars = round(dollars, 2)\n",
    "    print('Tienes $' + str(dollars) + ' dolares')\n",
    "# else:\n",
    "#     print('Elige una opción correcta')"
   ]
  },
  {
   "cell_type": "markdown",
   "metadata": {},
   "source": [
    "Cosas en común\n",
    "\n",
    "En la primera línea de ambas monedas se solicita la cantidad de pesos colombianos o mexicanos, para realizar la conversión.\n",
    "\n",
    "\n",
    "    > cop = int(input('¿Cuantos pesos colombianos tienes?: '))\n",
    "    \n",
    "    > mxn = int(input('¿Cuantos pesos mexicanos tienes?: '))\n",
    "\n",
    "Por lo tanto podemos elegir una variable que pueda representar ambas monedas. Ambas son monedas locales, porque pertenecen a una localidad en particular. Entonces elegiremos el nombre de moneda_local para la variable. Además, en el mensaje  que pide la cantidad de pesos mexicanos o colombianos, podemos usar una variable en común y la cual se le podrá llamar pesos_locales. Quedando:\n",
    "\n",
    "    > moneda_local = int(input('¿Cuantos ' + pesos_locales + ' tienes?: '))\n",
    "\n",
    "\n",
    "Con esta lógica y observando el código podemos sustituir las variables cop y mxn por la variable moneda_local.\n",
    "\n",
    "    > moneda_local = int(input('¿Cuantos ' + pesos_locales + ' tienes?: '))\n",
    "    > moneda_local = float(moneda_local)\n",
    "\n",
    "Nos pasaremos directamente a la variable dollars, que guarda el resultado de la operación moneda_local/dollar_price. Por lo tanto el código se vera:\n",
    "\n",
    "    > moneda_local = int(input('¿Cuantos ' + pesos_locales + ' tienes?: '))\n",
    "    > moneda_local = float(moneda_local)\n",
    "    > dollars = moneda_local / dollar_price\n",
    "\n",
    "En la variable dollars podemos aprovechar a redondear el resultado a dos decimales, usando el comando **round()**. Y el código se vera:\n",
    "\n",
    "    > moneda_local = int(input('¿Cuantos ' + pesos_locales + ' tienes?: '))\n",
    "    > moneda_local = float(moneda_local)\n",
    "    > dollars = round(moneda_local / dollar_price,2)    \n",
    "\n",
    "A continuación sigue analizar la variable dollar_price, la cual, tiene asignada la cantidad de 4015.1 para los pesos colombianos y 21.5 pas los pesos mexicanos:\n",
    "\n",
    "    > dollar_price = 4015.1 (pesos colombianos)\n",
    "    > dollar_price = 21.5 (pesos mexicanos)\n",
    "\n",
    "La variable de dollar_price podemos ocuparla para ambas monedas, sin embargo, como las cantidad son distintas debido a su localidad, las usaremos más adelante agredando el valor de cada moneda en base a la elección del usuario. Entonces nuestro co´digo sera vera como sigue:\n",
    "\n",
    "    > moneda_local = int(input('¿Cuantos ' + pesos_locales + ' tienes?: '))\n",
    "    > moneda_local = float(moneda_local)\n",
    "    > dollars = moneda_local / dollar_price\n",
    "\n",
    "\n",
    "En el mensaje que se imprime en pantalla, donde se le propociona el resultado al usuario, para ambos casos es el mismo. Por lo tanto podemos usarlo tal como esta, quedando el codigo como sigue:\n",
    "\n",
    "    > moneda_local = int(input('¿Cuantos ' + pesos_locales + ' tienes?: '))\n",
    "    > moneda_local = float(moneda_local)\n",
    "    > dollars = round(moneda_local / dollar_price,2)\n",
    "    > print('Tienes $' + str(dollars) + ' dolares')\n",
    "\n",
    "\n",
    "Este código podremos anexarlo a la función -> opcion_elegida. \n",
    "\n"
   ]
  },
  {
   "cell_type": "code",
   "execution_count": null,
   "metadata": {},
   "outputs": [],
   "source": [
    "# 3. Escribir la estructura básica de una función\n",
    "# el texto pass \n",
    "# funcion de la conversion de monedas en base a la opción elegida y se llamara -> opcion_elegida\n",
    "def opcion_elegida():\n",
    "    moneda_local = int(input('¿Cuantos ' + pesos_locales + ' tienes?: '))\n",
    "    moneda_local = float(moneda_local)\n",
    "    dollars = round(moneda_local / dollar_price,2)\n",
    "    print('Tienes $' + str(dollars) + ' dolares')\n",
    "\n",
    "opcion_elegida()\n",
    "\n",
    "# aun no está terminada la función, ya casi :)"
   ]
  },
  {
   "cell_type": "markdown",
   "metadata": {},
   "source": [
    "¿Cuales fueron los conceptos que no coincidieron? \n",
    "1. Concepto 1, los pesos colombianos y pesos mexicanos\n",
    "2. Concepto 2, el precio del dolar es distinto en ambas monedas\n",
    "\n",
    "Estos conceptos tendrán valores distintos en base a la elección del usuario por cambiar dólares. Y para eso se crearon las variables **moneda_local** y **dollar_price**. Estas variables se pueden agregar a la **función opcion_elegida**. Las variables se agregan dentro del parentesis. \n",
    "\n",
    "    > def opcion_elegida(moneda_local,dollar_price):\n",
    "\n",
    "En Python cuando se agregan variables a una función se conocen como **parámetros**\n",
    "\n",
    "### Parámetros\n",
    "Los parámetros son variables definidas en una función y que posteriormente recibiran valores para ejecutar tareas. En el caso del programa de conversor de monedas, los parametros que se definieron en la **función opcion_elegida** son: **moneda_local** y **dollar_price**\n",
    "\n",
    "\n",
    "\n",
    "### Argumentos\n",
    "Los argumentos son los valores que se le asignan a las varibles o parámetros previamente definidas en una función. en este caso, los argumentos o valores que recibiran en base a la elección del usuario son: *pesos colombianos* o *pesos mexicanos* y *4015.1* si eligen pesos colombianos o *21.5* si eligen pesos mexicanos."
   ]
  },
  {
   "cell_type": "code",
   "execution_count": null,
   "metadata": {},
   "outputs": [],
   "source": [
    "# 3. Escribir la estructura básica de una función\n",
    "# el texto pass \n",
    "# funcion de la conversion de monedas en base a la opción elegida y se llamara -> opcion_elegida\n",
    "def opcion_elegida(pesos_locales, dollar_price):\n",
    "    moneda_local = int(input('¿Cuantos ' + pesos_locales + ' tienes?: '))\n",
    "    moneda_local = float(moneda_local)\n",
    "    dollars = round(moneda_local / dollar_price,2)\n",
    "    print('Tienes $' + str(dollars) + ' dolares')\n",
    "\n",
    "opcion_elegida()\n",
    "\n",
    "# Con los parámetros, la función opcion_elegida está terminada."
   ]
  },
  {
   "cell_type": "markdown",
   "metadata": {},
   "source": [
    "### Unión de las funciones\n",
    "\n",
    "Ya están creadas las funciones. Ya están creados los módulos del programa y cada modulo realiza una tarea específica. Ahora es momento de agregarlas en el programa. \n",
    "\n",
    "1. Empezaremos agregando la función opcion_elegida\n",
    "2) Ahora se agregará la función elegir_opcion\n",
    "3. Sustiruir el texto pass por opcion_elegida(). Esto será en las líneas siguientes de las condicionales if y elif. Aqui se pondrá la línea que invoca la funcion opcion_elegida.\n",
    "4) Asignar argumentos a los parámetros, si el usuario elige la **opción 1**, que convierte pesos colombianos a dólares. Dentro de los parentesis de la línea que invoca la funcion opcion_elegida colocar ('pesos colombianos',4015.1). En este caso pesos_locales = 'pesos colombianos' y dollar_price = 4015.1 \n",
    "5. Asignar argumentos a los parámetros si el usuario elige la **opción 2**, que convierte pesos mexicanos a dólares. Dentro de los parentesis de la línea que invoca la funcion opcion_elegida colocar ('pesos mexicanos',21.5). En este caso pesos_locales = 'pesos mexicanos' y dollar_price = 21.5 \n",
    "6) Corre el programa :)"
   ]
  },
  {
   "cell_type": "code",
   "execution_count": null,
   "metadata": {},
   "outputs": [],
   "source": [
    "def opcion_elegida(pesos_locales, dollar_price):\n",
    "    moneda_local = int(input('¿Cuantos ' + pesos_locales + ' tienes?: '))\n",
    "    moneda_local = float(moneda_local)\n",
    "    dollars = round(moneda_local / dollar_price,2)\n",
    "    print('Tienes $' + str(dollars) + ' dolares')\n",
    "\n",
    "def elegir_opcion():\n",
    "    menu = int(input(\"\"\" \n",
    "    Elige la moneda que deseas convertir\n",
    "    Pesos colombianos   1\n",
    "    Pesos Mexicanos     2\n",
    "\n",
    "    Elige una opción: \"\"\"))\n",
    "\n",
    "    if menu == 1:\n",
    "        opcion_elegida('pesos colombianos',4015.1)  # línea que invoca la función opcion_elegida\n",
    "    elif menu == 2:\n",
    "        opcion_elegida('pesos mexicanos',21.5)      # línea que invoca la función opcion_elegida\n",
    "    else:\n",
    "        print('Elige una opción correcta')\n",
    "\n",
    "elegir_opcion()                                     # línea que invoca la función elegir_opcion\n"
   ]
  },
  {
   "cell_type": "markdown",
   "metadata": {},
   "source": [
    "¿porque poner primero la funcion opcion_elegida y no la funcion elegir_opcion, si es la primera que ve el usuario?\n",
    "\n",
    "Bueno, es porque la línea que invoca una función debe estar colocada por debajo de la función. Python busca la línea que invoca a una función y la busca de arriba hacia abajo del programa. En este programa, Python encuentra la línea que invoca a la función elegir_opcion. Además que Python usa la lógica y no puede correr la función opcion_elegida por que la línea que la invoca está dentro de la función elegir_opcion.\n",
    "\n",
    " "
   ]
  },
  {
   "cell_type": "markdown",
   "metadata": {},
   "source": [
    "Agregar una moneda más al programa. Agregar la moneda Argentina."
   ]
  },
  {
   "cell_type": "code",
   "execution_count": null,
   "metadata": {},
   "outputs": [],
   "source": [
    "def opcion_elegida(pesos_locales, dollar_price):\n",
    "    moneda_local = int(input('¿Cuantos ' + pesos_locales + ' tienes?: '))\n",
    "    moneda_local = float(moneda_local)\n",
    "    dollars = round(moneda_local / dollar_price,2)\n",
    "    print('Tienes $' + str(dollars) + ' dolares')\n",
    "\n",
    "def elegir_opcion():\n",
    "    menu = int(input(\"\"\" \n",
    "    Elige la moneda que deseas convertir\n",
    "    Pesos colombianos   1\n",
    "    Pesos Mexicanos     2\n",
    "    Pesos Argentinos     3\n",
    "\n",
    "    Elige una opción: \"\"\"))\n",
    "\n",
    "    if menu == 1:\n",
    "        opcion_elegida('pesos colombianos',4015.1)  # línea que invoca la función opcion_elegida\n",
    "    elif menu == 2:\n",
    "        opcion_elegida('pesos mexicanos',21.5)      # línea que invoca la función opcion_elegida\n",
    "    elif menu == 3:\n",
    "        opcion_elegida('pesos argentinos',102)      # línea que invoca la función opcion_elegida\n",
    "    else:\n",
    "        print('Elige una opción correcta')\n",
    "\n",
    "elegir_opcion()                                     # línea que invoca la función elegir_opcion"
   ]
  },
  {
   "cell_type": "markdown",
   "metadata": {},
   "source": [
    "Usar las funciones en el programa de conversor de monedas permitió:\n",
    "- Crear modulos en el programa por cada tarea especifica.\n",
    "- Reutilizar codigo\n",
    "- Reducir tiempo y memoria al reducir el número de líneas en el programa\n",
    "- Invocar varias veces a una misma función"
   ]
  },
  {
   "cell_type": "code",
   "execution_count": null,
   "metadata": {},
   "outputs": [],
   "source": [
    "# repaso de parámetros y argumentos\n",
    "\n",
    "def funcion(parametro, parametros):\n",
    "    print('El parámetro de una función es una variable que recibe un ' + parametro + ' como por ejemplo: ' + str(parametros))\n",
    "\n",
    "funcion('argumento',123)"
   ]
  },
  {
   "cell_type": "markdown",
   "metadata": {},
   "source": [
    "## Clasificación de Funciones en Python\n",
    "\n",
    "Existen dos tipos de funciones en Python.\n",
    "\n",
    "1. Funciones Built-in\n",
    "2. Funciones **def** o definidas\n",
    "\n",
    "\n",
    "### Funciones Built-in\n",
    "\n",
    "\n",
    "- Funciones Built-in se han visto anteriormente, son aquellos comandos que tienen asignadas tareas específicas como el comando **print( )** que su tarea es imprimir todos los mensajes que están dentro del parentesis.incorporadas que se presentan como parte de Python -\n",
    "print(), input(), type(), float(), int() ...\n",
    "\n",
    "\n",
    "### Funciones **def** o definidas\n",
    "\n",
    "- Funciones **def**:que nosotros definimos y luego utilizamos\n",
    "\n",
    "\n",
    "Tratamos a los nombres de las funciones incorporadas como\n",
    "\"nuevas\" palabras reservadas (es decir, las evitamos como\n",
    "nombres de variables)"
   ]
  },
  {
   "cell_type": "markdown",
   "metadata": {},
   "source": [
    "## Comando **return**\n",
    "\n",
    "En general, una función **toma** argumentos, **ejecuta** operaciones y **retorna** un resultado. El resultado que una función retorna es generalmente conocido como *valor de retorno de una función*. \n",
    "\n",
    "El comando **return** es un comando que se puede usar dentro de una función y se usa para devolver o retornar el resultado de la función. \n",
    "\n",
    "Sintaxis: palabra clave **return** seguida del valor de retorno.\n",
    "\n",
    "    > return value\n",
    "\n"
   ]
  },
  {
   "cell_type": "code",
   "execution_count": 1,
   "metadata": {},
   "outputs": [
    {
     "data": {
      "text/plain": [
       "4"
      ]
     },
     "execution_count": 1,
     "metadata": {},
     "output_type": "execute_result"
    }
   ],
   "source": [
    "# ejemplo de uso del comando return\n",
    "def suma(a,b):\n",
    "    resultado = a + b\n",
    "    return resultado\n",
    "\n",
    "suma(2,2)"
   ]
  },
  {
   "cell_type": "code",
   "execution_count": 2,
   "metadata": {},
   "outputs": [
    {
     "data": {
      "text/plain": [
       "(1850, 525000, 4.285714285714286)"
      ]
     },
     "execution_count": 2,
     "metadata": {},
     "output_type": "execute_result"
    }
   ],
   "source": [
    "# retornando varios resultados\n",
    "def operaciones(a,b):\n",
    "    suma = a + b\n",
    "    multiplicacion = a * b\n",
    "    division = a / b\n",
    "    return suma, multiplicacion, division\n",
    "\n",
    "operaciones(1500, 350)"
   ]
  },
  {
   "cell_type": "code",
   "execution_count": 5,
   "metadata": {},
   "outputs": [
    {
     "data": {
      "text/plain": [
       "'Hola Mundo'"
      ]
     },
     "execution_count": 5,
     "metadata": {},
     "output_type": "execute_result"
    }
   ],
   "source": [
    "# ejemplo 3 devolviendo un valor tipo string\n",
    "def string(c):\n",
    "    texto = c\n",
    "    return texto\n",
    "\n",
    "string('Hola Mundo')"
   ]
  },
  {
   "cell_type": "code",
   "execution_count": 9,
   "metadata": {},
   "outputs": [
    {
     "data": {
      "text/plain": [
       "False"
      ]
     },
     "execution_count": 9,
     "metadata": {},
     "output_type": "execute_result"
    }
   ],
   "source": [
    "# ejemplo 4 devolviendo valores booleanos\n",
    "def booleanos():\n",
    "   x = 1500\n",
    "   y = 1850\n",
    "   if x >= y:\n",
    "       return True\n",
    "   else:\n",
    "       return False\n",
    "\n",
    "booleanos()"
   ]
  },
  {
   "cell_type": "markdown",
   "metadata": {},
   "source": [
    "En los ejemplos 1 y 2 se observa que el comando **return** devuelve los valores de las variables asignadas, las cuales contienen las operaciones.\n",
    "\n",
    "En el ejemplo 3,  el comando **return** retorna el string contenido en la variable.\n",
    "\n",
    "En el ejemplo 4, el comando **return** se usa para devolver el valor después de que una condición sea validada.\n",
    "\n",
    "\n",
    "### **Return** vs *print( )*\n",
    "\n",
    "En ocasiones se puede pensar que el commando **return** hace lo mismo que el comando *print* y este pensamiento parte de donde se está trabajando con Python. En los notebooks, se trabaja con una sesión interactiva, la cual siempre muestra los resultados se use **return** o **print()**\n",
    "\n",
    "Sin embargo, cuando se trabaja en una terminal es diferente, ya que la terminal no muestra en pantalla los resultados usando **return**, pero si muestra lo que esté en el comando **print()**\n",
    "\n",
    "En el ejemplo 3, donde se retorna el valor de la variable string, hola mundo, se observa que se imprimio en pantalla 'Hola Mundo', es decir, se imprimió el texto con las comillas simples. Si se usa el comando **print()**, imprime el mensaje sin las comillas."
   ]
  },
  {
   "cell_type": "code",
   "execution_count": null,
   "metadata": {},
   "outputs": [],
   "source": [
    "def hola():\n",
    "    saludo = 'Hola Mundo'\n",
    "    print(saludo)\n",
    "\n",
    "hola()"
   ]
  },
  {
   "cell_type": "markdown",
   "metadata": {},
   "source": [
    "Con el comando **print()** se pueden hacer concatenaciones de valores provenientes de distintas variables y fuentes y crear mensajes estructurados, y con el comando **return**, también. Sin embargo, la diferencia es que **return** retorna el mensaje con las comillas simples.\n",
    "\n",
    "Recordemos que se ve el resultado por que estamos trabajando en una sesión interactiva, pero en la terminal, no mostrará el resultado."
   ]
  },
  {
   "cell_type": "code",
   "execution_count": null,
   "metadata": {},
   "outputs": [],
   "source": [
    "def concatenar():\n",
    "    valor1 = 'Toma chango tu banana'\n",
    "    valor2 = 456\n",
    "    valor3 = True\n",
    "    return valor1 + ' ' + str(valor2) + ' ' + str(valor3)\n",
    "\n",
    "concatenar()"
   ]
  },
  {
   "cell_type": "code",
   "execution_count": null,
   "metadata": {},
   "outputs": [],
   "source": [
    "# para que se imprima en consola, es necesario hacer lo siguiente\n",
    "def concatenar():\n",
    "    valor1 = 'Toma chango tu banana'\n",
    "    valor2 = 456\n",
    "    valor3 = True\n",
    "    return valor1 ,valor2,valor3\n",
    "\n",
    "print(concatenar())"
   ]
  },
  {
   "cell_type": "markdown",
   "metadata": {},
   "source": [
    "Entonces,el comando **return** es una herramienta en las funciones que permite retornar valores para que sean usados en otras tareas. Esto se verá en temas mas avanzado. Mientras que, usar **print()** solo imprimirá los valores."
   ]
  },
  {
   "cell_type": "markdown",
   "metadata": {},
   "source": [
    "## Entry Point\n",
    "\n",
    "En programación, un entry point o punto de entrada, es donde las primeras instrucciones de un programa serán ejecutadas y donde el programa tiene acceso a los argumentos de las líneas de comandos.\n",
    "\n",
    "Es decir, todo programa requiere un entry point para ejecutarse.\n",
    "\n",
    "El entry point usado en funciones es el siguiente:\n",
    "\n",
    "    > if __name__=='__main__':"
   ]
  },
  {
   "cell_type": "code",
   "execution_count": null,
   "metadata": {},
   "outputs": [],
   "source": [
    "# entry point\n",
    "def saludo():\n",
    "    print('Hola Mundo')\n",
    "\n",
    "if __name__=='__main__':    # entry point\n",
    "    saludo()                # línea que invoca a la función saludo"
   ]
  },
  {
   "cell_type": "markdown",
   "metadata": {},
   "source": [
    "Como se puede ver, en la linea siguiente del entry point, se requiere una indentación y colocar la línea que invoca la función \n",
    "\n",
    "Veamos el ejemplo del conversor de monedas y agregaremos el entry point en el lugar correspondiente."
   ]
  },
  {
   "cell_type": "code",
   "execution_count": null,
   "metadata": {},
   "outputs": [],
   "source": [
    "# agregar entry point\n",
    "def opcion_elegida(pesos_locales,dollar_price):\n",
    "    moneda_local = int(input('¿Cuantos ' + pesos_locales  + ' tienes?: '))\n",
    "    moneda_local = float(moneda_local)\n",
    "    dollars = round(moneda_local/dollar_price,2)\n",
    "    print('Tienes $' + str(dollars) + ' dolares')\n",
    "    \n",
    "\n",
    "def elegir_opcion():\n",
    "    menu = int(input(\"\"\" \n",
    "    Elige la moneda que deseas convertir\n",
    "    Pesos colombianos   1\n",
    "    Pesos Mexicanos     2\n",
    "    Pesos Argentinos    3\n",
    "\n",
    "    Elige una opción: \"\"\"))\n",
    "\n",
    "    if menu == 1:\n",
    "        opcion_elegida('pesos colombianos',4015.1)\n",
    "    \n",
    "    elif menu == 2:\n",
    "        opcion_elegida('pesos mexicanos', 21.5)\n",
    "\n",
    "    elif menu == 3:\n",
    "        opcion_elegida('pesos argentinos', 102)\n",
    "    \n",
    "    else:    \n",
    "        print('Elige una opción correcta')\n",
    "\n",
    "\n",
    "if __name__=='__main__':        # entry point\n",
    "    elegir_opcion()"
   ]
  },
  {
   "cell_type": "markdown",
   "metadata": {},
   "source": [
    "En programas sencillos, tal vez no se note la importancia de usar el entry point, sin embargo, en proyectos complejos donde se usen múltiples módulos son muy útiles para asegurar el buen desempeño de los programas que se ejecutan.\n",
    "\n",
    "Es por eso que hay que identificarlos y comenzar a usarlos."
   ]
  },
  {
   "cell_type": "markdown",
   "metadata": {},
   "source": [
    "## Recomendaciones y mejores prácticas\n",
    "\n",
    "Se recomienda aprender y usar las formas correctas de escribir el código en Python, lo cual creará el hábito de ser un programador con código legible y optimizado.\n",
    "\n",
    "Una buena practica es conocer y usar siempre la estructura básica de una función:"
   ]
  },
  {
   "cell_type": "code",
   "execution_count": null,
   "metadata": {},
   "outputs": [],
   "source": [
    "# estructura básica de una función\n",
    "def funcion():                  # encabezado de la función\n",
    "    pass                        # lógica de la función -> tarea espeficia a ejecutar\n",
    "\n",
    "if __name__=='__main__':        # entry point\n",
    "    funcion()                   # línea que invoca a la función"
   ]
  },
  {
   "cell_type": "markdown",
   "metadata": {},
   "source": [
    "El lema \"*la práctica constante hace al maestro*\", se aplica en cualquier lenguaje de programación y Python no es la excepción. Practicar de forma constante el uso de las funciones a través de tareas de la vida diaria ayuda a facilitar el proceso de entendimiento y escritura del código."
   ]
  },
  {
   "cell_type": "markdown",
   "metadata": {},
   "source": [
    "## Beneficio de usar funciones en los programas\n",
    "\n",
    "1. Reutilizar código\n",
    "2) Evitar colapsos en el sistema\n",
    "3. Que sea mantenible el código. Si se requiere agregar otro modulo de código, permite acoplarse perfectamente y mejora el programa.\n",
    "4) Que sea fácil de leer y entender\n",
    "5. Permite resolver problemas de forma rápida y efectiva"
   ]
  },
  {
   "cell_type": "markdown",
   "metadata": {},
   "source": [
    "## Resumen\n",
    "\n",
    "- Una función es un grupo de código que realiza una tarea específica.\n",
    "- Las funciones son como los legos. Son piezas ó módulos que conforman un bello juguete.\n",
    "- Hay dos tipos de funciones: **Built-in**, que son funciones predeterminadas en Python y que ya tienen definidas palabras claves. Esas palabras no deben usarse para crear variables. **Funciones definidas** que son las funciones que el programador creará y que ejecutará su lógica cuando se invoque.\n",
    "- La sintaxis correcta es usar la palabra clave **def** seguida del nombre de la función y terminar con \"**():**\". Las sentencias que forman el cuerpo de la función  empiezan en la siguiente línea y debe estar indentada. Colocar el entry point. Llamar o invocar a la función en la siguiente línea del entry point. Se invoca la función con el nombre mismo de la función.\n",
    "- Las funciones ayudan para mejorar el control y mantemiento de un programa, reutilizar código, evitar colapsos en los sistemas, facilitar la lectura de un código y permite resolver problemas de forma rápida y efectiva\n",
    "- Los parámetros son variables definidas en una función.\n",
    "- Los parámetros guardan valores. A los valores se les llama *argumentos*.\n",
    "- Los argumentos son los valores asignados a los parámetros de una función para que realicen tareas.\n",
    "- El comando **return** es usado dentro de la función para retornar los valores de la función.\n",
    "- El entry point es la primera instrucción que un programa usa para ejecutarse. Toda función debe tener un entry point para asegurar un buen rendimiento en proyectos complejos."
   ]
  },
  {
   "cell_type": "markdown",
   "metadata": {},
   "source": [
    "## Referencias\n",
    "\n",
    "[Python Basic Course. Platzi](https://platzi.com/clases/1937-python/29635-aprendiendo-a-no-repetir-codigo-con-funciones/)\n",
    "\n",
    "[Python.org/Defining Functions](https://docs.python.org/3/tutorial/controlflow.html#defining-functions)\n",
    "\n",
    "[Python.org/ Built-in](https://docs.python.org/3/library/functions.html)\n",
    "\n",
    "[Programiz](https://www.programiz.com/python-programming/function)\n",
    "\n",
    "[W3schools](https://www.w3schools.com/python/python_functions.asp)\n",
    "\n",
    "[Dev | entry point](https://dev.to/demianbrecht/entry-points-in-python-34i3)\n"
   ]
  }
 ],
 "metadata": {
  "interpreter": {
   "hash": "aee8b7b246df8f9039afb4144a1f6fd8d2ca17a180786b69acc140d282b71a49"
  },
  "kernelspec": {
   "display_name": "Python 3 (ipykernel)",
   "language": "python",
   "name": "python3"
  },
  "language_info": {
   "codemirror_mode": {
    "name": "ipython",
    "version": 3
   },
   "file_extension": ".py",
   "mimetype": "text/x-python",
   "name": "python",
   "nbconvert_exporter": "python",
   "pygments_lexer": "ipython3",
   "version": "3.9.7"
  }
 },
 "nbformat": 4,
 "nbformat_minor": 2
}
