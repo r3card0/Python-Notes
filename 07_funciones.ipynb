{
 "cells": [
  {
   "cell_type": "markdown",
   "metadata": {},
   "source": [
    "# Funciones"
   ]
  },
  {
   "cell_type": "markdown",
   "metadata": {},
   "source": [
    "## Funciones en Python\n",
    "\n",
    "Existen dos tipos de funciones en Python.\n",
    "- Funciones incorporadas que se presentan como parte de Python -\n",
    "print(), input(), type(), float(), int() ...\n",
    "\n",
    "- Funciones que nosotros definimos y luego utilizamos\n",
    "\n",
    "\n",
    "Tratamos a los nombres de las funciones incorporadas como\n",
    "\"nuevas\" palabras reservadas (es decir, las evitamos como\n",
    "nombres de variables)"
   ]
  },
  {
   "cell_type": "markdown",
   "metadata": {},
   "source": [
    "## Definición de Función\n",
    "\n",
    "1. En Python una función es un código reutilizable que toma argumentos(s) como input, ejecuta cálculos y luego devuelve\n",
    "uno o más resultado(s)\n",
    "2. Para definir una función utilizamos la palabra reservada **def**\n",
    "3. Llamamos/Invocamos a la función utilizando una expresión que contenga el nombre de la función, paréntesis y argumentos"
   ]
  },
  {
   "cell_type": "markdown",
   "metadata": {},
   "source": [
    "## Usos\n",
    "Una vez que hemos definido una función, podemos llamarla (o invocarla) todas las veces que queramos.\n",
    "Este es el patrón almacenar y reutilizar"
   ]
  },
  {
   "cell_type": "code",
   "execution_count": 1,
   "metadata": {},
   "outputs": [
    {
     "name": "stdout",
     "output_type": "stream",
     "text": [
      "La tectónica de Placas\n"
     ]
    }
   ],
   "source": [
    "def tectonic():     # nombre de la función\n",
    "    print('La tectónica de Placas') # ejecutar la lógica\n",
    "\n",
    "\n",
    "tectonic()          # invocación de la función."
   ]
  },
  {
   "cell_type": "markdown",
   "metadata": {},
   "source": [
    "## Construyendo Funciones\n",
    "\n",
    "Creamos una nueva función usando la palabra clave **def** seguida de\n",
    "parámetros opcionales entre paréntesis\n",
    "• Indentamos el cuerpo de la función\n",
    "• Esto define la función pero no ejecuta el cuerpo de la función"
   ]
  },
  {
   "cell_type": "markdown",
   "metadata": {},
   "source": [
    "### Parámetros\n",
    "Un parámetro es una variable que utilizamos en la función definition (definición). Es una \"handle\" (palanca) que permite al código de la función acceder a los argumentos para invocar una función en particular."
   ]
  },
  {
   "cell_type": "markdown",
   "metadata": {},
   "source": [
    "### Argumentos\n",
    "Un argumento es un valor que informamos a la función como su\n",
    "entrada (input) cuando llamamos a la función \n",
    "Utilizamos argumentos para poder instruir a la función que realice diferentes tareas cuando la llamamos en diferentes oportunidades. Colocamos los argumentos entre paréntesis lego del nombre de la función"
   ]
  },
  {
   "cell_type": "markdown",
   "metadata": {},
   "source": [
    "### Valores de Retorno\n",
    "A menudo, una función tomará sus argumentos, hará algunos\n",
    "cálculos, y retornará un valor que se usará como el valor de la\n",
    "llamada de la función en la expresión de llamada. La palabra clave\n",
    "return (retorno) se utiliza para esto."
   ]
  },
  {
   "cell_type": "code",
   "execution_count": 2,
   "metadata": {},
   "outputs": [
    {
     "name": "stdout",
     "output_type": "stream",
     "text": [
      "La Deriva Continental\n"
     ]
    }
   ],
   "source": [
    "def run():                  # se empieza con la palabra clave -def-, seguido del nombre de la función\n",
    "    print('La Deriva Continental')  # ejecuta la lógica\n",
    "\n",
    "\n",
    "if __name__=='__main__':    # entry point\n",
    "    run()                   # invoca a la función"
   ]
  },
  {
   "cell_type": "markdown",
   "metadata": {},
   "source": [
    "## Resumen\n",
    "\n",
    "1. Hay dos tipos de funciones: **Built-in**, que son funciones predeterminadas en Python y que ya tienen definidas palabras claves. Esas palabras no deben usarse para crear variables. **Funciones definidas** que son las funciones que el programados creará y que ejecutará su lógica cuando se invoque.\n",
    "2. La sintaxis correcta es usar la palabra clave **def** seguida del nombre de la función y terminar con \"**:**\". Dar enter y usar una indentación de 4 espacios para crear la lógica que se desea. Invocar la función usando el entry point.\n",
    "3. Las funciones pueden usar argumentos que son variables que instruyen a la función que realice diferentes tareas"
   ]
  },
  {
   "cell_type": "markdown",
   "metadata": {},
   "source": [
    "## Referencias\n",
    "\n",
    "[Python Basic course. Platzi](https://platzi.com/clases/1937-python/29635-aprendiendo-a-no-repetir-codigo-con-funciones/)\n",
    "\n",
    "[Python.org/Defining Functions](https://docs.python.org/3/tutorial/controlflow.html#defining-functions)\n",
    "\n",
    "[Python.org/ Built-in](https://docs.python.org/3/library/functions.html)\n"
   ]
  }
 ],
 "metadata": {
  "interpreter": {
   "hash": "aee8b7b246df8f9039afb4144a1f6fd8d2ca17a180786b69acc140d282b71a49"
  },
  "kernelspec": {
   "display_name": "Python 3.10.0 64-bit",
   "language": "python",
   "name": "python3"
  },
  "language_info": {
   "codemirror_mode": {
    "name": "ipython",
    "version": 3
   },
   "file_extension": ".py",
   "mimetype": "text/x-python",
   "name": "python",
   "nbconvert_exporter": "python",
   "pygments_lexer": "ipython3",
   "version": "3.10.0"
  },
  "orig_nbformat": 4
 },
 "nbformat": 4,
 "nbformat_minor": 2
}
