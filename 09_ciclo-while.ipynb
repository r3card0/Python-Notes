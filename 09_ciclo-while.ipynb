{
 "cells": [
  {
   "cell_type": "markdown",
   "metadata": {},
   "source": [
    "# Loops\n",
    "\n",
    "Un loop es una sección de código que se repite hasta que una condición se cumple.\n",
    "\n",
    "![09_image01](/Images/09_image01.jpeg)\n",
    "\n",
    "\n",
    "En Python los loops son herramientas que ayudan a realizar tareas repetitivas. Por ejemplo, si le pedimos a la computadora que imprima en pantalla los numeros de 1 en 1 hasta llegar al 100. Esto es una tarea repetitiva porque hay que sumar de 1 en 1 cien veces (100). Significaría escribir 100 líneas de código y que cada una cuente de 1 en 1 hasta llegar al 100. Los loops, pueden hacer esta tarea repetitiva en una sola línea de código. \n",
    "\n",
    "El término loop proviene del idioma inglés y es así como se maneja en ese idioma. En el idioma español, los loops son conocidos como bucles y ciclos.\n",
    "\n",
    "Hay dos ciclos en Python: while y for"
   ]
  },
  {
   "cell_type": "markdown",
   "metadata": {},
   "source": [
    "# Ciclo While"
   ]
  },
  {
   "cell_type": "markdown",
   "metadata": {},
   "source": [
    "## Estructura de la sintaxis de while\n",
    "\n",
    "Los papas comunmente le dicen a sus hijos, *\"si quieres ver la tele o jugar videojuegos, termina la tarea o tus deberes\"*. Otra forma de decirlo sería: mientras hagas tu tarea o deberes, jugarás videojuegos o veras la tele.\n",
    "\n",
    "Con palabras sencillas, el ciclo while se refiera a que:\n",
    "\n",
    "*mientras esta condición se cumpla, ejecuta la siguiente operacion*\n",
    "\n",
    "En el ejemplo antes mencionado donde le pedimos a la computadora que imprima en pantalla del 1 al 100, le diriamos:\n",
    "\n",
    "*mientras el numero sea menor a 100, muéstrame los numeros de 1 en 1*\n",
    "\n"
   ]
  },
  {
   "cell_type": "code",
   "execution_count": null,
   "metadata": {},
   "outputs": [],
   "source": [
    "# imprimir en pantalla de 1 en 1 hasta llegar a 100\n",
    "counter = 0\n",
    "while counter < 100:    # mientras que counter sea menor a 10\n",
    "    counter += 1        # counter +1 forma de simplificada de la expresión -> counter = counter + 1\n",
    "    print(counter)      # imprime el numero asignado en counter"
   ]
  },
  {
   "cell_type": "code",
   "execution_count": null,
   "metadata": {},
   "outputs": [],
   "source": [
    "# escrito el mismo programa anterior en una funcion\n",
    "def ciclo():\n",
    "    counter = 0\n",
    "    while counter < 100:\n",
    "        counter += 1\n",
    "        print(counter)\n",
    "\n",
    "if __name__=='__main__':\n",
    "    ciclo()"
   ]
  },
  {
   "cell_type": "markdown",
   "metadata": {},
   "source": [
    "1. Se usa la palabra clave **while** para indicar que se creará un ciclo. Escribir *while* seguido de la condición deseada y terminar con \":\"\n",
    "\n",
    "    > *while counter < 10:*\n",
    "\n",
    "2. En la siguiente línea con indentación (4 espacios) indicar lo que se va a realizar cuando la línea anterior ya no se cumpla. \n",
    "\n",
    "    > *counter =+ 1*\n",
    "\n",
    "Y que se ejecute la operacion hasta que cumpla con la condición\n",
    "3. Entonces, imprimir el resultado\n",
    "\n",
    "ó\n",
    "\n",
    "1. Escribir **while** más la condición deseada\n",
    "2. Imprimir resultado hasta que \n",
    "3. La operación que se ejecute cumpla con la condición\n"
   ]
  },
  {
   "cell_type": "markdown",
   "metadata": {},
   "source": [
    "1. Mientras (while) que esta condicion se cumpla :\n",
    "2. Indentación de 4 espacios, ejecuta la operación"
   ]
  },
  {
   "cell_type": "markdown",
   "metadata": {},
   "source": [
    "Ejercicio # 1. Hacer un contador que sume de 1 en 1 pare al llegar al 100\n",
    "\n",
    "Creación del contador. Usar la siguiente sintaxis: **variable = variable + 1**. Esta sintaxis hace que la variable se sume así misma con el número 1 y de esta forma se va incrementando el valor consecutivamente.\n",
    "\n",
    "Otra manera más resumida es **variable +=1**. Está sintaxis representa lo mismo que **variable = variable + 1**.\n",
    "\n",
    "Ver el siguiente ejemplo:"
   ]
  },
  {
   "cell_type": "markdown",
   "metadata": {},
   "source": [
    "Ejercicio # 2. Imprimir las potencias del número 2 hasta llegar al 1000."
   ]
  },
  {
   "cell_type": "markdown",
   "metadata": {},
   "source": [
    "![09_image02](/Images/09_image02.jpeg)"
   ]
  },
  {
   "cell_type": "code",
   "execution_count": null,
   "metadata": {},
   "outputs": [],
   "source": [
    "def potencias_de_2():\n",
    "    i = 0\n",
    "    potencia_2 = 2 ** i\n",
    "    while potencia_2 < 1000:\n",
    "        #print(potencia_2)\n",
    "        print('2 elevado a ' + str(i) + ' es igual a ' + str(potencia_2))\n",
    "        i += 1   \n",
    "        potencia_2 = 2 ** i           \n",
    "        \n",
    "\n",
    "if __name__=='__main__':\n",
    "    potencias_de_2()"
   ]
  },
  {
   "cell_type": "markdown",
   "metadata": {},
   "source": [
    "En el siguiente programa veamos un juego donde el comando *while* correra el programa hasta que el usuario adivine la contraseña."
   ]
  },
  {
   "cell_type": "code",
   "execution_count": null,
   "metadata": {},
   "outputs": [],
   "source": [
    "def ask_for_password():\n",
    "    entered = input('Please, enter the password: ')\n",
    "    while entered != 'please':\n",
    "        print('Please enter the correct password')\n",
    "        entered = input('Please, enter the password: ') \n",
    "        if entered == 'please':\n",
    "            print('Finally!')                \n",
    "\n",
    "\n",
    "if __name__=='__main__':\n",
    "    ask_for_password()"
   ]
  },
  {
   "cell_type": "markdown",
   "metadata": {},
   "source": [
    "### Comandos -break- y -continue-\n",
    "\n",
    "#### break\n",
    "\n",
    "Con el comando **break** puede romper un ciclo incluso si la condición aún no se cumple.\n",
    "\n",
    "El siguiente ejemplo es un programa  que realizará ciclos mientras que el valor de la variable *i* sea menor al valor 10. Sin embargo, se le pedirá al prograna que termine los ciclos cuando encuentre el valor 3. El comando **break** permite indicarle al programa que ejecute esa orden."
   ]
  },
  {
   "cell_type": "code",
   "execution_count": null,
   "metadata": {},
   "outputs": [],
   "source": [
    "# break, terminar el ciclo cuando encuentre el valor de 3\n",
    "def contador():\n",
    "    i = 1\n",
    "    while i < 10:\n",
    "        print(i)\n",
    "        if i == 3:\n",
    "            break\n",
    "        i += 1\n",
    "\n",
    "\n",
    "if __name__=='__main__':\n",
    "    contador()"
   ]
  },
  {
   "cell_type": "markdown",
   "metadata": {},
   "source": [
    "Un uso del comando break en la vida real, es cuando se usan programas para buscar un valor dentro de un conjunto de datos de miles o millones de valores.\n",
    "\n",
    "\n",
    "#### Continue\n",
    "\n",
    "El comando **continue** se usa para *continuar* un ciclo, aun cuando se haya cumplido la condición. Podría decirse que el lo contrario del comando *break*, mientras que *break* termina un ciclo si encuentra una condición antes de la condición principal, el comando continue, dice que se siga corriendo el ciclo aún cuando al condición se haya cumplido.\n",
    "\n",
    "Poniendo de ejemplo el ejercicio anterior, donde la condición es que se corra el ciclo mientras el valor de la variable *i* sea menor a 10, si encuentra el numero 3, entonces continua corriendo el ciclo.\n",
    "\n",
    "Observa que al imprimir los resultados, el valor 3 no es devuelto."
   ]
  },
  {
   "cell_type": "code",
   "execution_count": null,
   "metadata": {},
   "outputs": [],
   "source": [
    "def contador():\n",
    "    i = 0\n",
    "    while i < 10:\n",
    "        i += 1\n",
    "        if i == 3:\n",
    "            continue\n",
    "        print(i)\n",
    "\n",
    "if __name__=='__main__':\n",
    "    contador()"
   ]
  },
  {
   "cell_type": "markdown",
   "metadata": {},
   "source": [
    "## Resumen\n",
    "\n",
    "1. Un ciclo es una tarea repetitiva\n",
    "2. El comando **while** se usa para ejecutar ciclos en Python\n",
    "3. El comando **break** termina un ciclo si encuentra una condición.\n",
    "4. El comando **continue**, continua un ciclo aun si encuentra una condición"
   ]
  },
  {
   "cell_type": "markdown",
   "metadata": {},
   "source": [
    "## Referencias\n",
    "\n",
    "[Python Basic course. Platzi](https://platzi.com/clases/1937-python/29641-el-ciclo-while/)\n",
    "\n",
    "[W3schools](https://www.w3schools.com/python/python_while_loops.asp)\n",
    "\n",
    "[pythonfromtheverybeginning](https://coherentpdf.com/python/split07.html)"
   ]
  }
 ],
 "metadata": {
  "interpreter": {
   "hash": "aee8b7b246df8f9039afb4144a1f6fd8d2ca17a180786b69acc140d282b71a49"
  },
  "kernelspec": {
   "display_name": "Python 3.10.0 64-bit",
   "language": "python",
   "name": "python3"
  },
  "language_info": {
   "codemirror_mode": {
    "name": "ipython",
    "version": 3
   },
   "file_extension": ".py",
   "mimetype": "text/x-python",
   "name": "python",
   "nbconvert_exporter": "python",
   "pygments_lexer": "ipython3",
   "version": "3.9.7"
  },
  "orig_nbformat": 4
 },
 "nbformat": 4,
 "nbformat_minor": 2
}
