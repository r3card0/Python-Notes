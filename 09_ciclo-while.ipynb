{
 "cells": [
  {
   "cell_type": "markdown",
   "metadata": {},
   "source": [
    "# Loops\n",
    "\n",
    "Un loop es una sección de código que se repite hasta que una condición se cumple.\n",
    "\n",
    "\n",
    "En Python los loops son herramientas que ayudan a realizar tareas repetitivas. Por ejemplo, si le pedimos a la computadora que imprima en pantalla los numeros de 1 en 1 hasta llegar al 100. Esto es una tarea repetitiva porque hay que sumar de 1 en 1 cien veces (100). Significaría escribir 100 líneas de código y que cada una cuente de 1 en 1 hasta llegar al 100. Los loops, pueden hacer esta tarea repetitiva en una sola línea de código. \n",
    "\n",
    "El término loop proviene del idioma inglés y es así como se maneja en ese idioma. En el idioma español, los loops son conocidos como bucles y ciclos.\n",
    "\n",
    "Hay dos ciclos en Python: while y for"
   ]
  },
  {
   "cell_type": "markdown",
   "metadata": {},
   "source": [
    "# Ciclo While"
   ]
  },
  {
   "cell_type": "markdown",
   "metadata": {},
   "source": [
    "## Estructura de la sintaxis de while\n",
    "\n",
    "Los papas comunmente le dicen a sus hijos, *\"si quieres ver la tele o jugar videojuegos, termina la tarea o tus deberes\"*. Otra forma de decirlo sería: mientras hagas tu tarea o deberes, jugarás videojuegos o veras la tele.\n",
    "\n",
    "Con palabras sencillas, el ciclo while se refiera a que:\n",
    "\n",
    "*mientras esta condición se cumpla, ejecuta la siguiente operacion*\n",
    "\n",
    "En el ejemplo antes mencionado donde le pedimos a la computadora que imprima en pantalla del 1 al 100, le diriamos:\n",
    "\n",
    "*mientras el numero sea menor a 100, muéstrame los numeros de 1 en 1*\n",
    "\n",
    "Las computadoras fueron creadas para entender condicionales en la forma matemática, entonces usaremos operadores de comparación. \n",
    "\n"
   ]
  },
  {
   "cell_type": "code",
   "execution_count": null,
   "metadata": {},
   "outputs": [],
   "source": [
    "# imprimir en pantalla de 1 en 1 hasta llegar a 100\n",
    "counter = 0\n",
    "while counter < 100:    # mientras que counter sea menor a 10\n",
    "    counter += 1        # counter +1 forma de simplificada de la expresión -> counter = counter + 1\n",
    "    print(counter)      # imprime el numero asignado en counter"
   ]
  },
  {
   "cell_type": "code",
   "execution_count": null,
   "metadata": {},
   "outputs": [],
   "source": [
    "# con una funcion\n",
    "def ciclo():\n",
    "    counter = 0\n",
    "    while counter < 100:\n",
    "        counter += 1\n",
    "        print(counter)\n",
    "\n",
    "if __name__=='__main__':\n",
    "    ciclo()"
   ]
  },
  {
   "cell_type": "markdown",
   "metadata": {},
   "source": [
    "1. Se usa la palabra clave **while** para indicar que se creará un ciclo. Escribir *while* seguido de la condición deseada y terminar con \":\"\n",
    "\n",
    "    > *while counter < 10:*\n",
    "\n",
    "2. En la siguiente línea con indentación (4 espacios) indicar lo que se va a realizar cuando la línea anterior ya no se cumpla. \n",
    "\n",
    "    > *counter =+ 1*\n",
    "\n",
    "Y que se ejecute la operacion hasta que cumpla con la condición\n",
    "3. Entonces, imprimir el resultado\n",
    "\n",
    "ó\n",
    "\n",
    "1. Escribir **while** más la condición deseada\n",
    "2. Imprimir resultado hasta que \n",
    "3. La operación que se ejecute cumpla con la condición\n"
   ]
  },
  {
   "cell_type": "markdown",
   "metadata": {},
   "source": [
    "1. Mientras (while) que esta condicion se cumpla :\n",
    "2. Indentación de 4 espacios, ejecuta la operación"
   ]
  },
  {
   "cell_type": "markdown",
   "metadata": {},
   "source": [
    "Ejercicio # 1. Hacer un contador que sume de 1 en 1 pare al llegar al 100\n",
    "\n",
    "Creación del contador. Usar la siguiente sintaxis: **variable = variable + 1**. Esta sintaxis hace que la variable se sume así misma con el número 1 y de esta forma se va incrementando el valor consecutivamente.\n",
    "\n",
    "Otra manera más resumida es **variable +=1**. Está sintaxis representa lo mismo que **variable = variable + 1**.\n",
    "\n",
    "Ver el siguiente ejemplo:"
   ]
  },
  {
   "cell_type": "markdown",
   "metadata": {},
   "source": [
    "Ejercicio # 2. Imprimir las potencias del número 2 hasta llegar al 1000."
   ]
  },
  {
   "cell_type": "markdown",
   "metadata": {},
   "source": [
    "imagen de potencia"
   ]
  },
  {
   "cell_type": "code",
   "execution_count": 19,
   "metadata": {},
   "outputs": [
    {
     "name": "stdout",
     "output_type": "stream",
     "text": [
      "2 elevado a 0 es igual a 1\n",
      "2 elevado a 1 es igual a 2\n",
      "2 elevado a 2 es igual a 4\n",
      "2 elevado a 3 es igual a 8\n",
      "2 elevado a 4 es igual a 16\n",
      "2 elevado a 5 es igual a 32\n",
      "2 elevado a 6 es igual a 64\n",
      "2 elevado a 7 es igual a 128\n",
      "2 elevado a 8 es igual a 256\n",
      "2 elevado a 9 es igual a 512\n"
     ]
    }
   ],
   "source": [
    "def potencias_de_2():\n",
    "    i = 0\n",
    "    potencia_2 = 2 ** i\n",
    "    while potencia_2 < 1000:\n",
    "        #print(potencia_2)\n",
    "        print('2 elevado a ' + str(i) + ' es igual a ' + str(potencia_2))\n",
    "        i += 1   \n",
    "        potencia_2 = 2 ** i           \n",
    "        \n",
    "\n",
    "if __name__=='__main__':\n",
    "    potencias_de_2()"
   ]
  },
  {
   "cell_type": "markdown",
   "metadata": {},
   "source": [
    "### break y continue"
   ]
  },
  {
   "cell_type": "markdown",
   "metadata": {},
   "source": [
    "## Resumen"
   ]
  },
  {
   "cell_type": "markdown",
   "metadata": {},
   "source": [
    "## Referencias\n",
    "\n",
    "[Python Basic course. Platzi](https://platzi.com/clases/1937-python/29641-el-ciclo-while/)"
   ]
  }
 ],
 "metadata": {
  "interpreter": {
   "hash": "aee8b7b246df8f9039afb4144a1f6fd8d2ca17a180786b69acc140d282b71a49"
  },
  "kernelspec": {
   "display_name": "Python 3.10.0 64-bit",
   "language": "python",
   "name": "python3"
  },
  "language_info": {
   "codemirror_mode": {
    "name": "ipython",
    "version": 3
   },
   "file_extension": ".py",
   "mimetype": "text/x-python",
   "name": "python",
   "nbconvert_exporter": "python",
   "pygments_lexer": "ipython3",
   "version": "3.9.7"
  },
  "orig_nbformat": 4
 },
 "nbformat": 4,
 "nbformat_minor": 2
}
