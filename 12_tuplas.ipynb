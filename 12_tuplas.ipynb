{
 "cells": [
  {
   "cell_type": "markdown",
   "metadata": {},
   "source": [
    "# Tuplas\n",
    "\n",
    "Las tuplas pueden almacenar más de dos elementos. Pueden almacenar una lista de elementos. Los elementos pueden ser textos, número o booleanos. En Python se conocen como **items**.\n",
    "\n",
    "Las tuplas, como las listas, pertenecen a un conjunto llamado “estructuras de datos”.\n",
    "\n",
    "Las **estructuras de datos** son formas que brindan los lenguajes de programación para guardar varios valores en una variable. Estos valores o items pueden tener diferente formato, como: strings, numéricos, boleados, etc\n",
    "\n",
    "Por lo tanto, las tuplas pueden almacenar varios tipos de datos en una sola variable.\n",
    "\n",
    "Para crear una tupla se hace lo siguiente:\n",
    "\n",
    "Nombre de la variable seguido el signo de “**=**“, abrir paréntesis ( )  y dentro de los paréntesis los tipos de datos que se desean guardar."
   ]
  },
  {
   "cell_type": "markdown",
   "metadata": {},
   "source": [
    "Las **tuplas** son variables que pueden guardar mas de un item. \n",
    "\n",
    "Para guardar mas de un item, se usan los paréntesis ( ) y separando los items con comas ','.\n",
    "\n",
    "En el ejemplo se observa que almacena tipos de datos como numéricos, de texto, decimales y booleanos.\n",
    "\n",
    "Para imprimir los items de la **tupla**, se usa el comando **print()**."
   ]
  },
  {
   "cell_type": "code",
   "execution_count": 3,
   "metadata": {},
   "outputs": [
    {
     "name": "stdout",
     "output_type": "stream",
     "text": [
      "(8, 'playa', 55.5, True, False)\n"
     ]
    }
   ],
   "source": [
    "# imprimir los valores de una tupla\n",
    "def run():\n",
    "    mi_tupla = (8,'playa',55.5, True, False)\n",
    "    print(mi_tupla)\n",
    "\n",
    "\n",
    "if __name__=='__main__':\n",
    "    run()"
   ]
  },
  {
   "cell_type": "markdown",
   "metadata": {},
   "source": [
    "Crear una **tupla** que contenga una lista de la clasificación de rocas volcánicas: Riolitas, Andesitas y Basaltos"
   ]
  },
  {
   "cell_type": "code",
   "execution_count": null,
   "metadata": {},
   "outputs": [],
   "source": [
    "# imprimir los valores de una tupla\n",
    "def run():\n",
    "    rocas_volcanicas = ('Riolitas','Andesitas','Basaltos')\n",
    "    print(rocas_volcanicas)\n",
    "\n",
    "\n",
    "if __name__=='__main__':\n",
    "    run()"
   ]
  },
  {
   "cell_type": "markdown",
   "metadata": {},
   "source": [
    "## Manejo de índices\n",
    "\n",
    "Los índices permiten manejar las cadena de caracteres que estan en una variable o en una tupla.\n",
    "\n",
    "La forma correcta de usar los índices es escribir la variable seguida de paréntesis ( ) y dentro de estos, escribir el número de la posición del caracteres que se requiere extraer."
   ]
  },
  {
   "cell_type": "markdown",
   "metadata": {},
   "source": [
    "Imprimir la lista de la clasificación de rocas volcánicas en sentido inverso, usando el slice [::-1]"
   ]
  },
  {
   "cell_type": "code",
   "execution_count": 5,
   "metadata": {},
   "outputs": [
    {
     "name": "stdout",
     "output_type": "stream",
     "text": [
      "('Basaltos', 'Andesitas', 'Riolitas')\n"
     ]
    }
   ],
   "source": [
    "# imprimir los items de una tupla en sentido inverso\n",
    "def run():\n",
    "    rocas_volcanicas = ('Riolitas','Andesitas','Basaltos')\n",
    "    print(rocas_volcanicas[::-1])\n",
    "\n",
    "\n",
    "if __name__=='__main__':\n",
    "    run()"
   ]
  },
  {
   "cell_type": "markdown",
   "metadata": {},
   "source": [
    "Se puede contar los índices de los elementos de una tupla.\n",
    "\n",
    "Crear una tupla que contenga los elementos químicos que se encuentran en el Sol y contar sus índices"
   ]
  },
  {
   "cell_type": "code",
   "execution_count": 6,
   "metadata": {},
   "outputs": [
    {
     "name": "stdout",
     "output_type": "stream",
     "text": [
      "14\n"
     ]
    }
   ],
   "source": [
    "# contar lo índices de la tupla elements\n",
    "def run():\n",
    "    elements = ('H','He','O','N','Si','Mg','Na','K','Ca','P','S','Fe','Al','Cu')\n",
    "    print(len(elements))\n",
    "\n",
    "\n",
    "if __name__=='__main__':\n",
    "    run()"
   ]
  },
  {
   "cell_type": "markdown",
   "metadata": {},
   "source": [
    "Como en las listas, para acceder a un item de la tupla, se usan los índices. Se escribe el nombre de la tupla 'elements' seguida de los corchetes y en ellos la posición del item que se desea acceder."
   ]
  },
  {
   "cell_type": "code",
   "execution_count": null,
   "metadata": {},
   "outputs": [],
   "source": [
    "# acceder a los items de la tupla elements usando índices\n",
    "def run():\n",
    "    elements = ('H','He','O','N','Si','Mg','Na','K','Ca','P','S','Fe','Al','Cu')\n",
    "    print(elements[0:6])\n",
    "\n",
    "\n",
    "if __name__=='__main__':\n",
    "    run()"
   ]
  },
  {
   "cell_type": "code",
   "execution_count": null,
   "metadata": {},
   "outputs": [],
   "source": [
    "# acceder a item ubicado en el índice 9\n",
    "def run():\n",
    "    elements = ('H','He','O','N','Si','Mg','Na','K','Ca','P','S','Fe','Al','Cu')\n",
    "    print(elements[9])\n",
    "\n",
    "\n",
    "if __name__ == '__main__':\n",
    "    run()"
   ]
  },
  {
   "cell_type": "markdown",
   "metadata": {},
   "source": [
    "## Las Tuplas son Inmutables\n",
    "\n",
    "En Python el término **Inmutable** se refiere a que NO puede cambiar. Es decir,  a una tupla no se le puede agregar o eliminar elementos."
   ]
  },
  {
   "cell_type": "markdown",
   "metadata": {},
   "source": [
    "# Recorrer los elementos/items de una lista con el ciclo **for**"
   ]
  },
  {
   "cell_type": "code",
   "execution_count": null,
   "metadata": {},
   "outputs": [],
   "source": [
    "# recorrer los items de una tupla con el ciclo for\n",
    "def run():\n",
    "    elements = ('H','He','O','N','Si','Mg','Na','K','Ca','P','S','Fe','Al','Cu')\n",
    "    for simbolos in elements:\n",
    "        print(simbolos)\n",
    "\n",
    "\n",
    "if __name__ == '__main__':\n",
    "    run()"
   ]
  },
  {
   "cell_type": "markdown",
   "metadata": {},
   "source": [
    "Otra buena característica de las tuplas es que se pueden concatenar los valores de dos o más tuplas."
   ]
  },
  {
   "cell_type": "code",
   "execution_count": null,
   "metadata": {},
   "outputs": [],
   "source": [
    "# concatenación de tuplas\n",
    "def run():\n",
    "    elements = ('H','He','O','N','Si','Mg','Na','K','Ca','P','S','Fe','Al','Cu')\n",
    "    planetas = ('Mercurio', 'Venus', 'Tierra', 'Marte', 'Júpiter', 'Saturno', 'Urano', 'Neptuno', 'Pluton')\n",
    "    print(elements,planetas)\n",
    "\n",
    "\n",
    "if __name__=='__main__':\n",
    "    run()"
   ]
  },
  {
   "cell_type": "markdown",
   "metadata": {},
   "source": [
    "Las listas como los string, se puede multiplicar, es decir, usando el signo de multiplicación “*”, puede repetirse tantas veces como el multiplicador sea elegido."
   ]
  },
  {
   "cell_type": "code",
   "execution_count": null,
   "metadata": {},
   "outputs": [],
   "source": [
    "# multiplicación de tuplas\n",
    "def run():\n",
    "    elements = ('H','He','O','N','Si','Mg','Na','K','Ca','P','S','Fe','Al','Cu')\n",
    "    \n",
    "    print(elements * 4)\n",
    "\n",
    "\n",
    "if __name__=='__main__':\n",
    "    run()"
   ]
  },
  {
   "cell_type": "markdown",
   "metadata": {},
   "source": [
    "### Diferencia entre listas y tuplas"
   ]
  },
  {
   "cell_type": "markdown",
   "metadata": {},
   "source": [
    "![12_image01](/Images/12_image01.png)"
   ]
  },
  {
   "cell_type": "markdown",
   "metadata": {},
   "source": [
    "## Resumen\n",
    "\n",
    "1. Las tuplas a diferencia de las listas, son variables a las que no se le pueden agregar o quitar elementos. A esto se le conoce como inmutable. Las tuplas son inmutables. Un objeto inmutable es aquel que no puede cambiar.\n",
    "2. Otra diferencia es que las tuplas usan los paréntesis ( ) para almacenar los elementos.\n",
    "3. Las tuplas son estáticas.\n",
    "4. Ventajas: cuando se hacen iteraciones, con el ciclo for, el uso de las tuplas hace que el código se ejecute mas rápido, por que no usa tanta memoria."
   ]
  },
  {
   "cell_type": "markdown",
   "metadata": {},
   "source": [
    "## Referencia\n",
    "\n",
    "[Python Basic course. Platzi](https://platzi.com/clases/1937-python/29647-entendiendo-como-funcionan-las-tuplas/)\n",
    "\n",
    "[Python.org / Tuples](https://docs.python.org/3/tutorial/datastructures.html#tuples-and-sequences)\n",
    "\n",
    "[Python.org / Data Structures](https://docs.python.org/3/tutorial/datastructures.html)"
   ]
  }
 ],
 "metadata": {
  "interpreter": {
   "hash": "4ee08b0487832ff03f0fdf4b6eade6848fbbb6f348c487e64472b02f35273942"
  },
  "kernelspec": {
   "display_name": "Python 3.10.0 64-bit ('py3_10': conda)",
   "language": "python",
   "name": "python3"
  },
  "language_info": {
   "codemirror_mode": {
    "name": "ipython",
    "version": 3
   },
   "file_extension": ".py",
   "mimetype": "text/x-python",
   "name": "python",
   "nbconvert_exporter": "python",
   "pygments_lexer": "ipython3",
   "version": "3.10.0"
  },
  "orig_nbformat": 4
 },
 "nbformat": 4,
 "nbformat_minor": 2
}
