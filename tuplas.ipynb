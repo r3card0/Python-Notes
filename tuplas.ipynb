{
 "cells": [
  {
   "cell_type": "code",
   "execution_count": 1,
   "metadata": {},
   "outputs": [
    {
     "name": "stdout",
     "output_type": "stream",
     "text": [
      "('Mercury', 'Venus', 'Earth', 'Mars', 'Jupiter', 'Saturn', 'Uranus', 'Neptune')\n"
     ]
    }
   ],
   "source": [
    "planets = ('Mercury','Venus','Earth','Mars','Jupiter','Saturn','Uranus','Neptune')\n",
    "print(planets)"
   ]
  },
  {
   "cell_type": "markdown",
   "metadata": {},
   "source": [
    "Imprimir los nombres de los planetas en sentido inverso, usando el slice [::-1]"
   ]
  },
  {
   "cell_type": "code",
   "execution_count": 2,
   "metadata": {},
   "outputs": [
    {
     "name": "stdout",
     "output_type": "stream",
     "text": [
      "('Neptune', 'Uranus', 'Saturn', 'Jupiter', 'Mars', 'Earth', 'Venus', 'Mercury')\n"
     ]
    }
   ],
   "source": [
    "planets = ('Mercury','Venus','Earth','Mars','Jupiter','Saturn','Uranus','Neptune')\n",
    "print(planets[::-1])"
   ]
  },
  {
   "cell_type": "markdown",
   "metadata": {},
   "source": [
    "Crear una tupla que contenga los elementos químicos que se encuentran en el Sol."
   ]
  },
  {
   "cell_type": "code",
   "execution_count": 3,
   "metadata": {},
   "outputs": [
    {
     "name": "stdout",
     "output_type": "stream",
     "text": [
      "('H', 'He', 'O', 'N', 'Si', 'Mg', 'Na', 'K', 'Ca', 'P', 'S', 'Fe', 'Al', 'Cu')\n"
     ]
    }
   ],
   "source": [
    "elements = ('H','He','O','N','Si','Mg','Na','K','Ca','P','S','Fe','Al','Cu')\n",
    "print(elements)"
   ]
  }
 ],
 "metadata": {
  "interpreter": {
   "hash": "4ee08b0487832ff03f0fdf4b6eade6848fbbb6f348c487e64472b02f35273942"
  },
  "kernelspec": {
   "display_name": "Python 3.10.0 64-bit ('py3_10': conda)",
   "language": "python",
   "name": "python3"
  },
  "language_info": {
   "codemirror_mode": {
    "name": "ipython",
    "version": 3
   },
   "file_extension": ".py",
   "mimetype": "text/x-python",
   "name": "python",
   "nbconvert_exporter": "python",
   "pygments_lexer": "ipython3",
   "version": "3.10.0"
  },
  "orig_nbformat": 4
 },
 "nbformat": 4,
 "nbformat_minor": 2
}
