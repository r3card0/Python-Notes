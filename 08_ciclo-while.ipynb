{
 "cells": [
  {
   "cell_type": "markdown",
   "metadata": {},
   "source": [
    "# Ciclo While"
   ]
  },
  {
   "cell_type": "markdown",
   "metadata": {},
   "source": [
    "## Estructura de la sintaxis de while\n",
    "\n",
    "1. Escribir **while** más la condición deseada\n",
    "2. Y que se ejecute la operacion hasta que cumpla con la condición\n",
    "3. Entonces, imprimir el resultado\n",
    "\n",
    "ó\n",
    "\n",
    "1. Escribir **while** más la condición deseada\n",
    "2. Imprimir resultado hasta que \n",
    "3. La operación que se ejecute cumpla con la condición\n"
   ]
  },
  {
   "cell_type": "markdown",
   "metadata": {},
   "source": [
    "1. Mientras (while) que esta condicion se cumpla :\n",
    "2. Indentación de 4 espacios, ejecuta la operación"
   ]
  },
  {
   "cell_type": "markdown",
   "metadata": {},
   "source": [
    "Ejercicio # 1. Hacer un contador que sume de 1 en 1 pare al llegar al 100\n",
    "\n",
    "Creación del contador. Usar la siguiente sintaxis: **variable = variable + 1**. Esta sintaxis hace que la variable se sume así misma con el número 1 y de esta forma se va incrementando el valor en cualquier operación dada.\n",
    "\n",
    "Otra manera más resumida es **variable +=1**. Está sintaxis representa lo mismo que **variable = variable + 1**.\n",
    "\n",
    "Ver el siguiente ejemplo:"
   ]
  },
  {
   "cell_type": "code",
   "execution_count": 3,
   "metadata": {},
   "outputs": [
    {
     "name": "stdout",
     "output_type": "stream",
     "text": [
      "1\n",
      "2\n",
      "3\n",
      "4\n",
      "5\n",
      "6\n",
      "7\n",
      "8\n",
      "9\n",
      "10\n"
     ]
    }
   ],
   "source": [
    "counter = 1\n",
    "print(counter)\n",
    "while counter < 10:\n",
    "    counter += 1 # forma de simplificar la expresión -> counter = counter + 1\n",
    "    print(counter)"
   ]
  },
  {
   "cell_type": "markdown",
   "metadata": {},
   "source": [
    "Ejercicio # 2. Imprimir las potencias del número 2 hasta llegar al 1000."
   ]
  },
  {
   "cell_type": "code",
   "execution_count": 23,
   "metadata": {},
   "outputs": [
    {
     "name": "stdout",
     "output_type": "stream",
     "text": [
      "1\n",
      "2\n",
      "4\n",
      "8\n",
      "16\n",
      "32\n",
      "64\n"
     ]
    }
   ],
   "source": [
    "i = 0\n",
    "potencia_2 = 2**i\n",
    "while potencia_2 < 100:\n",
    "    print(potencia_2)\n",
    "    #print('2 elevado a ' + str(i) + ' es igual a ' + str(potencia_2))\n",
    "    i +=1\n",
    "    potencia_2 = 2**i"
   ]
  }
 ],
 "metadata": {
  "interpreter": {
   "hash": "aee8b7b246df8f9039afb4144a1f6fd8d2ca17a180786b69acc140d282b71a49"
  },
  "kernelspec": {
   "display_name": "Python 3.10.0 64-bit",
   "language": "python",
   "name": "python3"
  },
  "language_info": {
   "codemirror_mode": {
    "name": "ipython",
    "version": 3
   },
   "file_extension": ".py",
   "mimetype": "text/x-python",
   "name": "python",
   "nbconvert_exporter": "python",
   "pygments_lexer": "ipython3",
   "version": "3.10.0"
  },
  "orig_nbformat": 4
 },
 "nbformat": 4,
 "nbformat_minor": 2
}
