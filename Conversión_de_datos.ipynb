{
 "cells": [
  {
   "cell_type": "markdown",
   "source": "# Tipos de datos: Númericos\n\n\n## Enteros, de punto flotante y complejos\n\n### Enteros\n1. Son los números enteros. \n2. No tienen decimales. \n3. En Python son identificados como *integers*.\n4. Los números enteros tienen precisión ilimitada.\n5. Usa la función **int( )**  \n\n### De punto flotantes\n1. Son los números que tienen decimales\n2. En Python son identificados como floating.\n3. Usa la función **float( )**\n\n\n### Números complejos\n1. Son los números complejos tienen una parte real y una imaginaria.\n2. Las partes, real e imaginaria pueden ser representadas con números de punto flotante\n3. En python son identificados como *complex*\n4. Se usa la función **complex( )**\n5. Añadiendo 'j' o 'J', a un literal numérico, se obtiene un número imaginario\n\nEn este documento se hablara de los número enteros y de punto flotante.\n\n\n##Operaciones Artiméticas.\nPython puede realizar operaciones artméticas mixtas:\n\n\n\n\n",
   "metadata": {
    "id": "wR-t0VVLRdXj",
    "cell_id": "00000-8cf0da64-beee-47a0-ba2f-d8dddc3949a7",
    "deepnote_cell_type": "markdown"
   }
  },
  {
   "cell_type": "markdown",
   "source": "Suma de números enteros",
   "metadata": {
    "id": "zF5FY5llNRnp",
    "cell_id": "00001-9a38c1dc-c58a-427f-afe3-705d46b5843d",
    "deepnote_cell_type": "markdown"
   }
  },
  {
   "cell_type": "code",
   "metadata": {
    "colab": {
     "base_uri": "https://localhost:8080/"
    },
    "id": "UAx5PozxNTf_",
    "executionInfo": {
     "status": "ok",
     "timestamp": 1639523393965,
     "user_tz": 360,
     "elapsed": 310,
     "user": {
      "displayName": "Ricardo Saldivar",
      "photoUrl": "https://lh3.googleusercontent.com/a-/AOh14Ghz66khcqYkiYlYy6FmqYru2yXWzlx8Xi-52ZIi=s64",
      "userId": "09339938360877425787"
     }
    },
    "outputId": "918cc3f7-dfd3-4de6-ef62-79105fc929c2",
    "cell_id": "00002-cc1c09b1-c266-47c9-8073-5472041d1da6",
    "deepnote_output_heights": [
     21.1875
    ],
    "deepnote_cell_type": "code"
   },
   "source": "1 + 2",
   "outputs": [
    {
     "output_type": "execute_result",
     "data": {
      "text/plain": "3"
     },
     "metadata": {},
     "execution_count": 34
    }
   ],
   "execution_count": 34
  },
  {
   "cell_type": "markdown",
   "source": "Suma de números decimales",
   "metadata": {
    "id": "QJVcwWnUNtln",
    "cell_id": "00003-930f53d2-d0e8-4506-9d39-142ce1ff1677",
    "deepnote_cell_type": "markdown"
   }
  },
  {
   "cell_type": "code",
   "metadata": {
    "colab": {
     "base_uri": "https://localhost:8080/"
    },
    "id": "OEsfwsMENwD4",
    "executionInfo": {
     "status": "ok",
     "timestamp": 1639523496610,
     "user_tz": 360,
     "elapsed": 193,
     "user": {
      "displayName": "Ricardo Saldivar",
      "photoUrl": "https://lh3.googleusercontent.com/a-/AOh14Ghz66khcqYkiYlYy6FmqYru2yXWzlx8Xi-52ZIi=s64",
      "userId": "09339938360877425787"
     }
    },
    "outputId": "191de48b-f0f8-46ad-ef3d-10d757d1b788",
    "cell_id": "00004-322c95f3-e5d7-4921-b83a-a67cb45f482a",
    "deepnote_output_heights": [
     21.1875
    ],
    "deepnote_cell_type": "code"
   },
   "source": "2.4 + 3.1416",
   "outputs": [
    {
     "output_type": "execute_result",
     "data": {
      "text/plain": "5.5416"
     },
     "metadata": {},
     "execution_count": 35
    }
   ],
   "execution_count": 35
  },
  {
   "cell_type": "markdown",
   "source": "Conversión de número decimal a entero usando la funcion **int( )**",
   "metadata": {
    "id": "DEquMbFoN4Nv",
    "cell_id": "00005-0d8b1399-9c33-4f86-bbce-1ad48d612627",
    "deepnote_cell_type": "markdown"
   }
  },
  {
   "cell_type": "code",
   "metadata": {
    "colab": {
     "base_uri": "https://localhost:8080/"
    },
    "id": "C5aRif2cN_LX",
    "executionInfo": {
     "status": "ok",
     "timestamp": 1639523577790,
     "user_tz": 360,
     "elapsed": 178,
     "user": {
      "displayName": "Ricardo Saldivar",
      "photoUrl": "https://lh3.googleusercontent.com/a-/AOh14Ghz66khcqYkiYlYy6FmqYru2yXWzlx8Xi-52ZIi=s64",
      "userId": "09339938360877425787"
     }
    },
    "outputId": "7fc39f0a-3156-4e2f-dc28-47c791baacd7",
    "cell_id": "00006-99be2c38-35ec-46d3-9a75-151dc2ef5f13",
    "deepnote_output_heights": [
     21.1875
    ],
    "deepnote_cell_type": "code"
   },
   "source": "int(2.4 + 3.1416)",
   "outputs": [
    {
     "output_type": "execute_result",
     "data": {
      "text/plain": "5"
     },
     "metadata": {},
     "execution_count": 36
    }
   ],
   "execution_count": 36
  },
  {
   "cell_type": "markdown",
   "source": "Conversión de un número entero a número decimal usando la función **float( )**",
   "metadata": {
    "id": "tjLZSam1TFB5",
    "cell_id": "00007-5daa2925-1af1-4d39-957e-5efc4587b279",
    "deepnote_cell_type": "markdown"
   }
  },
  {
   "cell_type": "code",
   "metadata": {
    "colab": {
     "base_uri": "https://localhost:8080/"
    },
    "id": "tmqWzhVITBBC",
    "executionInfo": {
     "status": "ok",
     "timestamp": 1639524877336,
     "user_tz": 360,
     "elapsed": 197,
     "user": {
      "displayName": "Ricardo Saldivar",
      "photoUrl": "https://lh3.googleusercontent.com/a-/AOh14Ghz66khcqYkiYlYy6FmqYru2yXWzlx8Xi-52ZIi=s64",
      "userId": "09339938360877425787"
     }
    },
    "outputId": "8d8dbc7d-f834-4821-e84d-d091029c3454",
    "cell_id": "00008-3d1278d7-1ef7-4b52-b84f-53c611ad806b",
    "deepnote_output_heights": [
     21.1875
    ],
    "deepnote_cell_type": "code"
   },
   "source": "float(5)",
   "outputs": [
    {
     "output_type": "execute_result",
     "data": {
      "text/plain": "5.0"
     },
     "metadata": {},
     "execution_count": 57
    }
   ],
   "execution_count": 57
  },
  {
   "cell_type": "markdown",
   "source": "Suma de dos número decimales y redondeo de su resultado a dos decimas usando la función **round( )**",
   "metadata": {
    "id": "SW1A3ZNfOOp3",
    "cell_id": "00009-063192b7-1fe4-43cb-ae64-c158a86ff198",
    "deepnote_cell_type": "markdown"
   }
  },
  {
   "cell_type": "code",
   "metadata": {
    "colab": {
     "base_uri": "https://localhost:8080/"
    },
    "id": "BezHAglxOYf5",
    "executionInfo": {
     "status": "ok",
     "timestamp": 1639523677794,
     "user_tz": 360,
     "elapsed": 177,
     "user": {
      "displayName": "Ricardo Saldivar",
      "photoUrl": "https://lh3.googleusercontent.com/a-/AOh14Ghz66khcqYkiYlYy6FmqYru2yXWzlx8Xi-52ZIi=s64",
      "userId": "09339938360877425787"
     }
    },
    "outputId": "0b48f6ef-8d9e-4f14-e15e-64f425d48a14",
    "cell_id": "00010-0018ebfb-3e1e-4f79-82a9-25b0a9a70939",
    "deepnote_output_heights": [
     21.1875
    ],
    "deepnote_cell_type": "code"
   },
   "source": "round(2.4 + 3.1416, 2)",
   "outputs": [
    {
     "output_type": "execute_result",
     "data": {
      "text/plain": "5.54"
     },
     "metadata": {},
     "execution_count": 37
    }
   ],
   "execution_count": 37
  },
  {
   "cell_type": "markdown",
   "source": "Sustracción",
   "metadata": {
    "id": "UJdS0duqPE7B",
    "cell_id": "00011-11c3b125-24f9-49b1-b25f-aa0199e1f97f",
    "deepnote_cell_type": "markdown"
   }
  },
  {
   "cell_type": "code",
   "metadata": {
    "colab": {
     "base_uri": "https://localhost:8080/"
    },
    "id": "QR2XCKUwPHfH",
    "executionInfo": {
     "status": "ok",
     "timestamp": 1639523849938,
     "user_tz": 360,
     "elapsed": 186,
     "user": {
      "displayName": "Ricardo Saldivar",
      "photoUrl": "https://lh3.googleusercontent.com/a-/AOh14Ghz66khcqYkiYlYy6FmqYru2yXWzlx8Xi-52ZIi=s64",
      "userId": "09339938360877425787"
     }
    },
    "outputId": "161305f9-08b8-4a99-cac2-0fb85a36a6bd",
    "cell_id": "00012-b59ddbf9-c028-4267-ae38-402fb26d467d",
    "deepnote_output_heights": [
     21.1875
    ],
    "deepnote_cell_type": "code"
   },
   "source": "2021 - 1990",
   "outputs": [
    {
     "output_type": "execute_result",
     "data": {
      "text/plain": "31"
     },
     "metadata": {},
     "execution_count": 38
    }
   ],
   "execution_count": 38
  },
  {
   "cell_type": "code",
   "metadata": {
    "colab": {
     "base_uri": "https://localhost:8080/"
    },
    "id": "024ioAVYPKin",
    "executionInfo": {
     "status": "ok",
     "timestamp": 1639523892481,
     "user_tz": 360,
     "elapsed": 207,
     "user": {
      "displayName": "Ricardo Saldivar",
      "photoUrl": "https://lh3.googleusercontent.com/a-/AOh14Ghz66khcqYkiYlYy6FmqYru2yXWzlx8Xi-52ZIi=s64",
      "userId": "09339938360877425787"
     }
    },
    "outputId": "0a768262-df9f-40be-ebe8-dda05e37e4aa",
    "cell_id": "00013-4d10fd24-b222-4e1d-ba84-4c24411b2aab",
    "deepnote_output_heights": [
     21.1875
    ],
    "deepnote_cell_type": "code"
   },
   "source": "13.1434234 - 5.231423",
   "outputs": [
    {
     "output_type": "execute_result",
     "data": {
      "text/plain": "7.912000399999999"
     },
     "metadata": {},
     "execution_count": 41
    }
   ],
   "execution_count": 41
  },
  {
   "cell_type": "code",
   "metadata": {
    "colab": {
     "base_uri": "https://localhost:8080/"
    },
    "id": "XUv6WBZfPU93",
    "executionInfo": {
     "status": "ok",
     "timestamp": 1639523915153,
     "user_tz": 360,
     "elapsed": 174,
     "user": {
      "displayName": "Ricardo Saldivar",
      "photoUrl": "https://lh3.googleusercontent.com/a-/AOh14Ghz66khcqYkiYlYy6FmqYru2yXWzlx8Xi-52ZIi=s64",
      "userId": "09339938360877425787"
     }
    },
    "outputId": "87db3f7a-35bb-4bc1-c092-581f904411e9",
    "cell_id": "00014-9e9fa429-b6cc-431a-a451-065e27292366",
    "deepnote_output_heights": [
     21.1875
    ],
    "deepnote_cell_type": "code"
   },
   "source": "round(13.1434234 - 5.231423,3)",
   "outputs": [
    {
     "output_type": "execute_result",
     "data": {
      "text/plain": "7.912"
     },
     "metadata": {},
     "execution_count": 42
    }
   ],
   "execution_count": 42
  },
  {
   "cell_type": "code",
   "metadata": {
    "colab": {
     "base_uri": "https://localhost:8080/"
    },
    "id": "d3FeYsoHPbin",
    "executionInfo": {
     "status": "ok",
     "timestamp": 1639523933630,
     "user_tz": 360,
     "elapsed": 224,
     "user": {
      "displayName": "Ricardo Saldivar",
      "photoUrl": "https://lh3.googleusercontent.com/a-/AOh14Ghz66khcqYkiYlYy6FmqYru2yXWzlx8Xi-52ZIi=s64",
      "userId": "09339938360877425787"
     }
    },
    "outputId": "c2f4046d-bb6b-4c51-e772-2e5934cc4515",
    "cell_id": "00015-bb76fe39-14d6-4c78-b7d8-f5f36037a9d9",
    "deepnote_output_heights": [
     21.1875
    ],
    "deepnote_cell_type": "code"
   },
   "source": "int(13.1434234 - 5.231423)",
   "outputs": [
    {
     "output_type": "execute_result",
     "data": {
      "text/plain": "7"
     },
     "metadata": {},
     "execution_count": 43
    }
   ],
   "execution_count": 43
  },
  {
   "cell_type": "markdown",
   "source": "Multiplicación",
   "metadata": {
    "id": "rIN_cl7NQOuP",
    "cell_id": "00016-5b261682-2951-4e90-aaf8-c9c3e3f62116",
    "deepnote_cell_type": "markdown"
   }
  },
  {
   "cell_type": "code",
   "metadata": {
    "colab": {
     "base_uri": "https://localhost:8080/"
    },
    "id": "44DwmZ6mQQOB",
    "executionInfo": {
     "status": "ok",
     "timestamp": 1639524156152,
     "user_tz": 360,
     "elapsed": 192,
     "user": {
      "displayName": "Ricardo Saldivar",
      "photoUrl": "https://lh3.googleusercontent.com/a-/AOh14Ghz66khcqYkiYlYy6FmqYru2yXWzlx8Xi-52ZIi=s64",
      "userId": "09339938360877425787"
     }
    },
    "outputId": "58011f00-0853-4ede-8070-e6a179cba1d0",
    "cell_id": "00017-b8381400-0812-4a33-800f-f638b54ba9a2",
    "deepnote_output_heights": [
     21.1875
    ],
    "deepnote_cell_type": "code"
   },
   "source": "8 * 6",
   "outputs": [
    {
     "output_type": "execute_result",
     "data": {
      "text/plain": "48"
     },
     "metadata": {},
     "execution_count": 45
    }
   ],
   "execution_count": 45
  },
  {
   "cell_type": "code",
   "metadata": {
    "colab": {
     "base_uri": "https://localhost:8080/"
    },
    "id": "s0f4cLG3QW3X",
    "executionInfo": {
     "status": "ok",
     "timestamp": 1639524197456,
     "user_tz": 360,
     "elapsed": 175,
     "user": {
      "displayName": "Ricardo Saldivar",
      "photoUrl": "https://lh3.googleusercontent.com/a-/AOh14Ghz66khcqYkiYlYy6FmqYru2yXWzlx8Xi-52ZIi=s64",
      "userId": "09339938360877425787"
     }
    },
    "outputId": "f3d312cc-97b2-4313-cd30-cc755fe5b575",
    "cell_id": "00018-b18f279d-b530-4922-b856-9021c03db1cf",
    "deepnote_output_heights": [
     21.1875
    ],
    "deepnote_cell_type": "code"
   },
   "source": "3.1416345 * 5",
   "outputs": [
    {
     "output_type": "execute_result",
     "data": {
      "text/plain": "15.7081725"
     },
     "metadata": {},
     "execution_count": 47
    }
   ],
   "execution_count": 47
  },
  {
   "cell_type": "code",
   "metadata": {
    "colab": {
     "base_uri": "https://localhost:8080/"
    },
    "id": "VZZuVnOaQe1f",
    "executionInfo": {
     "status": "ok",
     "timestamp": 1639524231870,
     "user_tz": 360,
     "elapsed": 194,
     "user": {
      "displayName": "Ricardo Saldivar",
      "photoUrl": "https://lh3.googleusercontent.com/a-/AOh14Ghz66khcqYkiYlYy6FmqYru2yXWzlx8Xi-52ZIi=s64",
      "userId": "09339938360877425787"
     }
    },
    "outputId": "a3555176-9771-4235-bd5d-423dccadaf26",
    "cell_id": "00019-5c76b4ab-26d4-46b4-b29d-89328df033a8",
    "deepnote_output_heights": [
     21.1875
    ],
    "deepnote_cell_type": "code"
   },
   "source": "round(3.1416345 * 5, 2)",
   "outputs": [
    {
     "output_type": "execute_result",
     "data": {
      "text/plain": "15.71"
     },
     "metadata": {},
     "execution_count": 48
    }
   ],
   "execution_count": 48
  },
  {
   "cell_type": "code",
   "metadata": {
    "colab": {
     "base_uri": "https://localhost:8080/"
    },
    "id": "PChAfqxGQoH_",
    "executionInfo": {
     "status": "ok",
     "timestamp": 1639524253468,
     "user_tz": 360,
     "elapsed": 199,
     "user": {
      "displayName": "Ricardo Saldivar",
      "photoUrl": "https://lh3.googleusercontent.com/a-/AOh14Ghz66khcqYkiYlYy6FmqYru2yXWzlx8Xi-52ZIi=s64",
      "userId": "09339938360877425787"
     }
    },
    "outputId": "21b8541b-9610-479a-b4af-0385e39ac4ce",
    "cell_id": "00020-6b0c724e-9cd4-4768-807a-c4cda67ddeab",
    "deepnote_output_heights": [
     21.1875
    ],
    "deepnote_cell_type": "code"
   },
   "source": "int(3.1416345 * 5)",
   "outputs": [
    {
     "output_type": "execute_result",
     "data": {
      "text/plain": "15"
     },
     "metadata": {},
     "execution_count": 49
    }
   ],
   "execution_count": 49
  },
  {
   "cell_type": "markdown",
   "source": "División",
   "metadata": {
    "id": "3lIbUr-WQtNK",
    "cell_id": "00021-b1167da5-1d72-4314-b3cb-f78042e5f8f9",
    "deepnote_cell_type": "markdown"
   }
  },
  {
   "cell_type": "code",
   "metadata": {
    "colab": {
     "base_uri": "https://localhost:8080/"
    },
    "id": "mTCL8yJVQvD4",
    "executionInfo": {
     "status": "ok",
     "timestamp": 1639524275269,
     "user_tz": 360,
     "elapsed": 205,
     "user": {
      "displayName": "Ricardo Saldivar",
      "photoUrl": "https://lh3.googleusercontent.com/a-/AOh14Ghz66khcqYkiYlYy6FmqYru2yXWzlx8Xi-52ZIi=s64",
      "userId": "09339938360877425787"
     }
    },
    "outputId": "0f07ddf5-4572-4de9-cf14-3a09ca31ca8e",
    "cell_id": "00022-2329b1ae-9605-4e99-a34d-c5ef6f7455d7",
    "deepnote_output_heights": [
     21.1875
    ],
    "deepnote_cell_type": "code"
   },
   "source": "15/3",
   "outputs": [
    {
     "output_type": "execute_result",
     "data": {
      "text/plain": "5.0"
     },
     "metadata": {},
     "execution_count": 50
    }
   ],
   "execution_count": 50
  },
  {
   "cell_type": "code",
   "metadata": {
    "colab": {
     "base_uri": "https://localhost:8080/"
    },
    "id": "QC60EN4pQybP",
    "executionInfo": {
     "status": "ok",
     "timestamp": 1639524286609,
     "user_tz": 360,
     "elapsed": 190,
     "user": {
      "displayName": "Ricardo Saldivar",
      "photoUrl": "https://lh3.googleusercontent.com/a-/AOh14Ghz66khcqYkiYlYy6FmqYru2yXWzlx8Xi-52ZIi=s64",
      "userId": "09339938360877425787"
     }
    },
    "outputId": "2c866b21-6c1a-49b0-b460-9534d8fcc749",
    "cell_id": "00023-fa510ace-a80f-480f-8107-57178f52da7c",
    "deepnote_output_heights": [
     21.1875
    ],
    "deepnote_cell_type": "code"
   },
   "source": "15//3",
   "outputs": [
    {
     "output_type": "execute_result",
     "data": {
      "text/plain": "5"
     },
     "metadata": {},
     "execution_count": 51
    }
   ],
   "execution_count": 51
  },
  {
   "cell_type": "code",
   "metadata": {
    "colab": {
     "base_uri": "https://localhost:8080/"
    },
    "id": "zel6RxdwQ18i",
    "executionInfo": {
     "status": "ok",
     "timestamp": 1639524306628,
     "user_tz": 360,
     "elapsed": 184,
     "user": {
      "displayName": "Ricardo Saldivar",
      "photoUrl": "https://lh3.googleusercontent.com/a-/AOh14Ghz66khcqYkiYlYy6FmqYru2yXWzlx8Xi-52ZIi=s64",
      "userId": "09339938360877425787"
     }
    },
    "outputId": "0b23b5a1-6d95-4012-91b9-2eb42136bc50",
    "cell_id": "00024-2e8610ab-434d-4aa5-9a1c-5a3b37dd6117",
    "deepnote_output_heights": [
     21.1875
    ],
    "deepnote_cell_type": "code"
   },
   "source": "15.234657 / 3",
   "outputs": [
    {
     "output_type": "execute_result",
     "data": {
      "text/plain": "5.078219"
     },
     "metadata": {},
     "execution_count": 52
    }
   ],
   "execution_count": 52
  },
  {
   "cell_type": "code",
   "metadata": {
    "colab": {
     "base_uri": "https://localhost:8080/"
    },
    "id": "vuY5hIrRQ6C3",
    "executionInfo": {
     "status": "ok",
     "timestamp": 1639524327231,
     "user_tz": 360,
     "elapsed": 512,
     "user": {
      "displayName": "Ricardo Saldivar",
      "photoUrl": "https://lh3.googleusercontent.com/a-/AOh14Ghz66khcqYkiYlYy6FmqYru2yXWzlx8Xi-52ZIi=s64",
      "userId": "09339938360877425787"
     }
    },
    "outputId": "1c230b4c-ff0e-44d0-f3a6-59875f8d7428",
    "cell_id": "00025-b8443a93-e5a0-4606-9a7a-685c448862d3",
    "deepnote_output_heights": [
     21.1875
    ],
    "deepnote_cell_type": "code"
   },
   "source": "round(15.234657 / 3, 2)",
   "outputs": [
    {
     "output_type": "execute_result",
     "data": {
      "text/plain": "5.08"
     },
     "metadata": {},
     "execution_count": 53
    }
   ],
   "execution_count": 53
  },
  {
   "cell_type": "code",
   "metadata": {
    "colab": {
     "base_uri": "https://localhost:8080/"
    },
    "id": "WP43IC6jQ_gg",
    "executionInfo": {
     "status": "ok",
     "timestamp": 1639524340680,
     "user_tz": 360,
     "elapsed": 151,
     "user": {
      "displayName": "Ricardo Saldivar",
      "photoUrl": "https://lh3.googleusercontent.com/a-/AOh14Ghz66khcqYkiYlYy6FmqYru2yXWzlx8Xi-52ZIi=s64",
      "userId": "09339938360877425787"
     }
    },
    "outputId": "b143492c-6625-463b-eaf0-b9fa760c0f33",
    "cell_id": "00026-aa8ed2c8-cbef-4ba0-9974-8cfed4ed1a56",
    "deepnote_output_heights": [
     21.1875
    ],
    "deepnote_cell_type": "code"
   },
   "source": "int(15.234657 / 3)",
   "outputs": [
    {
     "output_type": "execute_result",
     "data": {
      "text/plain": "5"
     },
     "metadata": {},
     "execution_count": 54
    }
   ],
   "execution_count": 54
  },
  {
   "cell_type": "markdown",
   "source": "Potencia\nPara calcular la potencia de cualquier número, se usa el doble **, siendo el primer número, la base y el segundo número será el exponente",
   "metadata": {
    "id": "nnVb9-mjRRnv",
    "cell_id": "00027-c5245d58-965f-4966-a85e-8425586a2863",
    "deepnote_cell_type": "markdown"
   }
  },
  {
   "cell_type": "code",
   "metadata": {
    "colab": {
     "base_uri": "https://localhost:8080/"
    },
    "id": "Nibxna7vRS_v",
    "executionInfo": {
     "status": "ok",
     "timestamp": 1639524432332,
     "user_tz": 360,
     "elapsed": 178,
     "user": {
      "displayName": "Ricardo Saldivar",
      "photoUrl": "https://lh3.googleusercontent.com/a-/AOh14Ghz66khcqYkiYlYy6FmqYru2yXWzlx8Xi-52ZIi=s64",
      "userId": "09339938360877425787"
     }
    },
    "outputId": "279884e3-086b-44c9-f987-b510763c5e04",
    "cell_id": "00028-c72b1853-6de6-41d2-b5b5-b56a34bd3989",
    "deepnote_output_heights": [
     21.1875
    ],
    "deepnote_cell_type": "code"
   },
   "source": "5 ** 3",
   "outputs": [
    {
     "output_type": "execute_result",
     "data": {
      "text/plain": "125"
     },
     "metadata": {},
     "execution_count": 55
    }
   ],
   "execution_count": 55
  },
  {
   "cell_type": "markdown",
   "source": "Otra opción es usar la función **pow( )**",
   "metadata": {
    "id": "C1k4YLE6Rr-o",
    "cell_id": "00029-5cfb0f12-bc4f-4ed8-a7a7-5104e32d8fd5",
    "deepnote_cell_type": "markdown"
   }
  },
  {
   "cell_type": "code",
   "metadata": {
    "colab": {
     "base_uri": "https://localhost:8080/"
    },
    "id": "O5fVNyfHRat5",
    "executionInfo": {
     "status": "ok",
     "timestamp": 1639524461024,
     "user_tz": 360,
     "elapsed": 182,
     "user": {
      "displayName": "Ricardo Saldivar",
      "photoUrl": "https://lh3.googleusercontent.com/a-/AOh14Ghz66khcqYkiYlYy6FmqYru2yXWzlx8Xi-52ZIi=s64",
      "userId": "09339938360877425787"
     }
    },
    "outputId": "316d036b-4165-4209-d0a1-0c9fa44ec76d",
    "cell_id": "00030-07c90b88-7031-4d60-b96e-1e82fe72ab53",
    "deepnote_output_heights": [
     21.1875
    ],
    "deepnote_cell_type": "code"
   },
   "source": "pow(5,3)",
   "outputs": [
    {
     "output_type": "execute_result",
     "data": {
      "text/plain": "125"
     },
     "metadata": {},
     "execution_count": 56
    }
   ],
   "execution_count": 56
  },
  {
   "cell_type": "markdown",
   "source": "Radicación.\nUna manera para calcular la raíz cuadrada de un número, se puede usar el doble asteristo, **  y como exponente **0.5**",
   "metadata": {
    "id": "hf0YxR-mSwrB",
    "cell_id": "00031-d0b8b451-78c4-4a6d-98ec-464feab32890",
    "deepnote_cell_type": "markdown"
   }
  },
  {
   "cell_type": "code",
   "metadata": {
    "colab": {
     "base_uri": "https://localhost:8080/"
    },
    "id": "RTqtS6tDUHbi",
    "executionInfo": {
     "status": "ok",
     "timestamp": 1639525201352,
     "user_tz": 360,
     "elapsed": 182,
     "user": {
      "displayName": "Ricardo Saldivar",
      "photoUrl": "https://lh3.googleusercontent.com/a-/AOh14Ghz66khcqYkiYlYy6FmqYru2yXWzlx8Xi-52ZIi=s64",
      "userId": "09339938360877425787"
     }
    },
    "outputId": "43650eff-633c-4209-81fa-844e66cd4f22",
    "cell_id": "00032-4d942577-7053-4459-955b-8942789aafeb",
    "deepnote_output_heights": [
     21.1875
    ],
    "deepnote_cell_type": "code"
   },
   "source": "81 ** 0.5",
   "outputs": [
    {
     "output_type": "execute_result",
     "data": {
      "text/plain": "9.0"
     },
     "metadata": {},
     "execution_count": 61
    }
   ],
   "execution_count": 61
  },
  {
   "cell_type": "markdown",
   "source": "Operaciones artiméticas usando variables",
   "metadata": {
    "id": "ym7cJwR0UmjK",
    "cell_id": "00033-b36f1a6d-8b3f-44b5-af8b-0ed13fff348f",
    "deepnote_cell_type": "markdown"
   }
  },
  {
   "cell_type": "markdown",
   "source": "Suma de a y b",
   "metadata": {
    "id": "g0CDirQNLgg_",
    "cell_id": "00034-662475e7-7a60-4d59-a615-46797ec96f06",
    "deepnote_cell_type": "markdown"
   }
  },
  {
   "cell_type": "code",
   "metadata": {
    "colab": {
     "base_uri": "https://localhost:8080/"
    },
    "id": "HEdeIoUmLjuR",
    "executionInfo": {
     "status": "ok",
     "timestamp": 1639522996570,
     "user_tz": 360,
     "elapsed": 6075,
     "user": {
      "displayName": "Ricardo Saldivar",
      "photoUrl": "https://lh3.googleusercontent.com/a-/AOh14Ghz66khcqYkiYlYy6FmqYru2yXWzlx8Xi-52ZIi=s64",
      "userId": "09339938360877425787"
     }
    },
    "outputId": "d314a73c-97f7-4d24-cb9d-b40b2dfa5e9d",
    "cell_id": "00035-6a43f694-acd4-4b42-acc3-f32d25996c39",
    "deepnote_cell_type": "code"
   },
   "source": "a = input('Escribe un valor para a:')\nb = input('Escribe el valor de b:')\nc = a + b\nprint(c)",
   "outputs": [
    {
     "output_type": "stream",
     "name": "stdout",
     "text": "Escribe un valor para a:345\nEscribe el valor de b:345\n345345\n"
    }
   ],
   "execution_count": 33
  },
  {
   "cell_type": "markdown",
   "source": "En la operación anterior, Python juntó los valores de las variables. A esta acción se le llama concatenar. Python concatena los valores que considera como texto. Por tal motivo, es necesario indicarle a Python que se trata de valores numéricos ya sea enteros o decimales. Para convertir los tipo de datos de texto a numericos se usan las funciones int( ) para enteros y flotar( ) para decimales. En el siguiente ejemplo se convertira a numeros enteros.",
   "metadata": {
    "id": "5A8ejKmhMaFg",
    "cell_id": "00036-bb510e5a-b9e9-46b5-8fd8-cb9c95262423",
    "deepnote_cell_type": "markdown"
   }
  },
  {
   "cell_type": "markdown",
   "source": "1) Usar la función int( ) en las variables a y b.",
   "metadata": {
    "id": "VODFVYDdZH64",
    "cell_id": "00037-a9e5b602-5ea9-44c7-b957-0e7c425ad390",
    "deepnote_cell_type": "markdown"
   }
  },
  {
   "cell_type": "code",
   "metadata": {
    "colab": {
     "base_uri": "https://localhost:8080/"
    },
    "id": "r6oFbgQDX1Ws",
    "executionInfo": {
     "status": "ok",
     "timestamp": 1639526669545,
     "user_tz": 360,
     "elapsed": 6062,
     "user": {
      "displayName": "Ricardo Saldivar",
      "photoUrl": "https://lh3.googleusercontent.com/a-/AOh14Ghz66khcqYkiYlYy6FmqYru2yXWzlx8Xi-52ZIi=s64",
      "userId": "09339938360877425787"
     }
    },
    "outputId": "3c8f40d7-e75a-47f6-e4ae-8c3ee7e1b7ca",
    "cell_id": "00038-3de2fa3c-833f-47f6-8537-c6774870af15",
    "deepnote_cell_type": "code"
   },
   "source": "a = int(input('Escribe un valor para a:'))\nb = int(input('Escribe el valor de b:'))\nc = a + b\nprint(c)",
   "outputs": [
    {
     "output_type": "stream",
     "name": "stdout",
     "text": "Escribe un valor para a:345\nEscribe el valor de b:345\n690\n"
    }
   ],
   "execution_count": 67
  },
  {
   "cell_type": "code",
   "metadata": {
    "colab": {
     "base_uri": "https://localhost:8080/"
    },
    "id": "6FjNAS-ssiT6",
    "executionInfo": {
     "status": "ok",
     "timestamp": 1639527138023,
     "user_tz": 360,
     "elapsed": 191,
     "user": {
      "displayName": "Ricardo Saldivar",
      "photoUrl": "https://lh3.googleusercontent.com/a-/AOh14Ghz66khcqYkiYlYy6FmqYru2yXWzlx8Xi-52ZIi=s64",
      "userId": "09339938360877425787"
     }
    },
    "outputId": "3e1fdcd0-fa39-41c3-d878-ca60450e744e",
    "cell_id": "00039-10e8f15c-86ba-429a-aeb1-0d6429c01b8e",
    "deepnote_cell_type": "code"
   },
   "source": "a = 1 + 2\nb = 1567 + 1234\nc = 10 - 3\nd = 12 - 15\ne = 7 * 5\nf = 15 / 3\nf1 = 15 // 3\nf2 = float(15 // 3)\nprint(a)\nprint(b)\nprint(c)\nprint(d)\nprint(e)\nprint(f)\nprint(f1)\nprint(f2)",
   "outputs": [
    {
     "output_type": "stream",
     "name": "stdout",
     "text": "3\n2801\n7\n-3\n35\n5.0\n5\n5.0\n"
    }
   ],
   "execution_count": 72
  },
  {
   "cell_type": "code",
   "metadata": {
    "colab": {
     "base_uri": "https://localhost:8080/"
    },
    "id": "J2BcTJ7Hsy9h",
    "executionInfo": {
     "status": "ok",
     "timestamp": 1639515711784,
     "user_tz": 360,
     "elapsed": 177,
     "user": {
      "displayName": "Ricardo Saldivar",
      "photoUrl": "https://lh3.googleusercontent.com/a-/AOh14Ghz66khcqYkiYlYy6FmqYru2yXWzlx8Xi-52ZIi=s64",
      "userId": "09339938360877425787"
     }
    },
    "outputId": "3fefd95e-d2b3-480d-d297-74d2c4389748",
    "cell_id": "00040-253b5f63-a27d-4273-97ad-f1112f590b21",
    "deepnote_cell_type": "code"
   },
   "source": "m = 1.5 + 3\nn = 2.8 + 7.9\no = 6.1 - 2.3\np = 3.7 - 10\nq = 4.5 * 3.2\nr = 12.3 / 4\nr1 = 12.3 // 4\nr2 = int(12.3 // 4) # conversión de número flotante a número entero, usando la función int\nprint(m)\nprint(n)\nprint(o)\nprint(p)\nprint(q)\nprint(r)\nprint(r1)\nprint(r2)",
   "outputs": [
    {
     "output_type": "stream",
     "name": "stdout",
     "text": "4.5\n10.7\n3.8\n-6.3\n14.4\n3.075\n3.0\n3\n"
    }
   ],
   "execution_count": 32
  },
  {
   "cell_type": "markdown",
   "source": "## Referencias\nThe Python Standard Library: [Built-in Types](https://docs.python.org/3/library/stdtypes.html#numeric-types-int-float-complex)",
   "metadata": {
    "id": "zinyvIsrLZun",
    "cell_id": "00041-6f28997c-a427-417d-b927-26dc5de7839b",
    "deepnote_cell_type": "markdown"
   }
  },
  {
   "cell_type": "markdown",
   "source": "<a style='text-decoration:none;line-height:16px;display:flex;color:#5B5B62;padding:10px;justify-content:end;' href='https://deepnote.com?utm_source=created-in-deepnote-cell&projectId=2e66839c-8a8c-4754-889a-73c17f6336ba' target=\"_blank\">\n<img alt='Created in deepnote.com' style='display:inline;max-height:16px;margin:0px;margin-right:7.5px;' src='data:image/svg+xml;base64,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' > </img>\nCreated in <span style='font-weight:600;margin-left:4px;'>Deepnote</span></a>",
   "metadata": {
    "tags": [],
    "created_in_deepnote_cell": true,
    "deepnote_cell_type": "markdown"
   }
  }
 ],
 "nbformat": 4,
 "nbformat_minor": 0,
 "metadata": {
  "colab": {
   "name": "Conversión_de_datos.ipynb",
   "provenance": [],
   "collapsed_sections": [],
   "authorship_tag": "ABX9TyO1TEiS7cUVE4+ZOj7yKp8E"
  },
  "kernelspec": {
   "name": "python3",
   "display_name": "Python 3"
  },
  "language_info": {
   "name": "python"
  },
  "deepnote_notebook_id": "846f0255-e6fc-4a71-97b3-d5412c737f2e",
  "deepnote": {},
  "deepnote_execution_queue": []
 }
}