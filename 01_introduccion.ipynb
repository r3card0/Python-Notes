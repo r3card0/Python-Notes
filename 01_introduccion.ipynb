{
 "cells": [
  {
   "cell_type": "markdown",
   "metadata": {},
   "source": [
    "# Introducción"
   ]
  },
  {
   "cell_type": "markdown",
   "metadata": {},
   "source": [
    "## Python\n",
    "\n",
    "Python es un lenguaje de programación interpretado y que tiene como filosofía tener codigo que sea fácil de leer y entender. \n",
    "\n",
    "Es un lenguaje que se aplica en Machine Learning, Data Science, programación orientada a objetos, Web Design y muchos otros.\n",
    "\n",
    "Puede ser usado en varias plataformas y sistemas operativos como Windos, Mac y Linux."
   ]
  },
  {
   "cell_type": "markdown",
   "metadata": {},
   "source": [
    "## Breve historia\n",
    "\n",
    "¿Cuándo se creó? ¿Quién lo creó? ¿Para qué lo creó?\n",
    "\n",
    "Python fue creado a finales de los 80's por Guido van Rossum en el Centro de Matemáticas e Informática (CWI, Centrum Wiskunde & Informatica), en los Países Bajas. Se creó como un sucesor del lenguaje de programación ABC."
   ]
  },
  {
   "cell_type": "markdown",
   "metadata": {},
   "source": [
    "## Objetivo\n",
    "\n",
    "El objetivo de este proyecto es facilitar el proceso de aprendizaje del lenguaje Python, mediante el uso de Jupyter Notebooks."
   ]
  },
  {
   "cell_type": "markdown",
   "metadata": {},
   "source": [
    "## Referencias\n",
    "\n",
    "[Curso Básico de Python](https://platzi.com/clases/python/)\n",
    "\n",
    "[Python.org](https://www.python.org/doc/essays/blurb/)\n",
    "\n",
    "[Wikipedia](https://en.wikipedia.org/wiki/Python_(programming_language))\n"
   ]
  }
 ],
 "metadata": {
  "interpreter": {
   "hash": "4ee08b0487832ff03f0fdf4b6eade6848fbbb6f348c487e64472b02f35273942"
  },
  "kernelspec": {
   "display_name": "Python 3.10.0 64-bit ('py3_10': conda)",
   "language": "python",
   "name": "python3"
  },
  "language_info": {
   "name": "python",
   "version": "3.10.0"
  },
  "orig_nbformat": 4
 },
 "nbformat": 4,
 "nbformat_minor": 2
}
