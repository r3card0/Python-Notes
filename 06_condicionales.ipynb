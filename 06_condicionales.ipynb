{
 "cells": [
  {
   "cell_type": "markdown",
   "metadata": {},
   "source": [
    "# Condicionales\n",
    "\n",
    "En nuestra vida cotidiana seguimos caminos, procesos, rutas, lo que sea. Estos caminos en ocasiones abren otros caminos y entonces tenemos que preguntarnos por donde ir. ¿Que camino elegimos? ¿El A? o ¿El B?, o tal vez haya un camino C. \n",
    "\n",
    "Normalmente, decidimos en base al beneficio que vayamos a obtener o para evitar algún suplicio. Nos decimos, si tomo este camino, debo tener esto, o si tomo este otro, ¿a donde me podrá llevar?\n",
    "\n",
    "En programación podemos hacer lo mismo, usando los comandos: if, elif, else.\n",
    "\n",
    "Imagina que quieres salir de viaje y tienes las siguientes opciones: Berlín, Alemania, Nueva York, USA o el parque de la esquina. El lugar que visitarás estará en función del dinero que logres ahorrar para pagar el destino deseado y disfrutar tu estancia. A continuación, está la lista de precios de los destinos:\n",
    "\n",
    "New York, USA = $400 USD\n",
    "\n",
    "Berlin, Ale = $800 USD\n",
    "\n",
    "Parque = menos de $400 USD\n",
    "\n",
    "Fácilmente podemos decir que:\n",
    "1. Si tu ahorro es igual o mayor a $800 USD, entonces tu destino es Berlin, pero \n",
    "2. si tu ahorro es igual o mayor a $400 USD y menor a $800 USD, entonces tu destino puede ser New York, USA, pero \n",
    "3. si no ahorras más de $400 USD, entonces tendrás la opción que queda. El confiable y único parque de la esquina.\n",
    "\n",
    "El siguiente razonamiento se puede expresar en la siguiente sintaxis: "
   ]
  },
  {
   "cell_type": "code",
   "execution_count": null,
   "metadata": {},
   "outputs": [],
   "source": [
    "# viaje \n",
    "ahorro = int(input('¿Cuanto dinero ahorraste durante el año?: '))\n",
    "berlin = 800\n",
    "NewYork = 400\n",
    "if ahorro >= berlin:\n",
    "    print('Felicidades, los alemanes te esperan con los tarros llenos de cerveza. ¡Iras a Berlin Alemania!')\n",
    "elif NewYork < ahorro:\n",
    "    print('La estátua de la libertad te saluda porque a ¡Nueva York es a donde irás!')\n",
    "else:\n",
    "    print('Bueno, pues prepara los sandwiches y lleva repelente para mosquitos, porque ¡el parque de la esquina, te espera!')"
   ]
  },
  {
   "cell_type": "markdown",
   "metadata": {},
   "source": [
    "¡ahora te toca a ti! Juega con el programa, cambia las cantidades, cambia los destinos, agrega más destinos, cambia los mensajes"
   ]
  },
  {
   "cell_type": "code",
   "execution_count": null,
   "metadata": {},
   "outputs": [],
   "source": [
    "# juega con el programa de viajes\n",
    "# copia y pegua aqui el programa de viajes"
   ]
  },
  {
   "cell_type": "markdown",
   "metadata": {},
   "source": [
    "### El clásico, es mas grande que, menor que\n",
    "\n",
    "En programación es clasico hacer un programa que compare números y te diga que valor es mas grande. En este ejemplo jugaremos con las condicionales if, elif y else agregando los booleanos: True y False"
   ]
  },
  {
   "cell_type": "markdown",
   "metadata": {},
   "source": [
    "¿qué es, qué son?\n",
    "Las condicionals son . . \n",
    "\n",
    "¿para qué sirve?\n",
    "sirven para . . . .\n",
    "\n",
    "¿Cómo se crea o se construye?\n",
    "La forma correcta de crearlas o su estructura es . . . "
   ]
  },
  {
   "cell_type": "markdown",
   "metadata": {},
   "source": [
    "## Resumen"
   ]
  },
  {
   "cell_type": "markdown",
   "metadata": {},
   "source": [
    "## Referencias"
   ]
  },
  {
   "cell_type": "markdown",
   "metadata": {},
   "source": []
  }
 ],
 "metadata": {
  "interpreter": {
   "hash": "c1ecdb0104c88f0628ecddde8afde843fe55481a0508e1382115ff2d3c39d512"
  },
  "kernelspec": {
   "display_name": "Python 3.9.7 64-bit ('py39': conda)",
   "language": "python",
   "name": "python3"
  },
  "language_info": {
   "codemirror_mode": {
    "name": "ipython",
    "version": 3
   },
   "file_extension": ".py",
   "mimetype": "text/x-python",
   "name": "python",
   "nbconvert_exporter": "python",
   "pygments_lexer": "ipython3",
   "version": "3.9.7"
  },
  "orig_nbformat": 4
 },
 "nbformat": 4,
 "nbformat_minor": 2
}
