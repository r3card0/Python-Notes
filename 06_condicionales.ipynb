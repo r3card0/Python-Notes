{
 "cells": [
  {
   "cell_type": "markdown",
   "metadata": {},
   "source": [
    "# Condicionales\n",
    "\n",
    "\n",
    "![06_image01](/root/work/Images/06_image01.png)\n",
    "\n",
    "En nuestra vida cotidiana seguimos caminos, procesos, rutas, lo que sea. Estos caminos en ocasiones abren otros caminos y entonces tenemos que preguntarnos por donde ir. ¿Que camino elegimos? ¿El A? o ¿El B?, o tal vez haya un camino C. \n",
    "\n",
    "Normalmente, decidimos en base al beneficio que vayamos a obtener o para evitar algún suplicio. Nos decimos, si tomo este camino, debo tener esto, o si tomo este otro, ¿a donde me podrá llevar?\n",
    "\n",
    "En programación podemos hacer lo mismo, usando los comandos: if, elif, else.\n",
    "\n",
    "Imagina que quieres salir de viaje y tienes las siguientes opciones: la ciudad de Berlín en  Alemania, La ciudad de Nueva York en USA o el parque de la esquina. El lugar que visitarás estará en función del dinero que logres ahorrar para pagar el destino deseado y disfrutar tu estancia. A continuación, está la lista de precios de los destinos:\n",
    "\n",
    "New York, USA = $400 USD\n",
    "\n",
    "Berlin, Ale = $800 USD\n",
    "\n",
    "Parque = menos de $400 USD\n",
    "\n",
    "Fácilmente podemos decir que:\n",
    "1. Si tu ahorro es igual o mayor a $800 USD, entonces tu destino es Berlin, pero \n",
    "2. si tu ahorro es igual o mayor a $400 USD y menor a $800 USD, entonces tu destino puede ser New York, USA, pero \n",
    "3. si no ahorras más de $400 USD, entonces tendrás la opción que queda. El confiable y único parque de la esquina.\n",
    "\n",
    "El siguiente razonamiento se puede expresar en la siguiente sintaxis: "
   ]
  },
  {
   "cell_type": "code",
   "execution_count": null,
   "metadata": {},
   "outputs": [],
   "source": [
    "# viaje \n",
    "ahorro = int(input('¿Cuanto dinero ahorraste durante el año?: '))\n",
    "berlin = 800\n",
    "NewYork = 400\n",
    "if ahorro >= berlin:\n",
    "    print('Felicidades, los alemanes te esperan con los tarros llenos de cerveza. ¡Iras a Berlin Alemania!')\n",
    "elif NewYork < ahorro:\n",
    "    print('La estátua de la libertad te saluda porque a ¡Nueva York es a donde irás!')\n",
    "else:\n",
    "    print('Bueno, pues prepara los sandwiches y lleva repelente para mosquitos, porque ¡el parque de la esquina, te espera!')"
   ]
  },
  {
   "cell_type": "markdown",
   "metadata": {},
   "source": [
    "¡ahora te toca a ti! Juega con el programa, cambia las cantidades, cambia los destinos, agrega más destinos, cambia los mensajes"
   ]
  },
  {
   "cell_type": "code",
   "execution_count": null,
   "metadata": {},
   "outputs": [],
   "source": [
    "# juega con el programa de viajes\n",
    "# copia y pegua aqui el programa de viajes"
   ]
  },
  {
   "cell_type": "markdown",
   "metadata": {},
   "source": [
    "### El clásico, es mas grande que, menor que\n",
    "\n",
    "En programación es clasico hacer un programa que compare números y te diga que valor es mas grande. En este ejemplo jugaremos con las condicionales if, elif y else agregando los booleanos: True y False\n",
    "\n",
    "Si el valor de X es mayor que el valor de Y, entonces es verdadero, si no, es falso\n",
    "\n",
    "supongamos que X es un valor fijo. X es igual a 2500. Y el valor de Y es un valor que eligiras"
   ]
  },
  {
   "cell_type": "code",
   "execution_count": null,
   "metadata": {},
   "outputs": [],
   "source": [
    "Y = int(input('¿El valor de Y es mayor que X?. Elige el valor de -Y-: '))\n",
    "X = 2500\n",
    "if Y > X:\n",
    "    print(True)\n",
    "else:\n",
    "    print(False)"
   ]
  },
  {
   "cell_type": "markdown",
   "metadata": {},
   "source": [
    "De esta forma, la computadora nos responde dependiendo del valor que le asignemos."
   ]
  },
  {
   "cell_type": "markdown",
   "metadata": {},
   "source": [
    "Como podemos ver, la sintaxis es muy sencilla:\n",
    "\n",
    "1. comando if\n",
    "2. expresión, operación\n",
    "3. Usar \":\" despues de la expresión\n",
    "4. Indentación -> 4 espacios de sangría.\n",
    "2. resultado esperado si se cumple la condicion\n",
    "\n"
   ]
  },
  {
   "cell_type": "markdown",
   "metadata": {},
   "source": [
    "![06_image02](/root/work/Images/06_image02.png)"
   ]
  },
  {
   "cell_type": "markdown",
   "metadata": {},
   "source": [
    "### Conversor de monedas"
   ]
  },
  {
   "cell_type": "markdown",
   "metadata": {},
   "source": [
    "Ahora tendremos un programa donde nos haga la conversión de monedas colombianas a dólares\n",
    "\n",
    "El valor de pesos colombianos a dolares es igual a: 1 USD = 4015.1 COP(Colombian pesos)\n",
    "\n",
    "fuente: [themoneyconverter](https://themoneyconverter.com/ES/USD/COP)\n",
    "\n",
    "Puedes checar la fuente cada vez y actualizar el valor actual en el programa"
   ]
  },
  {
   "cell_type": "code",
   "execution_count": null,
   "metadata": {},
   "outputs": [],
   "source": [
    "# conversor de monedas\n",
    "cop = int(input('¿Cuantos pesos colombianos tienes?: '))\n",
    "cop = float(cop)\n",
    "dollar_price = 4015.1\n",
    "dollars = cop / dollar_price\n",
    "dollars = round(dollars, 2)\n",
    "print('Tienes $' + str(dollars) + ' dolares')"
   ]
  },
  {
   "cell_type": "markdown",
   "metadata": {},
   "source": [
    "Explicación del programa por línea:\n",
    "1. *Elige una cantidad*. La variable **cop**, recibe la cantidad elegida a través del comando *input* y el valor recibido se convierte a número entero con el comando *int*\n",
    "2. *Convertir a decimal*. Una vez recibido el valor en la variable **cop**, la convierte en numero decimal con el comando *float*\n",
    "3. *Precio actual del dolar*. El precio actual del dolar está asignado en la variable **dollar_price**\n",
    "4. *Operación de la conversión*. La variable **dollars** guarda la operación entre los valores de las variables **cop** y **dollar_price**\n",
    "5. *Redondeo del resultado*. Se redondea el resultado con el comando *round* y el número 2, indica el número de decimales.\n",
    "6. *Se imprime el resultado*. Mediante el comando *print* se muestra el mensaje en la pantalla usando una concatenación de datos de tipo numerico y de texto. Se hace la conversiòn a texto de la variable **dollars** con el comando *str*"
   ]
  },
  {
   "cell_type": "markdown",
   "metadata": {},
   "source": [
    "Ejercicio. \n",
    "1. Agrega una moneda mas al conversor\n",
    "2. Crea un menú donde permita al usuario elegir la conversion. Que eliga la moneda colombiana o la creada.\n",
    "3. Usa las condicionales if, elif, else"
   ]
  },
  {
   "cell_type": "code",
   "execution_count": null,
   "metadata": {},
   "outputs": [],
   "source": [
    "# copia y pega aqui el programa conversor de monedas\n",
    "# realiza las modificaciones que consideres para cubrir las 3 tareas del ejercicio"
   ]
  },
  {
   "cell_type": "markdown",
   "metadata": {},
   "source": [
    "¡Haz el intento! ;)\n",
    "\n",
    "El maestro Yoda una vez dijo:\n",
    "\n",
    "¡Hazlo, o no lo hagas, no existen los intentos!\n",
    "\n",
    "Do or do not, there si no try!"
   ]
  },
  {
   "cell_type": "markdown",
   "metadata": {},
   "source": [
    "![06_image03](/root/work/Images/06_image03.png)"
   ]
  },
  {
   "cell_type": "markdown",
   "metadata": {},
   "source": [
    "¡Hay muchas posibles soluciones!\n",
    "\n",
    "¡Aqui te mostramos una!"
   ]
  },
  {
   "cell_type": "code",
   "execution_count": null,
   "metadata": {},
   "outputs": [],
   "source": [
    "# conversor de monedas\n",
    "menu = int(input(\"\"\" \n",
    "Elige la moneda que deseas convertir\n",
    "Pesos colombianos   1\n",
    "Pesos Mexicanos     2\n",
    "\n",
    "Elige una opción: \"\"\"))\n",
    "\n",
    "if menu == 1:\n",
    "    cop = int(input('¿Cuantos pesos colombianos tienes?: '))\n",
    "    cop = float(cop)\n",
    "    dollar_price = 4015.1\n",
    "    dollars = cop / dollar_price\n",
    "    dollars = round(dollars, 2)\n",
    "    print('Tienes $' + str(dollars) + ' dolares')\n",
    "elif menu == 2:\n",
    "    mxn = int(input('¿Cuantos pesos mexicanos tienes?: '))\n",
    "    mxn = float(mxn)\n",
    "    dollar_price = 21.5\n",
    "    dollars = mxn / dollar_price\n",
    "    dollars = round(dollars, 2)\n",
    "    print('Tienes $' + str(dollars) + ' dolares')\n",
    "else:\n",
    "    print('Elige una opción correcta')"
   ]
  },
  {
   "cell_type": "markdown",
   "metadata": {},
   "source": [
    "Explicación del programa:\n",
    "1. Linea 1. Elegir una moneda. La variable **menu** recibe el valor ingresado por el usuario. El comando *input* permite al programa recibir un valor ingresado. El valor recibido es convertido a número entero con el comando *int*. \n",
    "\n",
    "2. Linea 2 a la 6. Muestra el menu descrito por el programador\n",
    "\n",
    "3. Línea 8. Elige la opción 1. Si eliges la opción 1, entonces ejecuta todo lo que esta por debajo de la expresión usando indentación en todas la líneas correspondientes a la operaciòn de la opción 1\n",
    "\n",
    "    >Línea 9. *Elige una cantidad*. La variable **cop**, recibe la cantidad elegida a través del comando *input* y el valor recibido se convierte a número entero con el comando *int*\n",
    "    \n",
    "    >Línea 10. *Convertir a decimal*. Una vez recibido el valor en la variable **cop**, la convierte en numero decimal con el comando *float*\n",
    "    \n",
    "    >Línea 11. *Precio actual del dolar*. El precio actual del dolar está asignado en la variable **dollar_price**\n",
    "    \n",
    "    >Línea 12. *Operación de la conversión*. La variable **dollars** guarda la operación entre los valores de las variables **cop** y **dollar_price**\n",
    "    \n",
    "    >Línea 13. *Redondeo del resultado*. Se redondea el resultado con el comando *round* y el número 2, indica el número de decimales.\n",
    "    \n",
    "    >Línea 14. *Se imprime el resultado*. Mediante el comando *print* se muestra el mensaje en la pantalla usando una concatenación de datos de tipo numerico y de texto. Se hace la conversiòn a texto de la variable **dollars** con el comando *str*\n",
    "    \n",
    "4. Línea 15. Si eliges la opción 2, entonces ejecuta todo lo que esta por debajo de la expresión usando indentación en todas la líneas correspondientes a la operaciòn de la opción 2\n",
    "\n",
    "    >Línea 16. *Elige una cantidad*. La variable **mxn**, recibe la cantidad elegida a través del comando *input* y el valor recibido se convierte a número entero con el comando *int*\n",
    "    \n",
    "    \n",
    "    >Línea 17. *Convertir a decimal*. Una vez recibido el valor en la variable **mxn**, la convierte en numero decimal con el comando *float*\n",
    "    \n",
    "    >Línea 18. *Precio actual del dolar*. El precio actual del dolar está asignado en la variable **dollar_price**\n",
    "    \n",
    "    >Línea 19. *Operación de la conversión*. La variable **dollars** guarda la operación entre los valores de las variables **mxn** y **dollar_price**\n",
    "    \n",
    "    >Línea 20. *Redondeo del resultado*. Se redondea el resultado con el comando *round* y el número 2, indica el número de decimales.\n",
    "    \n",
    "    >Línea 21. *Se imprime el resultado*. Mediante el comando *print* se muestra el mensaje en la pantalla usando una concatenación de datos de tipo numerico y de texto. Se hace la conversiòn a texto de la variable **dollars** con el comando *str*\n",
    "\n",
    "5. Línea 22. Si no eliges una de las opciones del menú, entonces imprime en pantalla: Elige una opción correcta."
   ]
  },
  {
   "cell_type": "markdown",
   "metadata": {},
   "source": [
    "Como se mencionó anteriormente, hay muchas posibles soluciones. En el tema de funciones se verá una forma más sencilla y resumida de escribir el código. en este tema lo importante es lograr identificar en que momento se usan las condicionales, como nos pueden ayudar y cual es la estructura correcta de escribirlas."
   ]
  },
  {
   "cell_type": "markdown",
   "metadata": {},
   "source": [
    "¿qué es, qué son?\n",
    "Las condicionals son . . \n",
    "\n",
    "¿para qué sirve?\n",
    "sirven para . . . .\n",
    "\n",
    "¿Cómo se crea o se construye?\n",
    "La forma correcta de crearlas o su estructura es . . . "
   ]
  },
  {
   "cell_type": "markdown",
   "metadata": {},
   "source": [
    "## Resumen\n",
    "\n",
    "1. Las condicionale son comandos que nos permiten elegir varios caminos u opciones.\n",
    "2. Le da flexibilidad a tus programas para hacer o una operación o la otra.\n",
    "3. Los comandos para las crear condicionales son: **if**, **elif** y **else**"
   ]
  },
  {
   "cell_type": "markdown",
   "metadata": {},
   "source": [
    "## Referencias"
   ]
  },
  {
   "cell_type": "markdown",
   "metadata": {},
   "source": [
    "[Python Basic Course](https://platzi.com/clases/1937-python/29633-construyendo-el-camino-de-un-programa-con-condicio/)\n",
    "\n",
    "[Python.org | Conditional Expressions](https://www.python.org/dev/peps/pep-0308/)"
   ]
  }
 ],
 "metadata": {
  "interpreter": {
   "hash": "c1ecdb0104c88f0628ecddde8afde843fe55481a0508e1382115ff2d3c39d512"
  },
  "kernelspec": {
   "display_name": "Python 3.9.7 64-bit ('py39': conda)",
   "language": "python",
   "name": "python3"
  },
  "language_info": {
   "codemirror_mode": {
    "name": "ipython",
    "version": 3
   },
   "file_extension": ".py",
   "mimetype": "text/x-python",
   "name": "python",
   "nbconvert_exporter": "python",
   "pygments_lexer": "ipython3",
   "version": "3.9.7"
  },
  "orig_nbformat": 4
 },
 "nbformat": 4,
 "nbformat_minor": 2
}
