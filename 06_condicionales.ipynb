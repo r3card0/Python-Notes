{
 "cells": [
  {
   "cell_type": "markdown",
   "metadata": {},
   "source": [
    "# Condicionales\n",
    "\n",
    "if, elif, else"
   ]
  },
  {
   "cell_type": "markdown",
   "metadata": {},
   "source": [
    "¿qué es, qué son?\n",
    "Las condicionals son . . \n",
    "\n",
    "¿para qué sirve?\n",
    "sirven para . . . .\n",
    "\n",
    "¿Cómo se crea o se construye?\n",
    "La forma correcta de crearlas o su estructura es . . . "
   ]
  },
  {
   "cell_type": "markdown",
   "metadata": {},
   "source": [
    "## Resumen"
   ]
  },
  {
   "cell_type": "markdown",
   "metadata": {},
   "source": [
    "## Referencias"
   ]
  },
  {
   "cell_type": "markdown",
   "metadata": {},
   "source": []
  }
 ],
 "metadata": {
  "language_info": {
   "name": "python"
  },
  "orig_nbformat": 4
 },
 "nbformat": 4,
 "nbformat_minor": 2
}
