{
 "cells": [
  {
   "cell_type": "markdown",
   "metadata": {},
   "source": [
    "# Comando **print()**"
   ]
  },
  {
   "cell_type": "markdown",
   "metadata": {},
   "source": [
    "El comando print permite imprimir mensajes en la pantalla."
   ]
  },
  {
   "cell_type": "code",
   "execution_count": 1,
   "metadata": {},
   "outputs": [
    {
     "name": "stdout",
     "output_type": "stream",
     "text": [
      "Hola Mundo\n"
     ]
    }
   ],
   "source": [
    "print('Hola Mundo')"
   ]
  },
  {
   "cell_type": "markdown",
   "metadata": {},
   "source": [
    "Los mensajes deben ir entre comillas simples, 'hola' ó comillas dobles \"hola\". "
   ]
  },
  {
   "cell_type": "code",
   "execution_count": 2,
   "metadata": {},
   "outputs": [
    {
     "name": "stdout",
     "output_type": "stream",
     "text": [
      "Hola Mundo\n",
      "Hello World\n"
     ]
    }
   ],
   "source": [
    "print(\"Hola Mundo\")\n",
    "print('Hello World')"
   ]
  },
  {
   "cell_type": "markdown",
   "metadata": {},
   "source": [
    "Se pueden realizar operaciones aritméticas. Sumar 5 +4."
   ]
  },
  {
   "cell_type": "code",
   "execution_count": 1,
   "metadata": {},
   "outputs": [
    {
     "name": "stdout",
     "output_type": "stream",
     "text": [
      "9\n"
     ]
    }
   ],
   "source": [
    "print(5+4)"
   ]
  },
  {
   "cell_type": "markdown",
   "metadata": {},
   "source": [
    "Se puede usar para  juntar valores guardados en diferentes variables."
   ]
  },
  {
   "cell_type": "code",
   "execution_count": 3,
   "metadata": {},
   "outputs": [
    {
     "name": "stdout",
     "output_type": "stream",
     "text": [
      "Hola a todos. :)\n"
     ]
    }
   ],
   "source": [
    "variable1 = 'Hola a'\n",
    "variable2 = 'todos. :)'\n",
    "print(variable1,variable2)"
   ]
  },
  {
   "cell_type": "markdown",
   "metadata": {},
   "source": [
    "Ejercicio # 1. Usa 2 variables para crear el mensaje: 'El Sol es la estrella más cercana a la Tierra'. Usar el comando **print()** para juntar los valores de las variables y mostrar el mensaje."
   ]
  },
  {
   "cell_type": "code",
   "execution_count": null,
   "metadata": {},
   "outputs": [],
   "source": [
    "# escribe el nombre de la variable y el mensaje\n",
    "# escribe el nombre de la 2na variable y el mensaje\n",
    "# junta y muestra el mensaje"
   ]
  },
  {
   "cell_type": "markdown",
   "metadata": {},
   "source": [
    "El comando **print()** es una función de Python. Es una función que pertenece al grupo de Built-in. Esto quiere decir que es una función que está creada desde el lenguaje de Python.\n",
    "\n",
    "Hay muchas funciones Built-in en Python y que se verán posteriormente.\n",
    "\n"
   ]
  },
  {
   "cell_type": "markdown",
   "metadata": {},
   "source": [
    "## Referencias\n",
    "\n",
    "[Curso Básico de Python](https://platzi.com/clases/python/)\n",
    "\n",
    "[Python.org](https://www.python.org/doc/essays/blurb/)\n",
    "\n",
    "[Real Python](https://realpython.com/python-print/)\n",
    "\n",
    "[Built-in Functions](https://docs.python.org/3/library/functions.html)"
   ]
  }
 ],
 "metadata": {
  "interpreter": {
   "hash": "4ee08b0487832ff03f0fdf4b6eade6848fbbb6f348c487e64472b02f35273942"
  },
  "kernelspec": {
   "display_name": "Python 3.10.0 64-bit ('py3_10': conda)",
   "language": "python",
   "name": "python3"
  },
  "language_info": {
   "codemirror_mode": {
    "name": "ipython",
    "version": 3
   },
   "file_extension": ".py",
   "mimetype": "text/x-python",
   "name": "python",
   "nbconvert_exporter": "python",
   "pygments_lexer": "ipython3",
   "version": "3.10.0"
  },
  "orig_nbformat": 4
 },
 "nbformat": 4,
 "nbformat_minor": 2
}
