{
 "cells": [
  {
   "cell_type": "code",
   "execution_count": 1,
   "metadata": {},
   "outputs": [
    {
     "name": "stdout",
     "output_type": "stream",
     "text": [
      "0\n",
      "1\n",
      "2\n",
      "3\n",
      "4\n"
     ]
    }
   ],
   "source": [
    "for counter in range(5): # range siempre mostrará los valores anteriores al asignado\n",
    "    print(counter)"
   ]
  },
  {
   "cell_type": "code",
   "execution_count": 2,
   "metadata": {},
   "outputs": [
    {
     "name": "stdout",
     "output_type": "stream",
     "text": [
      "99\n",
      "100\n",
      "101\n",
      "102\n",
      "103\n",
      "104\n"
     ]
    }
   ],
   "source": [
    "for counter in range(99,105): # se le puede asignar un rango. Se le asigno desde el 99 al 105\n",
    "    print(counter)"
   ]
  },
  {
   "cell_type": "markdown",
   "metadata": {},
   "source": [
    "Recorrer caracteres con for"
   ]
  },
  {
   "cell_type": "markdown",
   "metadata": {},
   "source": [
    "La función **for**, puede recorrer texto (string) y dar un resultado. En el siguiente ejemplo se puede tomar la frase -¡Hola! ¿Como estás?- y devolverla en mayúsculas."
   ]
  },
  {
   "cell_type": "code",
   "execution_count": 3,
   "metadata": {},
   "outputs": [
    {
     "name": "stdout",
     "output_type": "stream",
     "text": [
      "¡\n",
      "H\n",
      "O\n",
      "L\n",
      "A\n",
      "!\n",
      " \n",
      "¿\n",
      "C\n",
      "O\n",
      "M\n",
      "O\n",
      " \n",
      "E\n",
      "S\n",
      "T\n",
      "Á\n",
      "S\n",
      "?\n"
     ]
    }
   ],
   "source": [
    "frase = '¡Hola! ¿como estás?'\n",
    "for letra in frase:\n",
    "    print(letra.upper())"
   ]
  },
  {
   "cell_type": "markdown",
   "metadata": {},
   "source": [
    "Ademas, la función **for** puede ayudar a encontrar texto de una lista dada. La función for, recorrerá la lista y se detendrá al encontrar el valor deseado."
   ]
  },
  {
   "cell_type": "code",
   "execution_count": 6,
   "metadata": {},
   "outputs": [
    {
     "name": "stdout",
     "output_type": "stream",
     "text": [
      "Asteroides\n",
      "Meteoritos\n",
      "Galaxias\n",
      "Cometas\n",
      "Vía Láctea\n"
     ]
    }
   ],
   "source": [
    "cuerpos_celestes = ['Asteroides','Meteoritos','Galaxias','Cometas','Vía Láctea','Universo','Exoplanetas','Expansión']\n",
    "for cuerpo in cuerpos_celestes:     # para el cuerpo en la lista dada\n",
    "    if cuerpo == 'Universo':        # si la variable cuerpo es igual a 'Universo' \n",
    "        break                       # ¡PARA!\n",
    "    print(cuerpo)                   # imprime la variable"
   ]
  },
  {
   "cell_type": "code",
   "execution_count": 7,
   "metadata": {},
   "outputs": [
    {
     "name": "stdout",
     "output_type": "stream",
     "text": [
      "Asteroides\n",
      "Meteoritos\n",
      "Galaxias\n",
      "Cometas\n",
      "Vía Láctea\n",
      "Universo\n"
     ]
    }
   ],
   "source": [
    "cuerpos_celestes = ['Asteroides','Meteoritos','Galaxias','Cometas','Vía Láctea','Universo','Exoplanetas','Expansión']\n",
    "for cuerpo in cuerpos_celestes: # para el cuerpo en la lista dada\n",
    "    print(cuerpo)               # imprime la variable\n",
    "    if cuerpo == 'Universo':    # si la variable cuerpo es igual a 'Universo'\n",
    "        break                   # ¡PARA!\n",
    "    "
   ]
  }
 ],
 "metadata": {
  "interpreter": {
   "hash": "aee8b7b246df8f9039afb4144a1f6fd8d2ca17a180786b69acc140d282b71a49"
  },
  "kernelspec": {
   "display_name": "Python 3.10.0 64-bit",
   "language": "python",
   "name": "python3"
  },
  "language_info": {
   "codemirror_mode": {
    "name": "ipython",
    "version": 3
   },
   "file_extension": ".py",
   "mimetype": "text/x-python",
   "name": "python",
   "nbconvert_exporter": "python",
   "pygments_lexer": "ipython3",
   "version": "3.10.0"
  },
  "orig_nbformat": 4
 },
 "nbformat": 4,
 "nbformat_minor": 2
}
