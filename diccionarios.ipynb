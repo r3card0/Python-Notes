{
 "cells": [
  {
   "cell_type": "markdown",
   "metadata": {},
   "source": [
    "Crear un diccionario que contenga el símbolo y el nombre de los elementos químicos que se encuentran en el Sol."
   ]
  },
  {
   "cell_type": "code",
   "execution_count": 5,
   "metadata": {},
   "outputs": [
    {
     "name": "stdout",
     "output_type": "stream",
     "text": [
      "H : Hydrogeno\n",
      "He : Helio\n",
      "O : Oxígeno\n",
      "N : Nitrogeno\n",
      "Si : Silicio\n",
      "Mg : Magnesio\n",
      "Na : Sodio\n",
      "K : Potasio\n",
      "Ca : Calcio\n",
      "P : Fósforo\n",
      "S : Azufre\n",
      "Fe : Fierro\n",
      "Al : Aluminio\n",
      "Cu : Cobre\n"
     ]
    }
   ],
   "source": [
    "sun_elements = {\n",
    "    'H':'Hydrogeno',\n",
    "    'He' : 'Helio',\n",
    "    'O': 'Oxígeno',\n",
    "    'N':'Nitrogeno',\n",
    "    'Si':'Silicio',\n",
    "    'Mg':'Magnesio',\n",
    "    'Na':'Sodio',\n",
    "    'K':'Potasio',\n",
    "    'Ca': 'Calcio',\n",
    "    'P': 'Fósforo',\n",
    "    'S':'Azufre',\n",
    "    'Fe':'Fierro',\n",
    "    'Al':'Aluminio',\n",
    "    'Cu': 'Cobre'\n",
    "}\n",
    "# print(sun_elements)\n",
    "for symbol,element in sun_elements.items():\n",
    "    print(symbol,':',element)\n"
   ]
  }
 ],
 "metadata": {
  "interpreter": {
   "hash": "aee8b7b246df8f9039afb4144a1f6fd8d2ca17a180786b69acc140d282b71a49"
  },
  "kernelspec": {
   "display_name": "Python 3.10.0 64-bit",
   "language": "python",
   "name": "python3"
  },
  "language_info": {
   "codemirror_mode": {
    "name": "ipython",
    "version": 3
   },
   "file_extension": ".py",
   "mimetype": "text/x-python",
   "name": "python",
   "nbconvert_exporter": "python",
   "pygments_lexer": "ipython3",
   "version": "3.10.0"
  },
  "orig_nbformat": 4
 },
 "nbformat": 4,
 "nbformat_minor": 2
}
