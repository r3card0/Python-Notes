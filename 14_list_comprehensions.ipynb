{
 "cells": [
  {
   "cell_type": "markdown",
   "metadata": {},
   "source": [
    "# List Comprehension"
   ]
  },
  {
   "cell_type": "markdown",
   "metadata": {},
   "source": [
    "## ¿Qué es? \n",
    "\n",
    "Una **list comprehension** es una lista que se crea a partir de una iteración. Y guarda los resultados de la iteración. La iteración puede tener condiciones.\n",
    "\n",
    "### Iteración\n",
    "\n",
    "Iteración significa repetir varias veces un proceso con la intención de alcanzar una meta deseada, objetivo o resultado. Cada repetición del proceso también se le denomina una \"iteración\", y los resultados de una iteración se utilizan como punto de partida para la siguiente iteración."
   ]
  },
  {
   "cell_type": "markdown",
   "metadata": {},
   "source": [
    "Ejercicio # 1. Crear una lista que guarde los primeros 100 números naturales al cuadrado.\n",
    "\n",
    "1. Crear la iteración\n",
    "2. Guardar el resultado de la iteración en la lista."
   ]
  },
  {
   "cell_type": "code",
   "execution_count": null,
   "metadata": {},
   "outputs": [],
   "source": [
    "# 1. Crear la iteración. Imprimir los primeros 100 números naturales al cuadrado\n",
    "def run():\n",
    "    for i in range(1,101):\n",
    "        print(i**2)\n",
    "\n",
    "\n",
    "if __name__ == '__main__':\n",
    "    run()"
   ]
  },
  {
   "cell_type": "markdown",
   "metadata": {},
   "source": [
    "Teniendo la expresion que calcula los primero 100 numero naturales al cuadrado, usando el método **append( )**, se puede guardar los resultados en la lista."
   ]
  },
  {
   "cell_type": "code",
   "execution_count": null,
   "metadata": {},
   "outputs": [],
   "source": [
    "# 2. Crear la lista y guardar los resultados de la iteración.\n",
    "def run():\n",
    "    list_square = []\n",
    "    for i in range(1,101):\n",
    "        list_square.append(i ** 2)\n",
    "    \n",
    "    print(list_square)       \n",
    "        \n",
    "\n",
    "if __name__ == '__main__':\n",
    "    run()"
   ]
  },
  {
   "cell_type": "markdown",
   "metadata": {},
   "source": [
    "Ejercicio # 2. Guardar el cuadrado de los números que no sean divisibles entre 3"
   ]
  },
  {
   "cell_type": "code",
   "execution_count": null,
   "metadata": {},
   "outputs": [],
   "source": [
    "def run():\n",
    "    list_square = []\n",
    "    for i in range(1,101):\n",
    "        if i % 3 != 0:\n",
    "            list_square.append(i ** 2)\n",
    "\n",
    "\n",
    "    print(list_square)   \n",
    "        \n",
    "\n",
    "if __name__ == '__main__':\n",
    "    run()"
   ]
  },
  {
   "cell_type": "markdown",
   "metadata": {},
   "source": [
    "## ¿Cómo se crea?"
   ]
  },
  {
   "cell_type": "markdown",
   "metadata": {},
   "source": [
    "En los ejericios 1 y 2 se creo una lista vaciá, se generó la iteración y sus resultados se guardaron en la lista creada. En las lists comprehensions, se crea la expresion dentro de la lista. Pueden hacer operaciones y guardar los resultados."
   ]
  },
  {
   "cell_type": "markdown",
   "metadata": {},
   "source": [
    "![14_image01](/root/work/Images/14_image01.png)"
   ]
  },
  {
   "cell_type": "code",
   "execution_count": null,
   "metadata": {},
   "outputs": [],
   "source": [
    "def run():\n",
    "    # list_square = []\n",
    "    # for i in range(1,101):\n",
    "    #     if i % 3 != 0:\n",
    "    #         list_square.append(i ** 2)\n",
    "\n",
    "\n",
    "    list_square = [i ** 2 for i in range(1,101) if i % 3 !=0]\n",
    "\n",
    "    print(list_square)\n",
    "        \n",
    "\n",
    "if __name__ == '__main__':\n",
    "    run()"
   ]
  },
  {
   "cell_type": "markdown",
   "metadata": {},
   "source": [
    "### Estructura de una list comprehension\n",
    "\n",
    "#### lista = [element **for** element **in** iterable **if** condition] \n",
    "\n",
    "Y se comienza a leer:\n",
    "1. desde en medio, desde el comando **for**\n",
    "2. Seguido al inicio por el elemento que se va a guardar.\n",
    "3. leer la condición que presenta"
   ]
  },
  {
   "cell_type": "markdown",
   "metadata": {},
   "source": [
    "![14_image02](/root/work/Images/14_image02.png)"
   ]
  },
  {
   "cell_type": "markdown",
   "metadata": {},
   "source": [
    "### ¿Cómo se lee una list comprehension?\n",
    "Tomando el ejemplo anterior donde:\n",
    "\n",
    "list_square = [i ** 2 for i in range(1,101) if i % 3 !=0]\n",
    "\n",
    "1. **Para** cada i en el rango de 1 a 101\n",
    "2. Voy a guardar el cuadrado de cada i\n",
    "3. **Solo si** el número no es divisible entre 3"
   ]
  },
  {
   "cell_type": "markdown",
   "metadata": {},
   "source": [
    "Ejercicio # 3, reto:\n",
    "\n",
    "Crear una list comprehension. Una lista de todos los mútliplos de 4 que a la vez también son múltiplos de 6 y 9 hasta 5 dígitos\n",
    "\n",
    "reto = [i  for i in range(1,999999) if i % 4 == 0 and i % 9 == 0 and i % 6 == 0 ]"
   ]
  },
  {
   "cell_type": "code",
   "execution_count": null,
   "metadata": {},
   "outputs": [],
   "source": [
    "def run():\n",
    "    reto = [i  for i in range(1,999999) if i % 4 == 0 and i % 9 == 0 and i % 6 == 0 ]\n",
    "     \n",
    "    print(reto)\n",
    "        \n",
    "\n",
    "if __name__ == '__main__':\n",
    "    run()"
   ]
  },
  {
   "cell_type": "markdown",
   "metadata": {},
   "source": [
    "## ¿Para qué se usa?\n",
    "\n",
    "Se usa para crear listas que guarden los resultados de las iteraciones, usando poco código al crearlas."
   ]
  },
  {
   "cell_type": "markdown",
   "metadata": {},
   "source": [
    "Ejercicio # 3. Filtrar por números pares la siguiente lista: mi_lista = [1,2,4,5,7,8,3,21,45,78,98,101,231,343,468,456]"
   ]
  },
  {
   "cell_type": "code",
   "execution_count": 4,
   "metadata": {},
   "outputs": [
    {
     "name": "stdout",
     "output_type": "stream",
     "text": [
      "[2, 4, 8, 78, 98, 468, 456]\n"
     ]
    }
   ],
   "source": [
    "# ejemplo usando una lista\n",
    "def run():\n",
    "    mi_lista = [1,2,4,5,7,8,3,21,45,78,98,101,231,343,468,456]\n",
    "\n",
    "    lista_par = [i for i in mi_lista if i % 2 ==0]\n",
    "    print(lista_par)\n",
    "\n",
    "\n",
    "if __name__ =='__main__':\n",
    "    run()"
   ]
  },
  {
   "cell_type": "markdown",
   "metadata": {},
   "source": [
    "Como se puede observar, en este ejemplo no se ocupa el commando **range**, en vez de eso, se ocupa la lista que contiene los datos que se van a filtrar. La sintaxis correcta es escribir el nombre de la lista sin paréntesis  seguida del operador \"**in**\""
   ]
  },
  {
   "cell_type": "code",
   "execution_count": 5,
   "metadata": {},
   "outputs": [
    {
     "name": "stdout",
     "output_type": "stream",
     "text": [
      "[4, 16, 64, 6084, 9604, 219024, 207936]\n"
     ]
    }
   ],
   "source": [
    "# crear otra lista de lista_par con sus números al cuadrado\n",
    "def run():\n",
    "    mi_lista = [1,2,4,5,7,8,3,21,45,78,98,101,231,343,468,456]\n",
    "\n",
    "    lista_par = [i for i in mi_lista if i % 2 ==0]\n",
    "\n",
    "    lista_par_2 = [i**2 for i in lista_par]\n",
    "\n",
    "    print(lista_par_2)\n",
    "\n",
    "\n",
    "if __name__=='__main__':\n",
    "    run()"
   ]
  },
  {
   "cell_type": "markdown",
   "metadata": {},
   "source": [
    "## Resumen\n",
    "\n",
    "1. Una **list comprehension** es una lista que se crea a partir de una iteración. Y guarda los resultados de la iteración.\n",
    "2. Tiene la siguiente sintaxis: lista = [element **for** element **in** iterable **if** condition]\n",
    "3. La forma adecuada de leerla es empezando desde en medio **(for)**, seguido por el inicio (**elemento**) y terminando por la condición.\n",
    "3. Se usa para escribir menos código."
   ]
  },
  {
   "cell_type": "markdown",
   "metadata": {},
   "source": [
    "## Referencias\n",
    "\n",
    "[Python Intermediate course.Platzi](https://platzi.com/clases/2255-python-intermedio/36463-list-comprehensions/)\n",
    "\n",
    "[Python.org/list comprehensions](https://www.python.org/dev/peps/pep-0202/)"
   ]
  }
 ],
 "metadata": {
  "interpreter": {
   "hash": "4ee08b0487832ff03f0fdf4b6eade6848fbbb6f348c487e64472b02f35273942"
  },
  "kernelspec": {
   "display_name": "Python 3.10.0 64-bit ('py3_10': conda)",
   "language": "python",
   "name": "python3"
  },
  "language_info": {
   "codemirror_mode": {
    "name": "ipython",
    "version": 3
   },
   "file_extension": ".py",
   "mimetype": "text/x-python",
   "name": "python",
   "nbconvert_exporter": "python",
   "pygments_lexer": "ipython3",
   "version": "3.10.0"
  },
  "orig_nbformat": 4
 },
 "nbformat": 4,
 "nbformat_minor": 2
}
