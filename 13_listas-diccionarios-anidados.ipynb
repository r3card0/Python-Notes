{
 "cells": [
  {
   "cell_type": "markdown",
   "metadata": {},
   "source": [
    "# Listas y diccionarios anidados\n",
    "\n",
    "Las listas pueden almacenar diccionarios, porque los diccionarios son elementos en Python. \n",
    "\n",
    "A su vez, los diccionarios pueden almacenar listas.\n",
    "\n",
    "Por lo tanto en los proyectos se pueden tener diccionarios que contengan listas y listas que contengan diccionarios.\n"
   ]
  },
  {
   "cell_type": "markdown",
   "metadata": {},
   "source": [
    "## Listas que contienen diccionarios\n",
    "\n",
    "Para incluir diccionarios en las listas se hace los siguientes pasos:\n",
    "1. Crear una lista y abrir los corchetes [ ]\n",
    "2. Dentro de los corchetes, abrir llaves.\n",
    "3. Crear el diccionario\n"
   ]
  },
  {
   "cell_type": "code",
   "execution_count": 7,
   "metadata": {},
   "outputs": [
    {
     "name": "stdout",
     "output_type": "stream",
     "text": [
      "[{'Llave': 'Valor'}]\n"
     ]
    }
   ],
   "source": [
    "# lista que contiene un diccionario\n",
    "lista = [\n",
    "    {'Llave':'Valor'}\n",
    "]\n",
    "print(lista)"
   ]
  },
  {
   "cell_type": "code",
   "execution_count": 6,
   "metadata": {},
   "outputs": [
    {
     "name": "stdout",
     "output_type": "stream",
     "text": [
      "[{'diccionario1': 'valor del diccionario 1'}, {'diccionario 2': 'valor del diccionario 2'}, {'diccionario 3': 'valor del diccionario 3'}]\n"
     ]
    }
   ],
   "source": [
    "# lista que contiene varios diccionarios. Separar los diccionarios con la coma \",\"\n",
    "lista_de_diccionarios = [ \n",
    "    {'diccionario1':'valor del diccionario 1'}, \n",
    "    {'diccionario 2': 'valor del diccionario 2'},\n",
    "    {'diccionario 3': 'valor del diccionario 3'}\n",
    "]\n",
    "print(lista_de_diccionarios)"
   ]
  },
  {
   "cell_type": "markdown",
   "metadata": {},
   "source": [
    "## Diccionarios que contienen listas\n",
    "\n",
    "Para incluir listas en los diccionarios, se hace lo siguiente:\n",
    "1. Crear un diccionario y abrir las llaves { }\n",
    "2. Dentro de las llaves y con la estructura de \"llaves\":\"valores\" crear la lista"
   ]
  },
  {
   "cell_type": "code",
   "execution_count": 11,
   "metadata": {},
   "outputs": [
    {
     "name": "stdout",
     "output_type": "stream",
     "text": [
      "{'lista 1': [1, 2, 3, 4, 5, 6]}\n"
     ]
    }
   ],
   "source": [
    "# diccionario que contiene una lista\n",
    "diccionario = {\n",
    "    'lista 1':[1,2,3,4,5,6]\n",
    "}\n",
    "print(diccionario)"
   ]
  },
  {
   "cell_type": "code",
   "execution_count": 9,
   "metadata": {},
   "outputs": [
    {
     "name": "stdout",
     "output_type": "stream",
     "text": [
      "{'lista 1': [1, 2, 3, 4, 5], 'lista 2': ['perro', 'gato', 'hamster', 'conejo', 'perico'], 'lista 3': [3.1416, 45.6, 67.89], 'lista 4': [True, False, None]}\n"
     ]
    }
   ],
   "source": [
    "# diccionario que contiene varias listas\n",
    "diccionario_de_listas ={\n",
    "    'lista 1':[1,2,3,4,5],\n",
    "    'lista 2':['perro','gato','hamster','conejo','perico'],\n",
    "    'lista 3':[3.1416,45.6,67.89],\n",
    "    'lista 4':[True, False, None]\n",
    "}\n",
    "print(diccionario_de_listas)"
   ]
  },
  {
   "cell_type": "code",
   "execution_count": 15,
   "metadata": {},
   "outputs": [
    {
     "name": "stdout",
     "output_type": "stream",
     "text": [
      "lista 1\n",
      "lista 2\n",
      "lista 3\n",
      "lista 4\n"
     ]
    }
   ],
   "source": [
    "# Imprimir solo las llaves\n",
    "diccionario_de_listas ={\n",
    "    'lista 1':[1,2,3,4,5],\n",
    "    'lista 2':['perro','gato','hamster','conejo','perico'],\n",
    "    'lista 3':[3.1416,45.6,67.89],\n",
    "    'lista 4':[True, False, None]\n",
    "}\n",
    "for llave in diccionario_de_listas.keys():\n",
    "    print(llave)"
   ]
  },
  {
   "cell_type": "code",
   "execution_count": 16,
   "metadata": {},
   "outputs": [
    {
     "name": "stdout",
     "output_type": "stream",
     "text": [
      "[1, 2, 3, 4, 5]\n",
      "['perro', 'gato', 'hamster', 'conejo', 'perico']\n",
      "[3.1416, 45.6, 67.89]\n",
      "[True, False, None]\n"
     ]
    }
   ],
   "source": [
    "# Imprimir solo los valores de las listas\n",
    "diccionario_de_listas ={\n",
    "    'lista 1':[1,2,3,4,5],\n",
    "    'lista 2':['perro','gato','hamster','conejo','perico'],\n",
    "    'lista 3':[3.1416,45.6,67.89],\n",
    "    'lista 4':[True, False, None]\n",
    "}\n",
    "for valores in diccionario_de_listas.values():\n",
    "    print(valores)"
   ]
  },
  {
   "cell_type": "code",
   "execution_count": 19,
   "metadata": {},
   "outputs": [
    {
     "name": "stdout",
     "output_type": "stream",
     "text": [
      "lista 1 -> [1, 2, 3, 4, 5]\n",
      "lista 2 -> ['perro', 'gato', 'hamster', 'conejo', 'perico']\n",
      "lista 3 -> [3.1416, 45.6, 67.89]\n",
      "lista 4 -> [True, False, None]\n"
     ]
    }
   ],
   "source": [
    "# Imprimir llaves y valores de las listas\n",
    "diccionario_de_listas ={\n",
    "    'lista 1':[1,2,3,4,5],\n",
    "    'lista 2':['perro','gato','hamster','conejo','perico'],\n",
    "    'lista 3':[3.1416,45.6,67.89],\n",
    "    'lista 4':[True, False, None]\n",
    "}\n",
    "for llave, valores in diccionario_de_listas.items():\n",
    "    print(llave, '->', valores)"
   ]
  },
  {
   "cell_type": "markdown",
   "metadata": {},
   "source": [
    "## Ejemplos de sintaxis donde los diccionarios contienen listas y listas que contienen diccionarios."
   ]
  },
  {
   "cell_type": "code",
   "execution_count": 20,
   "metadata": {},
   "outputs": [
    {
     "name": "stdout",
     "output_type": "stream",
     "text": [
      "natural_num - [45, 78, 100, 34]\n",
      "decimal_num - [34.5, 3.1416, 58.4, 12.45]\n",
      "int_num - [1, 2, 0, -11, -56]\n"
     ]
    }
   ],
   "source": [
    "# imprimir el diccionario: super_diccionario\n",
    "def run():\n",
    "    mi_lista = [1, 'Geología', 5.5, True ] # lista de cada tipo de dato\n",
    "    mi_diccionario = {\n",
    "        'Primavera':'Temperatura cálida',\n",
    "        'Verano':'Temperatura caliente extrema',\n",
    "        'Otoño':'Temperatura fresca',\n",
    "        'Invierno': 'Temperatura fría extrema'\n",
    "    }\n",
    "    mi_super_lista = [\n",
    "        {'Primavera':'Temperatura cálida','Verano':'Temperatura caliente extrema','Otoño':'Temperatura fresca','Invierno': 'Temperatura fría extrema'},\n",
    "        {'Lamborghini':'Rojo','Corvette':'Amarillo','Charger':'Gris'},\n",
    "        {'Primavera':'Ir a la Montaña','Verano':'Playa','Otoño':'Bosque','Invierno':'Nieve'},\n",
    "        {'Lambirghini':2021,'Corvette':2010,'Charger': 2003}\n",
    "    ]\n",
    "\n",
    "    super_diccionario = {\n",
    "        \"natural_num\" : [45,78,100,34],\n",
    "        \"decimal_num\" : [34.5,3.1416,58.4,12.45],\n",
    "        \"int_num\" : [1,2,0,-11,-56]\n",
    "    }\n",
    "\n",
    "    for llaves, valores in super_diccionario.items():\n",
    "        print(llaves, \"-\", valores)\n",
    "\n",
    "\n",
    "if __name__ == '__main__':\n",
    "    run()"
   ]
  },
  {
   "cell_type": "code",
   "execution_count": 4,
   "metadata": {},
   "outputs": [
    {
     "name": "stdout",
     "output_type": "stream",
     "text": [
      "{'Primavera': 'Temperatura cálida', 'Verano': 'Temperatura caliente extrema', 'Otoño': 'Temperatura fresca', 'Invierno': 'Temperatura fría extrema'}\n",
      "{'Lamborghini': 'Rojo', 'Corvette': 'Amarillo', 'Charger': 'Gris'}\n",
      "{'Primavera': 'Ir a la Montaña', 'Verano': 'Ir a la Playa', 'Otoño': 'Ir al Bosque', 'Invierno': 'Jugar con la Nieve'}\n",
      "{'Lamborghini': 2021, 'Corvette': 2010, 'Charger': 2003}\n"
     ]
    }
   ],
   "source": [
    "# imprimir la lista: mi_super_lista\n",
    "def run():\n",
    "    mi_lista = [1, 'Geología', 5.5, True ] # lista de cada tipo de dato\n",
    "    mi_diccionario = {\n",
    "        'Primavera':'Temperatura cálida',\n",
    "        'Verano':'Temperatura caliente extrema',\n",
    "        'Otoño':'Temperatura fresca',\n",
    "        'Invierno': 'Temperatura fría extrema'\n",
    "    }\n",
    "    mi_super_lista = [\n",
    "        {'Primavera':'Temperatura cálida','Verano':'Temperatura caliente extrema','Otoño':'Temperatura fresca','Invierno': 'Temperatura fría extrema'},\n",
    "        {'Lamborghini':'Rojo','Corvette':'Amarillo','Charger':'Gris'},\n",
    "        {'Primavera':'Ir a la Montaña','Verano':'Ir a la Playa','Otoño':'Ir al Bosque','Invierno':'Jugar con la Nieve'},\n",
    "        {'Lamborghini':2021,'Corvette':2010,'Charger': 2003}\n",
    "    ]\n",
    "\n",
    "    super_diccionario = {\n",
    "        \"natural_num\" : [45,78,100,34],\n",
    "        \"decimal_num\" : [34.5,3.1416,58.4,12.45],\n",
    "        \"int_num\" : [1,2,0,-11,-56]\n",
    "    }\n",
    "\n",
    "    for lista in mi_super_lista:\n",
    "        print(lista)\n",
    "\n",
    "\n",
    "if __name__ == '__main__':\n",
    "    run()"
   ]
  },
  {
   "cell_type": "markdown",
   "metadata": {},
   "source": [
    "## Resumen\n",
    "\n",
    "1. Se puede crear programas donde las listas tengan uno o varios diccionarios y a su vez que los diccionarios contengan una o varias listas\n",
    "2. Para crear diccionarios en las listas, se coloca la sintaxis del diccionario, dentro de los corchetes [ ], de las listas.\n",
    "3. Para crear listas en los diccionarios, se usa la sintaxis del diccionario y como llave se coloca el nombre de la lista y en los valores, se colocan los corchetes [ ] de las listas y dentro de estos, se colocan los valoes de la lista y que pueden ser de cualquier tipo de dato."
   ]
  },
  {
   "cell_type": "markdown",
   "metadata": {},
   "source": [
    "## Referencias\n",
    "\n",
    "[Python Intermediate course. Platzi](https://platzi.com/clases/2255-python-intermedio/36462-listas-y-diccionarios-anidados/)"
   ]
  }
 ],
 "metadata": {
  "interpreter": {
   "hash": "4ee08b0487832ff03f0fdf4b6eade6848fbbb6f348c487e64472b02f35273942"
  },
  "kernelspec": {
   "display_name": "Python 3.10.0 64-bit ('py3_10': conda)",
   "language": "python",
   "name": "python3"
  },
  "language_info": {
   "codemirror_mode": {
    "name": "ipython",
    "version": 3
   },
   "file_extension": ".py",
   "mimetype": "text/x-python",
   "name": "python",
   "nbconvert_exporter": "python",
   "pygments_lexer": "ipython3",
   "version": "3.10.0"
  },
  "orig_nbformat": 4
 },
 "nbformat": 4,
 "nbformat_minor": 2
}
