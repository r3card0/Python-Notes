{
 "cells": [
  {
   "cell_type": "markdown",
   "metadata": {},
   "source": [
    "# Diccionarios"
   ]
  },
  {
   "cell_type": "markdown",
   "metadata": {},
   "source": [
    "Un diccionario es una variable que almacena datos en pares. \n",
    "\n",
    "Un diccionario pertenece a las estructuras de datos y guarda elementos en pares conocidos como llaves-Valor. Las llaves y valores en inglés se conocen como keys, items. "
   ]
  },
  {
   "cell_type": "markdown",
   "metadata": {},
   "source": [
    "Las {} se usan para definir a los diccionarios.\n",
    "\n",
    "Dentro de las llaves están 3 elementos: key : items\n",
    "1. key -> es el índice de los valores\n",
    "2. : -> separa a las keys de los items\n",
    "3. items -> son los valores a almacenar"
   ]
  },
  {
   "cell_type": "code",
   "execution_count": null,
   "metadata": {},
   "outputs": [],
   "source": [
    "# ejemplo de la estructura básica de un diccionario\n",
    "def run():\n",
    "    mi_diccionario = {\n",
    "        \"key-1\" : \"item-1\",\n",
    "        \"key-2\" : \"item-2\"\n",
    "    }\n",
    "\n",
    "    print(mi_diccionario)\n",
    "\n",
    "if __name__==\"__main__\":\n",
    "    run()"
   ]
  },
  {
   "cell_type": "markdown",
   "metadata": {},
   "source": [
    "Un ejemplo práctico del uso de los diccionarios  es cuando tienes una lista de personas con la carrera que estudiaron"
   ]
  },
  {
   "cell_type": "code",
   "execution_count": null,
   "metadata": {},
   "outputs": [],
   "source": [
    "# ejemplo práctico de un diccionario\n",
    "def run():\n",
    "    profesionistas = {\n",
    "        \"Hugo Sánchez\" : \"Futbolista\",\n",
    "        \"Shakira\" : \"Cantante\",\n",
    "        \"Darth Vader\" : \"Lord Sith\",\n",
    "        \"Gregory House\" : \"Médico\",\n",
    "        \"César Millan\" : \"Encantador de Perros\"\n",
    "    }\n",
    "\n",
    "    print(profesionistas)\n",
    "\n",
    "if __name__==\"__main__\":\n",
    "    run()"
   ]
  },
  {
   "cell_type": "markdown",
   "metadata": {},
   "source": [
    "Los diccionarios guardan elementos donde se puede acceder a ellos través de llaves o keys. "
   ]
  },
  {
   "cell_type": "code",
   "execution_count": null,
   "metadata": {},
   "outputs": [],
   "source": [
    "# ejemplo uso de key para accesar a un valor\n",
    "def run():\n",
    "    profesionistas = {\n",
    "        \"Hugo Sánchez\" : \"Futbolista\",\n",
    "        \"Shakira\" : \"Cantante\",\n",
    "        \"Darth Vader\" : \"Lord Sith\",\n",
    "        \"Gregory House\" : \"Médico\",\n",
    "        \"César Millan\" : \"Encantador de Perros\"\n",
    "    }\n",
    "\n",
    "    print(profesionistas[\"César Millan\"])   #\n",
    "\n",
    "if __name__==\"__main__\":\n",
    "    run()"
   ]
  },
  {
   "cell_type": "markdown",
   "metadata": {},
   "source": [
    "Se puede acceder a varios valores a través de varios keys."
   ]
  },
  {
   "cell_type": "code",
   "execution_count": null,
   "metadata": {},
   "outputs": [],
   "source": [
    "# ejemplo acceder a diversos valores en un diccionario\n",
    "def run():\n",
    "    profesionistas = {\n",
    "        \"Hugo Sánchez\" : \"Futbolista\",\n",
    "        \"Shakira\" : \"Cantante\",\n",
    "        \"Darth Vader\" : \"Lord Sith\",\n",
    "        \"Gregory House\" : \"Médico\",\n",
    "        \"César Millan\" : \"Encantador de Perros\"\n",
    "    }\n",
    "\n",
    "    print(profesionistas[\"César Millan\"])\n",
    "    print(profesionistas[\"Shakira\"])\n",
    "    print(profesionistas[\"Darth Vader\"])\n",
    "\n",
    "if __name__==\"__main__\":\n",
    "    run()"
   ]
  },
  {
   "cell_type": "markdown",
   "metadata": {},
   "source": [
    "Otro ejemplo práctico del uso de diccionarios sería almacenar la cantidad de población de un país. Supongamos que tenemos los siguientes paises con sus respectivas poblaciones:\n",
    "\n",
    "1. China = 1,451,851,268\n",
    "2. USA = 335,169,238\n",
    "3. Argentina = 46,054,712\n",
    "4. Camerún = 27,582,360"
   ]
  },
  {
   "cell_type": "code",
   "execution_count": null,
   "metadata": {},
   "outputs": [],
   "source": [
    "# ejemplo poblacion de paises en un diccionario\n",
    "def run():\n",
    "    poblacion_paises = {\n",
    "        \"China\" : 1451851268,\n",
    "        \"USA\" : 335169238,\n",
    "        \"Argentina\" : 46054712,\n",
    "        \"Camerún\" : 27582360      \n",
    "    }\n",
    "\n",
    "    print(poblacion_paises[\"Argentina\"])\n",
    "    \n",
    "\n",
    "if __name__==\"__main__\":\n",
    "    run()"
   ]
  },
  {
   "cell_type": "markdown",
   "metadata": {},
   "source": [
    "## Uso de **for** en los diccionarios"
   ]
  },
  {
   "cell_type": "markdown",
   "metadata": {},
   "source": [
    "Crear un diccionario que contenga el símbolo y el nombre de los elementos químicos que se encuentran en el Sol."
   ]
  },
  {
   "cell_type": "code",
   "execution_count": null,
   "metadata": {},
   "outputs": [],
   "source": [
    "sun_elements = {\n",
    "    'H':'Hydrogeno',\n",
    "    'He' : 'Helio',\n",
    "    'O': 'Oxígeno',\n",
    "    'N':'Nitrogeno',\n",
    "    'Si':'Silicio',\n",
    "    'Mg':'Magnesio',\n",
    "    'Na':'Sodio',\n",
    "    'K':'Potasio',\n",
    "    'Ca': 'Calcio',\n",
    "    'P': 'Fósforo',\n",
    "    'S':'Azufre',\n",
    "    'Fe':'Fierro',\n",
    "    'Al':'Aluminio',\n",
    "    'Cu': 'Cobre'\n",
    "}\n",
    "# print(sun_elements)\n",
    "for symbol,element in sun_elements.items():\n",
    "    print(symbol,':',element)\n"
   ]
  },
  {
   "cell_type": "markdown",
   "metadata": {},
   "source": [
    "## Resumen\n",
    "\n",
    "1. Los diccionarios son variables y estructuras de datos que almacenan información con un índice.\n",
    "2. Los diccionarios son mutables"
   ]
  },
  {
   "cell_type": "markdown",
   "metadata": {},
   "source": [
    "## Referencias\n",
    "\n",
    "[Python Basic Course](https://platzi.com/clases/1937-python/29648-que-son-los-diccionarios/)\n",
    "\n",
    "\n",
    "[freecodecamp](https://www.freecodecamp.org/espanol/news/compresion-de-diccionario-en-python-explicado-con-ejemplos/)"
   ]
  }
 ],
 "metadata": {
  "interpreter": {
   "hash": "aee8b7b246df8f9039afb4144a1f6fd8d2ca17a180786b69acc140d282b71a49"
  },
  "kernelspec": {
   "display_name": "Python 3 (ipykernel)",
   "language": "python",
   "name": "python3"
  },
  "language_info": {
   "codemirror_mode": {
    "name": "ipython",
    "version": 3
   },
   "file_extension": ".py",
   "mimetype": "text/x-python",
   "name": "python",
   "nbconvert_exporter": "python",
   "pygments_lexer": "ipython3",
   "version": "3.10.0"
  }
 },
 "nbformat": 4,
 "nbformat_minor": 2
}
