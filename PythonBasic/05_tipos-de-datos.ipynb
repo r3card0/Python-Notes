{
 "cells": [
  {
   "cell_type": "markdown",
   "metadata": {},
   "source": [
    "# Tipos de Datos"
   ]
  },
  {
   "cell_type": "markdown",
   "metadata": {},
   "source": [
    "En Python hay varios tipos de datos. En este notebook, hablaremos de los tipos de datos, numéricos, de texto y booleanos. Además se mostrara como hacer conversiones de tipos de datos y en que casos se aplica."
   ]
  },
  {
   "cell_type": "markdown",
   "metadata": {
    "cell_id": "00000-8cf0da64-beee-47a0-ba2f-d8dddc3949a7",
    "deepnote_cell_type": "markdown",
    "id": "wR-t0VVLRdXj"
   },
   "source": [
    "## Tipos de datos: Númericos\n",
    "\n",
    "\n",
    "## Enteros, de punto flotante y complejos\n",
    "\n",
    "### Enteros\n",
    "1. Son los números enteros. \n",
    "2. No tienen decimales. \n",
    "3. En Python son identificados como *integers*.\n",
    "4. Los números enteros tienen precisión ilimitada.\n",
    "5. Usa la función **int( )**  \n",
    "\n",
    "### De punto flotantes\n",
    "1. en palabras sencillas son los números que tienen decimales\n",
    "2. En Python son identificados como floating.\n",
    "3. Usa la función **float( )**\n",
    "\n",
    "\n",
    "### Números complejos\n",
    "1. Son los números complejos tienen una parte real y una imaginaria.\n",
    "2. Las partes, real e imaginaria pueden ser representadas con números de punto flotante\n",
    "3. En python son identificados como *complex*\n",
    "4. Se usa la función **complex( )**\n",
    "5. Añadiendo 'j' o 'J', a un literal numérico, se obtiene un número imaginario\n",
    "\n",
    "En este documento se hablara de los número enteros y de punto flotante.\n",
    "\n",
    "\n",
    "## Operaciones Artiméticas.\n",
    "Python puede realizar operaciones artméticas mixtas:\n",
    "\n",
    "\n",
    "\n",
    "\n"
   ]
  },
  {
   "cell_type": "markdown",
   "metadata": {
    "cell_id": "00001-9a38c1dc-c58a-427f-afe3-705d46b5843d",
    "deepnote_cell_type": "markdown",
    "id": "zF5FY5llNRnp"
   },
   "source": [
    "Suma de números enteros"
   ]
  },
  {
   "cell_type": "code",
   "execution_count": 1,
   "metadata": {
    "cell_id": "00002-cc1c09b1-c266-47c9-8073-5472041d1da6",
    "colab": {
     "base_uri": "https://localhost:8080/"
    },
    "deepnote_cell_type": "code",
    "deepnote_output_heights": [
     21.1875
    ],
    "executionInfo": {
     "elapsed": 310,
     "status": "ok",
     "timestamp": 1639523393965,
     "user": {
      "displayName": "Ricardo Saldivar",
      "photoUrl": "https://lh3.googleusercontent.com/a-/AOh14Ghz66khcqYkiYlYy6FmqYru2yXWzlx8Xi-52ZIi=s64",
      "userId": "09339938360877425787"
     },
     "user_tz": 360
    },
    "id": "UAx5PozxNTf_",
    "outputId": "918cc3f7-dfd3-4de6-ef62-79105fc929c2"
   },
   "outputs": [
    {
     "data": {
      "text/plain": [
       "3"
      ]
     },
     "execution_count": 1,
     "metadata": {},
     "output_type": "execute_result"
    }
   ],
   "source": [
    "1 + 2"
   ]
  },
  {
   "cell_type": "markdown",
   "metadata": {
    "cell_id": "00003-930f53d2-d0e8-4506-9d39-142ce1ff1677",
    "deepnote_cell_type": "markdown",
    "id": "QJVcwWnUNtln"
   },
   "source": [
    "Suma de números decimales"
   ]
  },
  {
   "cell_type": "code",
   "execution_count": 2,
   "metadata": {
    "cell_id": "00004-322c95f3-e5d7-4921-b83a-a67cb45f482a",
    "colab": {
     "base_uri": "https://localhost:8080/"
    },
    "deepnote_cell_type": "code",
    "deepnote_output_heights": [
     21.1875
    ],
    "executionInfo": {
     "elapsed": 193,
     "status": "ok",
     "timestamp": 1639523496610,
     "user": {
      "displayName": "Ricardo Saldivar",
      "photoUrl": "https://lh3.googleusercontent.com/a-/AOh14Ghz66khcqYkiYlYy6FmqYru2yXWzlx8Xi-52ZIi=s64",
      "userId": "09339938360877425787"
     },
     "user_tz": 360
    },
    "id": "OEsfwsMENwD4",
    "outputId": "191de48b-f0f8-46ad-ef3d-10d757d1b788"
   },
   "outputs": [
    {
     "data": {
      "text/plain": [
       "5.5416"
      ]
     },
     "execution_count": 2,
     "metadata": {},
     "output_type": "execute_result"
    }
   ],
   "source": [
    "2.4 + 3.1416"
   ]
  },
  {
   "cell_type": "markdown",
   "metadata": {
    "cell_id": "00005-0d8b1399-9c33-4f86-bbce-1ad48d612627",
    "deepnote_cell_type": "markdown",
    "id": "DEquMbFoN4Nv"
   },
   "source": [
    "Conversión de número decimal a entero usando la funcion **int( )**"
   ]
  },
  {
   "cell_type": "code",
   "execution_count": 3,
   "metadata": {
    "cell_id": "00006-99be2c38-35ec-46d3-9a75-151dc2ef5f13",
    "colab": {
     "base_uri": "https://localhost:8080/"
    },
    "deepnote_cell_type": "code",
    "deepnote_output_heights": [
     21.1875
    ],
    "executionInfo": {
     "elapsed": 178,
     "status": "ok",
     "timestamp": 1639523577790,
     "user": {
      "displayName": "Ricardo Saldivar",
      "photoUrl": "https://lh3.googleusercontent.com/a-/AOh14Ghz66khcqYkiYlYy6FmqYru2yXWzlx8Xi-52ZIi=s64",
      "userId": "09339938360877425787"
     },
     "user_tz": 360
    },
    "id": "C5aRif2cN_LX",
    "outputId": "7fc39f0a-3156-4e2f-dc28-47c791baacd7"
   },
   "outputs": [
    {
     "data": {
      "text/plain": [
       "5"
      ]
     },
     "execution_count": 3,
     "metadata": {},
     "output_type": "execute_result"
    }
   ],
   "source": [
    "int(2.4 + 3.1416)"
   ]
  },
  {
   "cell_type": "markdown",
   "metadata": {
    "cell_id": "00007-5daa2925-1af1-4d39-957e-5efc4587b279",
    "deepnote_cell_type": "markdown",
    "id": "tjLZSam1TFB5"
   },
   "source": [
    "Conversión de un número entero a número decimal usando la función **float( )**"
   ]
  },
  {
   "cell_type": "code",
   "execution_count": 4,
   "metadata": {
    "cell_id": "00008-3d1278d7-1ef7-4b52-b84f-53c611ad806b",
    "colab": {
     "base_uri": "https://localhost:8080/"
    },
    "deepnote_cell_type": "code",
    "deepnote_output_heights": [
     21.1875
    ],
    "executionInfo": {
     "elapsed": 197,
     "status": "ok",
     "timestamp": 1639524877336,
     "user": {
      "displayName": "Ricardo Saldivar",
      "photoUrl": "https://lh3.googleusercontent.com/a-/AOh14Ghz66khcqYkiYlYy6FmqYru2yXWzlx8Xi-52ZIi=s64",
      "userId": "09339938360877425787"
     },
     "user_tz": 360
    },
    "id": "tmqWzhVITBBC",
    "outputId": "8d8dbc7d-f834-4821-e84d-d091029c3454"
   },
   "outputs": [
    {
     "data": {
      "text/plain": [
       "5.0"
      ]
     },
     "execution_count": 4,
     "metadata": {},
     "output_type": "execute_result"
    }
   ],
   "source": [
    "float(5)"
   ]
  },
  {
   "cell_type": "markdown",
   "metadata": {
    "cell_id": "00009-063192b7-1fe4-43cb-ae64-c158a86ff198",
    "deepnote_cell_type": "markdown",
    "id": "SW1A3ZNfOOp3"
   },
   "source": [
    "Suma de dos número decimales y redondeo de su resultado a dos decimas usando la función **round( )**"
   ]
  },
  {
   "cell_type": "code",
   "execution_count": 5,
   "metadata": {
    "cell_id": "00010-0018ebfb-3e1e-4f79-82a9-25b0a9a70939",
    "colab": {
     "base_uri": "https://localhost:8080/"
    },
    "deepnote_cell_type": "code",
    "deepnote_output_heights": [
     21.1875
    ],
    "executionInfo": {
     "elapsed": 177,
     "status": "ok",
     "timestamp": 1639523677794,
     "user": {
      "displayName": "Ricardo Saldivar",
      "photoUrl": "https://lh3.googleusercontent.com/a-/AOh14Ghz66khcqYkiYlYy6FmqYru2yXWzlx8Xi-52ZIi=s64",
      "userId": "09339938360877425787"
     },
     "user_tz": 360
    },
    "id": "BezHAglxOYf5",
    "outputId": "0b48f6ef-8d9e-4f14-e15e-64f425d48a14"
   },
   "outputs": [
    {
     "data": {
      "text/plain": [
       "5.54"
      ]
     },
     "execution_count": 5,
     "metadata": {},
     "output_type": "execute_result"
    }
   ],
   "source": [
    "round(2.4 + 3.1416, 2)"
   ]
  },
  {
   "cell_type": "markdown",
   "metadata": {
    "cell_id": "00011-11c3b125-24f9-49b1-b25f-aa0199e1f97f",
    "deepnote_cell_type": "markdown",
    "id": "UJdS0duqPE7B"
   },
   "source": [
    "### Sustracción"
   ]
  },
  {
   "cell_type": "code",
   "execution_count": 6,
   "metadata": {
    "cell_id": "00012-b59ddbf9-c028-4267-ae38-402fb26d467d",
    "colab": {
     "base_uri": "https://localhost:8080/"
    },
    "deepnote_cell_type": "code",
    "deepnote_output_heights": [
     21.1875
    ],
    "executionInfo": {
     "elapsed": 186,
     "status": "ok",
     "timestamp": 1639523849938,
     "user": {
      "displayName": "Ricardo Saldivar",
      "photoUrl": "https://lh3.googleusercontent.com/a-/AOh14Ghz66khcqYkiYlYy6FmqYru2yXWzlx8Xi-52ZIi=s64",
      "userId": "09339938360877425787"
     },
     "user_tz": 360
    },
    "id": "QR2XCKUwPHfH",
    "outputId": "161305f9-08b8-4a99-cac2-0fb85a36a6bd"
   },
   "outputs": [
    {
     "data": {
      "text/plain": [
       "31"
      ]
     },
     "execution_count": 6,
     "metadata": {},
     "output_type": "execute_result"
    }
   ],
   "source": [
    "2021 - 1990"
   ]
  },
  {
   "cell_type": "code",
   "execution_count": 7,
   "metadata": {
    "cell_id": "00013-4d10fd24-b222-4e1d-ba84-4c24411b2aab",
    "colab": {
     "base_uri": "https://localhost:8080/"
    },
    "deepnote_cell_type": "code",
    "deepnote_output_heights": [
     21.1875
    ],
    "executionInfo": {
     "elapsed": 207,
     "status": "ok",
     "timestamp": 1639523892481,
     "user": {
      "displayName": "Ricardo Saldivar",
      "photoUrl": "https://lh3.googleusercontent.com/a-/AOh14Ghz66khcqYkiYlYy6FmqYru2yXWzlx8Xi-52ZIi=s64",
      "userId": "09339938360877425787"
     },
     "user_tz": 360
    },
    "id": "024ioAVYPKin",
    "outputId": "0a768262-df9f-40be-ebe8-dda05e37e4aa"
   },
   "outputs": [
    {
     "data": {
      "text/plain": [
       "7.912000399999999"
      ]
     },
     "execution_count": 7,
     "metadata": {},
     "output_type": "execute_result"
    }
   ],
   "source": [
    "13.1434234 - 5.231423"
   ]
  },
  {
   "cell_type": "code",
   "execution_count": 8,
   "metadata": {
    "cell_id": "00014-9e9fa429-b6cc-431a-a451-065e27292366",
    "colab": {
     "base_uri": "https://localhost:8080/"
    },
    "deepnote_cell_type": "code",
    "deepnote_output_heights": [
     21.1875
    ],
    "executionInfo": {
     "elapsed": 174,
     "status": "ok",
     "timestamp": 1639523915153,
     "user": {
      "displayName": "Ricardo Saldivar",
      "photoUrl": "https://lh3.googleusercontent.com/a-/AOh14Ghz66khcqYkiYlYy6FmqYru2yXWzlx8Xi-52ZIi=s64",
      "userId": "09339938360877425787"
     },
     "user_tz": 360
    },
    "id": "XUv6WBZfPU93",
    "outputId": "87db3f7a-35bb-4bc1-c092-581f904411e9"
   },
   "outputs": [
    {
     "data": {
      "text/plain": [
       "7.912"
      ]
     },
     "execution_count": 8,
     "metadata": {},
     "output_type": "execute_result"
    }
   ],
   "source": [
    "round(13.1434234 - 5.231423,3)"
   ]
  },
  {
   "cell_type": "code",
   "execution_count": 9,
   "metadata": {
    "cell_id": "00015-bb76fe39-14d6-4c78-b7d8-f5f36037a9d9",
    "colab": {
     "base_uri": "https://localhost:8080/"
    },
    "deepnote_cell_type": "code",
    "deepnote_output_heights": [
     21.1875
    ],
    "executionInfo": {
     "elapsed": 224,
     "status": "ok",
     "timestamp": 1639523933630,
     "user": {
      "displayName": "Ricardo Saldivar",
      "photoUrl": "https://lh3.googleusercontent.com/a-/AOh14Ghz66khcqYkiYlYy6FmqYru2yXWzlx8Xi-52ZIi=s64",
      "userId": "09339938360877425787"
     },
     "user_tz": 360
    },
    "id": "d3FeYsoHPbin",
    "outputId": "c2f4046d-bb6b-4c51-e772-2e5934cc4515"
   },
   "outputs": [
    {
     "data": {
      "text/plain": [
       "7"
      ]
     },
     "execution_count": 9,
     "metadata": {},
     "output_type": "execute_result"
    }
   ],
   "source": [
    "int(13.1434234 - 5.231423)"
   ]
  },
  {
   "cell_type": "markdown",
   "metadata": {
    "cell_id": "00016-5b261682-2951-4e90-aaf8-c9c3e3f62116",
    "deepnote_cell_type": "markdown",
    "id": "rIN_cl7NQOuP"
   },
   "source": [
    "### Multiplicación"
   ]
  },
  {
   "cell_type": "code",
   "execution_count": 10,
   "metadata": {
    "cell_id": "00017-b8381400-0812-4a33-800f-f638b54ba9a2",
    "colab": {
     "base_uri": "https://localhost:8080/"
    },
    "deepnote_cell_type": "code",
    "deepnote_output_heights": [
     21.1875
    ],
    "deepnote_to_be_reexecuted": false,
    "executionInfo": {
     "elapsed": 192,
     "status": "ok",
     "timestamp": 1639524156152,
     "user": {
      "displayName": "Ricardo Saldivar",
      "photoUrl": "https://lh3.googleusercontent.com/a-/AOh14Ghz66khcqYkiYlYy6FmqYru2yXWzlx8Xi-52ZIi=s64",
      "userId": "09339938360877425787"
     },
     "user_tz": 360
    },
    "execution_millis": 27,
    "execution_start": 1639538865309,
    "id": "44DwmZ6mQQOB",
    "outputId": "58011f00-0853-4ede-8070-e6a179cba1d0",
    "source_hash": "c2a9c3dc"
   },
   "outputs": [
    {
     "data": {
      "text/plain": [
       "48"
      ]
     },
     "execution_count": 10,
     "metadata": {},
     "output_type": "execute_result"
    }
   ],
   "source": [
    "8 * 6"
   ]
  },
  {
   "cell_type": "code",
   "execution_count": 11,
   "metadata": {
    "cell_id": "00018-b18f279d-b530-4922-b856-9021c03db1cf",
    "colab": {
     "base_uri": "https://localhost:8080/"
    },
    "deepnote_cell_type": "code",
    "deepnote_output_heights": [
     21.1875
    ],
    "executionInfo": {
     "elapsed": 175,
     "status": "ok",
     "timestamp": 1639524197456,
     "user": {
      "displayName": "Ricardo Saldivar",
      "photoUrl": "https://lh3.googleusercontent.com/a-/AOh14Ghz66khcqYkiYlYy6FmqYru2yXWzlx8Xi-52ZIi=s64",
      "userId": "09339938360877425787"
     },
     "user_tz": 360
    },
    "id": "s0f4cLG3QW3X",
    "outputId": "f3d312cc-97b2-4313-cd30-cc755fe5b575"
   },
   "outputs": [
    {
     "data": {
      "text/plain": [
       "15.7081725"
      ]
     },
     "execution_count": 11,
     "metadata": {},
     "output_type": "execute_result"
    }
   ],
   "source": [
    "3.1416345 * 5"
   ]
  },
  {
   "cell_type": "code",
   "execution_count": 12,
   "metadata": {
    "cell_id": "00019-5c76b4ab-26d4-46b4-b29d-89328df033a8",
    "colab": {
     "base_uri": "https://localhost:8080/"
    },
    "deepnote_cell_type": "code",
    "deepnote_output_heights": [
     21.1875
    ],
    "executionInfo": {
     "elapsed": 194,
     "status": "ok",
     "timestamp": 1639524231870,
     "user": {
      "displayName": "Ricardo Saldivar",
      "photoUrl": "https://lh3.googleusercontent.com/a-/AOh14Ghz66khcqYkiYlYy6FmqYru2yXWzlx8Xi-52ZIi=s64",
      "userId": "09339938360877425787"
     },
     "user_tz": 360
    },
    "id": "VZZuVnOaQe1f",
    "outputId": "a3555176-9771-4235-bd5d-423dccadaf26"
   },
   "outputs": [
    {
     "data": {
      "text/plain": [
       "15.71"
      ]
     },
     "execution_count": 12,
     "metadata": {},
     "output_type": "execute_result"
    }
   ],
   "source": [
    "round(3.1416345 * 5, 2)"
   ]
  },
  {
   "cell_type": "code",
   "execution_count": 13,
   "metadata": {
    "cell_id": "00020-6b0c724e-9cd4-4768-807a-c4cda67ddeab",
    "colab": {
     "base_uri": "https://localhost:8080/"
    },
    "deepnote_cell_type": "code",
    "deepnote_output_heights": [
     21.1875
    ],
    "executionInfo": {
     "elapsed": 199,
     "status": "ok",
     "timestamp": 1639524253468,
     "user": {
      "displayName": "Ricardo Saldivar",
      "photoUrl": "https://lh3.googleusercontent.com/a-/AOh14Ghz66khcqYkiYlYy6FmqYru2yXWzlx8Xi-52ZIi=s64",
      "userId": "09339938360877425787"
     },
     "user_tz": 360
    },
    "id": "PChAfqxGQoH_",
    "outputId": "21b8541b-9610-479a-b4af-0385e39ac4ce"
   },
   "outputs": [
    {
     "data": {
      "text/plain": [
       "15"
      ]
     },
     "execution_count": 13,
     "metadata": {},
     "output_type": "execute_result"
    }
   ],
   "source": [
    "int(3.1416345 * 5)"
   ]
  },
  {
   "cell_type": "markdown",
   "metadata": {
    "cell_id": "00021-b1167da5-1d72-4314-b3cb-f78042e5f8f9",
    "deepnote_cell_type": "markdown",
    "id": "3lIbUr-WQtNK"
   },
   "source": [
    "### División"
   ]
  },
  {
   "cell_type": "code",
   "execution_count": 14,
   "metadata": {
    "cell_id": "00022-2329b1ae-9605-4e99-a34d-c5ef6f7455d7",
    "colab": {
     "base_uri": "https://localhost:8080/"
    },
    "deepnote_cell_type": "code",
    "deepnote_output_heights": [
     21.1875
    ],
    "executionInfo": {
     "elapsed": 205,
     "status": "ok",
     "timestamp": 1639524275269,
     "user": {
      "displayName": "Ricardo Saldivar",
      "photoUrl": "https://lh3.googleusercontent.com/a-/AOh14Ghz66khcqYkiYlYy6FmqYru2yXWzlx8Xi-52ZIi=s64",
      "userId": "09339938360877425787"
     },
     "user_tz": 360
    },
    "id": "mTCL8yJVQvD4",
    "outputId": "0f07ddf5-4572-4de9-cf14-3a09ca31ca8e"
   },
   "outputs": [
    {
     "data": {
      "text/plain": [
       "5.0"
      ]
     },
     "execution_count": 14,
     "metadata": {},
     "output_type": "execute_result"
    }
   ],
   "source": [
    "15/3"
   ]
  },
  {
   "cell_type": "code",
   "execution_count": 15,
   "metadata": {
    "cell_id": "00023-fa510ace-a80f-480f-8107-57178f52da7c",
    "colab": {
     "base_uri": "https://localhost:8080/"
    },
    "deepnote_cell_type": "code",
    "deepnote_output_heights": [
     21.1875
    ],
    "executionInfo": {
     "elapsed": 190,
     "status": "ok",
     "timestamp": 1639524286609,
     "user": {
      "displayName": "Ricardo Saldivar",
      "photoUrl": "https://lh3.googleusercontent.com/a-/AOh14Ghz66khcqYkiYlYy6FmqYru2yXWzlx8Xi-52ZIi=s64",
      "userId": "09339938360877425787"
     },
     "user_tz": 360
    },
    "id": "QC60EN4pQybP",
    "outputId": "2c866b21-6c1a-49b0-b460-9534d8fcc749"
   },
   "outputs": [
    {
     "data": {
      "text/plain": [
       "5"
      ]
     },
     "execution_count": 15,
     "metadata": {},
     "output_type": "execute_result"
    }
   ],
   "source": [
    "15//3"
   ]
  },
  {
   "cell_type": "code",
   "execution_count": 16,
   "metadata": {
    "cell_id": "00024-2e8610ab-434d-4aa5-9a1c-5a3b37dd6117",
    "colab": {
     "base_uri": "https://localhost:8080/"
    },
    "deepnote_cell_type": "code",
    "deepnote_output_heights": [
     21.1875
    ],
    "executionInfo": {
     "elapsed": 184,
     "status": "ok",
     "timestamp": 1639524306628,
     "user": {
      "displayName": "Ricardo Saldivar",
      "photoUrl": "https://lh3.googleusercontent.com/a-/AOh14Ghz66khcqYkiYlYy6FmqYru2yXWzlx8Xi-52ZIi=s64",
      "userId": "09339938360877425787"
     },
     "user_tz": 360
    },
    "id": "zel6RxdwQ18i",
    "outputId": "0b23b5a1-6d95-4012-91b9-2eb42136bc50"
   },
   "outputs": [
    {
     "data": {
      "text/plain": [
       "5.078219"
      ]
     },
     "execution_count": 16,
     "metadata": {},
     "output_type": "execute_result"
    }
   ],
   "source": [
    "15.234657 / 3"
   ]
  },
  {
   "cell_type": "code",
   "execution_count": null,
   "metadata": {
    "cell_id": "00025-b8443a93-e5a0-4606-9a7a-685c448862d3",
    "colab": {
     "base_uri": "https://localhost:8080/"
    },
    "deepnote_cell_type": "code",
    "deepnote_output_heights": [
     21.1875
    ],
    "executionInfo": {
     "elapsed": 512,
     "status": "ok",
     "timestamp": 1639524327231,
     "user": {
      "displayName": "Ricardo Saldivar",
      "photoUrl": "https://lh3.googleusercontent.com/a-/AOh14Ghz66khcqYkiYlYy6FmqYru2yXWzlx8Xi-52ZIi=s64",
      "userId": "09339938360877425787"
     },
     "user_tz": 360
    },
    "id": "vuY5hIrRQ6C3",
    "outputId": "1c230b4c-ff0e-44d0-f3a6-59875f8d7428"
   },
   "outputs": [
    {
     "data": {
      "text/plain": [
       "5.08"
      ]
     },
     "execution_count": 53,
     "metadata": {},
     "output_type": "execute_result"
    }
   ],
   "source": [
    "round(15.234657 / 3, 2)"
   ]
  },
  {
   "cell_type": "code",
   "execution_count": 17,
   "metadata": {
    "cell_id": "00026-aa8ed2c8-cbef-4ba0-9974-8cfed4ed1a56",
    "colab": {
     "base_uri": "https://localhost:8080/"
    },
    "deepnote_cell_type": "code",
    "deepnote_output_heights": [
     21.1875
    ],
    "executionInfo": {
     "elapsed": 151,
     "status": "ok",
     "timestamp": 1639524340680,
     "user": {
      "displayName": "Ricardo Saldivar",
      "photoUrl": "https://lh3.googleusercontent.com/a-/AOh14Ghz66khcqYkiYlYy6FmqYru2yXWzlx8Xi-52ZIi=s64",
      "userId": "09339938360877425787"
     },
     "user_tz": 360
    },
    "id": "WP43IC6jQ_gg",
    "outputId": "b143492c-6625-463b-eaf0-b9fa760c0f33"
   },
   "outputs": [
    {
     "data": {
      "text/plain": [
       "5"
      ]
     },
     "execution_count": 17,
     "metadata": {},
     "output_type": "execute_result"
    }
   ],
   "source": [
    "int(15.234657 / 3)"
   ]
  },
  {
   "cell_type": "markdown",
   "metadata": {
    "cell_id": "00027-c5245d58-965f-4966-a85e-8425586a2863",
    "deepnote_cell_type": "markdown",
    "id": "nnVb9-mjRRnv"
   },
   "source": [
    "### Potencia\n",
    "\n",
    "Para calcular la potencia de cualquier número, se usa el doble **, siendo el primer número, la base y el segundo número será el exponente"
   ]
  },
  {
   "cell_type": "code",
   "execution_count": 18,
   "metadata": {
    "cell_id": "00028-c72b1853-6de6-41d2-b5b5-b56a34bd3989",
    "colab": {
     "base_uri": "https://localhost:8080/"
    },
    "deepnote_cell_type": "code",
    "deepnote_output_heights": [
     21.1875
    ],
    "executionInfo": {
     "elapsed": 178,
     "status": "ok",
     "timestamp": 1639524432332,
     "user": {
      "displayName": "Ricardo Saldivar",
      "photoUrl": "https://lh3.googleusercontent.com/a-/AOh14Ghz66khcqYkiYlYy6FmqYru2yXWzlx8Xi-52ZIi=s64",
      "userId": "09339938360877425787"
     },
     "user_tz": 360
    },
    "id": "Nibxna7vRS_v",
    "outputId": "279884e3-086b-44c9-f987-b510763c5e04"
   },
   "outputs": [
    {
     "data": {
      "text/plain": [
       "125"
      ]
     },
     "execution_count": 18,
     "metadata": {},
     "output_type": "execute_result"
    }
   ],
   "source": [
    "5 ** 3"
   ]
  },
  {
   "cell_type": "markdown",
   "metadata": {
    "cell_id": "00029-5cfb0f12-bc4f-4ed8-a7a7-5104e32d8fd5",
    "deepnote_cell_type": "markdown",
    "id": "C1k4YLE6Rr-o"
   },
   "source": [
    "Otra opción es usar la función **pow( )**"
   ]
  },
  {
   "cell_type": "code",
   "execution_count": 19,
   "metadata": {
    "cell_id": "00030-07c90b88-7031-4d60-b96e-1e82fe72ab53",
    "colab": {
     "base_uri": "https://localhost:8080/"
    },
    "deepnote_cell_type": "code",
    "deepnote_output_heights": [
     21.1875
    ],
    "executionInfo": {
     "elapsed": 182,
     "status": "ok",
     "timestamp": 1639524461024,
     "user": {
      "displayName": "Ricardo Saldivar",
      "photoUrl": "https://lh3.googleusercontent.com/a-/AOh14Ghz66khcqYkiYlYy6FmqYru2yXWzlx8Xi-52ZIi=s64",
      "userId": "09339938360877425787"
     },
     "user_tz": 360
    },
    "id": "O5fVNyfHRat5",
    "outputId": "316d036b-4165-4209-d0a1-0c9fa44ec76d"
   },
   "outputs": [
    {
     "data": {
      "text/plain": [
       "125"
      ]
     },
     "execution_count": 19,
     "metadata": {},
     "output_type": "execute_result"
    }
   ],
   "source": [
    "pow(5,3)"
   ]
  },
  {
   "cell_type": "markdown",
   "metadata": {
    "cell_id": "00031-d0b8b451-78c4-4a6d-98ec-464feab32890",
    "deepnote_cell_type": "markdown",
    "id": "hf0YxR-mSwrB"
   },
   "source": [
    "### Radicación\n",
    "\n",
    "Una manera para calcular la raíz cuadrada de un número, se puede usar el doble asteristo, **  y como exponente **0.5**"
   ]
  },
  {
   "cell_type": "code",
   "execution_count": 20,
   "metadata": {
    "cell_id": "00032-4d942577-7053-4459-955b-8942789aafeb",
    "colab": {
     "base_uri": "https://localhost:8080/"
    },
    "deepnote_cell_type": "code",
    "deepnote_output_heights": [
     21.1875
    ],
    "executionInfo": {
     "elapsed": 182,
     "status": "ok",
     "timestamp": 1639525201352,
     "user": {
      "displayName": "Ricardo Saldivar",
      "photoUrl": "https://lh3.googleusercontent.com/a-/AOh14Ghz66khcqYkiYlYy6FmqYru2yXWzlx8Xi-52ZIi=s64",
      "userId": "09339938360877425787"
     },
     "user_tz": 360
    },
    "id": "RTqtS6tDUHbi",
    "outputId": "43650eff-633c-4209-81fa-844e66cd4f22"
   },
   "outputs": [
    {
     "data": {
      "text/plain": [
       "9.0"
      ]
     },
     "execution_count": 20,
     "metadata": {},
     "output_type": "execute_result"
    }
   ],
   "source": [
    "81 ** 0.5"
   ]
  },
  {
   "cell_type": "code",
   "execution_count": 21,
   "metadata": {
    "cell_id": "00033-51345ac4-4a6d-4c58-98b6-f17aa438e2b7",
    "deepnote_cell_type": "code",
    "deepnote_output_heights": [
     21.1875
    ],
    "deepnote_to_be_reexecuted": false,
    "execution_millis": 3,
    "execution_start": 1639538993367,
    "source_hash": "defa0ef5",
    "tags": []
   },
   "outputs": [
    {
     "data": {
      "text/plain": [
       "81.0"
      ]
     },
     "execution_count": 21,
     "metadata": {},
     "output_type": "execute_result"
    }
   ],
   "source": [
    "6561 ** 0.5 # raíz cuadrada de 6561"
   ]
  },
  {
   "cell_type": "markdown",
   "metadata": {
    "cell_id": "00033-b36f1a6d-8b3f-44b5-af8b-0ed13fff348f",
    "deepnote_cell_type": "markdown",
    "id": "ym7cJwR0UmjK"
   },
   "source": [
    "### Operaciones artiméticas usando variables"
   ]
  },
  {
   "cell_type": "markdown",
   "metadata": {
    "cell_id": "00034-662475e7-7a60-4d59-a615-46797ec96f06",
    "deepnote_cell_type": "markdown",
    "id": "g0CDirQNLgg_"
   },
   "source": [
    "Suma de a y b"
   ]
  },
  {
   "cell_type": "code",
   "execution_count": 22,
   "metadata": {
    "cell_id": "00035-6a43f694-acd4-4b42-acc3-f32d25996c39",
    "colab": {
     "base_uri": "https://localhost:8080/"
    },
    "deepnote_cell_type": "code",
    "deepnote_to_be_reexecuted": false,
    "executionInfo": {
     "elapsed": 6075,
     "status": "ok",
     "timestamp": 1639522996570,
     "user": {
      "displayName": "Ricardo Saldivar",
      "photoUrl": "https://lh3.googleusercontent.com/a-/AOh14Ghz66khcqYkiYlYy6FmqYru2yXWzlx8Xi-52ZIi=s64",
      "userId": "09339938360877425787"
     },
     "user_tz": 360
    },
    "execution_millis": 10118,
    "execution_start": 1639539134105,
    "id": "HEdeIoUmLjuR",
    "outputId": "d314a73c-97f7-4d24-cb9d-b40b2dfa5e9d",
    "source_hash": "30644b6"
   },
   "outputs": [
    {
     "name": "stdout",
     "output_type": "stream",
     "text": [
      "Escribe un valor para a:34\n",
      "Escribe el valor de b:23\n",
      "3423\n"
     ]
    }
   ],
   "source": [
    "a = input('Escribe un valor para a:')\n",
    "b = input('Escribe el valor de b:')\n",
    "c = a + b\n",
    "print(c)"
   ]
  },
  {
   "cell_type": "markdown",
   "metadata": {
    "cell_id": "00036-bb510e5a-b9e9-46b5-8fd8-cb9c95262423",
    "deepnote_cell_type": "markdown",
    "id": "5A8ejKmhMaFg"
   },
   "source": [
    "En la operación anterior, Python juntó los valores de las variables. A esta acción se le llama concatenar. Python concatena los valores que considera como texto. Por tal motivo, es necesario indicarle a Python que se trata de valores numéricos ya sea enteros o decimales. Para convertir los tipo de datos de texto a numericos se usan las funciones int( ) para enteros y float( ) para decimales. En el siguiente ejemplo se convertira a números enteros."
   ]
  },
  {
   "cell_type": "markdown",
   "metadata": {
    "cell_id": "00037-a9e5b602-5ea9-44c7-b957-0e7c425ad390",
    "deepnote_cell_type": "markdown",
    "id": "VODFVYDdZH64"
   },
   "source": [
    "1) Usar la función int( ) en las variables a y b."
   ]
  },
  {
   "cell_type": "code",
   "execution_count": 23,
   "metadata": {
    "cell_id": "00038-3de2fa3c-833f-47f6-8537-c6774870af15",
    "colab": {
     "base_uri": "https://localhost:8080/"
    },
    "deepnote_cell_type": "code",
    "executionInfo": {
     "elapsed": 6062,
     "status": "ok",
     "timestamp": 1639526669545,
     "user": {
      "displayName": "Ricardo Saldivar",
      "photoUrl": "https://lh3.googleusercontent.com/a-/AOh14Ghz66khcqYkiYlYy6FmqYru2yXWzlx8Xi-52ZIi=s64",
      "userId": "09339938360877425787"
     },
     "user_tz": 360
    },
    "id": "r6oFbgQDX1Ws",
    "outputId": "3c8f40d7-e75a-47f6-e4ae-8c3ee7e1b7ca"
   },
   "outputs": [
    {
     "name": "stdout",
     "output_type": "stream",
     "text": [
      "Escribe un valor para a:34\n",
      "Escribe el valor de b:23\n",
      "57\n"
     ]
    }
   ],
   "source": [
    "a = int(input('Escribe un valor para a:'))\n",
    "b = int(input('Escribe el valor de b:'))\n",
    "c = a + b\n",
    "print(c)"
   ]
  },
  {
   "cell_type": "code",
   "execution_count": 24,
   "metadata": {
    "cell_id": "00039-10e8f15c-86ba-429a-aeb1-0d6429c01b8e",
    "colab": {
     "base_uri": "https://localhost:8080/"
    },
    "deepnote_cell_type": "code",
    "executionInfo": {
     "elapsed": 191,
     "status": "ok",
     "timestamp": 1639527138023,
     "user": {
      "displayName": "Ricardo Saldivar",
      "photoUrl": "https://lh3.googleusercontent.com/a-/AOh14Ghz66khcqYkiYlYy6FmqYru2yXWzlx8Xi-52ZIi=s64",
      "userId": "09339938360877425787"
     },
     "user_tz": 360
    },
    "id": "6FjNAS-ssiT6",
    "outputId": "3e1fdcd0-fa39-41c3-d878-ca60450e744e"
   },
   "outputs": [
    {
     "name": "stdout",
     "output_type": "stream",
     "text": [
      "3\n",
      "2801\n",
      "7\n",
      "-3\n",
      "35\n",
      "5.0\n",
      "5\n",
      "5.0\n"
     ]
    }
   ],
   "source": [
    "a = 1 + 2\n",
    "b = 1567 + 1234\n",
    "c = 10 - 3\n",
    "d = 12 - 15\n",
    "e = 7 * 5\n",
    "f = 15 / 3     # especificar\n",
    "f1 = 15 // 3   # especificar\n",
    "f2 = float(15 // 3)\n",
    "print(a)\n",
    "print(b)\n",
    "print(c)\n",
    "print(d)\n",
    "print(e)\n",
    "print(f)\n",
    "print(f1)\n",
    "print(f2)"
   ]
  },
  {
   "cell_type": "code",
   "execution_count": 25,
   "metadata": {
    "cell_id": "00040-253b5f63-a27d-4273-97ad-f1112f590b21",
    "colab": {
     "base_uri": "https://localhost:8080/"
    },
    "deepnote_cell_type": "code",
    "executionInfo": {
     "elapsed": 177,
     "status": "ok",
     "timestamp": 1639515711784,
     "user": {
      "displayName": "Ricardo Saldivar",
      "photoUrl": "https://lh3.googleusercontent.com/a-/AOh14Ghz66khcqYkiYlYy6FmqYru2yXWzlx8Xi-52ZIi=s64",
      "userId": "09339938360877425787"
     },
     "user_tz": 360
    },
    "id": "J2BcTJ7Hsy9h",
    "outputId": "3fefd95e-d2b3-480d-d297-74d2c4389748"
   },
   "outputs": [
    {
     "name": "stdout",
     "output_type": "stream",
     "text": [
      "4.5\n",
      "10.7\n",
      "3.8\n",
      "-6.3\n",
      "14.4\n",
      "3.075\n",
      "3.0\n",
      "3\n"
     ]
    }
   ],
   "source": [
    "m = 1.5 + 3\n",
    "n = 2.8 + 7.9\n",
    "o = 6.1 - 2.3\n",
    "p = 3.7 - 10\n",
    "q = 4.5 * 3.2\n",
    "r = 12.3 / 4\n",
    "r1 = 12.3 // 4\n",
    "r2 = int(12.3 // 4) # conversión de número flotante a número entero, usando la función int\n",
    "print(m)\n",
    "print(n)\n",
    "print(o)\n",
    "print(p)\n",
    "print(q)\n",
    "print(r)\n",
    "print(r1)\n",
    "print(r2)"
   ]
  },
  {
   "cell_type": "markdown",
   "metadata": {},
   "source": [
    "## Tipos de Datos: String o de texto"
   ]
  },
  {
   "cell_type": "markdown",
   "metadata": {},
   "source": [
    "### Texto (cadena de caracteres) STRING\n",
    "\n",
    "Se ponen entre comillas simples, dobles y triples. En las comillas simples y dobles se usan de forma cotidiana. Una buena practica es elegir o solo comillas simples o solo comillas dobles al escribir un programa.\n",
    "\n",
    "El comando **str()**, sirve para convertir números enteros y flotantes a caracteres de texto. Se utiliza cuando se quiere imprimir texto con números.\n",
    "\n",
    "Se pueden sumar textos. Que significa unir textos. También es conocido como “concatenar.\n",
    "Se pueden multiplicar textos. Que solo repetirá el numero de veces que le indiquemos. Por ejemplo: (“texto” * 3), dará como resultado: textotextotexto.\n",
    "\n",
    "Las variables pueden guardar texto usando las comillas simples o las comillas dobles y se hace de la siguiente manera:\n",
    "\n",
    "variable = “texto” ó\n",
    "variable = ‘texto’\n",
    "\n",
    "Ambas opciones son correctas\n"
   ]
  },
  {
   "cell_type": "code",
   "execution_count": 26,
   "metadata": {},
   "outputs": [
    {
     "name": "stdout",
     "output_type": "stream",
     "text": [
      "Méxicolindo\n"
     ]
    }
   ],
   "source": [
    "# suma de texto\n",
    "pais = 'México'\n",
    "adjetivo = 'lindo'\n",
    "print(pais + adjetivo)"
   ]
  },
  {
   "cell_type": "code",
   "execution_count": 27,
   "metadata": {},
   "outputs": [
    {
     "name": "stdout",
     "output_type": "stream",
     "text": [
      "BrasilBrasilBrasil\n"
     ]
    }
   ],
   "source": [
    "# multiplicación de texto\n",
    "pais = 'Brasil'\n",
    "print(pais * 3)"
   ]
  },
  {
   "cell_type": "markdown",
   "metadata": {},
   "source": [
    "### Cadena de Caracteres\n",
    "Se llama cadena de caracteres al conjunto de letras que conforman un texto. Un texto puede ser una letra, una palabra, una frase, un poema, una combinación de números con letras, etc.."
   ]
  },
  {
   "cell_type": "markdown",
   "metadata": {},
   "source": [
    "## Tipos de Datos: Booleanos"
   ]
  },
  {
   "cell_type": "markdown",
   "metadata": {},
   "source": [
    "En programación, comúnmente se requiere saber si una expresión es cierta o verdadera. True or False.\n",
    "\n",
    "Una expresión puede ser evaluada de esta manera y obtener una de estas respuestas. True or False.\n",
    "\n",
    "Cuando se compara dos valores, la expresión es evaluada y Python retorna las respuestas booleanas. True or False\n",
    "\n",
    "Se puede crear variables con los valores True y False. var_1 = True ; var_2 = False\n",
    "\n",
    "Case-Sensitive. La forma correcta de escribirlo es que la primera letra sea en mayúscula y las demás en minúsculas.\n",
    "\n",
    "No encerrar las palabras True or False entre comillas.\n",
    "\n",
    "Los valores True y False no son funciones built in o constantes. No deben ser usados como nombres de variables ni nombres de funciones. Python marcara un error de sintaxis, si se usan de esa manera.\n"
   ]
  },
  {
   "cell_type": "markdown",
   "metadata": {},
   "source": [
    "### Función bool( )\n",
    "\n",
    "La función bool( ) es una función usada para conversión de datos. Esta función convierte los demás tipos de datos en booleanos (boolean type)\n",
    "\n",
    "True si el valor no está vacío o else False. Los valores de otros tipos de datos son True si no están vacíos.\n",
    "\n",
    "Por ejemplo, la función **bool** nos indica **True** si el tipo de dato número, es en realidad un número. Ver el siguiente ejemplo:\n"
   ]
  },
  {
   "cell_type": "code",
   "execution_count": 28,
   "metadata": {},
   "outputs": [
    {
     "data": {
      "text/plain": [
       "True"
      ]
     },
     "execution_count": 28,
     "metadata": {},
     "output_type": "execute_result"
    }
   ],
   "source": [
    "bool(4)"
   ]
  },
  {
   "cell_type": "markdown",
   "metadata": {},
   "source": [
    "En la sentencia, se usa la función bool, seguida de valores dentro del paréntesis. En este caso se almacena el valor del número 4. Al ejecutar la sentencia, Python arroja el valor de True, indicando que el tipo de dato numero, si es numero. Así se convierten los datos en booleanos."
   ]
  },
  {
   "cell_type": "code",
   "execution_count": 29,
   "metadata": {},
   "outputs": [
    {
     "data": {
      "text/plain": [
       "False"
      ]
     },
     "execution_count": 29,
     "metadata": {},
     "output_type": "execute_result"
    }
   ],
   "source": [
    "bool(00j)"
   ]
  },
  {
   "cell_type": "markdown",
   "metadata": {},
   "source": [
    "En el segundo caso, la función bool evalúa los valores “000j”. En este caso, es una combinación de números y texto (string), por lo que Python responde que el valor es False, ya que no es número ni texto en su totalidad."
   ]
  },
  {
   "cell_type": "code",
   "execution_count": 30,
   "metadata": {},
   "outputs": [
    {
     "data": {
      "text/plain": [
       "True"
      ]
     },
     "execution_count": 30,
     "metadata": {},
     "output_type": "execute_result"
    }
   ],
   "source": [
    "bool('Texto')"
   ]
  },
  {
   "cell_type": "markdown",
   "metadata": {},
   "source": [
    "En el caso del texto, para que bool retorne True, se debe colocar el texto entre comillas, en caso contrario, marcará un error de sintaxis."
   ]
  },
  {
   "cell_type": "markdown",
   "metadata": {},
   "source": [
    "En el siguiente ejemplo, la función **bool** evalúa los valores None, True y False."
   ]
  },
  {
   "cell_type": "code",
   "execution_count": 31,
   "metadata": {},
   "outputs": [
    {
     "name": "stdout",
     "output_type": "stream",
     "text": [
      "False\n",
      "True\n",
      "False\n"
     ]
    }
   ],
   "source": [
    "print(bool(None))\n",
    "print(bool(True))\n",
    "print(bool(False))"
   ]
  },
  {
   "cell_type": "markdown",
   "metadata": {},
   "source": [
    "### Operadores que dan valores booleanos: in, not in"
   ]
  },
  {
   "cell_type": "markdown",
   "metadata": {},
   "source": [
    "El operador **in** retorna **True**, si el elemento está en la secuencia, si no (else) retorna **False**. El operador **not in**, hace lo opuesto."
   ]
  },
  {
   "cell_type": "code",
   "execution_count": 32,
   "metadata": {},
   "outputs": [
    {
     "name": "stdout",
     "output_type": "stream",
     "text": [
      "True\n",
      "False\n",
      "True\n",
      "False\n"
     ]
    }
   ],
   "source": [
    "print('a' in 'Geologia')    # determinar si el elemento \"a\", está dentro del string 'Geología'\n",
    "print('o' in 'América')     # determinar si el elemento \"o\", está dentro del string 'América'\n",
    "print('Z' not in 'Geologia')    # determinar si el elemento \"a\", NO está dentro del string 'Geología'\n",
    "print('A' not in 'América')     # determinar si el elemento \"o\", NO está dentro del string 'América'"
   ]
  },
  {
   "cell_type": "markdown",
   "metadata": {},
   "source": [
    "## ¿Qué es la conversión de datos?"
   ]
  },
  {
   "cell_type": "markdown",
   "metadata": {},
   "source": [
    "Cómo se ha visto anteriormente,la conversión de datos se trata de:\n",
    "1. Convertir datos numéricos a datos de texto string\n",
    "2. Convertir datos numéricos flotantes a datos de texto string\n",
    "3. Convertir datos numéricos flotantes a datos numéricos enteros\n",
    "\n",
    "¿En qué casos?\n",
    "En los casos cuando se requiere concatenar datos de texto con numericos."
   ]
  },
  {
   "cell_type": "code",
   "execution_count": 33,
   "metadata": {},
   "outputs": [
    {
     "ename": "TypeError",
     "evalue": "can only concatenate str (not \"int\") to str",
     "output_type": "error",
     "traceback": [
      "\u001b[0;31m---------------------------------------------------------------------------\u001b[0m",
      "\u001b[0;31mTypeError\u001b[0m                                 Traceback (most recent call last)",
      "Input \u001b[0;32mIn [33]\u001b[0m, in \u001b[0;36m<cell line: 3>\u001b[0;34m()\u001b[0m\n\u001b[1;32m      1\u001b[0m persona \u001b[38;5;241m=\u001b[39m \u001b[38;5;124m'\u001b[39m\u001b[38;5;124mLuis\u001b[39m\u001b[38;5;124m'\u001b[39m\n\u001b[1;32m      2\u001b[0m edad \u001b[38;5;241m=\u001b[39m \u001b[38;5;241m46\u001b[39m\n\u001b[0;32m----> 3\u001b[0m \u001b[38;5;28mprint\u001b[39m(\u001b[43mpersona\u001b[49m\u001b[43m \u001b[49m\u001b[38;5;241;43m+\u001b[39;49m\u001b[43m \u001b[49m\u001b[38;5;124;43m'\u001b[39;49m\u001b[38;5;124;43m es un hombre que tiene la edad de \u001b[39;49m\u001b[38;5;124;43m'\u001b[39;49m\u001b[43m \u001b[49m\u001b[38;5;241;43m+\u001b[39;49m\u001b[43m \u001b[49m\u001b[43medad\u001b[49m \u001b[38;5;241m+\u001b[39m \u001b[38;5;124m'\u001b[39m\u001b[38;5;124m años\u001b[39m\u001b[38;5;124m'\u001b[39m)\n",
      "\u001b[0;31mTypeError\u001b[0m: can only concatenate str (not \"int\") to str"
     ]
    }
   ],
   "source": [
    "persona = 'Luis'\n",
    "edad = 46\n",
    "print(persona + ' es un hombre que tiene la edad de ' + edad + ' años')"
   ]
  },
  {
   "cell_type": "markdown",
   "metadata": {},
   "source": [
    "Como se podrá observar, Python muestra un error de tipo \"TypeError\", donde menciona que solo se puede concatenar datos de texto (str).\n",
    "\n",
    "Para corregirlo, hay que hacer la conversión usando la función **str()** en la variable **edad**"
   ]
  },
  {
   "cell_type": "code",
   "execution_count": 34,
   "metadata": {},
   "outputs": [
    {
     "name": "stdout",
     "output_type": "stream",
     "text": [
      "Luis es un hombre que tiene la edad de 46 años\n"
     ]
    }
   ],
   "source": [
    "persona = 'Luis'\n",
    "edad = 46\n",
    "print(persona + ' es un hombre que tiene la edad de ' + str(edad) + ' años') # convertir en el comando print"
   ]
  },
  {
   "cell_type": "markdown",
   "metadata": {},
   "source": [
    "ò también:"
   ]
  },
  {
   "cell_type": "code",
   "execution_count": 35,
   "metadata": {},
   "outputs": [
    {
     "name": "stdout",
     "output_type": "stream",
     "text": [
      "Luis es un hombre que tiene la edad de 46 años\n"
     ]
    }
   ],
   "source": [
    "persona = 'Luis'\n",
    "edad = 46\n",
    "edad = str(edad) # convertir en la variable\n",
    "print(persona + ' es un hombre que tiene la edad de ' + edad + ' años')"
   ]
  },
  {
   "cell_type": "markdown",
   "metadata": {},
   "source": [
    "## Resumen\n",
    "\n",
    "1. Python maneja varios tipos de datos.\n",
    "2. Los tipos de datos vistos fueron: numéricos, de texto y booleanos\n",
    "3. Los datos numéricos se dividien en: enteros, punto flotante y complejos\n",
    "4. Para convertir los datos numéricos se usan las funciones **int()** y **float()**\n",
    "5. Para convertir los datos numéricos a datos de texto se usa la función **str()**\n",
    "6. Los textos se pueden sumar y darán como resultado una concatenación\n",
    "7. Los textos se pueden multiplicar y dará como resultado la repetición del texto tantas veces como se haya multiplicado.\n",
    "8. Un cadena de caracteres es un conjunto de letras que conforman un texto. Un texto puede ser una letra, una palabra, una frase, un poema, una combinación de números con letras, etc..\n",
    "9. Los tipos de datos booleanos son aquellos que retornan los valores: **True** y **False**\n",
    "10. Para convertir los datos numéricos y de texto a booleanos se usa la funcioón **bool()**\n",
    "11. Los operadores **in** y **not in** retornan valores booleanos:**True** y **False**"
   ]
  },
  {
   "cell_type": "markdown",
   "metadata": {
    "cell_id": "00041-6f28997c-a427-417d-b927-26dc5de7839b",
    "deepnote_cell_type": "markdown",
    "id": "zinyvIsrLZun"
   },
   "source": [
    "## Referencias\n",
    "The Python Standard Library: [Built-in Types](https://docs.python.org/3/library/stdtypes.html#numeric-types-int-float-complex)"
   ]
  },
  {
   "cell_type": "markdown",
   "metadata": {
    "created_in_deepnote_cell": true,
    "deepnote_cell_type": "markdown",
    "tags": []
   },
   "source": [
    "<a style='text-decoration:none;line-height:16px;display:flex;color:#5B5B62;padding:10px;justify-content:end;' href='https://deepnote.com?utm_source=created-in-deepnote-cell&projectId=2e66839c-8a8c-4754-889a-73c17f6336ba' target=\"_blank\">\n",
    "<img alt='Created in deepnote.com' style='display:inline;max-height:16px;margin:0px;margin-right:7.5px;' src='data:image/svg+xml;base64,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' > </img>\n",
    "Created in <span style='font-weight:600;margin-left:4px;'>Deepnote</span></a>"
   ]
  }
 ],
 "metadata": {
  "colab": {
   "authorship_tag": "ABX9TyO1TEiS7cUVE4+ZOj7yKp8E",
   "collapsed_sections": [],
   "name": "Conversión_de_datos.ipynb",
   "provenance": []
  },
  "deepnote": {},
  "deepnote_execution_queue": [],
  "deepnote_notebook_id": "846f0255-e6fc-4a71-97b3-d5412c737f2e",
  "kernelspec": {
   "display_name": "Python 3 (ipykernel)",
   "language": "python",
   "name": "python3"
  },
  "language_info": {
   "codemirror_mode": {
    "name": "ipython",
    "version": 3
   },
   "file_extension": ".py",
   "mimetype": "text/x-python",
   "name": "python",
   "nbconvert_exporter": "python",
   "pygments_lexer": "ipython3",
   "version": "3.10.0"
  }
 },
 "nbformat": 4,
 "nbformat_minor": 1
}
