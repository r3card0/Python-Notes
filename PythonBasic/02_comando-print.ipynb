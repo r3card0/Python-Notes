{
 "cells": [
  {
   "cell_type": "markdown",
   "metadata": {},
   "source": [
    "# Comando **print()**\n",
    "\n",
    "\n",
    "![02_image01](/root/work/Images/02_image01.png)\n",
    "\n",
    "\n",
    "\n",
    "[Picture by Polina Z.](https://www.pexels.com/@polina-zimmerman)"
   ]
  },
  {
   "cell_type": "markdown",
   "metadata": {},
   "source": [
    "## Objetivo: Aprender el uso del comando **print()** en Python y en que casos se aplica."
   ]
  },
  {
   "cell_type": "markdown",
   "metadata": {},
   "source": [
    "En Python, el comando **print()** imprime mensajes en la pantalla.\n",
    "\n",
    "En el siguiente recuadro presiona el boton \" \", para ejecutar el programa"
   ]
  },
  {
   "cell_type": "code",
   "execution_count": 1,
   "metadata": {},
   "outputs": [
    {
     "name": "stdout",
     "output_type": "stream",
     "text": [
      "Hola Mundo\n"
     ]
    }
   ],
   "source": [
    "print('Hola Mundo')"
   ]
  },
  {
   "cell_type": "markdown",
   "metadata": {},
   "source": [
    "Los mensajes deben ir entre comillas simples, 'hola' ó comillas dobles \"hola\". "
   ]
  },
  {
   "cell_type": "code",
   "execution_count": 2,
   "metadata": {},
   "outputs": [
    {
     "name": "stdout",
     "output_type": "stream",
     "text": [
      "Hola Mundo\n",
      "Hello World\n"
     ]
    }
   ],
   "source": [
    "print(\"Hola Mundo\")     # cambia los valores dentro de las comillas\n",
    "print('Hello World')"
   ]
  },
  {
   "cell_type": "markdown",
   "metadata": {},
   "source": [
    "Se pueden realizar operaciones aritméticas. Sumar 5 + 4."
   ]
  },
  {
   "cell_type": "code",
   "execution_count": 1,
   "metadata": {},
   "outputs": [
    {
     "name": "stdout",
     "output_type": "stream",
     "text": [
      "9\n"
     ]
    }
   ],
   "source": [
    "print(5+4)      # intenta con una multiplicación"
   ]
  },
  {
   "cell_type": "markdown",
   "metadata": {},
   "source": [
    "Se puede usar para  juntar valores guardados en diferentes variables. "
   ]
  },
  {
   "cell_type": "code",
   "execution_count": 3,
   "metadata": {},
   "outputs": [
    {
     "name": "stdout",
     "output_type": "stream",
     "text": [
      "Hola a todos. :)\n"
     ]
    }
   ],
   "source": [
    "variable1 = 'Hola a'\n",
    "variable2 = 'todos. :)'\n",
    "print(variable1,variable2)"
   ]
  },
  {
   "cell_type": "markdown",
   "metadata": {},
   "source": [
    "A la acción de *juntar*, en programación se le conoce como -> **concatenar**\n",
    "\n",
    "*junta* = **concatenar**"
   ]
  },
  {
   "cell_type": "markdown",
   "metadata": {},
   "source": [
    "Ejercicio # 1. Usa 2 variables para crear el mensaje: 'El Sol es la estrella más cercana a la Tierra'. Usar el comando **print()** para concatenar los valores de las variables y mostrar el mensaje."
   ]
  },
  {
   "cell_type": "code",
   "execution_count": null,
   "metadata": {},
   "outputs": [],
   "source": [
    "# escribe un texto para la variable_x\n",
    "# escribe un texto para la variable_y \n",
    "# junta y muestra el mensaje\n",
    "\n",
    "variable_x = ' '                # entre las comillas agrega un texto\n",
    "variable_y= ' '                 # entre las comillas agrega un texto\n",
    "print()                         # imprime el mensaje en pantalla"
   ]
  },
  {
   "cell_type": "markdown",
   "metadata": {},
   "source": [
    "El comando **print()** es una función de Python. Es una función que pertenece al grupo de Built-in. Esto quiere decir que es una función que está creada desde el lenguaje de Python. Hay muchas funciones Built-in en Python y que se verán posteriormente.\n",
    "\n"
   ]
  },
  {
   "cell_type": "markdown",
   "metadata": {},
   "source": [
    "## Resumen\n",
    "\n",
    "1. El comando **print()** es una función predeterminada de Python y está en la lista de las funciones Built-in.\n",
    "2. Se usa para imprimir mensajes de texto, los cuales deben estar escritos entre comillas simples '' ó comillas dobles \"\".\n",
    "3. Imprime resultados ariméticos.\n",
    "4. Concatena valores de varias variables."
   ]
  },
  {
   "cell_type": "markdown",
   "metadata": {},
   "source": [
    "## Referencias\n",
    "\n",
    "[Curso Básico de Python](https://platzi.com/clases/python/)\n",
    "\n",
    "[Python.org](https://www.python.org/doc/essays/blurb/)\n",
    "\n",
    "[Real Python](https://realpython.com/python-print/)\n",
    "\n",
    "[Built-in Functions](https://docs.python.org/3/library/functions.html)"
   ]
  }
 ],
 "metadata": {
  "interpreter": {
   "hash": "4ee08b0487832ff03f0fdf4b6eade6848fbbb6f348c487e64472b02f35273942"
  },
  "kernelspec": {
   "display_name": "Python 3 (ipykernel)",
   "language": "python",
   "name": "python3"
  },
  "language_info": {
   "codemirror_mode": {
    "name": "ipython",
    "version": 3
   },
   "file_extension": ".py",
   "mimetype": "text/x-python",
   "name": "python",
   "nbconvert_exporter": "python",
   "pygments_lexer": "ipython3",
   "version": "3.10.0"
  }
 },
 "nbformat": 4,
 "nbformat_minor": 2
}
