{
 "cells": [
  {
   "cell_type": "markdown",
   "metadata": {},
   "source": [
    "# Introducción"
   ]
  },
  {
   "cell_type": "markdown",
   "metadata": {},
   "source": [
    "## Python 🐍\n",
    "\n",
    "Python es un lenguaje de programación interpretado y que tiene como filosofía tener código que sea fácil de leer y entender. \n",
    "\n",
    "Es un lenguaje que es usado mayormente en: Machine Learning, Data Science, programación orientada a objetos, Web Design, Backend e Internet of Things.\n",
    "\n",
    "Puede ser usado en varias plataformas y sistemas operativos como Windows, Mac y Linux."
   ]
  },
  {
   "cell_type": "markdown",
   "metadata": {},
   "source": [
    "## Breve historia\n",
    "\n",
    "¿Cuándo se creó? ¿Quién lo creó? ¿Para qué lo creó?\n",
    "\n",
    "Python fue creado a finales de los 80's por Guido van Rossum en el Centro de Matemáticas e Informática (CWI, Centrum Wiskunde & Informatica), en los Países Bajas. Se creó como un sucesor del lenguaje de programación ABC.\n",
    "\n",
    "[Historia](https://en.wikipedia.org/wiki/Python_(programming_language))"
   ]
  },
  {
   "cell_type": "markdown",
   "metadata": {},
   "source": [
    "## Importancia de aprender a programar en Python\n",
    "\n",
    "Python es un lenguaje de programación sencillo y elegante. Es un lenguaje ideal para comenzar a aprender a programar. Hay mucha gente que actualmente ha aprendido a usar el lenguaje y por lo tanto hay muchas comunidades alrededor del mundo que comparte sus conocimientos.\n",
    "\n",
    "Otra característica que tiene Python, es que está muy relacionado con el idioma Inglés. Su sintaxis o forma de escribir, es muy similar a la escritura en Inglés. Por lo tanto, para aquellas personas que desean aprender o mejorar su Inglés, este lenguaje es ideal para practicarlo.\n",
    "\n",
    "El objetivo de programar es darle instrucciones a tu computadora para que realice alguna operación. Puede ser aritmética, de diseño, etc."
   ]
  },
  {
   "cell_type": "markdown",
   "metadata": {},
   "source": [
    "## Empresas que aplican Python en sus paginas web o apps.\n",
    "\n",
    "Netflix.\n",
    "\n",
    "En Netflix, el uso de Python has sido implementado por la gran variedad de librerias y comunidad con las que cuenta el lenguaje, ayudando así a los desarrolladores de la empresa a inovar de forma rápida en la plataforma de Netflix. Se usa Python para crear herramientas para comunicarse con AWS, almacenar información, etc. Una aplicación muy importante, es usar Python en las áreas de Data Science e Ingeniería para crear aprendizaje a partir de la gran cantidad de datos que generan. Python es usado en herramientas para monitorear la calidad de información, sincronización, en procesos de ETL, correr en varias aplicaciones web para visualizar datos. etc\n",
    "\n",
    "[Fuente](https://netflixtechblog.com/python-at-netflix-86b6028b3b3e)"
   ]
  },
  {
   "cell_type": "markdown",
   "metadata": {},
   "source": [
    "## Objetivo\n",
    "\n",
    "El objetivo de este proyecto es facilitar el proceso de aprendizaje del lenguaje Python, buscando explicar los términos técnicos en palabras sencillas y usando ejemplos de uso cotidiando para tener un mejor acercamiento con el lenguaje.\n",
    "\n",
    "## Alcances\n",
    "\n",
    "No se explicará como instalar y usar Python en la máquina local. En vez de eso se usarán los Jupyter Notebooks, para realizar y correr los programas directamente en Internet sin necesida de realizar instalaciones en tu máquina local"
   ]
  },
  {
   "cell_type": "markdown",
   "metadata": {},
   "source": [
    "## Temas a revisar\n",
    "\n",
    "Se verán los siguiente temas:\n",
    "\n",
    "1. Como imprimir mensajes en la pantalla\n",
    "2. Como realizar operaciones aritméticas y lógicas\n",
    "3. Variables y sus ventajas\n",
    "4. Los tipos de datos que se usan\n",
    "5. Aplicar Condicionales en nuestros programas\n",
    "6. funciones - Estructura correcta del lenguaje\n",
    "7. Ciclos while y for\n",
    "8. Listas\n",
    "9. Tuplas\n",
    "10. Diccionarios"
   ]
  },
  {
   "cell_type": "markdown",
   "metadata": {},
   "source": [
    "## Referencias\n",
    "\n",
    "[Curso Básico de Python](https://platzi.com/clases/python/)\n",
    "\n",
    "[Python.org](https://www.python.org/doc/essays/blurb/)\n",
    "\n",
    "[Wikipedia](https://en.wikipedia.org/wiki/Python_(programming_language))\n"
   ]
  }
 ],
 "metadata": {
  "interpreter": {
   "hash": "4ee08b0487832ff03f0fdf4b6eade6848fbbb6f348c487e64472b02f35273942"
  },
  "kernelspec": {
   "display_name": "Python 3 (ipykernel)",
   "language": "python",
   "name": "python3"
  },
  "language_info": {
   "codemirror_mode": {
    "name": "ipython",
    "version": 3
   },
   "file_extension": ".py",
   "mimetype": "text/x-python",
   "name": "python",
   "nbconvert_exporter": "python",
   "pygments_lexer": "ipython3",
   "version": "3.10.0"
  }
 },
 "nbformat": 4,
 "nbformat_minor": 2
}
