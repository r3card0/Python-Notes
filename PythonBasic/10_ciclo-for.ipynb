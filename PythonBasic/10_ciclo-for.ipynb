{
 "cells": [
  {
   "cell_type": "markdown",
   "metadata": {},
   "source": [
    "# Ciclo for\n",
    "\n",
    "**for** es un ciclo que funciona a partir de un rango de datos. Este rango puede ser extraido de diversas fuentes. Puese ser un rango que el programador genere a partir de un rango numérico o de otras fuentes como listas, diccionarios, tuplas, archivos etc.\n",
    "\n",
    "En este notebook se hablará de como funciona el ciclo **for** a partir de rangos numéricos."
   ]
  },
  {
   "cell_type": "markdown",
   "metadata": {},
   "source": [
    "## Estructura de la sintaxis de for\n",
    "\n",
    "La sintaxis correcta que requiere **for** para ejecutarse es:"
   ]
  },
  {
   "cell_type": "markdown",
   "metadata": {},
   "source": [
    "![10_image01](/Users/ideasleon/platzi_edu/Entorno_f_DataScience/PythonNotes/Images/10_image01.png)"
   ]
  },
  {
   "cell_type": "markdown",
   "metadata": {},
   "source": [
    "1. Palabra reservada **for**\n",
    "2. Variable\n",
    "3. Palabra reservada **in**\n",
    "4. Iterable\n",
    "5. :\n",
    "\n",
    "Un iterable es un conjunto de datos que usa **for** para buscar o extraer información o aplicar expresiones matemáticas.\n",
    "\n",
    "Un iterable puede ser un rango de numeros, una lista, un diccionario, tupla, set, etc."
   ]
  },
  {
   "cell_type": "markdown",
   "metadata": {},
   "source": [
    "## Uso de **for** en un rango de números como iterable.\n",
    "\n",
    "Un rango es un valor numérico que indica la diferencia entre un valor máximo y un valor mínimo en un grupo de datos.\n",
    "\n",
    "Supongamos un rango de números del 1 al 10. Para expresar el rango en Python, se usa la palabra reservada **range**\n",
    "\n",
    "Aplicando la sintaxis de **for** en el rango de numeros del 1 al 10 tenemos:"
   ]
  },
  {
   "cell_type": "code",
   "execution_count": null,
   "metadata": {},
   "outputs": [],
   "source": [
    "# Ejemplo 1\n",
    "for i in range(11):\n",
    "    print(i)"
   ]
  },
  {
   "cell_type": "markdown",
   "metadata": {},
   "source": [
    "El anterior programa, mas o menos se leería así: *para* la variable *i* *en el rango* del 0 al 11, imprime la variable *i* en el rango dado.\n",
    "\n",
    "Esto hará que el programa imprima todos los valores en el rango numérico del 1 al 10.\n",
    "\n",
    "1. *for* es la palabra clave para generar el loop.\n",
    "    \n",
    "2) Seguido de *for* siempre viene una variable. *i* es la variable que se uso para este caso.\n",
    "\n",
    "3. operador *in*\n",
    "\n",
    "4) Comando *range()*, que significa rango. Es una función que retorna secuencias de numeros iniciando desde 0 y termina en el número anterior al indicado 👀. A través de los paréntesis se reciben los argumentos.     Recordar que *un argumento es un valor asignado a una variable* \n",
    "\n",
    "1. Escribir **for variable in range(rango)**\n",
    "2. indentación     **print(variable)**\n",
    "\n",
    "Para imprimir desde listas:\n",
    "\n",
    "1. Escribir **for variable in nombre_lista()**\n",
    "2. indentación     **print(variable)**"
   ]
  },
  {
   "cell_type": "markdown",
   "metadata": {},
   "source": [
    "Ahora escrito dentro de la estructura de una función"
   ]
  },
  {
   "cell_type": "code",
   "execution_count": null,
   "metadata": {},
   "outputs": [],
   "source": [
    "# Ejemplo 2 -> función o módulo que imprime en pantalla la serie del 1 hasta un limite asignado\n",
    "def serie_1():\n",
    "    for i in range(11):\n",
    "        print(i)\n",
    "\n",
    "if __name__==\"__main__\":\n",
    "    serie_1()"
   ]
  },
  {
   "cell_type": "markdown",
   "metadata": {},
   "source": [
    "### range( )\n",
    "\n",
    "El comando **range( )** retorna una secuencia de números. Esta secuencia inicia desde el número 0 por defecto. La secuencia incrementa de 1 en 1 (por defecto) y se detiene antes del número especificado.\n",
    "\n",
    "Por eso, en el ejemplo donde el comando **range** tenía la secuencia del 0 al 11, esperando terminar en el número 10: *range(11)*\n",
    "\n",
    "#### Sintaxis: *range(start, stop, step)*"
   ]
  },
  {
   "cell_type": "markdown",
   "metadata": {},
   "source": [
    "![10_image03](/Users/ideasleon/platzi_edu/Entorno_f_DataScience/PythonNotes/Images/10_image03.png)"
   ]
  },
  {
   "cell_type": "code",
   "execution_count": null,
   "metadata": {},
   "outputs": [],
   "source": [
    "# Ejemplo 3. Crear una secuencia de números del 3 al 5. Imprimir cada valor de la secuencia\n",
    "def secuencia():\n",
    "    for z in range(3,6):\n",
    "        print(z)\n",
    "\n",
    "\n",
    "if __name__==\"__main__\":\n",
    "    secuencia()"
   ]
  },
  {
   "cell_type": "code",
   "execution_count": null,
   "metadata": {},
   "outputs": [],
   "source": [
    "# Ejemplo 3.1 -> Otra forma sería, crear una variable y asigarle \"range()\" y sus parámetros\n",
    "def secuencia_b():\n",
    "    x = range(3,6)\n",
    "    for d in x:\n",
    "        print(d)\n",
    "\n",
    "\n",
    "if __name__==\"__main__\":\n",
    "    secuencia_b()"
   ]
  },
  {
   "cell_type": "code",
   "execution_count": null,
   "metadata": {},
   "outputs": [],
   "source": [
    "# Ejemplo 4. Crear la serie del 3 y que llege a 30\n",
    "def serie_del_3():\n",
    "    for i in range(0,33,3):     # se aplica el uso de los parámetros (start, stop, step)\n",
    "        print(i)\n",
    "\n",
    "if __name__==\"__main__\":\n",
    "    serie_del_3()"
   ]
  },
  {
   "cell_type": "markdown",
   "metadata": {},
   "source": [
    "Crear un programa que le permita al usuario elegir la serie y el límite de la misma."
   ]
  },
  {
   "cell_type": "code",
   "execution_count": null,
   "metadata": {},
   "outputs": [],
   "source": [
    "# Ejemplo 5.Programa que le da la opción al usuario de elegir la serie y el límite\n",
    "def elige_serie():\n",
    "    c = int(input(\"Elige la serie: \"))\n",
    "    b = int(input(\"Elige hasta donde llegará la serie: \"))\n",
    "    a = range(0,b + c,c)        # se aplica el uso de los parámetros (start, stop, step)\n",
    "    for i in a:\n",
    "        print(i)\n",
    "\n",
    "if __name__==\"__main__\":\n",
    "    elige_serie()"
   ]
  },
  {
   "cell_type": "markdown",
   "metadata": {},
   "source": [
    "Ejercicio # . Proporcionar un rango que inicie diferente de cero \"0\". Por ejemplo, asignar un rango que inicie en el valor 99 y que termine en el valor 210, con un incremento de 10. "
   ]
  },
  {
   "cell_type": "code",
   "execution_count": null,
   "metadata": {},
   "outputs": [],
   "source": [
    "# Ejemplo 5\n",
    "def no_cero():\n",
    "    for counter in range(99,210,10): # se le puede asignar un rango. Se le asigno desde el 99 al 105\n",
    "        print(counter)\n",
    "\n",
    "if __name__==\"__main__\":\n",
    "    no_cero()"
   ]
  },
  {
   "cell_type": "markdown",
   "metadata": {},
   "source": [
    "## Ciclo -for- en tipos de datos de texto\n",
    "\n",
    "### Recorrer caracteres con for"
   ]
  },
  {
   "cell_type": "markdown",
   "metadata": {},
   "source": [
    "El ciclo *for* es usado para iterar sobre secuencias, como pueden ser cadena de textos, listas, tuplas diccionario y sets.\n",
    "\n",
    "*iterar: Ejecutar repetidamente una serie de operaciones hasta satisfacer una determinada condición.*\n",
    "\n",
    "La función **for**, puede iterar un string y dar un resultado. En el siguiente ejemplo se puede tomar la variable *frase*, que tiene asignada la siguiente frase -> \"¡Hola! ¿Cómo estás?\" y devolverla poniendo cada palabra o item por debajo del otro."
   ]
  },
  {
   "cell_type": "code",
   "execution_count": null,
   "metadata": {},
   "outputs": [],
   "source": [
    "# Iteración en el string asignado en la variable frase\n",
    "frase = '¡Hola! ¿Cómo estás?'\n",
    "for letra in frase:\n",
    "    print(letra)"
   ]
  },
  {
   "cell_type": "markdown",
   "metadata": {},
   "source": [
    "Se puede usa el método upper(), para convertir el texto en mayúsculas"
   ]
  },
  {
   "cell_type": "code",
   "execution_count": null,
   "metadata": {},
   "outputs": [],
   "source": [
    "# Iteración en el string asignado en la variable frase\n",
    "frase = '¡Hola! ¿Cómo estás?'\n",
    "for letra in frase:\n",
    "    print(letra.upper())\n"
   ]
  },
  {
   "cell_type": "markdown",
   "metadata": {},
   "source": [
    "### Uso de la función **continue** en **for**.\n",
    "\n",
    "Ejercicio:\n",
    "\n",
    "Para el contador en el rango de 0 a 1000, imprime los valores del contador. Pero, solo los números pares."
   ]
  },
  {
   "cell_type": "code",
   "execution_count": null,
   "metadata": {},
   "outputs": [],
   "source": [
    "for contador in range(100):\n",
    "    if contador % 2 != 0:       # si el contador al dividirlo entre 2, el resto de la division es distinto de cero \"0\"\n",
    "        continue                # salta esta vuelta del ciclo\n",
    "    print(contador)"
   ]
  },
  {
   "cell_type": "markdown",
   "metadata": {},
   "source": [
    "En el ejemplo anterior, siguiendo las reglas de las matematicas que todo número dividido entre 2 y que su residuo sea 0, entonces es número par. Por eso, la expresión: **if contador % 2 != 0:** indica si es número para o no. Si no es número para, el programa se saltará esa vuelta y no la imprimirá. solo imprimira las operaciones que cumplan la condición."
   ]
  },
  {
   "cell_type": "markdown",
   "metadata": {},
   "source": [
    "## Resumen\n",
    "\n",
    "1. El ciclo for sirve para\n",
    "2. Su sintaxis -> *for* variable_iteradora *in* secuencia:\n",
    "3. El comando range(start, stop, step)\n",
    "4. Realiza interaciones a secuencias de\n",
    "5. Comandos break y continue"
   ]
  },
  {
   "cell_type": "markdown",
   "metadata": {},
   "source": [
    "## Referencias\n",
    "\n",
    "[Python Basic Course](https://platzi.com/clases/1937-python/29642-explorando-un-bucle-diferente-el-ciclo-for/)\n",
    "\n",
    "[Python.org | for](https://wiki.python.org/moin/ForLoop)\n",
    "\n",
    "[Tutorials Tonight](https://www.tutorialstonight.com/python/for-loop-in-python.php)\n",
    "\n",
    "[Function range( )](https://www.w3schools.com/python/ref_func_range.asp)"
   ]
  }
 ],
 "metadata": {
  "interpreter": {
   "hash": "aee8b7b246df8f9039afb4144a1f6fd8d2ca17a180786b69acc140d282b71a49"
  },
  "kernelspec": {
   "display_name": "Python 3.10.0 64-bit",
   "language": "python",
   "name": "python3"
  },
  "language_info": {
   "codemirror_mode": {
    "name": "ipython",
    "version": 3
   },
   "file_extension": ".py",
   "mimetype": "text/x-python",
   "name": "python",
   "nbconvert_exporter": "python",
   "pygments_lexer": "ipython3",
   "version": "3.10.0"
  },
  "orig_nbformat": 4
 },
 "nbformat": 4,
 "nbformat_minor": 2
}
