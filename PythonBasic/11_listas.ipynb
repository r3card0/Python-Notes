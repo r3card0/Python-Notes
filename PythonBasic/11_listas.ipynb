{
 "cells": [
  {
   "cell_type": "markdown",
   "metadata": {},
   "source": [
    "# Estructuras de Datos"
   ]
  },
  {
   "cell_type": "markdown",
   "metadata": {},
   "source": [
    "Las variables pueden almacenar un elemento.\n",
    "Las listas pueden almacenar más de dos elementos. Pueden almacenar una lista de elementos. Los elementos pueden ser textos, número o booleanos. En Python se conocen como **items**.\n",
    "\n",
    "Las listas pertenecen a un conjunto llamado “estructuras de datos”.\n",
    "\n",
    "Las **estructuras de datos** son formas que brindan los lenguajes de programación para guardar varios valores en una variable. Estos valores o items pueden tener diferente formato, como: strings, numéricos, boleados, etc\n",
    "\n",
    "Por lo tanto, las listas pueden almacenar varios tipos de datos en una sola variable.\n",
    "\n",
    "Para crear una lista se hace lo siguiente:\n",
    "\n",
    "Nombre de la variable seguido el signo de “**=**“, abrir corchetes [ ] y dentro de los corchetes los tipos de datos que se desean guardar."
   ]
  },
  {
   "cell_type": "markdown",
   "metadata": {
    "id": "jLGQTcu1MQCm"
   },
   "source": [
    "## Listas\n",
    "\n",
    "Las listas son variables que pueden guardar mas de un item. \n",
    "\n",
    "Para guardar mas de un item, se usan los corchetes [ ]"
   ]
  },
  {
   "cell_type": "code",
   "execution_count": null,
   "metadata": {},
   "outputs": [],
   "source": [
    "lista = [5,'cinco',5.5, True]"
   ]
  },
  {
   "cell_type": "markdown",
   "metadata": {},
   "source": [
    "Recordemos que una variable solo puede almacenar un valor."
   ]
  },
  {
   "cell_type": "code",
   "execution_count": null,
   "metadata": {
    "colab": {
     "base_uri": "https://localhost:8080/"
    },
    "executionInfo": {
     "elapsed": 188,
     "status": "ok",
     "timestamp": 1639803894888,
     "user": {
      "displayName": "Ricardo Saldivar",
      "photoUrl": "https://lh3.googleusercontent.com/a-/AOh14Ghz66khcqYkiYlYy6FmqYru2yXWzlx8Xi-52ZIi=s64",
      "userId": "09339938360877425787"
     },
     "user_tz": 360
    },
    "id": "DUSn655F7Sx_",
    "outputId": "a2222630-75f4-4dff-e32e-72cb8cf8498a"
   },
   "outputs": [],
   "source": [
    "def run():\n",
    "    numero = 4 # la variable -numero- solo almacena el elemento 4\n",
    "    print(numero)\n",
    "\n",
    "\n",
    "if __name__ == '__main__':\n",
    "    run()"
   ]
  },
  {
   "cell_type": "markdown",
   "metadata": {
    "id": "Wrgv3M_UM1yY"
   },
   "source": [
    "La variable **lista**, almacena varios tipos de datos, con solo usar los corchetes y separar los elementos con comas ','.\n",
    "\n",
    "En el ejemplo se observa que almacena tipos de datos como numéricos, de texto, decimales y booleanos.\n",
    "\n",
    "Para imprimir los items de la lista, se usa el comando **print()**."
   ]
  },
  {
   "cell_type": "code",
   "execution_count": null,
   "metadata": {
    "colab": {
     "base_uri": "https://localhost:8080/"
    },
    "executionInfo": {
     "elapsed": 172,
     "status": "ok",
     "timestamp": 1639803936424,
     "user": {
      "displayName": "Ricardo Saldivar",
      "photoUrl": "https://lh3.googleusercontent.com/a-/AOh14Ghz66khcqYkiYlYy6FmqYru2yXWzlx8Xi-52ZIi=s64",
      "userId": "09339938360877425787"
     },
     "user_tz": 360
    },
    "id": "T1SSlwty7cts",
    "outputId": "35e574e3-0a4d-4603-a52c-b42f40ec2aec"
   },
   "outputs": [],
   "source": [
    "def run():\n",
    "    lista = [5, 'cinco', 5.5, True]  # la variable -lista- puede almacenar varios tipos de datos\n",
    "    print(lista) \n",
    "\n",
    "\n",
    "if __name__ == '__main__':\n",
    "    run()"
   ]
  },
  {
   "cell_type": "markdown",
   "metadata": {
    "id": "yx_PiMx2LUGA"
   },
   "source": [
    "Crear una lista de los planetas del sistema solar: Mercurio, Venus, Tierra, Marte, Júpiter, Saturno, Urano y Neptuno"
   ]
  },
  {
   "cell_type": "code",
   "execution_count": null,
   "metadata": {
    "colab": {
     "base_uri": "https://localhost:8080/"
    },
    "executionInfo": {
     "elapsed": 8,
     "status": "ok",
     "timestamp": 1640043065667,
     "user": {
      "displayName": "Ricardo Saldivar",
      "photoUrl": "https://lh3.googleusercontent.com/a-/AOh14Ghz66khcqYkiYlYy6FmqYru2yXWzlx8Xi-52ZIi=s64",
      "userId": "09339938360877425787"
     },
     "user_tz": 360
    },
    "id": "7xpaCLJOLgsp",
    "outputId": "2347aaa9-d18b-4711-f6f5-46e7b85e8b95"
   },
   "outputs": [],
   "source": [
    "def run():\n",
    "    planetas = ['Mercurio','Venus','Tierra','Marte','Júpiter','Saturno','Urano','Neptuno']\n",
    "    print(planetas) \n",
    "\n",
    "\n",
    "if __name__ == '__main__':\n",
    "    run()"
   ]
  },
  {
   "cell_type": "markdown",
   "metadata": {},
   "source": [
    "## Manejo de índices\n",
    "\n",
    "Los índices permiten manejar las cadena de caracteres que estan en una variable o en una lista.\n",
    "\n",
    "La forma correcta de usar los índices es escribir la variable seguida de corchetes[ ] y dentro de los corchetes escribir el número de la posición del caracteres que se requiere extraer."
   ]
  },
  {
   "cell_type": "markdown",
   "metadata": {},
   "source": [
    "Se puede contar los índices de los elementos de una lista."
   ]
  },
  {
   "cell_type": "code",
   "execution_count": null,
   "metadata": {},
   "outputs": [],
   "source": [
    "# contar los índices de la cadena de caracteres contenida en la lista\n",
    "def run():\n",
    "    planetas = ['Mercurio','Venus','Tierra','Marte','Júpiter','Saturno','Urano','Neptuno']\n",
    "    print(len(planetas))\n",
    "\n",
    "\n",
    "if __name__ == '__main__':\n",
    "    run()"
   ]
  },
  {
   "cell_type": "markdown",
   "metadata": {},
   "source": [
    "Para acceder a un item de la lista, se usan los índices. Se escribe la lista seguida de los corchetes y en ellos la posición del item que se desea acceder."
   ]
  },
  {
   "cell_type": "code",
   "execution_count": null,
   "metadata": {},
   "outputs": [],
   "source": [
    "# Imprimir varios items en base al índice\n",
    "def run():\n",
    "    planetas = ['Mercurio','Venus','Tierra','Marte','Júpiter','Saturno','Urano','Neptuno']\n",
    "    print(planetas[0:3])\n",
    "\n",
    "\n",
    "if __name__ == '__main__':\n",
    "    run()"
   ]
  },
  {
   "cell_type": "code",
   "execution_count": null,
   "metadata": {},
   "outputs": [],
   "source": [
    "# imprimir un elemento en base al índice. Extraer el element del índice 4\n",
    "def run():\n",
    "    planetas = ['Mercurio','Venus','Tierra','Marte','Júpiter','Saturno','Urano','Neptuno']\n",
    "    print(planetas[4])\n",
    "\n",
    "\n",
    "if __name__ == '__main__':\n",
    "    run()"
   ]
  },
  {
   "cell_type": "markdown",
   "metadata": {},
   "source": [
    "Se puede imprimir de forma inversa los items de una lista."
   ]
  },
  {
   "cell_type": "code",
   "execution_count": null,
   "metadata": {},
   "outputs": [],
   "source": [
    "# imprimir la lista de forma inversa\n",
    "def run():\n",
    "    planetas = ['Mercurio','Venus','Tierra','Marte','Júpiter','Saturno','Urano','Neptuno']\n",
    "    print(planetas[::-1])\n",
    "\n",
    "\n",
    "if __name__ == '__main__':\n",
    "    run()"
   ]
  },
  {
   "cell_type": "markdown",
   "metadata": {},
   "source": [
    "## Las listas son Mutables\n",
    "\n",
    "En Python el término **Mutable** se refiere a que puede cambiar. Es decir, una lista puede cambiar al agregar o eliminar elementos de la lista.\n",
    "\n",
    "Para agregar o eliminar elementos de las listas es necesario usar métodos.\n",
    "\n",
    "En Python un método es una función para un tipo de dato especial. En este caso, hay métodos que están ligados al tipo de dato \"listas\"."
   ]
  },
  {
   "cell_type": "markdown",
   "metadata": {},
   "source": [
    "### Métodos ligados a las listas"
   ]
  },
  {
   "attachments": {
    "11_image01.png": {
     "image/png": "[encoded data removed]"
    }
   },
   "cell_type": "markdown",
   "metadata": {},
   "source": [
    "![11_image01](/Users/ideasleon/platzi_edu/Entorno_f_DataScience/PythonNotes/Images/11_image01.png)\n",
    "![11_image01.png](attachment:11_image01.png)"
   ]
  },
  {
   "cell_type": "markdown",
   "metadata": {},
   "source": [
    "#### Método append( )\n",
    "\n",
    "El método que se puede usar para agregar un elemento es **append( )**.\n"
   ]
  },
  {
   "cell_type": "markdown",
   "metadata": {},
   "source": [
    "Por ejemplo, hagamos el ejercicio de agregar un elemento a la siguiente lista: planetas.\n",
    "\n",
    "Donde la lista definidia -planetas- contiene la lista de los planetas de nuestro sistema solar: 'Mercurio','Venus','Tierra','Marte','Júpiter','Saturno','Urano','Neptuno'\n",
    "\n",
    "Se desea agregar el elemento:'Pluton'"
   ]
  },
  {
   "cell_type": "code",
   "execution_count": null,
   "metadata": {},
   "outputs": [],
   "source": [
    "# agregar el elemento 'Pluton' a la lista planetas\n",
    "def run():\n",
    "    planetas = ['Mercurio','Venus','Tierra','Marte','Júpiter','Saturno','Urano','Neptuno']\n",
    "    planetas.append('Pluton')\n",
    "    print(planetas)\n",
    "\n",
    "\n",
    "if __name__=='__main__':\n",
    "    run()"
   ]
  },
  {
   "cell_type": "markdown",
   "metadata": {},
   "source": [
    "#### Método pop( )\n",
    "\n",
    "Para quitar un elemento de una lista se usa el método **pop( )**, este método funciona por medio de los índices. En el método, es necesario darle el número de indice como argumento.\n",
    "\n",
    "En el siguiente ejemplo, para quitar el elemento 'Pluton', es necesario usar el íncide 8. Recordando que para contar los índices, en programación se empieza a contar desde el cero \"0\"."
   ]
  },
  {
   "cell_type": "code",
   "execution_count": null,
   "metadata": {},
   "outputs": [],
   "source": [
    "# quitar  elemento, 'Pluton'\n",
    "def run():\n",
    "    planetas = ['Mercurio', 'Venus', 'Tierra', 'Marte', 'Júpiter', 'Saturno', 'Urano', 'Neptuno', 'Pluton']\n",
    "    planetas.pop(8)\n",
    "    print(planetas)\n",
    "\n",
    "\n",
    "if __name__=='__main__':\n",
    "    run()\n"
   ]
  },
  {
   "cell_type": "markdown",
   "metadata": {},
   "source": [
    "## Método sort()\n",
    "\n",
    "Es un método que se usa para ordenar los items de una lista.\n",
    "\n",
    "Por default ordena los string de forma ascendente"
   ]
  },
  {
   "cell_type": "code",
   "execution_count": null,
   "metadata": {},
   "outputs": [],
   "source": [
    "# ordenar la siguiente lista\n",
    "\n",
    "carros = ['Ford', 'BMW', 'Volvo']\n",
    "\n",
    "carros.sort()\n",
    "\n",
    "print(carros)"
   ]
  },
  {
   "cell_type": "markdown",
   "metadata": {},
   "source": [
    "Por default ordena los string de forma ascendente.\n",
    "\n",
    "Sin embargo se puede indicar el criterio de orgnización\n",
    "````\n",
    "list.sort(reverse=True|False, key=myFunc)\n",
    "````\n",
    "| Parámetro |                     Descripción                                 |\n",
    "|-----------|-----------------------------------------------------------------|\n",
    "|  reverse  | Optional. reverse=True will sort the list descending. Default is reverse=False |\n",
    "|    key    | Optional. A function to specify the sorting criteria(s)         |"
   ]
  },
  {
   "cell_type": "code",
   "execution_count": null,
   "metadata": {},
   "outputs": [],
   "source": [
    "# ordenar en forma inversa\n",
    "carros = ['Ford', 'BMW', 'Volvo']\n",
    "\n",
    "carros.sort(reverse=True)\n",
    "\n",
    "print(carros)"
   ]
  },
  {
   "cell_type": "code",
   "execution_count": null,
   "metadata": {},
   "outputs": [],
   "source": [
    "#  ordenar una lista por la longitud de sus elementos\n",
    "# usar una función para que retorne la longitud de una lista\n",
    "def list_leng(e):\n",
    "    return len(e)\n",
    "\n",
    "carros = ['Ford', 'Mitsubishi', 'BMW', 'Volvo']\n",
    "\n",
    "carros.sort(key=list_leng)\n",
    "\n",
    "print(carros)"
   ]
  },
  {
   "cell_type": "markdown",
   "metadata": {},
   "source": [
    "## Recorrer los elementos/items de una lista con el ciclo **for**"
   ]
  },
  {
   "cell_type": "markdown",
   "metadata": {},
   "source": [
    "Una lista puede ser recorrida, como los string. Que entiendo que puede enlistar los elementos de una lista. Usando el comando for."
   ]
  },
  {
   "cell_type": "code",
   "execution_count": null,
   "metadata": {},
   "outputs": [],
   "source": [
    "def run():\n",
    "    planetas = ['Mercurio', 'Venus', 'Tierra', 'Marte', 'Júpiter', 'Saturno', 'Urano', 'Neptuno', 'Pluton']\n",
    "    for lista_planetas in planetas:\n",
    "        print(lista_planetas)\n",
    "\n",
    "\n",
    "if __name__=='__main__':\n",
    "    run()"
   ]
  },
  {
   "cell_type": "code",
   "execution_count": null,
   "metadata": {},
   "outputs": [],
   "source": [
    "def run():\n",
    "    satelites = ['Luna','Ganímedes','Calisto','Io','Europa','Miranda','Ariel','Umbriel']\n",
    "    for lista_satelites in satelites:\n",
    "        print(lista_satelites)\n",
    "\n",
    "\n",
    "if __name__=='__main__':\n",
    "    run()"
   ]
  },
  {
   "cell_type": "markdown",
   "metadata": {},
   "source": [
    "Otra buena característica de las listas es que se pueden concatenar los valores de dos o más listas."
   ]
  },
  {
   "cell_type": "code",
   "execution_count": null,
   "metadata": {},
   "outputs": [],
   "source": [
    "# concatenación de listas\n",
    "def run():\n",
    "    planetas = ['Mercurio', 'Venus', 'Tierra', 'Marte', 'Júpiter', 'Saturno', 'Urano', 'Neptuno', 'Pluton']\n",
    "    satelites = ['Luna','Ganímedes','Calisto','Io','Europa','Miranda','Ariel','Umbriel']\n",
    "    print(planetas,satelites)\n",
    "\n",
    "\n",
    "if __name__=='__main__':\n",
    "    run()"
   ]
  },
  {
   "cell_type": "markdown",
   "metadata": {},
   "source": [
    "Las listas como los string, se puede multiplicar, es decir, usando el signo de multiplicación “*”, puede repetirse tantas veces como el multiplicador sea elegido."
   ]
  },
  {
   "cell_type": "code",
   "execution_count": null,
   "metadata": {},
   "outputs": [],
   "source": [
    "def run():\n",
    "    satelites = ['Luna','Ganímedes','Calisto','Io','Europa','Miranda','Ariel','Umbriel']\n",
    "    print(satelites * 3)\n",
    "\n",
    "\n",
    "if __name__=='__main__':\n",
    "    run()"
   ]
  },
  {
   "cell_type": "code",
   "execution_count": null,
   "metadata": {},
   "outputs": [],
   "source": [
    "cuerpos_celestes = ['Asteroides','Meteoritos','Galaxias','Cometas','Vía Láctea','Universo','Exoplanetas','Expansión']\n",
    "for cuerpo in cuerpos_celestes:     # para el cuerpo en la lista cuerpos_celestes\n",
    "    if cuerpo == 'Universo':        # si la variable cuerpo es igual a 'Universo' \n",
    "        break                       # ¡INTERRUMPE PROCESO!\n",
    "    print(cuerpo)                   # imprime la variable"
   ]
  },
  {
   "cell_type": "code",
   "execution_count": null,
   "metadata": {},
   "outputs": [],
   "source": [
    "cuerpos_celestes = ['Asteroides','Meteoritos','Galaxias','Cometas','Vía Láctea','Universo','Exoplanetas','Expansión']\n",
    "for cuerpo in cuerpos_celestes: # para el cuerpo en la lista dada\n",
    "    print(cuerpo)               # imprime la variable\n",
    "    if cuerpo == 'Universo':    # si la variable cuerpo es igual a 'Universo'\n",
    "        break                   # ¡INTERRUMPE PROCESO!"
   ]
  },
  {
   "cell_type": "markdown",
   "metadata": {},
   "source": [
    "## Como copiar listas de forma correcta\n",
    "\n",
    "Hay dos formas correctas de copiar una lista: 1) usando el comando *list*, 2) usando slices"
   ]
  },
  {
   "cell_type": "markdown",
   "metadata": {},
   "source": [
    "### Copiar listas usando el comando *list*"
   ]
  },
  {
   "cell_type": "code",
   "execution_count": null,
   "metadata": {},
   "outputs": [],
   "source": [
    "#copiar listas\n",
    "a = [1,2,3,4,5,6,7,5]\n",
    "c = list(a)\n",
    "\n",
    "print(c)\n",
    "\n",
    "id(c)\n",
    "print(\"ID de d = \" + str(id(c)))\n",
    "print(\"ID de a = \" + str(id(a)))"
   ]
  },
  {
   "cell_type": "markdown",
   "metadata": {},
   "source": [
    "### Copiar listas usando *slices*"
   ]
  },
  {
   "cell_type": "code",
   "execution_count": null,
   "metadata": {},
   "outputs": [],
   "source": [
    "# copiar listas\n",
    "a = [1,2,3,4,5,6,7,5]\n",
    "d = a[::]\n",
    "\n",
    "print(d)\n",
    "print(\"ID de d = \" + str(id(d)))\n",
    "print(\"ID de a = \" + str(id(a)))"
   ]
  },
  {
   "cell_type": "markdown",
   "metadata": {},
   "source": [
    "## Resumen\n",
    "\n",
    "Las listas son dinámicas. Esto hace que Python requiera más memoria para ejecutar las sentencias de agregar y eliminar elementos y mantener vivas a las listas. Hay un tipo de datos que optimiza el usa de la memoria. Las tuplas.\n",
    "\n",
    "1. Las listas sirven para guardar varios tipos de datos en una sola variable.\n",
    "2. Los tipos de datos que puede manejar son: string, numéricos, booleanos, etc.\n",
    "3. Las listas pertenecen a un conjunto llamado “estructuras de datos”.\n",
    "4. Las **estructuras de datos** son formas que brindan los lenguajes de programación para guardar varios valores en una variable.\n",
    "5. La sintaxis correcta es: **nombre_lista = [lista de elementos, True, 1, 'texto', 4.5]\n",
    "6. Las listas son mutables, esto quiere deicr que pueden cambiar cuando se eliminan o agregan elementos en ellas.\n",
    "7. Para agregar elementos a una lista, se usa el método **append( )**, dándole el valor del elemento como argumento.\n",
    "8. Para eliminar elementos de una lista, se usa el método **pop( )**, el cual usa los índices como argumento, para eliminar elementos.\n",
    "9. Las listas pueden se manejadas por los índices y los slices."
   ]
  },
  {
   "cell_type": "markdown",
   "metadata": {},
   "source": [
    "## Referencias\n",
    "\n",
    "[Python Basic course. Platzi](https://platzi.com/clases/1937-python/29646-almacenar-varios-valores-en-una-variable-listas/)\n",
    "\n",
    "[Python.org / lists](https://docs.python.org/3/tutorial/datastructures.html#using-lists-as-queues)\n",
    "\n",
    "[Python.org / Data Structures](https://docs.python.org/3/tutorial/datastructures.html)\n",
    "\n"
   ]
  }
 ],
 "metadata": {
  "colab": {
   "authorship_tag": "ABX9TyP9Cw60ZakQf7B/uDRIgBtG",
   "collapsed_sections": [],
   "name": "Listas.ipynb",
   "provenance": []
  },
  "kernelspec": {
   "display_name": "Python 3 (ipykernel)",
   "language": "python",
   "name": "python3"
  },
  "language_info": {
   "codemirror_mode": {
    "name": "ipython",
    "version": 3
   },
   "file_extension": ".py",
   "mimetype": "text/x-python",
   "name": "python",
   "nbconvert_exporter": "python",
   "pygments_lexer": "ipython3",
   "version": "3.10.0"
  }
 },
 "nbformat": 4,
 "nbformat_minor": 1
}
