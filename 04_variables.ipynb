{
 "cells": [
  {
   "cell_type": "markdown",
   "metadata": {
    "cell_id": "00000-20ee399b-06ba-4ae3-8071-60d14a5bcd35",
    "deepnote_cell_type": "markdown",
    "id": "Ng68hy8-W6dJ"
   },
   "source": [
    "# Variables\n",
    "\n",
    "\n",
    "![04_image01](/root/work/Images/04_image01.png)\n",
    "\n",
    "\n",
    "## Objetivo: aprender que son las variables\n"
   ]
  },
  {
   "cell_type": "markdown",
   "metadata": {
    "cell_id": "00004-229bf3e6-bfe9-4d2c-b93f-fc152a382871",
    "deepnote_cell_type": "markdown",
    "id": "FPTQjfvXbjui"
   },
   "source": [
    "## Variables\n",
    "Las variables son cajas o contenedores que se crean para guardar valores. Estos valores pueden contener los siguientes tipos de datos: textos, numéricos, booleanos, etc.\n",
    "\n",
    "Estos tipos de datos pueden ser usados para realizar diversas funciones en un programa."
   ]
  },
  {
   "cell_type": "code",
   "execution_count": null,
   "metadata": {},
   "outputs": [],
   "source": [
    "# 1 variable caja; valor 'Books'\n",
    "caja = 'Books'\n",
    "print(caja,'of Harry Potter')"
   ]
  },
  {
   "cell_type": "code",
   "execution_count": null,
   "metadata": {
    "cell_id": "00005-b02ec2c9-2503-425f-891b-1eadaea0ed16",
    "colab": {
     "base_uri": "https://localhost:8080/"
    },
    "deepnote_cell_type": "code",
    "executionInfo": {
     "elapsed": 225,
     "status": "ok",
     "timestamp": 1639242090290,
     "user": {
      "displayName": "Ricardo Saldivar",
      "photoUrl": "https://lh3.googleusercontent.com/a-/AOh14Ghz66khcqYkiYlYy6FmqYru2yXWzlx8Xi-52ZIi=s64",
      "userId": "09339938360877425787"
     },
     "user_tz": 360
    },
    "id": "3JZGVclhcH3h",
    "outputId": "d8a296f0-29ff-43f0-aeb1-b95f63bb8744"
   },
   "outputs": [],
   "source": [
    "# 2\n",
    "x = 20\n",
    "y = 'Hola a todos'\n",
    "print(x)\n",
    "print(y)"
   ]
  },
  {
   "cell_type": "markdown",
   "metadata": {
    "cell_id": "00006-0a994e96-2d7b-4866-8f88-baabcd5fcc4e",
    "deepnote_cell_type": "markdown",
    "id": "ObgZ7e-0cpYx"
   },
   "source": [
    "Una variable es creada al momento de asignarle un valor. En el ejemplo # 1 la variable **caja** se le asignó el valor **'Books'**. En el ejemplo # 2, la variable \"**x**\" se le asignó el valor de **20** y la variable \"**y**\" se le asignó el valor **'Hola a todos'**"
   ]
  },
  {
   "cell_type": "markdown",
   "metadata": {
    "cell_id": "00007-6924a72b-af37-4508-8161-ec1f2ee79176",
    "deepnote_cell_type": "markdown",
    "id": "M9R4yjj1d2aq"
   },
   "source": [
    "El comando **print()** imprime los valores de las variables. Solo hay que poner el nombre de la variable entre parentesis."
   ]
  },
  {
   "cell_type": "markdown",
   "metadata": {
    "cell_id": "00008-815d9688-67c3-4082-825b-920ee71de4a9",
    "deepnote_cell_type": "markdown",
    "id": "_lalPFDzeK7h"
   },
   "source": [
    "### Algunas reglas de las variables:"
   ]
  },
  {
   "cell_type": "markdown",
   "metadata": {
    "cell_id": "00009-4a7a6f3d-8e1f-4e38-b631-42384990a314",
    "deepnote_cell_type": "markdown",
    "id": "eFco_TC_eXm5"
   },
   "source": [
    "1. Las variables distinguen las mayúsculas y las minúsculas. En inglés se les conoce como CASE-SENSITIVE."
   ]
  },
  {
   "cell_type": "code",
   "execution_count": null,
   "metadata": {
    "cell_id": "00010-01b5dfbc-c3dd-4839-967d-94d4c4136c33",
    "colab": {
     "base_uri": "https://localhost:8080/"
    },
    "deepnote_cell_type": "code",
    "executionInfo": {
     "elapsed": 250,
     "status": "ok",
     "timestamp": 1639242709245,
     "user": {
      "displayName": "Ricardo Saldivar",
      "photoUrl": "https://lh3.googleusercontent.com/a-/AOh14Ghz66khcqYkiYlYy6FmqYru2yXWzlx8Xi-52ZIi=s64",
      "userId": "09339938360877425787"
     },
     "user_tz": 360
    },
    "id": "-shldxZmehus",
    "outputId": "38b23037-49df-4a82-bb38-0f401a2661e7"
   },
   "outputs": [],
   "source": [
    "a = 42\n",
    "A = 'león'\n",
    "print(a)\n",
    "print(A)"
   ]
  },
  {
   "cell_type": "markdown",
   "metadata": {
    "cell_id": "00011-cda040fd-98d9-4a6b-b91f-ec25d6e6eac9",
    "deepnote_cell_type": "markdown",
    "id": "o55l4tDxfJS5"
   },
   "source": [
    "2. Se puede nombrar a las variables con nombres cortos ó con nombres más descriptivos"
   ]
  },
  {
   "cell_type": "code",
   "execution_count": null,
   "metadata": {
    "cell_id": "00012-bc7bb13f-08c1-4161-b8c3-b350bc3a6f11",
    "colab": {
     "base_uri": "https://localhost:8080/"
    },
    "deepnote_cell_type": "code",
    "executionInfo": {
     "elapsed": 189,
     "status": "ok",
     "timestamp": 1639242936873,
     "user": {
      "displayName": "Ricardo Saldivar",
      "photoUrl": "https://lh3.googleusercontent.com/a-/AOh14Ghz66khcqYkiYlYy6FmqYru2yXWzlx8Xi-52ZIi=s64",
      "userId": "09339938360877425787"
     },
     "user_tz": 360
    },
    "id": "F6maFRAMfZSJ",
    "outputId": "e887d85f-7e6a-47a5-f800-982b200db123"
   },
   "outputs": [],
   "source": [
    "# Una persona tiene 40 años\n",
    "a = 40\n",
    "edad = 40\n",
    "print(a)\n",
    "print(edad)"
   ]
  },
  {
   "cell_type": "markdown",
   "metadata": {
    "cell_id": "00013-2923748a-d82c-4676-8454-a0a0d4d492ac",
    "deepnote_cell_type": "markdown",
    "id": "BmzdRn6JfouJ"
   },
   "source": [
    "3. Una variable puede empezar con una letra o con un guión bajo \"_\"\n",
    "4. Una variable NO puede empezar con número\n",
    "5. Una variable solo puede nombrarse con valores alfa numéricos y guiones bajos \"_\""
   ]
  },
  {
   "cell_type": "code",
   "execution_count": null,
   "metadata": {
    "cell_id": "00014-563f7651-42d6-4f61-aee7-75ad7ae503f7",
    "colab": {
     "base_uri": "https://localhost:8080/"
    },
    "deepnote_cell_type": "code",
    "executionInfo": {
     "elapsed": 424,
     "status": "ok",
     "timestamp": 1639243339796,
     "user": {
      "displayName": "Ricardo Saldivar",
      "photoUrl": "https://lh3.googleusercontent.com/a-/AOh14Ghz66khcqYkiYlYy6FmqYru2yXWzlx8Xi-52ZIi=s64",
      "userId": "09339938360877425787"
     },
     "user_tz": 360
    },
    "id": "UzB0zYEugNVJ",
    "outputId": "80b014c4-4557-4ada-d113-eb56912c3d52"
   },
   "outputs": [],
   "source": [
    "# muchas variables pueden ser mostradas en un comando print()\n",
    "mivariable = 'Tampico'\n",
    "_mivariable = 'León'\n",
    "mi_variable = 'Mérida'\n",
    "_mivariable_ ='Campeche'\n",
    "mivariable2 = 'Villahermosa'\n",
    "miVariable ='Cd. Del Carmen'\n",
    "print(mivariable,_mivariable,mi_variable,_mivariable_,mivariable2,miVariable)\n"
   ]
  },
  {
   "cell_type": "markdown",
   "metadata": {
    "cell_id": "00015-4f9169c8-cd07-452f-af32-010b860bc955",
    "deepnote_cell_type": "markdown",
    "id": "lL19RvhKhNZy"
   },
   "source": [
    "El comando **print()** puede imprimir multiples variables usando la **coma** \"**,**\" entre cada variable"
   ]
  },
  {
   "cell_type": "markdown",
   "metadata": {
    "cell_id": "00016-d7967c83-0035-48aa-a2cc-976a801ef492",
    "deepnote_cell_type": "markdown",
    "id": "oXwnFoR4hlAh"
   },
   "source": [
    "Nombres de variables NO permitidos en Python:"
   ]
  },
  {
   "cell_type": "code",
   "execution_count": null,
   "metadata": {
    "cell_id": "00017-9e897587-561c-480e-8054-22f6f887b88e",
    "colab": {
     "base_uri": "https://localhost:8080/",
     "height": 131
    },
    "deepnote_cell_type": "code",
    "executionInfo": {
     "elapsed": 216,
     "status": "error",
     "timestamp": 1639243562851,
     "user": {
      "displayName": "Ricardo Saldivar",
      "photoUrl": "https://lh3.googleusercontent.com/a-/AOh14Ghz66khcqYkiYlYy6FmqYru2yXWzlx8Xi-52ZIi=s64",
      "userId": "09339938360877425787"
     },
     "user_tz": 360
    },
    "id": "r6mqN4LRhqFC",
    "outputId": "2a86b4c7-75c1-40bc-9a8e-8e44465081a4"
   },
   "outputs": [],
   "source": [
    "2mivariable = 'tomate'\n",
    "mi-variable = 'cebolla'\n",
    "mi variable = 'cilantro'\n",
    "print(2mivariable,mi-variable,mi variable)"
   ]
  },
  {
   "cell_type": "markdown",
   "metadata": {
    "cell_id": "00018-1b3d4673-6135-46a5-8a6c-5b182453972b",
    "deepnote_cell_type": "markdown",
    "id": "9331qZ8Hir65"
   },
   "source": [
    "### Nombres de las Variables\n",
    "Formas mas usadas para nombrar a las variables con varias palabras juntas: **camello**, **pascal** y **serpiente**"
   ]
  },
  {
   "cell_type": "markdown",
   "metadata": {
    "cell_id": "00019-a504d7c3-2373-4790-8f6a-851f37e47d15",
    "deepnote_cell_type": "markdown",
    "id": "7I63BBTmpIg2"
   },
   "source": [
    "**Forma Camello**"
   ]
  },
  {
   "cell_type": "markdown",
   "metadata": {
    "cell_id": "00020-c362eb2a-e121-4d1d-931d-c26008468393",
    "deepnote_cell_type": "markdown",
    "id": "tyICp05Bn4Dz"
   },
   "source": [
    "Consiste en diferenciar cada palabra colocando la **primera letra en mayúscula**. Excepto la primera palabra."
   ]
  },
  {
   "cell_type": "code",
   "execution_count": null,
   "metadata": {
    "cell_id": "00021-af4502f7-dc72-462c-8690-2e760cf39ca5",
    "colab": {
     "base_uri": "https://localhost:8080/"
    },
    "deepnote_cell_type": "code",
    "executionInfo": {
     "elapsed": 197,
     "status": "ok",
     "timestamp": 1639243897776,
     "user": {
      "displayName": "Ricardo Saldivar",
      "photoUrl": "https://lh3.googleusercontent.com/a-/AOh14Ghz66khcqYkiYlYy6FmqYru2yXWzlx8Xi-52ZIi=s64",
      "userId": "09339938360877425787"
     },
     "user_tz": 360
    },
    "id": "8n-IaiKVi_pS",
    "outputId": "44c6308d-818b-44f6-a317-cc023d97c777"
   },
   "outputs": [],
   "source": [
    "miNombreVariable = 'camello'\n",
    "print(miNombreVariable)"
   ]
  },
  {
   "cell_type": "markdown",
   "metadata": {
    "cell_id": "00022-8b19c2e7-960a-4eff-b79d-d0edec785b6a",
    "deepnote_cell_type": "markdown",
    "id": "h_GJ9SV2o-xS"
   },
   "source": [
    "**Forma Pascal**"
   ]
  },
  {
   "cell_type": "markdown",
   "metadata": {
    "cell_id": "00023-c87cfcb2-6e6c-4340-b1ab-6d6e1c472af8",
    "deepnote_cell_type": "markdown",
    "id": "_FYCiNc8ou_j"
   },
   "source": [
    "Cada palabra empieza con mayúscula"
   ]
  },
  {
   "cell_type": "code",
   "execution_count": null,
   "metadata": {
    "cell_id": "00024-11178612-17fc-4885-bf2c-875cc3b2c489",
    "colab": {
     "base_uri": "https://localhost:8080/"
    },
    "deepnote_cell_type": "code",
    "executionInfo": {
     "elapsed": 195,
     "status": "ok",
     "timestamp": 1639245395446,
     "user": {
      "displayName": "Ricardo Saldivar",
      "photoUrl": "https://lh3.googleusercontent.com/a-/AOh14Ghz66khcqYkiYlYy6FmqYru2yXWzlx8Xi-52ZIi=s64",
      "userId": "09339938360877425787"
     },
     "user_tz": 360
    },
    "id": "tVuibV3oo2BL",
    "outputId": "9fba3a92-1db8-4efd-f698-0903d5fdbb2a"
   },
   "outputs": [],
   "source": [
    "MiNombreVariable = 'Pascal'\n",
    "print(MiNombreVariable)"
   ]
  },
  {
   "cell_type": "markdown",
   "metadata": {
    "cell_id": "00025-e0769e80-a5aa-4ce4-834f-f6382e4d8c20",
    "deepnote_cell_type": "markdown",
    "id": "OkmYZY5vpTIy"
   },
   "source": [
    "**Forma de Serpiente**"
   ]
  },
  {
   "cell_type": "markdown",
   "metadata": {
    "cell_id": "00026-4e2c568f-bee0-4c6e-b73b-79a3d2fddb33",
    "deepnote_cell_type": "markdown",
    "id": "apsnxLp-pZT0"
   },
   "source": [
    "Consiste en separar cada palabra con el guión bajo \"_\""
   ]
  },
  {
   "cell_type": "code",
   "execution_count": null,
   "metadata": {
    "cell_id": "00027-a14ea7e1-dce5-493e-a4ac-e054da519d22",
    "colab": {
     "base_uri": "https://localhost:8080/"
    },
    "deepnote_cell_type": "code",
    "executionInfo": {
     "elapsed": 187,
     "status": "ok",
     "timestamp": 1639245837859,
     "user": {
      "displayName": "Ricardo Saldivar",
      "photoUrl": "https://lh3.googleusercontent.com/a-/AOh14Ghz66khcqYkiYlYy6FmqYru2yXWzlx8Xi-52ZIi=s64",
      "userId": "09339938360877425787"
     },
     "user_tz": 360
    },
    "id": "O64rvCJ5peFi",
    "outputId": "72b77122-9a48-4eda-84b6-3d6b0b01150c"
   },
   "outputs": [],
   "source": [
    "mi_nombre_variable = 'sErPiEnTe'\n",
    "print(mi_nombre_variable)"
   ]
  },
  {
   "cell_type": "markdown",
   "metadata": {
    "cell_id": "00028-c6675d85-9bee-4904-9d9f-a10f4218b327",
    "deepnote_cell_type": "markdown",
    "id": "wCR4_YWIw0WV"
   },
   "source": [
    "### Formas de asignar valores"
   ]
  },
  {
   "cell_type": "markdown",
   "metadata": {
    "cell_id": "00029-4a7b0ba8-f6a9-4e84-92b1-08bc10ba2e0d",
    "deepnote_cell_type": "markdown",
    "id": "uVfafe_WrZ9c"
   },
   "source": [
    "Python permite asignar valores a múltiples variables en una sola línea."
   ]
  },
  {
   "cell_type": "code",
   "execution_count": null,
   "metadata": {
    "cell_id": "00030-7c7586c6-95bd-4d25-b93f-db36f9269d20",
    "colab": {
     "base_uri": "https://localhost:8080/"
    },
    "deepnote_cell_type": "code",
    "executionInfo": {
     "elapsed": 187,
     "status": "ok",
     "timestamp": 1639246289902,
     "user": {
      "displayName": "Ricardo Saldivar",
      "photoUrl": "https://lh3.googleusercontent.com/a-/AOh14Ghz66khcqYkiYlYy6FmqYru2yXWzlx8Xi-52ZIi=s64",
      "userId": "09339938360877425787"
     },
     "user_tz": 360
    },
    "id": "4hj8iCoir6qK",
    "outputId": "a82498fe-b5f0-4bba-ec93-9334ccdd0d7d"
   },
   "outputs": [],
   "source": [
    "var1, var2, var3 = 'Tampico','León','Mérida'\n",
    "print(var1)\n",
    "print(var2)\n",
    "print(var3)"
   ]
  },
  {
   "cell_type": "markdown",
   "metadata": {
    "cell_id": "00031-be30bf9a-a3f3-4da8-ae3e-7a471a5ac3e6",
    "deepnote_cell_type": "markdown",
    "id": "luN9DwYyschV"
   },
   "source": [
    "**Nota**: Asegúrate que el número de variables corresponda con el número de valores, si no (else), se tendrá un error"
   ]
  },
  {
   "cell_type": "code",
   "execution_count": null,
   "metadata": {
    "cell_id": "00032-e6df576b-d027-40ae-a504-280aad49b1e0",
    "colab": {
     "base_uri": "https://localhost:8080/",
     "height": 218
    },
    "deepnote_cell_type": "code",
    "executionInfo": {
     "elapsed": 169,
     "status": "error",
     "timestamp": 1639246423865,
     "user": {
      "displayName": "Ricardo Saldivar",
      "photoUrl": "https://lh3.googleusercontent.com/a-/AOh14Ghz66khcqYkiYlYy6FmqYru2yXWzlx8Xi-52ZIi=s64",
      "userId": "09339938360877425787"
     },
     "user_tz": 360
    },
    "id": "tFLfZMVNsr-q",
    "outputId": "ce9f0e5a-83af-4094-e42d-7c0b56b5c7c7"
   },
   "outputs": [],
   "source": [
    "var1, var2, var3 = 'Tampico', 'León'\n",
    "print(var1)\n",
    "print(var2)\n",
    "print(var3)"
   ]
  },
  {
   "cell_type": "markdown",
   "metadata": {
    "cell_id": "00033-4f8b4609-94ba-4705-b664-bd194a6829d9",
    "deepnote_cell_type": "markdown",
    "id": "EZZ674tts_iE"
   },
   "source": [
    "También, Python permite guardar el mismo valor en distintas variables en una sola línea"
   ]
  },
  {
   "cell_type": "code",
   "execution_count": null,
   "metadata": {
    "cell_id": "00034-65f4ae3b-ef67-412e-8729-608105da3fef",
    "colab": {
     "base_uri": "https://localhost:8080/"
    },
    "deepnote_cell_type": "code",
    "executionInfo": {
     "elapsed": 167,
     "status": "ok",
     "timestamp": 1639246579426,
     "user": {
      "displayName": "Ricardo Saldivar",
      "photoUrl": "https://lh3.googleusercontent.com/a-/AOh14Ghz66khcqYkiYlYy6FmqYru2yXWzlx8Xi-52ZIi=s64",
      "userId": "09339938360877425787"
     },
     "user_tz": 360
    },
    "id": "vQNaU8MMtGJH",
    "outputId": "5de2b2ef-3eba-4cf2-8739-344263a06bb4"
   },
   "outputs": [],
   "source": [
    "var4 = var5 = var6 = 'Molcajete'\n",
    "print(var4)\n",
    "print(var5)\n",
    "print(var6)"
   ]
  },
  {
   "cell_type": "markdown",
   "metadata": {
    "cell_id": "00035-933c65eb-3ef9-40e9-a503-f539d7b8675a",
    "deepnote_cell_type": "markdown",
    "id": "wptpHY7yt8bm"
   },
   "source": [
    "### Desempacar una colección de datos. Unpacking\n",
    "Cuando se tiene una colección de datos, Python permite extraer los datos en variables. Es conocido como \"unpacking\", del inglés que significa \"desempacar\"."
   ]
  },
  {
   "cell_type": "code",
   "execution_count": null,
   "metadata": {
    "cell_id": "00036-62911585-9ace-4306-b728-cd7ab33c59d6",
    "colab": {
     "base_uri": "https://localhost:8080/"
    },
    "deepnote_cell_type": "code",
    "executionInfo": {
     "elapsed": 156,
     "status": "ok",
     "timestamp": 1639246990584,
     "user": {
      "displayName": "Ricardo Saldivar",
      "photoUrl": "https://lh3.googleusercontent.com/a-/AOh14Ghz66khcqYkiYlYy6FmqYru2yXWzlx8Xi-52ZIi=s64",
      "userId": "09339938360877425787"
     },
     "user_tz": 360
    },
    "id": "ZhL1-x64ukcs",
    "outputId": "484732a5-6377-406d-e1d7-896b141b357c"
   },
   "outputs": [],
   "source": [
    "frutas = [\"manzana\", \"piña\", \"durazno\"]\n",
    "fruta1, fruta2, fruta3 = frutas\n",
    "print(fruta1)\n",
    "print(fruta2)\n",
    "print(fruta3)"
   ]
  },
  {
   "cell_type": "markdown",
   "metadata": {
    "cell_id": "00037-75e41423-cac6-4972-b150-01ca07a2ca89",
    "deepnote_cell_type": "markdown",
    "id": "G_e9FOl3vJGa"
   },
   "source": [
    "*Las colecciones de datos son listas de cosas*. En este caso es una lista común de frutas. En Python las listas de cosas se colocan entre corchetes [ ]. Para la lista de frutas, se usaron las comillas dobles \"\" para identificar cada elemento/fruta y porque se trata de texto. El texto es uno de los tipos de datos que se maneja en Python. Python conoce el texto como *string*"
   ]
  },
  {
   "cell_type": "markdown",
   "metadata": {
    "cell_id": "00038-ec8a17ed-13f3-471e-b634-241836a863e1",
    "deepnote_cell_type": "markdown",
    "id": "B9yhiCAtxm_N"
   },
   "source": [
    "### Variables de Salida /Output Variables"
   ]
  },
  {
   "cell_type": "markdown",
   "metadata": {
    "cell_id": "00039-63c8e3b7-fdb4-4f70-987a-febd99fc1482",
    "deepnote_cell_type": "markdown",
    "id": "0t99d4KFxpTL"
   },
   "source": [
    "Como se ha visto, el comando **print()** es usado para imprimir los valores de las variables"
   ]
  },
  {
   "cell_type": "markdown",
   "metadata": {
    "cell_id": "00040-80717b52-e253-4bbd-befe-60722327dd4c",
    "deepnote_cell_type": "markdown",
    "id": "_yFyN6-iyKR9"
   },
   "source": [
    "Se puede combinar texto y el valor de una variable usando el símbolo \"**+**\""
   ]
  },
  {
   "cell_type": "code",
   "execution_count": null,
   "metadata": {
    "cell_id": "00041-0bd0b0a3-978b-4c7c-aa84-b8c5944c4f17",
    "colab": {
     "base_uri": "https://localhost:8080/"
    },
    "deepnote_cell_type": "code",
    "executionInfo": {
     "elapsed": 181,
     "status": "ok",
     "timestamp": 1639247922060,
     "user": {
      "displayName": "Ricardo Saldivar",
      "photoUrl": "https://lh3.googleusercontent.com/a-/AOh14Ghz66khcqYkiYlYy6FmqYru2yXWzlx8Xi-52ZIi=s64",
      "userId": "09339938360877425787"
     },
     "user_tz": 360
    },
    "id": "aLBOSZdUyVK2",
    "outputId": "1044cfef-647d-49e1-eeb7-9036ff8282ff"
   },
   "outputs": [],
   "source": [
    "var1 = 'Tampico'\n",
    "print(var1 + ' es una ciudad del estado de Tamaulipas')"
   ]
  },
  {
   "cell_type": "markdown",
   "metadata": {
    "cell_id": "00042-cc3d22b9-c78d-482d-b270-78fdb3764897",
    "deepnote_cell_type": "markdown",
    "id": "2OwMCv6gy4wN"
   },
   "source": [
    "También se puede usar \"+\" para juntar valores de variables"
   ]
  },
  {
   "cell_type": "code",
   "execution_count": null,
   "metadata": {
    "cell_id": "00043-27b7b68b-356d-4c28-a949-4f6a01b9877d",
    "colab": {
     "base_uri": "https://localhost:8080/"
    },
    "deepnote_cell_type": "code",
    "executionInfo": {
     "elapsed": 163,
     "status": "ok",
     "timestamp": 1639248109150,
     "user": {
      "displayName": "Ricardo Saldivar",
      "photoUrl": "https://lh3.googleusercontent.com/a-/AOh14Ghz66khcqYkiYlYy6FmqYru2yXWzlx8Xi-52ZIi=s64",
      "userId": "09339938360877425787"
     },
     "user_tz": 360
    },
    "id": "_klyZf5uzEaq",
    "outputId": "31434243-ab70-4742-a4c0-4f3628ce38d8"
   },
   "outputs": [],
   "source": [
    "var1 = 'Tampico'\n",
    "var2 = ' Hermoso'\n",
    "print(var1 + var2)"
   ]
  },
  {
   "cell_type": "markdown",
   "metadata": {
    "cell_id": "00044-026ae74e-7c3f-4156-9bf1-7f9e77632865",
    "deepnote_cell_type": "markdown",
    "id": "RjwPBjGYzfw_"
   },
   "source": [
    "Para el tipo de dato como los números, el signo \"**+**\" se puede usar como operador aritmético. "
   ]
  },
  {
   "cell_type": "code",
   "execution_count": null,
   "metadata": {
    "cell_id": "00045-8e733fad-9a8d-436d-bcd8-cf3df0612a05",
    "colab": {
     "base_uri": "https://localhost:8080/"
    },
    "deepnote_cell_type": "code",
    "executionInfo": {
     "elapsed": 151,
     "status": "ok",
     "timestamp": 1639248284816,
     "user": {
      "displayName": "Ricardo Saldivar",
      "photoUrl": "https://lh3.googleusercontent.com/a-/AOh14Ghz66khcqYkiYlYy6FmqYru2yXWzlx8Xi-52ZIi=s64",
      "userId": "09339938360877425787"
     },
     "user_tz": 360
    },
    "id": "HrPnH64yzs2M",
    "outputId": "095cd783-7ad9-4d4b-807b-4a4b0bb16e48"
   },
   "outputs": [],
   "source": [
    "print(5 + 4)\n",
    "print(100 + 10)\n",
    "print(12345 + 768)"
   ]
  },
  {
   "cell_type": "markdown",
   "metadata": {
    "cell_id": "00046-d0f07d1a-dc44-42fa-999f-1f96e98690c0",
    "deepnote_cell_type": "markdown",
    "id": "s8ETtKvw0G7q"
   },
   "source": [
    "Si se quiere combinar tipos de dato de texto con números, Python arrojará un error"
   ]
  },
  {
   "cell_type": "code",
   "execution_count": null,
   "metadata": {
    "cell_id": "00047-905a5f07-4dd1-4f29-b5c4-c4b4f729cd36",
    "colab": {
     "base_uri": "https://localhost:8080/",
     "height": 201
    },
    "deepnote_cell_type": "code",
    "executionInfo": {
     "elapsed": 166,
     "status": "error",
     "timestamp": 1639248419321,
     "user": {
      "displayName": "Ricardo Saldivar",
      "photoUrl": "https://lh3.googleusercontent.com/a-/AOh14Ghz66khcqYkiYlYy6FmqYru2yXWzlx8Xi-52ZIi=s64",
      "userId": "09339938360877425787"
     },
     "user_tz": 360
    },
    "id": "YRAoXJRa0WkM",
    "outputId": "6b807e65-cb60-4a14-dff7-1ba3f63be7b5"
   },
   "outputs": [],
   "source": [
    "var1 = 'Tampico'\n",
    "var2 = 5\n",
    "print(var1 + var2)"
   ]
  },
  {
   "cell_type": "markdown",
   "metadata": {
    "cell_id": "00048-fce71de4-499c-433d-b474-c88e4c62665f",
    "deepnote_cell_type": "markdown",
    "id": "VOL7mTE51Bdl"
   },
   "source": [
    "Esto es porque el texto es un tipo de dato diferente a los números. De manera directa, en Python no es permitido juntar manzanas con peras. Es decir, no combina texto con números en un comando **print()** de forma directa."
   ]
  },
  {
   "cell_type": "markdown",
   "metadata": {
    "cell_id": "00049-acf56279-8f4c-48ef-881c-3dd3a859cd12",
    "deepnote_cell_type": "markdown",
    "id": "DgmsCtWm0fqr"
   },
   "source": [
    "Para combinar el texto con los números, se debe hacer una conversión de los numeros. Esta conversion se hace con el comando \"str\". str significa string. "
   ]
  },
  {
   "cell_type": "code",
   "execution_count": null,
   "metadata": {
    "cell_id": "00050-07b9ec75-b87d-499d-9cd3-d2fd89a71cac",
    "colab": {
     "base_uri": "https://localhost:8080/"
    },
    "deepnote_cell_type": "code",
    "executionInfo": {
     "elapsed": 180,
     "status": "ok",
     "timestamp": 1639248734764,
     "user": {
      "displayName": "Ricardo Saldivar",
      "photoUrl": "https://lh3.googleusercontent.com/a-/AOh14Ghz66khcqYkiYlYy6FmqYru2yXWzlx8Xi-52ZIi=s64",
      "userId": "09339938360877425787"
     },
     "user_tz": 360
    },
    "id": "qWxOu4eg1h7t",
    "outputId": "525680de-c0f6-40f6-8a70-3d6be80e3dff"
   },
   "outputs": [],
   "source": [
    "var1 = 'Tampico'\n",
    "var2 = 5\n",
    "print(var1 + str(var2))"
   ]
  },
  {
   "cell_type": "markdown",
   "metadata": {
    "cell_id": "00051-cd26fa2c-b7ef-4a0c-b75c-cb7d3f1e8808",
    "deepnote_cell_type": "markdown",
    "id": "Yx9iV5cD1sWd"
   },
   "source": [
    "Otra forma es realizar el cambio dentro de la misma variable var2 que contiene el valor 5"
   ]
  },
  {
   "cell_type": "code",
   "execution_count": null,
   "metadata": {
    "cell_id": "00052-4bc8aff3-0270-4733-a4bc-85af030779d7",
    "colab": {
     "base_uri": "https://localhost:8080/"
    },
    "deepnote_cell_type": "code",
    "executionInfo": {
     "elapsed": 168,
     "status": "ok",
     "timestamp": 1639248828832,
     "user": {
      "displayName": "Ricardo Saldivar",
      "photoUrl": "https://lh3.googleusercontent.com/a-/AOh14Ghz66khcqYkiYlYy6FmqYru2yXWzlx8Xi-52ZIi=s64",
      "userId": "09339938360877425787"
     },
     "user_tz": 360
    },
    "id": "Ej5l9fRz11cM",
    "outputId": "36365a17-cd2c-429f-b85a-c1f950565afa"
   },
   "outputs": [],
   "source": [
    "var1 = 'Tampico'\n",
    "var2 = 5\n",
    "var2 = str(var2)\n",
    "print(var1 + var2)"
   ]
  },
  {
   "cell_type": "markdown",
   "metadata": {
    "cell_id": "00053-62158433-1cef-4808-ae01-9388f84ec8b2",
    "deepnote_cell_type": "markdown",
    "id": "zKu0-Uom2H80"
   },
   "source": [
    "De esta forma, al usar el comando \"str\", se hace la conversion de numero a texto, convirtiendo la pera (numero 5) en manzana (texto). Y Python permitirá la impresión del mensaje"
   ]
  },
  {
   "cell_type": "markdown",
   "metadata": {
    "cell_id": "00054-043348c6-fc6b-4a48-9f1c-2df4d888e484",
    "deepnote_cell_type": "markdown",
    "id": "ByXsfcPx28Td"
   },
   "source": [
    "Para que se vea más estético y dejar espacios entre los valores de las variables var1 y var2 se puede hacer lo siguiente:"
   ]
  },
  {
   "cell_type": "markdown",
   "metadata": {
    "cell_id": "00055-e3d6011c-fe88-4168-9413-fd2fd475981b",
    "deepnote_cell_type": "markdown",
    "id": "fOhFFOj_3DcU"
   },
   "source": [
    "Directamente dejar el espacio en var1"
   ]
  },
  {
   "cell_type": "code",
   "execution_count": null,
   "metadata": {
    "cell_id": "00056-5a5bd728-3adc-4f53-8366-d686b5a02b09",
    "colab": {
     "base_uri": "https://localhost:8080/"
    },
    "deepnote_cell_type": "code",
    "executionInfo": {
     "elapsed": 190,
     "status": "ok",
     "timestamp": 1639249276517,
     "user": {
      "displayName": "Ricardo Saldivar",
      "photoUrl": "https://lh3.googleusercontent.com/a-/AOh14Ghz66khcqYkiYlYy6FmqYru2yXWzlx8Xi-52ZIi=s64",
      "userId": "09339938360877425787"
     },
     "user_tz": 360
    },
    "id": "wZuQrF123IST",
    "outputId": "8275688b-fcac-4144-c92b-41e8b31a28e2"
   },
   "outputs": [],
   "source": [
    "var1 = 'Tampico '\n",
    "var2 = 5\n",
    "var2 = str(var2)\n",
    "print(var1 + var2)"
   ]
  },
  {
   "cell_type": "markdown",
   "metadata": {
    "cell_id": "00057-64d9fb73-7400-41be-a850-078fa053ec2c",
    "deepnote_cell_type": "markdown",
    "id": "Z5SqLLRF3W4T"
   },
   "source": [
    "O también, dejar espacio dento del comando **print** usando el símbolo \"**+**\""
   ]
  },
  {
   "cell_type": "code",
   "execution_count": null,
   "metadata": {
    "cell_id": "00058-a15f6579-4f91-4c84-a207-64826a30e300",
    "colab": {
     "base_uri": "https://localhost:8080/"
    },
    "deepnote_cell_type": "code",
    "deepnote_to_be_reexecuted": false,
    "executionInfo": {
     "elapsed": 165,
     "status": "ok",
     "timestamp": 1639249313229,
     "user": {
      "displayName": "Ricardo Saldivar",
      "photoUrl": "https://lh3.googleusercontent.com/a-/AOh14Ghz66khcqYkiYlYy6FmqYru2yXWzlx8Xi-52ZIi=s64",
      "userId": "09339938360877425787"
     },
     "user_tz": 360
    },
    "execution_millis": 41,
    "execution_start": 1639284490662,
    "id": "sTEhIjKF3cOb",
    "outputId": "0d46f888-296e-487d-d440-67f99f7edcf5",
    "source_hash": "c635353a"
   },
   "outputs": [],
   "source": [
    "var1 = 'Tampico'\n",
    "var2 = 5\n",
    "var2 = str(var2)\n",
    "print(var1 + \" \" + var2)"
   ]
  },
  {
   "cell_type": "markdown",
   "metadata": {
    "cell_id": "00059-9342cf32-fe45-40d2-9c02-44bb4e64d568",
    "deepnote_cell_type": "markdown",
    "id": "Xab2PKyZ4JbU"
   },
   "source": [
    "## Resumen\n",
    "1. El comando print( ) imprime mensajes en la pantalla\n",
    "2. Las variables son contenedores que guardan valores de texto y de numero.\n",
    "3. Para asignar un valor a una variable se usa el operador **=**.\n",
    "4. Los valores de texto y numero son conocidos como tipos de datos o data types en inglés\n",
    "5. El texto es conocido como string\n",
    "6. Las variables pueden ser nombradas de forma simple o explicativa. Pueden empezar con letras y con guión bajo \"_\". Hay tres formas mas usadas para nombrar variables: Camello, Pascal y de Serpiente.\n",
    "7. Se pueden asignar múltiples valores en multiples variables usando una sola línea de código.\n",
    "8. Se puede desempacar colecciones de datos. Unpacking\n",
    "9. Una colección de datos es una lista de valores. Las listas deben estar entre corchetes [ ] y separar los elementos con la coma \"**,**\"\n",
    "10. Se pueden combinar los valores de las variables con el operador \"**+**\"\n",
    "11. En los números, el operador \"+\" se para realizar la operacion aritmetica de suma.\n",
    "12. Los tipos de datos de número y texto no pueden combinarse directamente. Se debe convertir el tipo de dato número en texto usando el comando \"**str**\". Se puede convertir directamente en la variable o en el comando **print**.\n"
   ]
  },
  {
   "cell_type": "markdown",
   "metadata": {
    "cell_id": "00060-a78b00c3-26ca-4cc4-a195-3f5504ead8fb",
    "deepnote_cell_type": "markdown",
    "id": "t9VC1CfJ9Z58"
   },
   "source": [
    "## Referencias\n",
    "[Curso Básico de Python de Platzi](https://platzi.com/home)\n",
    "\n",
    "[W3schools](https://www.w3schools.com/python/python_variables.asp)"
   ]
  },
  {
   "cell_type": "markdown",
   "metadata": {
    "created_in_deepnote_cell": true,
    "deepnote_cell_type": "markdown",
    "tags": []
   },
   "source": [
    "<a style='text-decoration:none;line-height:16px;display:flex;color:#5B5B62;padding:10px;justify-content:end;' href='https://deepnote.com?utm_source=created-in-deepnote-cell&projectId=2e66839c-8a8c-4754-889a-73c17f6336ba' target=\"_blank\">\n",
    "<img alt='Created in deepnote.com' style='display:inline;max-height:16px;margin:0px;margin-right:7.5px;' src='data:image/svg+xml;base64,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' > </img>\n",
    "Created in <span style='font-weight:600;margin-left:4px;'>Deepnote</span></a>"
   ]
  }
 ],
 "metadata": {
  "colab": {
   "authorship_tag": "ABX9TyPfI2rmywtgx32cpX84emLM",
   "collapsed_sections": [],
   "name": "Python_print_variables.ipynb",
   "provenance": []
  },
  "deepnote": {},
  "deepnote_execution_queue": [],
  "deepnote_notebook_id": "57d26715-e351-4430-990c-745066b0c4d0",
  "kernelspec": {
   "display_name": "Python 3",
   "name": "python3"
  },
  "language_info": {
   "codemirror_mode": {
    "name": "ipython",
    "version": 3
   },
   "file_extension": ".py",
   "mimetype": "text/x-python",
   "name": "python",
   "nbconvert_exporter": "python",
   "pygments_lexer": "ipython3",
   "version": "3.9.7"
  }
 },
 "nbformat": 4,
 "nbformat_minor": 0
}
