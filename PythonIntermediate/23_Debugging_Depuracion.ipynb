{
 "cells": [
  {
   "cell_type": "markdown",
   "id": "5d62cfa1",
   "metadata": {},
   "source": [
    "# Debuggin o Depuración"
   ]
  },
  {
   "cell_type": "markdown",
   "id": "4c675ca5",
   "metadata": {},
   "source": [
    "* Resolver los errores de lógica\n",
    "* Python no avisa\n",
    "* Hay que buscar el error línea por línea"
   ]
  },
  {
   "cell_type": "markdown",
   "id": "d57eda1f",
   "metadata": {},
   "source": [
    "## Debugging\n",
    "* El debugging o depuración en español, es una técnica que sirve para resolver los errores de lógica de un programa de Python."
   ]
  },
  {
   "cell_type": "code",
   "execution_count": 3,
   "id": "68c9a6f6",
   "metadata": {},
   "outputs": [
    {
     "name": "stdout",
     "output_type": "stream",
     "text": [
      "Ingresa un número: 5\n",
      "[]\n",
      "Termino el programa :)\n"
     ]
    }
   ],
   "source": [
    "def divisors(num):\n",
    "    divisors = []\n",
    "    for i in range(1,num +1):\n",
    "        if num % i == 1:\n",
    "            divisors.append(i)\n",
    "        return divisors\n",
    "    \n",
    "\n",
    "def run():\n",
    "    num = int(input('Ingresa un número: '))\n",
    "    print(divisors(num))\n",
    "    print('Termino el programa :)')\n",
    "\n",
    "if __name__ == '__main__':\n",
    "    run()"
   ]
  },
  {
   "cell_type": "code",
   "execution_count": 4,
   "id": "552af2f7",
   "metadata": {},
   "outputs": [
    {
     "name": "stdout",
     "output_type": "stream",
     "text": [
      "Ingresa un número: 5\n",
      "[1]\n",
      "Termino el programa :)\n"
     ]
    }
   ],
   "source": [
    "def divisors(num):\n",
    "    divisors = []\n",
    "    for i in range(1,num +1):\n",
    "        if num % i == 0:\n",
    "            divisors.append(i)\n",
    "        return divisors\n",
    "    \n",
    "\n",
    "def run():\n",
    "    num = int(input('Ingresa un número: '))\n",
    "    print(divisors(num))\n",
    "    print('Termino el programa :)')\n",
    "\n",
    "if __name__ == '__main__':\n",
    "    run()"
   ]
  },
  {
   "cell_type": "code",
   "execution_count": null,
   "id": "00d2e723",
   "metadata": {},
   "outputs": [],
   "source": []
  }
 ],
 "metadata": {
  "kernelspec": {
   "display_name": "Python 3 (ipykernel)",
   "language": "python",
   "name": "python3"
  },
  "language_info": {
   "codemirror_mode": {
    "name": "ipython",
    "version": 3
   },
   "file_extension": ".py",
   "mimetype": "text/x-python",
   "name": "python",
   "nbconvert_exporter": "python",
   "pygments_lexer": "ipython3",
   "version": "3.10.0"
  }
 },
 "nbformat": 4,
 "nbformat_minor": 5
}
