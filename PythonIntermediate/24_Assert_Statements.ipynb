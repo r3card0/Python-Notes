{
 "cells": [
  {
   "cell_type": "markdown",
   "metadata": {},
   "source": [
    "# Assert Statements"
   ]
  },
  {
   "cell_type": "markdown",
   "metadata": {},
   "source": [
    "Los Assert Statements son expresiones que se usan para manejar errores. Si esta expresion se cumple, returna True, en caso de que retorne False, envía mensaje de Error."
   ]
  },
  {
   "cell_type": "markdown",
   "metadata": {},
   "source": [
    "![Assert](/Users/ideasleon/platzi_edu/Entorno_f_DataScience/PythonNotes/Images/24_image01.png)"
   ]
  },
  {
   "cell_type": "markdown",
   "metadata": {},
   "source": [
    "## Estructura de un *Assert*"
   ]
  },
  {
   "cell_type": "markdown",
   "metadata": {},
   "source": [
    "### assert condición, mensaje de error"
   ]
  },
  {
   "cell_type": "markdown",
   "metadata": {},
   "source": [
    "Se puede leer de la siguiente manera:\n",
    "\n",
    "#### *Afirmo qué, esta condicion es verdadera, sino ,imprimo este mensaje de error*"
   ]
  },
  {
   "cell_type": "code",
   "execution_count": 3,
   "metadata": {},
   "outputs": [
    {
     "name": "stdout",
     "output_type": "stream",
     "text": [
      "True\n"
     ]
    }
   ],
   "source": [
    "#assert condición, mensaje de error\n",
    "def palindrome(string):\n",
    "    assert len(string) > 0, \"No se puede ingresar una cadena vacia\"\n",
    "    return string == string[::-1]\n",
    "\n",
    "print(palindrome(\"reconocer\"))"
   ]
  },
  {
   "cell_type": "markdown",
   "metadata": {},
   "source": [
    "Ejercicio"
   ]
  },
  {
   "cell_type": "code",
   "execution_count": 3,
   "metadata": {},
   "outputs": [
    {
     "name": "stdout",
     "output_type": "stream",
     "text": [
      "[1, 3]\n",
      "Terminó mi programa\n"
     ]
    }
   ],
   "source": [
    "def divisors(num):\n",
    "    divisors = []\n",
    "    for i in range(1, num + 1):\n",
    "        if num % i == 0:\n",
    "            divisors.append(i)\n",
    "    return divisors\n",
    "\n",
    "def run():\n",
    "    num = input(\"ingresa unumero\")\n",
    "    # método de los string isnumeric(), devuelve verdadero si el valor ingresado es tipo numérico y False si no lo es\n",
    "    # nota, para que l método funcione, es recomendable eliminar int en la variable num\n",
    "    assert num.isnumeric(), \"Se debe ingresa un número\"\n",
    "    print(divisors(int(num)))\n",
    "    print(\"Terminó mi programa\")\n",
    "\n",
    "\n",
    "if __name__ == \"__main__\":\n",
    "    run()"
   ]
  }
 ],
 "metadata": {
  "interpreter": {
   "hash": "e72dffca917c37070898329a6d9ffab3663ae212dd18247022d4406a9d461b20"
  },
  "kernelspec": {
   "display_name": "Python 3.10.0 ('venv_pn': venv)",
   "language": "python",
   "name": "python3"
  },
  "language_info": {
   "codemirror_mode": {
    "name": "ipython",
    "version": 3
   },
   "file_extension": ".py",
   "mimetype": "text/x-python",
   "name": "python",
   "nbconvert_exporter": "python",
   "pygments_lexer": "ipython3",
   "version": "3.10.0"
  },
  "orig_nbformat": 4
 },
 "nbformat": 4,
 "nbformat_minor": 2
}
