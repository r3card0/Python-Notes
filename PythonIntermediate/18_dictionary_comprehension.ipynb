{
 "cells": [
  {
   "cell_type": "markdown",
   "metadata": {},
   "source": [
    "# Dictionary comprehension"
   ]
  },
  {
   "cell_type": "markdown",
   "metadata": {},
   "source": [
    "## ¿Qué es?\n",
    "\n",
    "Como las list  comprehension, los **dictionaries comprehension** son diccionarios que se crean a partir de una iteración. Y guardan los resultados de la iteración.\n",
    "\n",
    "### Iteración\n",
    "\n",
    "Iteración significa repetir varias veces un proceso con la intención de alcanzar una meta deseada, objetivo o resultado. Cada repetición del proceso también se le denomina una \"iteración\", y los resultados de una iteración se utilizan como punto de partida para la siguiente iteración."
   ]
  },
  {
   "cell_type": "markdown",
   "metadata": {},
   "source": [
    "Ejercicio # 1. Crear un diccionario que guarde en las llaves los primeros 10 números naturales y en valores el cubo de esos 10 números naturales al cuadrado."
   ]
  },
  {
   "cell_type": "markdown",
   "metadata": {},
   "source": [
    "Ejercicio # 2. Del ejercicio # 1, guardar en las llaves solo los número que NO SEAN divisibles entre 3."
   ]
  },
  {
   "cell_type": "markdown",
   "metadata": {},
   "source": [
    "## ¿Cómo se crea?\n",
    "\n",
    "El ejercicio 1 y 2 se pueden crear con el **dictionary comprehension**. A diferencia de las list comprehension, los dictionaries comprehension, pueden tener o no la condicional. Es opcional usarla."
   ]
  },
  {
   "cell_type": "markdown",
   "metadata": {},
   "source": [
    "![15_image01](/Users/ideasleon/platzi_edu/Entorno_f_DataScience/PythonNotes/Images/15_image01.png)"
   ]
  },
  {
   "cell_type": "code",
   "execution_count": 5,
   "metadata": {},
   "outputs": [
    {
     "name": "stdout",
     "output_type": "stream",
     "text": [
      "{1: 1, 2: 8, 3: 27, 4: 64, 5: 125, 6: 216, 7: 343, 8: 512, 9: 729, 10: 1000}\n"
     ]
    }
   ],
   "source": [
    "# sin condicional. Ejercicio  # 1\n",
    "def run():\n",
    "    diccionario = {i:i**3 for i in range(1,11)}\n",
    "\n",
    "    print(diccionario)\n",
    "\n",
    "\n",
    "if __name__ =='__main__':\n",
    "    run()"
   ]
  },
  {
   "cell_type": "code",
   "execution_count": 6,
   "metadata": {},
   "outputs": [
    {
     "name": "stdout",
     "output_type": "stream",
     "text": [
      "{1: 1, 2: 8, 4: 64, 5: 125, 7: 343, 8: 512, 10: 1000}\n"
     ]
    }
   ],
   "source": [
    "# con condicional\n",
    "def run():\n",
    "    diccionario = {i:i**3 for i in range(1,11) if i % 3 != 0}\n",
    "\n",
    "    print(diccionario)\n",
    "\n",
    "\n",
    "if __name__ == '__main__':\n",
    "    run()"
   ]
  },
  {
   "cell_type": "markdown",
   "metadata": {},
   "source": [
    "### Estructura de un dictionary comprehension\n",
    "\n",
    "#### diccionario= {key:value for value in iterable if condition}\n",
    "\n",
    "Se lee:\n",
    "1. Desde el comando **for**\n",
    "2. Seguido al inicio por el **key:value** que se va a guardar.\n",
    "3. leer la condición que presenta. Nota: es opcional ponerla o no la condicional."
   ]
  },
  {
   "cell_type": "markdown",
   "metadata": {},
   "source": [
    "![15_image02](/Users/ideasleon/platzi_edu/Entorno_f_DataScience/PythonNotes/Images/15_image02.png)"
   ]
  },
  {
   "cell_type": "markdown",
   "metadata": {},
   "source": [
    "## ¿Para qué se usa?\n",
    "\n",
    "Se usa para crear diccionarios de datos con poco código."
   ]
  },
  {
   "cell_type": "markdown",
   "metadata": {},
   "source": [
    "## Resumen\n",
    "\n",
    "1. Una **dictionary comprehension** es un diccionario que se crea a partir de una iteración. Y guarda los resultados de la iteración.\n",
    "2. Tiene la siguiente sintaxis: **diccionario = {key:value for value in iterable if condition}**.\n",
    "3. Es opcional poner o no la condicional.\n",
    "3. La forma adecuada de comprender es empezando desde en medio **(for)**, seguido por el inicio (**key:value**) y terminando por la condición.\n",
    "3. Se usa para crear diccionarios de datos con poco código."
   ]
  },
  {
   "cell_type": "markdown",
   "metadata": {},
   "source": [
    "## Referencia\n",
    "\n",
    "[Python Intermediate course. Platzi](https://platzi.com/clases/2255-python-intermedio/36464-dictionary-comprehensions/)\n",
    "\n",
    "[Python.org/dictionary comprehensions](https://www.python.org/dev/peps/pep-0274/)"
   ]
  }
 ],
 "metadata": {
  "interpreter": {
   "hash": "4ee08b0487832ff03f0fdf4b6eade6848fbbb6f348c487e64472b02f35273942"
  },
  "kernelspec": {
   "display_name": "Python 3.10.0 64-bit ('py3_10': conda)",
   "language": "python",
   "name": "python3"
  },
  "language_info": {
   "codemirror_mode": {
    "name": "ipython",
    "version": 3
   },
   "file_extension": ".py",
   "mimetype": "text/x-python",
   "name": "python",
   "nbconvert_exporter": "python",
   "pygments_lexer": "ipython3",
   "version": "3.10.0"
  },
  "orig_nbformat": 4
 },
 "nbformat": 4,
 "nbformat_minor": 2
}
