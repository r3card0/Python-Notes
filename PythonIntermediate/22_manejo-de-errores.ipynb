{
 "cells": [
  {
   "cell_type": "markdown",
   "metadata": {},
   "source": [
    "# Los errores en el código"
   ]
  },
  {
   "cell_type": "markdown",
   "metadata": {},
   "source": [
    "Tener errores durante la creación de un código es completamente normal y común. Por eso, es importante conocer la forma adecuada de leer los errores y corregirlos de forma rápida y precisa para continuar trabajando."
   ]
  },
  {
   "cell_type": "markdown",
   "metadata": {},
   "source": [
    "Primero hay que saber que hay dos tipos de errores muy comunes:\n",
    "\n",
    "1. Errores que son mostrados por Python\n",
    "2. Errores que no son mostrados por Python"
   ]
  },
  {
   "cell_type": "markdown",
   "metadata": {},
   "source": [
    "## Los errores mostrados por Python\n",
    "\n",
    "Son errores donde el mismo lenguaje nos indica su existencia. Python, informa el error a través de un \"*traceback*\".\n",
    "\n",
    "Los errores se pueden clasificar en dos: SyntaxError y Exception\n",
    "\n",
    "Estos errores son normalmente por sustituir una letra u omitirla, que es algo muy común"
   ]
  },
  {
   "cell_type": "markdown",
   "metadata": {},
   "source": [
    "![imagen](/Users/ideasleon/platzi_edu/Entorno_f_DataScience/PythonNotes/Images/22_image01.png)"
   ]
  },
  {
   "cell_type": "markdown",
   "metadata": {},
   "source": [
    "## Como se ven los errores"
   ]
  },
  {
   "cell_type": "markdown",
   "metadata": {},
   "source": [
    "![ejemplo de SyntaxError]"
   ]
  },
  {
   "cell_type": "markdown",
   "metadata": {},
   "source": [
    "![ejemplo de Exception]"
   ]
  }
 ],
 "metadata": {
  "interpreter": {
   "hash": "4ee08b0487832ff03f0fdf4b6eade6848fbbb6f348c487e64472b02f35273942"
  },
  "kernelspec": {
   "display_name": "Python 3.10.0 ('py3_10')",
   "language": "python",
   "name": "python3"
  },
  "language_info": {
   "name": "python",
   "version": "3.10.0"
  },
  "orig_nbformat": 4
 },
 "nbformat": 4,
 "nbformat_minor": 2
}
