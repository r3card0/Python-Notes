{
 "cells": [
  {
   "cell_type": "markdown",
   "metadata": {},
   "source": [
    "# Funciones anónimas:lambda"
   ]
  },
  {
   "cell_type": "markdown",
   "metadata": {},
   "source": [
    "## ¿Qué son?\n",
    "\n",
    "Las funciones anónimas son aquellas que no tienen nombre como las funciones creadas. Cuentan con una estructura donde se crean en una sola línea de código. Utilizan la palabra clave **lambda** para ejecutarse como función.\n",
    "\n",
    "## ¿Para qué sirven?\n",
    "\n",
    "Las funciones lambda permiten ejecutar tareas usando menos código.\n",
    "\n",
    "## ¿Cómo se crean?\n",
    "\n",
    "\n",
    "### Estructura de las funciones lambdas: identificador = lambda argumentos : expresión\n",
    "\n",
    "1. **Argumento**: es el parámetro que recibe la función para poder funcionar\n",
    "\n",
    "2. **Expresión**: línea de código que ejecuta una tarea específica.\n",
    "\n",
    "3. **Identificador**: Es una variable que no pertence a la función lambda. El identificador es una variable que va a contener un objeto de tipo función. el objeto de tipo función es la función lambda. Por lo tanto la función será reconocida o identificada por el nombre del identificador ¿que dijo?\n",
    "\n",
    "Las funciones anónimas lambda, no requieren recibir una instrucción para retornar una respuesta. Por default, ella lo hará."
   ]
  },
  {
   "cell_type": "code",
   "execution_count": 4,
   "metadata": {},
   "outputs": [
    {
     "name": "stdout",
     "output_type": "stream",
     "text": [
      "True\n"
     ]
    }
   ],
   "source": [
    "palindrome = lambda string : string == string[::-1]\n",
    "print(palindrome('ana'))"
   ]
  },
  {
   "cell_type": "code",
   "execution_count": 8,
   "metadata": {},
   "outputs": [
    {
     "name": "stdout",
     "output_type": "stream",
     "text": [
      "True\n"
     ]
    }
   ],
   "source": [
    "# Así se vería con una función creada\n",
    "def palindrome(string):\n",
    "    return string ==string[::-1]\n",
    "\n",
    "print(palindrome('ana'))\n"
   ]
  },
  {
   "cell_type": "markdown",
   "metadata": {},
   "source": [
    "Como se puede obervar, las funciones anónimas **lambda** permiten ejecutar tareas usando menos código."
   ]
  },
  {
   "cell_type": "markdown",
   "metadata": {},
   "source": [
    "## Resumen\n",
    "\n",
    "1. Las funciones **lambda** son el tercer tipo de funciones.\n",
    "2. Las funciones **lambda** son funciones anónimas.\n",
    "3. Son definidas por el keyword **lambda**, en vez de usar **def**\n",
    "4. Se escriben en una sola línea de código.\n",
    "5. Su sintaxis es la siguiente **identificador = lambda argumento: expresión**\n",
    "6. El **identificador** es una variable que contendra la función lambda.\n",
    "7. Pueden tomar varios argumentos, pero solo pueden retornar un valor.\n",
    "8. Los **argumentos** son los parámetros que recibira la función para ejecutarse.\n",
    "9. Requieren una expresión y no pueden ser llamadas directamente con un print\n",
    "10. La **expresión** son líneas de código que ejecutan una tarea específica.\n",
    "11. Pueden tener infinitos argumentos, pero solo una expresión."
   ]
  },
  {
   "cell_type": "markdown",
   "metadata": {},
   "source": [
    "## Referencias\n",
    "\n",
    "[Python Intermediate course. Platzi](https://platzi.com/clases/2255-python-intermedio/36465-funciones-anonimas-lambda/)\n",
    "\n",
    "[Python.org/lambda](https://docs.python.org/3/tutorial/controlflow.html?highlight=lambda#lambda-expressions)\n",
    "\n",
    "[Freecodecamp](https://www.freecodecamp.org/news/lambda-function-in-python-example-syntax/)\n",
    "\n",
    "[Python Geeks](https://pythongeeks.org/functions-in-python/)"
   ]
  }
 ],
 "metadata": {
  "interpreter": {
   "hash": "f1557aa6e6032d56488bae8aac3525a5f014f999b290e68cc99a0d437deba24f"
  },
  "kernelspec": {
   "display_name": "Python 3 (ipykernel)",
   "language": "python",
   "name": "python3"
  },
  "language_info": {
   "codemirror_mode": {
    "name": "ipython",
    "version": 3
   },
   "file_extension": ".py",
   "mimetype": "text/x-python",
   "name": "python",
   "nbconvert_exporter": "python",
   "pygments_lexer": "ipython3",
   "version": "3.9.7"
  }
 },
 "nbformat": 4,
 "nbformat_minor": 2
}
