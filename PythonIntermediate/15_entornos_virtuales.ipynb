{
 "cells": [
  {
   "cell_type": "markdown",
   "metadata": {},
   "source": [
    "# Entornos virtuales"
   ]
  },
  {
   "cell_type": "markdown",
   "metadata": {},
   "source": [
    "## ¿Qué es un entorno virtual?\n",
    "\n",
    "Un entorno virtual es un espacio que contiene versiones de librerias determinadas por el programador en base a una necesidad técnica.\n",
    "\n",
    "Es un espacio que sirve para separar un proyecto de otros proyectos permitiendo tener un control de la ejecución de sus librerias"
   ]
  },
  {
   "cell_type": "markdown",
   "metadata": {},
   "source": [
    "## ¿Cómo crear un entorno virtual?\n",
    "\n",
    "Un entorno virtual en Python se crea con con la siguiente sintaxis:\n",
    "\n",
    "* En un equipo MacOs\n",
    "````\n",
    "python3 -m venv nombre_entorno\n",
    "````\n",
    "* En un equipo con windows\n",
    "````\n",
    "py -m venv nombre_entorno\n",
    "````\n"
   ]
  },
  {
   "cell_type": "markdown",
   "metadata": {},
   "source": [
    "## ¿Cómo activar un entorno virtual?\n",
    "Una vez creado el entorno virtual, se requiere activar con la siguiente sintaxis:\n",
    "\n",
    "* En un equipo con MacOs:\n",
    "````\n",
    "source nombre_entorno/bin/activate\n",
    "````\n",
    "* En un equipo con Windows:\n",
    "````\n",
    ".\\nombre_entorno\\Scripts\\activate\n",
    "````\n",
    "* Para desactivar el entorno virtual, en ambos sistemas operativos se usa el comando:\n",
    "````\n",
    "deactivate\n",
    "````\n"
   ]
  },
  {
   "cell_type": "markdown",
   "metadata": {},
   "source": [
    "## ¿Cómo nombrar a un entorno virtual?\n",
    "\n",
    "Generalmente, los ambientes virtuales son nombrados \"venv\". Es un nombre no oficial, pero comunmente es usado por la comunidad."
   ]
  },
  {
   "cell_type": "markdown",
   "metadata": {},
   "source": [
    "## ¿Cómo instalar librerias en el entorno virtual?\n",
    "Para instalar librerias en el entorno virtual se usa el comando *pip*\n",
    "````\n",
    "pip install nombre_libreria\n",
    "````\n"
   ]
  },
  {
   "cell_type": "markdown",
   "metadata": {},
   "source": [
    "## Pasos recomendados para crear un entorno virtual\n",
    "\n",
    "1. En la terminal, ubicarse en el directorio donde se creará el proyecto. O crear el directorio en la ubicación deseada.\n",
    "2. Ejecutar el comando para crear el entorno virtual. Usar el comando según el sistema operativo usado.\n",
    "3. Con el comando \"*ls*\" verificar que se haya creado una carpeta que tendrá el nombre del entorno \"venv\" si así fue nombrado\n",
    "4. Activar el entorno virtual con el comando de activación. Usar el comando según el sistema operativo usado. Cuando se activa, en la terminal se observa una leyenda con el nombre del entorno\n",
    "5. Una vez activado el entorno, se podrán instalar las librerias que se requieren para el proyecto. Para la instalación de las librearias se usa el comando *pip*\n",
    "6. Para desactivar el entorno se usa el comando *deactivate*\n",
    "\n",
    "Una vez realizado estos pasos, cuando se regrese a trabajar en el proyecto solo es necesario activarlo siguiendo el proceso del paso 4 y para desactivarlo, seguir el paso 6."
   ]
  },
  {
   "cell_type": "markdown",
   "metadata": {},
   "source": [
    "## Resumen\n",
    "1. Un entorno virtual es un espacio que permite controlar las versiones de las librerias sin afectar a otros proyectos\n",
    "2. Se pueden crear entornos virtuales de Python en los sistemas operativos Windows, MacOS y Linux"
   ]
  },
  {
   "cell_type": "markdown",
   "metadata": {},
   "source": [
    "## Referencias\n",
    "[Python Intermediate Course](https://platzi.com/clases/2255-python-intermedio/36459-el-primer-paso-profesional-creacion-de-un-entorno-/)"
   ]
  }
 ],
 "metadata": {
  "language_info": {
   "name": "python"
  },
  "orig_nbformat": 4
 },
 "nbformat": 4,
 "nbformat_minor": 2
}
