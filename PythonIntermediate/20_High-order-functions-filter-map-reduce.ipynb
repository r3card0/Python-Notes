{
 "cells": [
  {
   "cell_type": "markdown",
   "metadata": {},
   "source": [
    "# Funciones de orden superior: filter, map y reduce"
   ]
  },
  {
   "cell_type": "markdown",
   "metadata": {},
   "source": [
    "## ¿Qué son?\n",
    "\n",
    "Son funciones que reciben como parámetro otra función y hace algo con ella.\n",
    "\n",
    "tienen características principales\n",
    "\n",
    "Hay tres tipos de funciones de orden superior: filter, map y reduce.\n",
    "\n",
    "\n",
    "## ¿Para qué Sirven?\n",
    "\n",
    "Las funciones de orden superior permiten escribir programas en una forma muy trivial.\n",
    "\n",
    "\n",
    "\n",
    "## ¿Cómo se hacen?"
   ]
  },
  {
   "cell_type": "code",
   "execution_count": 6,
   "metadata": {},
   "outputs": [
    {
     "name": "stdout",
     "output_type": "stream",
     "text": [
      "Hola!!\n",
      "Adios!!!\n"
     ]
    }
   ],
   "source": [
    "def saludo(fun):\n",
    "    fun()\n",
    "\n",
    "def hola():\n",
    "    print('Hola!!')\n",
    "\n",
    "def adios():\n",
    "    print('Adios!!!')\n",
    "\n",
    "\n",
    "saludo(hola)\n",
    "saludo(adios)"
   ]
  },
  {
   "cell_type": "markdown",
   "metadata": {},
   "source": [
    "### Función de orden superior: filter\n",
    "\n",
    "La función **filter** sirve para seleccionar algun elemento de un iterable, como una lista"
   ]
  },
  {
   "cell_type": "markdown",
   "metadata": {},
   "source": [
    "ver esta lista y filtrarla por los numeros impares"
   ]
  },
  {
   "cell_type": "code",
   "execution_count": 11,
   "metadata": {},
   "outputs": [
    {
     "name": "stdout",
     "output_type": "stream",
     "text": [
      "[1, 5, 7, 3, 21, 45, 101, 231, 343]\n"
     ]
    }
   ],
   "source": [
    "# resolviendo con list comprehension\n",
    "mi_lista = [1,2,4,5,7,8,3,21,45,78,98,101,231,343,468,456]\n",
    "\n",
    "lista_impar =[i for i in mi_lista if i % 2 != 0]\n",
    "print(lista_impar)"
   ]
  },
  {
   "cell_type": "code",
   "execution_count": 13,
   "metadata": {},
   "outputs": [
    {
     "name": "stdout",
     "output_type": "stream",
     "text": [
      "[1, 5, 7, 3, 21, 45, 101, 231, 343]\n"
     ]
    }
   ],
   "source": [
    "# usando la funcion de orden superio:filter\n",
    "def run():\n",
    "    mi_lista = [1,2,4,5,7,8,3,21,45,78,98,101,231,343,468,456]\n",
    "\n",
    "    lista_impar = list(filter(lambda i:i % 2 !=0,mi_lista))\n",
    "\n",
    "    print(lista_impar)\n",
    "\n",
    "\n",
    "if __name__ =='__main__':\n",
    "    run()"
   ]
  },
  {
   "cell_type": "markdown",
   "metadata": {},
   "source": [
    "Sintaxis:\n",
    "1. función lambda \n",
    "2. expresion. La expresión matemática o lógica que se va a ejecutar. En este caso la expresión que determina que números son impares.\n",
    "3. iterable: la lista mi_lista funciona como un iterable. Un iterable es cualquier objeto dentro de Python que puede recorrerse. Es una secuencia.\n",
    "4. envolver la función lambda, la expresión y el iterable en un parentesis y colocar el commando **filter**, que será la función que envuelve a la función anónima **lambda**. \n",
    "5. Envolver en parentesis la función **filter** en el comando **list**. El comando **list** es usado para indicar que se creará una lista a partir de la función de orden superior **filter**.\n",
    "6. imprimir la nueva lista filtrada.\n",
    "\n",
    "\n",
    "La función de orden superior **filter** recibe dos parámetros: una función y un iterable (mi_lista).\n",
    "La función **filter**, por sí misma no devolera la lista filtrada. Por si misma retorna un iterador. \n",
    "Es por eso que se usa el comando **list**, envolviendo a la función **filter**, para que se generé la lista con los números impares."
   ]
  },
  {
   "cell_type": "markdown",
   "metadata": {},
   "source": [
    "### Función de orden superior: map\n",
    "\n",
    "La función **map** sirve para transformar elementos uno por uno.\n",
    "\n",
    "de una lista dada, generar otra lista con los resultados de los números al cuadrado"
   ]
  },
  {
   "cell_type": "code",
   "execution_count": 14,
   "metadata": {},
   "outputs": [
    {
     "name": "stdout",
     "output_type": "stream",
     "text": [
      "[1, 25, 49, 9, 441, 2025, 10201, 53361, 117649]\n"
     ]
    }
   ],
   "source": [
    "def run():\n",
    "    mi_lista = [1,2,4,5,7,8,3,21,45,78,98,101,231,343,468,456]\n",
    "\n",
    "    lista_impar = list(filter(lambda i:i % 2 !=0,mi_lista))\n",
    "\n",
    "    lista_impar_2 = [i**2 for i in lista_impar] # usando una list comprehension\n",
    "\n",
    "    print(lista_impar_2)\n",
    "\n",
    "\n",
    "if __name__ =='__main__':\n",
    "    run()"
   ]
  },
  {
   "cell_type": "code",
   "execution_count": 20,
   "metadata": {},
   "outputs": [
    {
     "name": "stdout",
     "output_type": "stream",
     "text": [
      "[1, 25, 49, 9, 441, 2025, 10201, 53361, 117649]\n"
     ]
    }
   ],
   "source": [
    "lista_impar =[1, 5, 7, 3, 21, 45, 101, 231, 343]\n",
    "\n",
    "al_cuadrado = list(map(lambda i:i**2, lista_impar))\n",
    "\n",
    "print(al_cuadrado)"
   ]
  },
  {
   "cell_type": "markdown",
   "metadata": {},
   "source": [
    "Sintaxis. Se usa la misma estructura empleada con **filter**:\n",
    "1. función lambda \n",
    "2. Expresion. La expresión matemática o lógica que se va a ejecutar. En este caso la expresión que calcula el cuadrado de los números en **lista_impar**.\n",
    "3. Iterable: la lista **lista_impar** funciona como un iterable. Un iterable es cualquier objeto dentro de Python que puede recorrerse. Es una secuencia.\n",
    "4. Envolver la función lambda, la expresión y el iterable en un parentesis y colocar el commando **map**, que será la función que envuelve a la función anónima **lambda**. \n",
    "5. Envolver en parentesis la función **map** en el comando **list**. El comando **list** es usado para idicar que se creará una lista a partir de la función de orden superior **filter**.\n",
    "6. imprimir la nueva lista filtrada.\n",
    "\n",
    "\n",
    "La función de orden superior **map** recibe dos parámetros: una función y un iterable (**lista_impar**).\n",
    "La función **map**, por sí misma no devolera la lista filtrada. Por si misma retorna un iterador. \n",
    "Es por eso que se usa el comando **list**, envolviendo a la función **map**, para que se generé la lista con el cuadrado de los números en **lista_impar**.\n",
    "\n"
   ]
  },
  {
   "cell_type": "markdown",
   "metadata": {},
   "source": [
    "¿Qué pasa si usamos filter en esta?"
   ]
  },
  {
   "cell_type": "code",
   "execution_count": 21,
   "metadata": {},
   "outputs": [
    {
     "name": "stdout",
     "output_type": "stream",
     "text": [
      "[1, 5, 7, 3, 21, 45, 101, 231, 343]\n"
     ]
    }
   ],
   "source": [
    "lista_impar =[1, 5, 7, 3, 21, 45, 101, 231, 343]\n",
    "\n",
    "al_cuadrado = list(filter(lambda i:i**2, lista_impar))\n",
    "\n",
    "print(al_cuadrado)"
   ]
  },
  {
   "cell_type": "markdown",
   "metadata": {},
   "source": [
    "Lo que ocurre es que **filter** no está creado para ejecutar operaciones matemáticas y la función **map** si."
   ]
  },
  {
   "cell_type": "markdown",
   "metadata": {},
   "source": [
    "### Función de orden superior: reduce\n",
    "\n",
    "La función **reduce** sirve para convertir un iterable entero en una forma distinta, como sumar todos los elementos o concatenar sub-strings o sub-textos de una lista en un string mas largo.\n",
    "\n",
    "convert the entire iterable into a different form, such as the sum of all elements or concatenating substrings in a list into a longer string\n",
    "\n",
    "\n",
    "\n",
    "Reducir los valores de una lista a un único valor.\n",
    "\n",
    "Reducir la siguiente lista[2,2,2,2,2] a un único número usándo el ciclo **for**"
   ]
  },
  {
   "cell_type": "code",
   "execution_count": 7,
   "metadata": {},
   "outputs": [
    {
     "name": "stdout",
     "output_type": "stream",
     "text": [
      "32\n"
     ]
    }
   ],
   "source": [
    "#\n",
    "def run():\n",
    "    multiply = 1\n",
    "    lista = [2,2,2,2,2]\n",
    "    for i in lista:\n",
    "        multiply = multiply * i\n",
    "\n",
    "    print(multiply)\n",
    "       \n",
    "\n",
    "\n",
    "if __name__=='__main__':\n",
    "    run()"
   ]
  },
  {
   "cell_type": "markdown",
   "metadata": {},
   "source": [
    "¿Como hacerlo usando la función **reduce**?"
   ]
  },
  {
   "cell_type": "code",
   "execution_count": 9,
   "metadata": {},
   "outputs": [
    {
     "name": "stdout",
     "output_type": "stream",
     "text": [
      "32\n"
     ]
    }
   ],
   "source": [
    "from functools import reduce\n",
    "\n",
    "lista = [2,2,2,2,2]\n",
    "\n",
    "reducida = reduce(lambda a,b : a * b, lista)\n",
    "\n",
    "print(reducida)"
   ]
  },
  {
   "cell_type": "markdown",
   "metadata": {},
   "source": [
    "La función de orden superior **reduce** tiene una estructura diferente a las anteriores.\n",
    "\n",
    "1. Hay que importar de functools el método **reduce**. Esto es para que funcione la función en la expresión.\n",
    "2. No es necesario envolver la función **reduce** con el comando **list** como se hace en map y filter."
   ]
  },
  {
   "cell_type": "markdown",
   "metadata": {},
   "source": [
    "Uso de la función reduce para calcular el promedio de una lista"
   ]
  },
  {
   "cell_type": "code",
   "execution_count": 10,
   "metadata": {},
   "outputs": [
    {
     "name": "stdout",
     "output_type": "stream",
     "text": [
      "76.8\n"
     ]
    }
   ],
   "source": [
    "# Calcular el promedio de una lista de calificaciones\n",
    "# Fórmula para calcular el promedio \n",
    "# ∑n/n -> sumatoria de calificaciones / el número de calificaciones\n",
    "from functools import reduce\n",
    "\n",
    "lista_calificaciones = [78,89,60,45,100,70,83,90,88,65]\n",
    "\n",
    "def promedio_calificaciones():\n",
    "    promedio = reduce(lambda r,e : r +e, lista_calificaciones) / len(lista_calificaciones)\n",
    "    return print(promedio)\n",
    "\n",
    "\n",
    "if __name__==\"__main__\":\n",
    "    promedio_calificaciones()\n"
   ]
  },
  {
   "cell_type": "markdown",
   "metadata": {},
   "source": [
    "En el cálculo del promedio de calificaciones, la función reduce es usada para realizar la sumatoria de la lista de calificaciones."
   ]
  },
  {
   "cell_type": "markdown",
   "metadata": {},
   "source": [
    "## Resumen"
   ]
  },
  {
   "cell_type": "markdown",
   "metadata": {},
   "source": [
    "## Referencias\n",
    "\n",
    "[Python Intermediate course](https://platzi.com/clases/2255-python-intermedio/36466-high-order-functions-filter-map-y-reduce/)\n",
    "\n",
    "[Python Basics](https://pythonbasics.org/iterable/)\n",
    "\n",
    "[Machine Learning Mastery](https://machinelearningmastery.com/functional-programming-in-python/)\n",
    "\n"
   ]
  }
 ],
 "metadata": {
  "interpreter": {
   "hash": "f1557aa6e6032d56488bae8aac3525a5f014f999b290e68cc99a0d437deba24f"
  },
  "kernelspec": {
   "display_name": "Python 3 (ipykernel)",
   "language": "python",
   "name": "python3"
  },
  "language_info": {
   "codemirror_mode": {
    "name": "ipython",
    "version": 3
   },
   "file_extension": ".py",
   "mimetype": "text/x-python",
   "name": "python",
   "nbconvert_exporter": "python",
   "pygments_lexer": "ipython3",
   "version": "3.10.0"
  }
 },
 "nbformat": 4,
 "nbformat_minor": 2
}
