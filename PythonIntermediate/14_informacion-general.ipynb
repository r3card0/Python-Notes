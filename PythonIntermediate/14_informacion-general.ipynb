{
 "cells": [
  {
   "cell_type": "markdown",
   "metadata": {},
   "source": [
    "# Más información general de Python\n",
    "\n",
    "En este tema se vera más información complementaria para entender mejor el funcionamiento de Python.\n",
    "\n",
    "Por un lado está el Zen de Python, que son principios creados para guiar al programador crear código más sencillo y entendible. Y tambiñén está la documentación técnica del lenguaje que esta publicada en la página oficial de [Python](https://www.python.org/)"
   ]
  },
  {
   "cell_type": "markdown",
   "metadata": {},
   "source": [
    "## Zen de Python\n",
    "\n",
    "Son los 20 principios del lenguaje Python para escribir código de forma correcta y precisa.\n",
    "\n",
    "Fueron creados por [Tim Peters](https://en.wikipedia.org/wiki/Tim_Peters_(software_engineer))\n",
    "\n",
    "Para conocer los 20 principios, en la siguiente línea de código escribir y ejecutar *import this*\n",
    "\n"
   ]
  },
  {
   "cell_type": "code",
   "execution_count": null,
   "metadata": {},
   "outputs": [],
   "source": [
    "import this"
   ]
  },
  {
   "cell_type": "markdown",
   "metadata": {},
   "source": [
    "## Documentación de Python\n",
    "\n",
    "La documentación de Python, explica de forma técnica como se usa y aplica el lenguaje. Toda la documentación está en varios idiomas. \n",
    "\n",
    "[Documentacion](https://docs.python.org/3/)\n",
    "\n",
    "[Guia de estilos -PEP008-](https://www.python.org/dev/peps/pep-0008/)"
   ]
  },
  {
   "cell_type": "markdown",
   "metadata": {},
   "source": [
    "## Resumen\n",
    "\n",
    "1. Python cuenta con 20 principios para guiar a los programadores a crear código más sencillo y entendible\n",
    "2. Cuenta con documentación técnica disponible en varios idiomas"
   ]
  },
  {
   "cell_type": "markdown",
   "metadata": {},
   "source": [
    "## Referencias\n",
    "\n",
    "[Python Intermediate course:Comprehensions, Lambdas y Manejo de Errores](https://platzi.com/clases/python-intermedio/)\n",
    "\n",
    "[Python.org](https://www.python.org/)"
   ]
  }
 ],
 "metadata": {
  "kernelspec": {
   "display_name": "Python 3 (ipykernel)",
   "language": "python",
   "name": "python3"
  },
  "language_info": {
   "codemirror_mode": {
    "name": "ipython",
    "version": 3
   },
   "file_extension": ".py",
   "mimetype": "text/x-python",
   "name": "python",
   "nbconvert_exporter": "python",
   "pygments_lexer": "ipython3",
   "version": "3.9.7"
  }
 },
 "nbformat": 4,
 "nbformat_minor": 2
}
