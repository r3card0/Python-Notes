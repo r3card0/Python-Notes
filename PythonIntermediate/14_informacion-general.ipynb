{
 "cells": [
  {
   "cell_type": "markdown",
   "metadata": {},
   "source": [
    "# Más información general de Python\n",
    "\n",
    "En este tema se vera más información complementaria para entender mejor el funcionamiento de Python.\n",
    "\n",
    "Por un lado está el Zen de Python, que son principios creados para guiar al programador a realizar código más sencillo y entendible. Y también está la documentación técnica del lenguaje que esta publicada en la página oficial de [Python](https://www.python.org/)"
   ]
  },
  {
   "cell_type": "markdown",
   "metadata": {},
   "source": [
    "## Zen de Python\n",
    "\n",
    "Son los 20 principios del lenguaje Python para escribir código de forma correcta y precisa.\n",
    "\n",
    "Fueron creados por [Tim Peters](https://en.wikipedia.org/wiki/Tim_Peters_(software_engineer))\n",
    "\n",
    "Para conocer los 20 principios, en la siguiente línea de código escribir y ejecutar *import this*\n",
    "\n"
   ]
  },
  {
   "cell_type": "code",
   "execution_count": 1,
   "metadata": {},
   "outputs": [
    {
     "name": "stdout",
     "output_type": "stream",
     "text": [
      "The Zen of Python, by Tim Peters\n",
      "\n",
      "Beautiful is better than ugly.\n",
      "Explicit is better than implicit.\n",
      "Simple is better than complex.\n",
      "Complex is better than complicated.\n",
      "Flat is better than nested.\n",
      "Sparse is better than dense.\n",
      "Readability counts.\n",
      "Special cases aren't special enough to break the rules.\n",
      "Although practicality beats purity.\n",
      "Errors should never pass silently.\n",
      "Unless explicitly silenced.\n",
      "In the face of ambiguity, refuse the temptation to guess.\n",
      "There should be one-- and preferably only one --obvious way to do it.\n",
      "Although that way may not be obvious at first unless you're Dutch.\n",
      "Now is better than never.\n",
      "Although never is often better than *right* now.\n",
      "If the implementation is hard to explain, it's a bad idea.\n",
      "If the implementation is easy to explain, it may be a good idea.\n",
      "Namespaces are one honking great idea -- let's do more of those!\n"
     ]
    }
   ],
   "source": [
    "import this"
   ]
  },
  {
   "cell_type": "markdown",
   "metadata": {},
   "source": [
    "## Documentación de Python\n",
    "\n",
    "La documentación de Python, explica de forma técnica como se usa y aplica el lenguaje. Toda la documentación está en varios idiomas. \n",
    "\n",
    "[Documentacion](https://docs.python.org/3/)\n",
    "\n",
    "[Guia de estilos -PEP008-](https://www.python.org/dev/peps/pep-0008/)"
   ]
  },
  {
   "cell_type": "markdown",
   "metadata": {},
   "source": [
    "## Resumen\n",
    "\n",
    "1. Python cuenta con 20 principios para guiar a los programadores a crear código más sencillo y entendible\n",
    "2. Cuenta con documentación técnica disponible en varios idiomas"
   ]
  },
  {
   "cell_type": "markdown",
   "metadata": {},
   "source": [
    "## Referencias\n",
    "\n",
    "[Python Intermediate Course](https://platzi.com/clases/python-intermedio/)\n",
    "\n",
    "[Python.org](https://www.python.org/)"
   ]
  }
 ],
 "metadata": {
  "kernelspec": {
   "display_name": "Python 3 (ipykernel)",
   "language": "python",
   "name": "python3"
  },
  "language_info": {
   "codemirror_mode": {
    "name": "ipython",
    "version": 3
   },
   "file_extension": ".py",
   "mimetype": "text/x-python",
   "name": "python",
   "nbconvert_exporter": "python",
   "pygments_lexer": "ipython3",
   "version": "3.10.0"
  }
 },
 "nbformat": 4,
 "nbformat_minor": 2
}
