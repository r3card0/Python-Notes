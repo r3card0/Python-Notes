{
 "cells": [
  {
   "cell_type": "markdown",
   "metadata": {},
   "source": [
    "# Diccionarios de Listas"
   ]
  },
  {
   "cell_type": "code",
   "execution_count": null,
   "metadata": {},
   "outputs": [],
   "source": [
    "# Diccionario de Listas 01 \n",
    "\n",
    "tshirts = {\n",
    "    'material': ['cotton','poliester', 'mixed'],\n",
    "    'color' : ['black','white','red','golden','grey','pinck (fluor)'],\n",
    "    'category' : ['Male','Female','Kids'],\n",
    "    'size' : ['XS','S','M','L','XL','XXL','XXXL','T1','T2','T3']\n",
    "}\n",
    "\n",
    "print(tshirts)"
   ]
  },
  {
   "cell_type": "markdown",
   "metadata": {},
   "source": [
    "# Funciones Lambda"
   ]
  },
  {
   "cell_type": "code",
   "execution_count": null,
   "metadata": {},
   "outputs": [],
   "source": [
    "# sumatoria de dos numeros\n",
    "\n",
    "addition = lambda a,b: a + b \n",
    "\n",
    "addition(2,4)"
   ]
  },
  {
   "cell_type": "markdown",
   "metadata": {},
   "source": [
    "Calcular el área de un triángulo\n",
    "$ (base * altura) / 2 $"
   ]
  },
  {
   "cell_type": "code",
   "execution_count": null,
   "metadata": {},
   "outputs": [],
   "source": [
    "# calcular el area de triángulo\n",
    "\n",
    "area = lambda a,b: (a * b) // 2\n",
    "\n",
    "area(234,456)"
   ]
  },
  {
   "cell_type": "markdown",
   "metadata": {},
   "source": [
    "Calcular el área de un cuadrado $ lado * lado $"
   ]
  },
  {
   "cell_type": "code",
   "execution_count": null,
   "metadata": {},
   "outputs": [],
   "source": [
    "square_area = lambda b,h: b * h\n",
    "\n",
    "square_area(45,45)"
   ]
  },
  {
   "cell_type": "markdown",
   "metadata": {},
   "source": [
    "Calcular el área de un rombo $ (D * d) / 2 $"
   ]
  },
  {
   "cell_type": "code",
   "execution_count": null,
   "metadata": {},
   "outputs": [],
   "source": [
    "diamond_area = lambda D,d: (D * d) // 2\n",
    "\n",
    "diamond_area(45,25)"
   ]
  },
  {
   "cell_type": "markdown",
   "metadata": {},
   "source": [
    "Calcular el área del Trapecio $ ((B * b) * h) / 2 $"
   ]
  },
  {
   "cell_type": "code",
   "execution_count": null,
   "metadata": {},
   "outputs": [],
   "source": [
    "trapecio_area = lambda B,b,h : ((B * b) * h) / 2\n",
    "\n",
    "trapecio_area(10,5,3.5)"
   ]
  },
  {
   "cell_type": "markdown",
   "metadata": {},
   "source": [
    "Calcular el áre ade un Rectángulo $ base (b) * altura (h) $"
   ]
  },
  {
   "cell_type": "code",
   "execution_count": null,
   "metadata": {},
   "outputs": [],
   "source": [
    "rectangle_area = lambda b,h: b * h\n",
    "\n",
    "rectangle_area(56,35)"
   ]
  },
  {
   "cell_type": "markdown",
   "metadata": {},
   "source": [
    "Calcular la velocidad de un objeto en recorrer una distancia: $ v = d / t $"
   ]
  },
  {
   "cell_type": "code",
   "execution_count": 2,
   "metadata": {},
   "outputs": [
    {
     "data": {
      "text/plain": [
       "25.0"
      ]
     },
     "execution_count": 2,
     "metadata": {},
     "output_type": "execute_result"
    }
   ],
   "source": [
    "# formula para calcular velocidad\n",
    "\n",
    "velocidad = lambda d,t: d / t\n",
    "\n",
    "velocidad(100,4)"
   ]
  },
  {
   "cell_type": "markdown",
   "metadata": {},
   "source": [
    "Calcular la fuerza de un objeto: $ fuerza = masa * aceleracion $\n",
    "\n",
    "$ Fuerza(de un objeto) = masa(del objeto) * aceleracion(del objeto) $\n",
    "\n",
    "|  propiedad  | unidades |\n",
    "|-------------|----------|\n",
    "|     masa    |  kg,gr   |\n",
    "| aceleracion | $ m/s^2 $|\n",
    "|    fuerza   | $ kg . m/s^2 $ |"
   ]
  },
  {
   "cell_type": "markdown",
   "metadata": {},
   "source": [
    "* En una superficie plana y lisa se encuentra una silla con ruedas de 4 kg en reposo. De repente, la silla es empujada y adquiere una aceleración lineal de 6 m/s2. Siguiendo el rozamiento, calcula la fuerza aplicada sobre la silla."
   ]
  },
  {
   "cell_type": "code",
   "execution_count": 5,
   "metadata": {},
   "outputs": [
    {
     "name": "stdout",
     "output_type": "stream",
     "text": [
      "La fuerza aplicada sobre la silla es de: 24 kg.m/s2\n"
     ]
    }
   ],
   "source": [
    "force = lambda m,a: m * a\n",
    "\n",
    "result = print(\"La fuerza aplicada sobre la silla es de: \" + str(force(4,6)) + \" kg.m/s2\")"
   ]
  },
  {
   "cell_type": "markdown",
   "metadata": {},
   "source": [
    "# High Order functions"
   ]
  },
  {
   "cell_type": "code",
   "execution_count": null,
   "metadata": {},
   "outputs": [],
   "source": []
  }
 ],
 "metadata": {
  "interpreter": {
   "hash": "4ee08b0487832ff03f0fdf4b6eade6848fbbb6f348c487e64472b02f35273942"
  },
  "kernelspec": {
   "display_name": "Python 3.10.0 ('py3_10')",
   "language": "python",
   "name": "python3"
  },
  "language_info": {
   "codemirror_mode": {
    "name": "ipython",
    "version": 3
   },
   "file_extension": ".py",
   "mimetype": "text/x-python",
   "name": "python",
   "nbconvert_exporter": "python",
   "pygments_lexer": "ipython3",
   "version": "3.10.0"
  },
  "orig_nbformat": 4
 },
 "nbformat": 4,
 "nbformat_minor": 2
}
