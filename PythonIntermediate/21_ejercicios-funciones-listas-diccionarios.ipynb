{
 "cells": [
  {
   "cell_type": "markdown",
   "metadata": {},
   "source": [
    "# Diccionarios de Listas"
   ]
  },
  {
   "cell_type": "code",
   "execution_count": null,
   "metadata": {},
   "outputs": [],
   "source": [
    "# Diccionario de Listas 01 \n",
    "\n",
    "tshirts = {\n",
    "    'material': ['cotton','poliester', 'mixed'],\n",
    "    'color' : ['black','white','red','golden','grey','pinck (fluor)'],\n",
    "    'category' : ['Male','Female','Kids'],\n",
    "    'size' : ['XS','S','M','L','XL','XXL','XXXL','T1','T2','T3']\n",
    "}\n",
    "\n",
    "print(tshirts)"
   ]
  },
  {
   "cell_type": "markdown",
   "metadata": {},
   "source": [
    "# Funciones Lambda"
   ]
  },
  {
   "cell_type": "code",
   "execution_count": null,
   "metadata": {},
   "outputs": [],
   "source": []
  },
  {
   "cell_type": "code",
   "execution_count": null,
   "metadata": {},
   "outputs": [],
   "source": [
    "# sumatoria de dos numeros\n",
    "\n",
    "addition = lambda a,b: a + b \n",
    "\n",
    "addition(2,4)"
   ]
  },
  {
   "cell_type": "markdown",
   "metadata": {},
   "source": [
    "Calcular el área de un triángulo\n",
    "$ (base * altura) / 2 $"
   ]
  },
  {
   "cell_type": "code",
   "execution_count": null,
   "metadata": {},
   "outputs": [],
   "source": [
    "# calcular el area de triángulo\n",
    "\n",
    "area = lambda a,b: (a * b) // 2\n",
    "\n",
    "area(234,456)"
   ]
  },
  {
   "cell_type": "markdown",
   "metadata": {},
   "source": [
    "Calcular el área de un cuadrado $ lado * lado $"
   ]
  },
  {
   "cell_type": "code",
   "execution_count": null,
   "metadata": {},
   "outputs": [],
   "source": [
    "square_area = lambda b,h: b * h\n",
    "\n",
    "square_area(45,45)"
   ]
  },
  {
   "cell_type": "markdown",
   "metadata": {},
   "source": [
    "Calcular el área de un rombo $ (D * d) / 2 $"
   ]
  },
  {
   "cell_type": "code",
   "execution_count": null,
   "metadata": {},
   "outputs": [],
   "source": [
    "diamond_area = lambda D,d: (D * d) // 2\n",
    "\n",
    "diamond_area(45,25)"
   ]
  },
  {
   "cell_type": "markdown",
   "metadata": {},
   "source": [
    "Calcular el área del Trapecio $ ((B * b) * h) / 2 $"
   ]
  },
  {
   "cell_type": "code",
   "execution_count": null,
   "metadata": {},
   "outputs": [],
   "source": [
    "trapecio_area = lambda B,b,h : ((B * b) * h) / 2\n",
    "\n",
    "trapecio_area(10,5,3.5)"
   ]
  },
  {
   "cell_type": "markdown",
   "metadata": {},
   "source": [
    "Calcular el áre ade un Rectángulo $ base (b) * altura (h) $"
   ]
  },
  {
   "cell_type": "code",
   "execution_count": null,
   "metadata": {},
   "outputs": [],
   "source": [
    "rectangle_area = lambda b,h: b * h\n",
    "\n",
    "rectangle_area(56,35)"
   ]
  },
  {
   "cell_type": "markdown",
   "metadata": {},
   "source": [
    "Calcular la velocidad de un objeto en recorrer una distancia: $ v = d / t $"
   ]
  },
  {
   "cell_type": "code",
   "execution_count": null,
   "metadata": {},
   "outputs": [],
   "source": [
    "# formula para calcular velocidad\n",
    "\n",
    "velocidad = lambda d,t: d / t\n",
    "\n",
    "velocidad(100,4)"
   ]
  },
  {
   "cell_type": "markdown",
   "metadata": {},
   "source": [
    "Calcular la fuerza de un objeto: $ fuerza = masa * aceleracion $\n",
    "\n",
    "$ Fuerza(de un objeto) = masa(del objeto) * aceleracion(del objeto) $\n",
    "\n",
    "|  propiedad  | unidades |\n",
    "|-------------|----------|\n",
    "|     masa    |  kg,gr   |\n",
    "| aceleracion | $ m/s^2 $|\n",
    "|    fuerza   | $ kg . m/s^2 $ |"
   ]
  },
  {
   "cell_type": "markdown",
   "metadata": {},
   "source": [
    "* En una superficie plana y lisa se encuentra una silla con ruedas de 4 kg en reposo. De repente, la silla es empujada y adquiere una aceleración lineal de 6 m/s2. Siguiendo el rozamiento, calcula la fuerza aplicada sobre la silla."
   ]
  },
  {
   "cell_type": "code",
   "execution_count": null,
   "metadata": {},
   "outputs": [],
   "source": [
    "force = lambda m,a: m * a\n",
    "\n",
    "result = print(\"La fuerza aplicada sobre la silla es de: \" + str(force(4,6)) + \" kg.m/s2\")"
   ]
  },
  {
   "cell_type": "markdown",
   "metadata": {},
   "source": [
    "# Proyecto: Filtrando Datos"
   ]
  },
  {
   "cell_type": "markdown",
   "metadata": {},
   "source": [
    "* A partir de un diccionario extraer información indicada en los ejercicios 1, 2 y 3\n",
    "* Crear filtros a partir del diccionario de diccionarios DATA"
   ]
  },
  {
   "cell_type": "code",
   "execution_count": 1,
   "metadata": {},
   "outputs": [],
   "source": [
    "# diccionario de datos\n",
    "DATA = [\n",
    "    {\n",
    "        'name': 'Facundo',\n",
    "        'age': 72,\n",
    "        'organization': 'Platzi',\n",
    "        'position': 'Technical Coach',\n",
    "        'language': 'python',\n",
    "    },\n",
    "    {\n",
    "        'name': 'Luisana',\n",
    "        'age': 33,\n",
    "        'organization': 'Globant',\n",
    "        'position': 'UX Designer',\n",
    "        'language': 'javascript',\n",
    "    },\n",
    "    {\n",
    "        'name': 'Héctor',\n",
    "        'age': 19,\n",
    "        'organization': 'Platzi',\n",
    "        'position': 'Associate',\n",
    "        'language': 'ruby',\n",
    "    },\n",
    "    {\n",
    "        'name': 'Gabriel',\n",
    "        'age': 20,\n",
    "        'organization': 'Platzi',\n",
    "        'position': 'Associate',\n",
    "        'language': 'javascript',\n",
    "    },\n",
    "    {\n",
    "        'name': 'Isabella',\n",
    "        'age': 30,\n",
    "        'organization': 'Platzi',\n",
    "        'position': 'QA Manager',\n",
    "        'language': 'java',\n",
    "    },\n",
    "    {\n",
    "        'name': 'Karo',\n",
    "        'age': 23,\n",
    "        'organization': 'Everis',\n",
    "        'position': 'Backend Developer',\n",
    "        'language': 'python',\n",
    "    },\n",
    "    {\n",
    "        'name': 'Ariel',\n",
    "        'age': 32,\n",
    "        'organization': 'Rappi',\n",
    "        'position': 'Support',\n",
    "        'language': '',\n",
    "    },\n",
    "    {\n",
    "        'name': 'Juan',\n",
    "        'age': 17,\n",
    "        'organization': '',\n",
    "        'position': 'Student',\n",
    "        'language': 'go',\n",
    "    },\n",
    "    {\n",
    "        'name': 'Pablo',\n",
    "        'age': 32,\n",
    "        'organization': 'Master',\n",
    "        'position': 'Human Resources Manager',\n",
    "        'language': 'python',\n",
    "    },\n",
    "    {\n",
    "        'name': 'Lorena',\n",
    "        'age': 56,\n",
    "        'organization': 'Python Organization',\n",
    "        'position': 'Language Maker',\n",
    "        'language': 'python',\n",
    "    },\n",
    "]"
   ]
  },
  {
   "cell_type": "markdown",
   "metadata": {},
   "source": [
    "## Ejercicio 1 : Extraer el nombre de los programadores de Python:\n",
    "1. Crear una list comprehension para extraer los nombres de los progrmadores de python\n",
    "2. Crear un for para enlistar los nombres de los programadores de python"
   ]
  },
  {
   "cell_type": "code",
   "execution_count": null,
   "metadata": {},
   "outputs": [],
   "source": [
    "# Ejericico 1\n",
    "def python_devs_name():\n",
    "    all_python_devs = [worker[\"name\"] for worker in DATA if worker[\"language\"]==\"python\"]\n",
    "\n",
    "    for worker in all_python_devs:\n",
    "        print(worker)\n",
    "\n",
    "def run():\n",
    "    python_devs_name()\n",
    "\n",
    "\n",
    "if __name__ == \"__main__\":\n",
    "    run()"
   ]
  },
  {
   "cell_type": "markdown",
   "metadata": {},
   "source": [
    "## Ejercicio 2 : Extraer el nombre de todos los trabajadores de Platzi\n",
    "1. Crear una list comprehension para extraer los nombres de los trabajadores de Platzi\n",
    "2. Crear un for para enlistar los nombres de los trabajadores de Platzi"
   ]
  },
  {
   "cell_type": "code",
   "execution_count": null,
   "metadata": {},
   "outputs": [],
   "source": [
    "# Ejercicio 2\n",
    "def platzi_workers():\n",
    "    all_platzi_workers = [worker[\"name\"] for worker in DATA if worker['organization']==\"Platzi\"]\n",
    "\n",
    "    for worker in all_platzi_workers:\n",
    "        print(worker)\n",
    "\n",
    "def run():\n",
    "    platzi_workers()\n",
    "\n",
    "\n",
    "if __name__ == \"__main__\":\n",
    "    run()"
   ]
  },
  {
   "cell_type": "markdown",
   "metadata": {},
   "source": [
    "## Ejercicio 3 : Extraer el nombre de las personas mayores de 18 años\n",
    "### Opción 1\n",
    "1. Crear una list comprehension para extraer los nombres de las personas mayores de 18 años\n",
    "2. Crear un for para enlistar los nombres de las personas mayores de 18 años"
   ]
  },
  {
   "cell_type": "code",
   "execution_count": null,
   "metadata": {},
   "outputs": [],
   "source": [
    "# Ejericio 3, opción 1\n",
    "def legal_age():\n",
    "    all_legal_age = [worker[\"name\"] for worker in DATA if worker[\"age\"] >= 18]\n",
    "\n",
    "    for worker in all_legal_age:\n",
    "        print(worker)\n",
    "\n",
    "def run():\n",
    "    legal_age()\n",
    "\n",
    "\n",
    "if __name__ == \"__main__\":\n",
    "    run()"
   ]
  },
  {
   "cell_type": "markdown",
   "metadata": {},
   "source": [
    "### Opción 2\n",
    "1. Usar la High Order function *filter* para extraer los datos de las personas mayores de 18 años\n",
    "2. Usar la High Order Function *map* para extraer los nombres de las personas mayores de 18 años"
   ]
  },
  {
   "cell_type": "code",
   "execution_count": null,
   "metadata": {},
   "outputs": [],
   "source": [
    "# Ejericio3, opción 2\n",
    "def legal_age_hof():\n",
    "    adults = list(filter(lambda worker:worker[\"age\"] > 18, DATA))\n",
    "    \n",
    "    for worker in adults:\n",
    "        print(worker)\n",
    "\n",
    "def legal_age_names():\n",
    "    adults = list(filter(lambda worker:worker[\"age\"] > 18, DATA))\n",
    "\n",
    "    adults = list(map(lambda worker: worker[\"name\"], adults))\n",
    "\n",
    "    for worker in adults:\n",
    "        print(worker)\n",
    "\n",
    "\n",
    "def run():\n",
    "    #legal_age_hof()\n",
    "    legal_age_names()\n",
    "\n",
    "\n",
    "if __name__ == \"__main__\":\n",
    "    run()"
   ]
  },
  {
   "cell_type": "markdown",
   "metadata": {},
   "source": [
    "## Ejercicio 4 : Crear una llave más que clasifique las personas mayores de 70 años\n",
    "1. Usar la High Order Function *map* para extraer las personas mayores de 70 años\n",
    "2. Usar el simbolo \"|\" para agregar la llave \"old\" y que tenga como valor un booleano True o False cualquiera que sea el caso y que se agrege a un nuevo diccionario"
   ]
  },
  {
   "cell_type": "code",
   "execution_count": null,
   "metadata": {},
   "outputs": [],
   "source": [
    "# ejercicio 4\n",
    "def old_people():\n",
    "    old_people = list(map(lambda worker:worker | {\"old\":worker[\"age\"] > 70}, DATA))\n",
    "\n",
    "    for worker in old_people:\n",
    "        print(worker)\n",
    "\n",
    "def run():\n",
    "    old_people()\n",
    "\n",
    "\n",
    "if __name__ == \"__main__\":\n",
    "    run()"
   ]
  }
 ],
 "metadata": {
  "interpreter": {
   "hash": "e72dffca917c37070898329a6d9ffab3663ae212dd18247022d4406a9d461b20"
  },
  "kernelspec": {
   "display_name": "Python 3.10.0 ('venv_pn': venv)",
   "language": "python",
   "name": "python3"
  },
  "language_info": {
   "codemirror_mode": {
    "name": "ipython",
    "version": 3
   },
   "file_extension": ".py",
   "mimetype": "text/x-python",
   "name": "python",
   "nbconvert_exporter": "python",
   "pygments_lexer": "ipython3",
   "version": "3.10.0"
  },
  "orig_nbformat": 4
 },
 "nbformat": 4,
 "nbformat_minor": 2
}
