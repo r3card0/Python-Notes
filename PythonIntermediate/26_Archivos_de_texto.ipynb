{
 "cells": [
  {
   "cell_type": "markdown",
   "id": "7b51f580",
   "metadata": {},
   "source": [
    "# Como trabajar con archivos de texto"
   ]
  },
  {
   "cell_type": "markdown",
   "id": "66a6a841",
   "metadata": {},
   "source": [
    "* Hay 3 modos de apertura: **R**(lectura), **W**(Escritura, sobreescribir) y **A**(Escritura, agregar al final)"
   ]
  },
  {
   "cell_type": "markdown",
   "id": "1616aa6c",
   "metadata": {},
   "source": [
    "```with open(\"./ruta/del/archivo.txt\",\"r\") as f:```"
   ]
  },
  {
   "cell_type": "code",
   "execution_count": null,
   "id": "fe632e88",
   "metadata": {},
   "outputs": [],
   "source": [
    "def read():\n",
    "    pass\n",
    "\n",
    "def write():\n",
    "    pass\n",
    "\n",
    "def run():\n",
    "    read()\n",
    "    write()\n",
    "    \n",
    "if __name__ == \"__main__\":\n",
    "    run()"
   ]
  }
 ],
 "metadata": {
  "kernelspec": {
   "display_name": "Python 3 (ipykernel)",
   "language": "python",
   "name": "python3"
  },
  "language_info": {
   "codemirror_mode": {
    "name": "ipython",
    "version": 3
   },
   "file_extension": ".py",
   "mimetype": "text/x-python",
   "name": "python",
   "nbconvert_exporter": "python",
   "pygments_lexer": "ipython3",
   "version": "3.10.0"
  }
 },
 "nbformat": 4,
 "nbformat_minor": 5
}
