{
 "cells": [
  {
   "cell_type": "markdown",
   "metadata": {},
   "source": [
    "# Ciclo for"
   ]
  },
  {
   "cell_type": "markdown",
   "metadata": {},
   "source": [
    "## Estructura de la sintaxis de for\n",
    "\n",
    "1. Escribir **for variable in range(rango)**\n",
    "2. indentación     **print(variable)**\n",
    "\n",
    "Para imprimir desde listas:\n",
    "\n",
    "1. Escribir **for variable in nombre_lista()**\n",
    "2. indentación     **print(variable)**"
   ]
  },
  {
   "cell_type": "markdown",
   "metadata": {},
   "source": [
    "Ejercicio # 1. Hacer un contador que sume de 1 en 1 y pare al llegar al 5"
   ]
  },
  {
   "cell_type": "code",
   "execution_count": 11,
   "metadata": {},
   "outputs": [
    {
     "name": "stdout",
     "output_type": "stream",
     "text": [
      "0\n",
      "1\n",
      "2\n",
      "3\n",
      "4\n"
     ]
    }
   ],
   "source": [
    "for counter in range(5): # range siempre mostrará los valores anteriores al asignado\n",
    "    print(counter)"
   ]
  },
  {
   "cell_type": "markdown",
   "metadata": {},
   "source": [
    "Cuando se le asigna un valor al comando **range**, crea el rango desde el número cero \"0\", hasta el valor que se le halla asignado. Esto lo hace de forma predeterminada. En el ejercicio # 2, el rango **range(5)**, es de 0 a 5.\n",
    "\n",
    "Al solicitar imprimir los valores del rango, nótese que se imprimió hasta el valor de 4. Esto es porque al usar el comando **range**, solo imprime los valores menores al indicado.  Si se desea imprimir el 5, es necesario escribir en la sintaxis **range(6)**. El comando **range** siempre da un número anterior."
   ]
  },
  {
   "cell_type": "markdown",
   "metadata": {},
   "source": [
    "Ejercicio # 3. Proporcionar un rango que inicie diferente de cero \"0\". Por ejemplo, asignar un rango que inicie en el valor 99 y que termine en el valor 105. Imprimir el rango elegido."
   ]
  },
  {
   "cell_type": "code",
   "execution_count": 2,
   "metadata": {},
   "outputs": [
    {
     "name": "stdout",
     "output_type": "stream",
     "text": [
      "99\n",
      "100\n",
      "101\n",
      "102\n",
      "103\n",
      "104\n"
     ]
    }
   ],
   "source": [
    "for counter in range(99,105): # se le puede asignar un rango. Se le asigno desde el 99 al 105\n",
    "    print(counter)"
   ]
  },
  {
   "cell_type": "markdown",
   "metadata": {},
   "source": [
    "## Ciclo -for- en tipos de datos de texto\n",
    "\n",
    "### Recorrer caracteres con for"
   ]
  },
  {
   "cell_type": "markdown",
   "metadata": {},
   "source": [
    "La función **for**, puede recorrer texto (string) y dar un resultado. En el siguiente ejemplo se puede tomar la frase -¡Hola! ¿Como estás?- y devolverla en mayúsculas."
   ]
  },
  {
   "cell_type": "code",
   "execution_count": 3,
   "metadata": {},
   "outputs": [
    {
     "name": "stdout",
     "output_type": "stream",
     "text": [
      "¡\n",
      "H\n",
      "O\n",
      "L\n",
      "A\n",
      "!\n",
      " \n",
      "¿\n",
      "C\n",
      "O\n",
      "M\n",
      "O\n",
      " \n",
      "E\n",
      "S\n",
      "T\n",
      "Á\n",
      "S\n",
      "?\n"
     ]
    }
   ],
   "source": [
    "frase = '¡Hola! ¿como estás?'\n",
    "for letra in frase:\n",
    "    print(letra.upper())"
   ]
  },
  {
   "cell_type": "markdown",
   "metadata": {},
   "source": [
    "Ademas, la función **for** puede ayudar a encontrar texto de una lista dada. La función for, recorrerá la lista y se detendrá al encontrar el valor deseado."
   ]
  },
  {
   "cell_type": "code",
   "execution_count": 6,
   "metadata": {},
   "outputs": [
    {
     "name": "stdout",
     "output_type": "stream",
     "text": [
      "Asteroides\n",
      "Meteoritos\n",
      "Galaxias\n",
      "Cometas\n",
      "Vía Láctea\n"
     ]
    }
   ],
   "source": [
    "cuerpos_celestes = ['Asteroides','Meteoritos','Galaxias','Cometas','Vía Láctea','Universo','Exoplanetas','Expansión']\n",
    "for cuerpo in cuerpos_celestes:     # para el cuerpo en la lista dada\n",
    "    if cuerpo == 'Universo':        # si la variable cuerpo es igual a 'Universo' \n",
    "        break                       # ¡INTERRUMPE PROCESO!\n",
    "    print(cuerpo)                   # imprime la variable"
   ]
  },
  {
   "cell_type": "code",
   "execution_count": 7,
   "metadata": {},
   "outputs": [
    {
     "name": "stdout",
     "output_type": "stream",
     "text": [
      "Asteroides\n",
      "Meteoritos\n",
      "Galaxias\n",
      "Cometas\n",
      "Vía Láctea\n",
      "Universo\n"
     ]
    }
   ],
   "source": [
    "cuerpos_celestes = ['Asteroides','Meteoritos','Galaxias','Cometas','Vía Láctea','Universo','Exoplanetas','Expansión']\n",
    "for cuerpo in cuerpos_celestes: # para el cuerpo en la lista dada\n",
    "    print(cuerpo)               # imprime la variable\n",
    "    if cuerpo == 'Universo':    # si la variable cuerpo es igual a 'Universo'\n",
    "        break                   # ¡INTERRUMPE PROCESO!\n",
    "    "
   ]
  },
  {
   "cell_type": "markdown",
   "metadata": {},
   "source": [
    "### Uso de la función **continue** en **for**.\n",
    "\n",
    "Ejercicio:\n",
    "\n",
    "Para el contador en el rango de 0 a 1000, imprime los valores del contador. Pero, solo los números pares."
   ]
  },
  {
   "cell_type": "code",
   "execution_count": 9,
   "metadata": {},
   "outputs": [
    {
     "name": "stdout",
     "output_type": "stream",
     "text": [
      "0\n",
      "2\n",
      "4\n",
      "6\n",
      "8\n",
      "10\n",
      "12\n",
      "14\n",
      "16\n",
      "18\n"
     ]
    }
   ],
   "source": [
    "for contador in range(20):\n",
    "    if contador % 2 != 0:       # si el contador al dividirlo entre 2, el resto de la division es distinto de cero \"0\"\n",
    "        continue                # salta esta vuelta del ciclo\n",
    "    print(contador)"
   ]
  },
  {
   "cell_type": "markdown",
   "metadata": {},
   "source": [
    "En el ejemplo anterior, siguiendo las reglas de las matematicas que todo número dividido entre 2 y que su residuo sea 0, entonces es número par. Por eso, la expresión: **if contador % 2 != 0:** indica si es número para o no. Se no es número para, el programa se saltará esa vuelta y no la imprimirá. solo imprimira las operaciones que cumplan la condición."
   ]
  }
 ],
 "metadata": {
  "interpreter": {
   "hash": "aee8b7b246df8f9039afb4144a1f6fd8d2ca17a180786b69acc140d282b71a49"
  },
  "kernelspec": {
   "display_name": "Python 3.10.0 64-bit",
   "language": "python",
   "name": "python3"
  },
  "language_info": {
   "codemirror_mode": {
    "name": "ipython",
    "version": 3
   },
   "file_extension": ".py",
   "mimetype": "text/x-python",
   "name": "python",
   "nbconvert_exporter": "python",
   "pygments_lexer": "ipython3",
   "version": "3.10.0"
  },
  "orig_nbformat": 4
 },
 "nbformat": 4,
 "nbformat_minor": 2
}
