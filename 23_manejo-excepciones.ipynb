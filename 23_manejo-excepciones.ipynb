{
 "cells": [
  {
   "cell_type": "markdown",
   "metadata": {},
   "source": [
    "# Manejo de Excepciones"
   ]
  },
  {
   "cell_type": "markdown",
   "metadata": {},
   "source": [
    "## Funciones para manejar excepciones: try | except\n",
    "\n",
    "Se pueden aplicar para guiar al usuario a ingresar solo datos válidos en un programa. Por ejemplo en el caso del palíndromo donde se evalúa si una palabra o frase es un palíndromo. El usuario puede ingresar números a pesar de que se le está solicitando textos (strings). En este caso, las funciones **try** y **except**, ayudan a detectar esas fallas y orientar al usuario repitiéndole que tipo de dato se le esta solicitando."
   ]
  },
  {
   "cell_type": "code",
   "execution_count": null,
   "metadata": {},
   "outputs": [],
   "source": [
    "# funciones try y except\n",
    "def run():\n",
    "    def palindrome(string):\n",
    "        return string == string[::-1]\n",
    "\n",
    "    try:\n",
    "        print(palindrome(1111)) # en este espacio se evalua si es un string o no -> \n",
    "    except TypeError:  \n",
    "        print('Solo se puede ingresar texto')\n",
    "\n",
    "\n",
    "if __name__=='__main__':\n",
    "    run()"
   ]
  },
  {
   "cell_type": "markdown",
   "metadata": {},
   "source": [
    "## El comando **try** funciona de esta manera:\n",
    "1. Si el usuario ingresa datos válidos, el comando **try** se ejecuta y la excepción **except** es brincada y termina el programa.\n",
    "2. Si el usuario ingresa datos no válidos, se ejecuta la excepción **except** y termina el programa enviando el mensaje elegido en el comando print('solo se puede ingresar texto')"
   ]
  },
  {
   "cell_type": "markdown",
   "metadata": {},
   "source": [
    "## El comando **except**\n",
    "\n",
    "Es un recurso que solo se puede aplicar en los tipo de error **TypeError** y **ValueError**"
   ]
  },
  {
   "cell_type": "code",
   "execution_count": 1,
   "metadata": {},
   "outputs": [
    {
     "name": "stdout",
     "output_type": "stream",
     "text": [
      "¡Uups! Este no es un número. ¡Por favor, intenta de nuevo :)!\n"
     ]
    }
   ],
   "source": [
    "# otro ejemplo\n",
    "while True:\n",
    "    try:\n",
    "        x = int(input('Por favor, ingresa un número: '))\n",
    "        break\n",
    "    except ValueError:\n",
    "        print('¡Uups! Este no es un número. ¡Por favor, intenta de nuevo :)!')"
   ]
  },
  {
   "cell_type": "markdown",
   "metadata": {},
   "source": [
    "Este programa se ejecutara hasta que se le haya ingresado un número. Mientras eso no suceda, enviará el mensaje: *¡Uups! Este no es un número. ¡Por favor, intenta de nuevo :)!*"
   ]
  },
  {
   "cell_type": "markdown",
   "metadata": {},
   "source": [
    "## Comando **raise**\n",
    "\n",
    "Se usa para detectar datos no válidos que no cumplen la lógica y enviar mensajes al usuario de que algo ingreso de forma incorrecta."
   ]
  },
  {
   "cell_type": "markdown",
   "metadata": {},
   "source": [
    "¿que pasa cuando se ha escrito mal un código y Python no avisa. Para eso puede usar el comando **raise**"
   ]
  },
  {
   "cell_type": "code",
   "execution_count": 7,
   "metadata": {},
   "outputs": [
    {
     "name": "stdout",
     "output_type": "stream",
     "text": [
      "No se puede quedar en blanco\n",
      "False\n"
     ]
    }
   ],
   "source": [
    "# funcion raise\n",
    "def run():\n",
    "    def palindrome(string):\n",
    "        try:\n",
    "            if len(string) == 0:\n",
    "                raise ValueError('No se puede quedar en blanco')\n",
    "            return string == string[::-1]\n",
    "        except ValueError as ve:\n",
    "            print(ve)\n",
    "            return False\n",
    "\n",
    "    try:\n",
    "        print(palindrome('')) # en este espacio se evalua si es un string o no -> \n",
    "    except TypeError:  \n",
    "        print('Solo se puede ingresar texto')\n",
    "\n",
    "\n",
    "if __name__=='__main__':\n",
    "    run()"
   ]
  },
  {
   "cell_type": "markdown",
   "metadata": {},
   "source": [
    "## Comando **finally**\n",
    "\n",
    "Es un comando que se usa para evitar daños a archivos, bases de datos y liberar recursos en caso de que un programa de Python falle.\n",
    "\n",
    "Es raro de encontrar. Se usa al final de la estructura try except. \n",
    "1. Puede cerrar un archivo desde Python.\n",
    "2. cerrar una conexión de una base de datos\n",
    "3. Liberar recursos externos"
   ]
  },
  {
   "cell_type": "markdown",
   "metadata": {},
   "source": [
    "## Resumen\n",
    "\n",
    "1. Manejar excepciones permite controlar los datos no validos que el usuario ingresa de forma intencional o no intencional.\n",
    "2. EL comando **try** se ejecutará mientras el usuario ingrese datos válidos, y la excepción **except** es brincada y termina el programa de forma normal.\n",
    "3. El comando **except** es un recurso que solo se puede aplicar en los tipo de error **TypeError** y **ValueError** y si el usuario ingresa datos no válidos, se ejecuta la excepción **except** y termina el programa enviando el mensaje elegido por el programador.\n",
    "5. El comando **raise** se usa para detectar datos no válidos que no cumplen la lógica y enviar mensajes al usuario de que algo ingreso de forma incorrecta.\n",
    "5. El comando **finally** se usa para evitar dañar archivos, bases de datos y liberar recursos en caso de que un programa de Python falle."
   ]
  },
  {
   "cell_type": "markdown",
   "metadata": {},
   "source": [
    "## Referencia\n",
    "\n",
    "[Python Intermediate course. Platzi](https://platzi.com/clases/2255-python-intermedio/36470-manejo-de-excepciones/)\n",
    "\n",
    "[Python.org/Exceptions](https://docs.python.org/3/tutorial/errors.html#exceptions)"
   ]
  }
 ],
 "metadata": {
  "interpreter": {
   "hash": "f1557aa6e6032d56488bae8aac3525a5f014f999b290e68cc99a0d437deba24f"
  },
  "kernelspec": {
   "display_name": "Python 3.9.7 64-bit ('base': conda)",
   "language": "python",
   "name": "python3"
  },
  "language_info": {
   "codemirror_mode": {
    "name": "ipython",
    "version": 3
   },
   "file_extension": ".py",
   "mimetype": "text/x-python",
   "name": "python",
   "nbconvert_exporter": "python",
   "pygments_lexer": "ipython3",
   "version": "3.9.7"
  },
  "orig_nbformat": 4
 },
 "nbformat": 4,
 "nbformat_minor": 2
}
