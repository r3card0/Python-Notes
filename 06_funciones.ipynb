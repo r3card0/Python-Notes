{
 "cells": [
  {
   "cell_type": "markdown",
   "metadata": {},
   "source": [
    "# Funciones"
   ]
  },
  {
   "cell_type": "markdown",
   "metadata": {},
   "source": [
    "## Funciones en Python\n",
    "\n",
    "Existen dos tipos de funciones en Python.\n",
    "- Funciones incorporadas que se presentan como parte de Python -\n",
    "print(), input(), type(), float(), int() ...\n",
    "\n",
    "- Funciones que nosotros definimos y luego utilizamos\n",
    "\n",
    "\n",
    "Tratamos a los nombres de las funciones incorporadas como\n",
    "\"nuevas\" palabras reservadas (es decir, las evitamos como\n",
    "nombres de variables)"
   ]
  },
  {
   "cell_type": "markdown",
   "metadata": {},
   "source": [
    "## Definición de Función\n",
    "\n",
    "1. En Python una función es un código reutilizable que toma argumentos(s) como input, ejecuta cálculos y luego devuelve\n",
    "uno o más resultado(s)\n",
    "2. Para definir una función utilizamos la palabra reservada **def**\n",
    "3. Llamamos/Invocamos a la función utilizando una expresión que contenga el nombre de la función, paréntesis y argumentos"
   ]
  },
  {
   "cell_type": "markdown",
   "metadata": {},
   "source": [
    "## Usos\n",
    "Una vez que hemos definido una función, podemos llamarla (o invocarla) todas las veces que queramos.\n",
    "Este es el patrón almacenar y reutilizar"
   ]
  },
  {
   "cell_type": "markdown",
   "metadata": {},
   "source": [
    "## Construyendo Funciones\n",
    "\n",
    "Creamos una nueva función usando la palabra clave **def** seguida de\n",
    "parámetros opcionales entre paréntesis\n",
    "• Indentamos el cuerpo de la función\n",
    "• Esto define la función pero no ejecuta el cuerpo de la función"
   ]
  },
  {
   "cell_type": "code",
   "execution_count": 2,
   "metadata": {},
   "outputs": [
    {
     "name": "stdout",
     "output_type": "stream",
     "text": [
      "La Deriva Continental\n"
     ]
    }
   ],
   "source": [
    "def run():\n",
    "    print('La Deriva Continental')\n",
    "\n",
    "\n",
    "if __name__=='__main__':\n",
    "    run()"
   ]
  },
  {
   "cell_type": "markdown",
   "metadata": {},
   "source": [
    "### Parámetros\n",
    "Un parámetro es una variable que utilizamos en la función definition (definición). Es una \"handle\" (palanca) que permite al código de la función acceder a los argumentos para invocar una función en particular."
   ]
  },
  {
   "cell_type": "markdown",
   "metadata": {},
   "source": [
    "### Argumentos\n",
    "Un argumento es un valor que informamos a la función como su\n",
    "entrada (input) cuando llamamos a la función \n",
    "Utilizamos argumentos para poder instruir a la función que realice diferentes tareas cuando la llamamos en diferentes oportunidades. Colocamos los argumentos entre paréntesis lego del nombre de la función"
   ]
  },
  {
   "cell_type": "markdown",
   "metadata": {},
   "source": [
    "### Valores de Retorno\n",
    "A menudo, una función tomará sus argumentos, hará algunos\n",
    "cálculos, y retornará un valor que se usará como el valor de la\n",
    "llamada de la función en la expresión de llamada. La palabra clave\n",
    "return (retorno) se utiliza para esto."
   ]
  },
  {
   "cell_type": "markdown",
   "metadata": {},
   "source": [
    "## Referencias\n"
   ]
  }
 ],
 "metadata": {
  "interpreter": {
   "hash": "aee8b7b246df8f9039afb4144a1f6fd8d2ca17a180786b69acc140d282b71a49"
  },
  "kernelspec": {
   "display_name": "Python 3.10.0 64-bit",
   "language": "python",
   "name": "python3"
  },
  "language_info": {
   "codemirror_mode": {
    "name": "ipython",
    "version": 3
   },
   "file_extension": ".py",
   "mimetype": "text/x-python",
   "name": "python",
   "nbconvert_exporter": "python",
   "pygments_lexer": "ipython3",
   "version": "3.10.0"
  },
  "orig_nbformat": 4
 },
 "nbformat": 4,
 "nbformat_minor": 2
}
